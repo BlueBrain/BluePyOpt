{
 "cells": [
  {
   "cell_type": "markdown",
   "metadata": {},
   "source": [
    "# An example of using BluePyOpt/NeuronUnit Optimization\n",
    "Using:\n",
    "* Allen Brain Experimental data (`specimen_id=325479788`, sweep number `64`) to derive features from.\n",
    "* EFEL feature extraction\n",
    "* BluePyOpt Optimization.\n",
    "* Numba JIT simple cell models (Adaptive Exponential).\n",
    "* Neuronunit model scoring"
   ]
  },
  {
   "cell_type": "code",
   "execution_count": 1,
   "metadata": {},
   "outputs": [
    {
     "name": "stderr",
     "output_type": "stream",
     "text": [
      "test\n"
     ]
    }
   ],
   "source": [
    "import matplotlib.pyplot as plt\n",
    "import seaborn as sns\n",
    "sns.set(context=\"paper\", font=\"monospace\")\n",
    "%matplotlib inline\n",
    "SILENT = True\n",
    "import warnings\n",
    "if SILENT:\n",
    "    warnings.filterwarnings(\"ignore\")\n",
    "\n",
    "from neuronunit.plotting.plot_utils import check_bin_vm_soma\n",
    "from neuronunit.allenapi.allen_data_driven import opt_setup\n",
    "from nb_utils import optimize_job\n",
    "from sciunit.scores import RelativeDifferenceScore\n",
    "import pandas as pd\n",
    "import pickle\n",
    "import quantities as pq\n",
    "specimen_id = 325479788\n"
   ]
  },
  {
   "cell_type": "code",
   "execution_count": 2,
   "metadata": {},
   "outputs": [],
   "source": [
    "def test_opt_relative_diff(specimen_id,model_type = \"ADEXP\",efel_filter_iterable=None):\n",
    "    fitnesses,scores,obs_preds,opt,target,hall_of_fame,cell_evaluator = optimize_job(specimen_id,\n",
    "                                                 model_type,\n",
    "                                                 score_type=RelativeDifferenceScore,\n",
    "                                                 efel_filter_iterable=efel_filter_iterable)\n",
    "    return obs_preds,opt,target,hall_of_fame,cell_evaluator\n"
   ]
  },
  {
   "cell_type": "markdown",
   "metadata": {},
   "source": [
    "# Below is a plot of vm trace for fitting the simple model to with neuron unit.\n",
    "* It is from Allen Specimen id `325479788`, sweep number `64`.\n",
    "* sweep number \n"
   ]
  },
  {
   "cell_type": "code",
   "execution_count": 3,
   "metadata": {},
   "outputs": [
    {
     "data": {
      "image/png": "[encoded data removed]",
      "text/plain": [
       "<Figure size 432x288 with 1 Axes>"
      ]
     },
     "metadata": {
      "needs_background": "light"
     },
     "output_type": "display_data"
    }
   ],
   "source": [
    "with open('325479788later_allen_NU_tests.p', \"rb\") as f:\n",
    "    suite = pickle.load(f)\n",
    "    \n",
    "plt.plot(suite.traces[\"vm_soma\"].times,suite.traces[\"vm_soma\"])\n",
    "plt.xlabel(pq.s)\n",
    "plt.ylabel(suite.traces[\"vm_soma\"].dimensionality)\n",
    "plt.title(\"$V_{M}$ Allen Specimen id 325479788, sweep number 64\")\n",
    "plt.show()\n"
   ]
  },
  {
   "cell_type": "markdown",
   "metadata": {},
   "source": [
    "# Example 2\n",
    "* AdExp model \n",
    "* Allen specimen 325479788\n",
    "You will notice that all the features are timinig related, and some would seem redudandant. This is because one must use brute force to get a good fit, for this particular problem."
   ]
  },
  {
   "cell_type": "markdown",
   "metadata": {},
   "source": [
    "Next can use sensativity analysis on the genes to find out which genes needed varying."
   ]
  },
  {
   "cell_type": "code",
   "execution_count": 4,
   "metadata": {
    "slideshow": {
     "slide_type": "slide"
    }
   },
   "outputs": [
    {
     "name": "stderr",
     "output_type": "stream",
     "text": [
      "gen\tnevals\tavg   \tstd    \tmin    \tmax  \n",
      "1  \t150   \t5265.7\t7094.29\t51.0591\t20000\n"
     ]
    },
    {
     "data": {
      "application/vnd.jupyter.widget-view+json": {
       "model_id": "30ada1f7245f4d7798f7230a0e601763",
       "version_major": 2,
       "version_minor": 0
      },
      "text/plain": [
       "HBox(children=(FloatProgress(value=0.0, max=150.0), HTML(value='')))"
      ]
     },
     "metadata": {},
     "output_type": "display_data"
    },
    {
     "name": "stderr",
     "output_type": "stream",
     "text": [
      "2  \t141   \t5640.8\t7280.5 \t51.0591\t20212.7\n",
      "3  \t58    \t1066.11\t2668.69\t51.0591\t20000  \n",
      "4  \t58    \t308.001\t358.739\t48.1455\t2377.33\n",
      "5  \t60    \t662.099\t1875.58\t43.1969\t14981.3\n",
      "6  \t56    \t475.226\t1396.46\t29.9656\t10972.2\n",
      "7  \t56    \t309.444\t493.602\t29.9656\t3925.71\n",
      "8  \t57    \t668.163\t2528.85\t28.4129\t20000  \n",
      "9  \t50    \t170.727\t264.867\t27.0365\t1536.24\n",
      "10 \t56    \t241.481\t252.632\t27.0365\t1333.73\n",
      "11 \t51    \t450.939\t1619.72\t23.2104\t17924.4\n",
      "12 \t56    \t221.159\t277.432\t23.2104\t1355.6 \n",
      "13 \t54    \t255.761\t265.957\t23.2104\t1308.25\n",
      "14 \t54    \t204.473\t225.565\t7.26902\t1378.65\n",
      "15 \t59    \t186.259\t181.747\t7.26902\t936.618\n",
      "16 \t60    \t297.945\t1369.49\t7.26902\t15127.2\n",
      "17 \t52    \t72.9196\t71.849 \t5.2702 \t311.343\n",
      "18 \t53    \t116.302\t159.275\t5.2702 \t1045.98\n",
      "19 \t56    \t116.881\t157.096\t5.2702 \t1048.87\n",
      "20 \t59    \t422.881\t2542.16\t5.2702 \t20000  \n",
      "21 \t51    \t45.3798\t52.6828\t5.2702 \t298.884\n",
      "22 \t55    \t52.9915\t44.555 \t5.2702 \t247.817\n",
      "23 \t54    \t52.7808\t49.2158\t3.31557\t242.522\n",
      "24 \t50    \t52.8597\t51.9926\t3.15525\t279.413\n",
      "25 \t45    \t45.8338\t44.9585\t2.84994\t254.121\n",
      "26 \t50    \t55.2976\t49.9113\t2.84994\t253.628\n",
      "27 \t52    \t49.4157\t46.722 \t2.84994\t220.089\n",
      "28 \t53    \t49.0256\t47.94  \t2.84994\t246.959\n",
      "29 \t43    \t50.9129\t49.7266\t2.84994\t237.118\n",
      "30 \t41    \t36.7761\t36.0108\t2.84994\t227.096\n",
      "31 \t54    \t36.6861\t41.6349\t2.84994\t220.476\n",
      "32 \t56    \t58.8786\t58.541 \t2.84994\t327.827\n",
      "33 \t46    \t40.737 \t40.9792\t2.84994\t225.073\n",
      "34 \t50    \t45.9798\t53.3406\t2.84994\t249.448\n",
      "35 \t53    \t39.3173\t44.8112\t2.84994\t238.566\n",
      "36 \t46    \t46.6816\t54.4216\t2.84994\t345.239\n",
      "37 \t54    \t45.041 \t45.8189\t2.84994\t278.817\n",
      "38 \t43    \t44.1007\t47.5399\t2.84994\t364.88 \n",
      "39 \t51    \t50.3568\t46.4674\t2.84994\t228.866\n",
      "40 \t48    \t56.4941\t49.0022\t2.84994\t257.825\n",
      "41 \t48    \t52.4844\t46.3923\t2.84994\t224.308\n",
      "42 \t44    \t48.154 \t46.1501\t2.84994\t240.993\n",
      "43 \t43    \t42.7741\t42.4663\t2.84994\t210.599\n",
      "44 \t47    \t52.9272\t37.2277\t2.84994\t180.433\n",
      "45 \t43    \t41.1449\t37.7311\t2.84994\t182.029\n",
      "46 \t48    \t59.9551\t119.26 \t2.84994\t1303.93\n",
      "47 \t42    \t36.0677\t32.4876\t2.84994\t206.707\n",
      "48 \t45    \t53.3836\t55.1433\t2.84994\t402.842\n",
      "49 \t44    \t53.607 \t44.908 \t2.84994\t198.546\n",
      "50 \t43    \t52.8678\t44.5011\t2.84994\t256.642\n",
      "51 \t49    \t47.4143\t45.7533\t2.84994\t287.021\n",
      "52 \t34    \t41.7688\t41.2654\t2.84994\t203.862\n",
      "53 \t47    \t39.7033\t37.0422\t2.84994\t189.504\n",
      "54 \t39    \t45.9489\t42.9961\t2.84994\t220.899\n",
      "55 \t34    \t38.7953\t37.2009\t2.84994\t198.899\n",
      "56 \t37    \t51.6657\t118.377\t2.84994\t1275.8 \n",
      "57 \t48    \t47.6557\t51.3521\t2.84994\t224.296\n",
      "58 \t36    \t33.4677\t30.3944\t2.84994\t172.949\n",
      "59 \t43    \t46.624 \t50.846 \t2.84994\t415.107\n",
      "60 \t47    \t41.5937\t40.2259\t2.84994\t269.678\n",
      "61 \t35    \t45.7319\t54.4116\t2.84994\t380.796\n",
      "62 \t49    \t51.7619\t45.2478\t2.84994\t267.493\n",
      "63 \t43    \t52.2113\t52.9672\t2.84994\t338.604\n",
      "64 \t39    \t41.8111\t57.7302\t2.84994\t495.033\n",
      "65 \t27    \t34.9338\t31.776 \t2.84994\t175.297\n",
      "66 \t33    \t47.2773\t45.35  \t2.84994\t260.751\n",
      "67 \t33    \t53.6378\t68.2912\t2.84994\t595.897\n",
      "68 \t38    \t44.9545\t50.2325\t2.84994\t310.017\n",
      "69 \t42    \t56.5318\t74.589 \t2.84994\t598.403\n",
      "70 \t37    \t40.775 \t44.3218\t2.84994\t233.944\n",
      "71 \t31    \t43.8685\t36.1294\t2.84994\t214.998\n",
      "72 \t33    \t36.9306\t36.6698\t2.84994\t175.392\n",
      "73 \t42    \t51.1157\t65.3342\t2.84994\t551.24 \n",
      "74 \t35    \t38.7613\t30.4349\t2.84994\t164.311\n",
      "75 \t36    \t44.6085\t45.2748\t2.84994\t209.348\n",
      "76 \t30    \t37.9844\t27.3548\t2.84994\t154.027\n",
      "77 \t30    \t47.4794\t36.3218\t2.84994\t172.603\n",
      "78 \t33    \t50.3527\t55.7599\t2.84994\t362.916\n",
      "79 \t29    \t59.0249\t60.0194\t2.84994\t293.87 \n",
      "80 \t34    \t59.6193\t70.2569\t2.84994\t559.265\n",
      "81 \t31    \t45.9581\t57.2255\t2.84994\t343.744\n",
      "82 \t36    \t41.3058\t43.0093\t2.84994\t280.196\n",
      "83 \t35    \t63.7318\t72.0721\t2.84994\t531.405\n",
      "84 \t34    \t46.9719\t51.9128\t2.84994\t248.934\n",
      "85 \t36    \t62.701 \t74.1163\t2.84994\t560.453\n",
      "86 \t31    \t54.8605\t65.051 \t2.84994\t501.912\n",
      "87 \t35    \t39.7757\t46.8242\t2.84994\t269.539\n",
      "88 \t23    \t44.442 \t64.647 \t2.84994\t569.331\n",
      "89 \t21    \t37.7923\t43.6507\t2.84994\t261.26 \n",
      "90 \t32    \t42.6441\t45.7393\t2.84994\t235.345\n",
      "91 \t23    \t49.2555\t122.047\t2.84994\t1213.4 \n",
      "92 \t27    \t57.6348\t42.2116\t2.84994\t176.82 \n",
      "93 \t31    \t37.094 \t35.5523\t2.84994\t212.35 \n",
      "94 \t34    \t49.9494\t43.386 \t2.84994\t231.08 \n",
      "95 \t27    \t41.8756\t57.0364\t2.84994\t398.984\n",
      "96 \t30    \t48.8018\t60.3921\t2.84994\t325.816\n",
      "97 \t35    \t32.5925\t38.6285\t2.84994\t232.934\n",
      "98 \t42    \t34.9907\t48.9923\t2.84994\t441.181\n",
      "99 \t41    \t38.5926\t39.4248\t2.84994\t222.393\n",
      "100\t27    \t47.6823\t40.4679\t2.84994\t227.491\n",
      "101\t31    \t29.7244\t31.4907\t2.84994\t243.506\n",
      "102\t27    \t34.9443\t26.7599\t2.72574\t134.586\n",
      "103\t35    \t38.9399\t26.9828\t2.72574\t140.744\n",
      "104\t33    \t57.8814\t46.0966\t2.72574\t336.255\n",
      "105\t33    \t45.3868\t43.032 \t2.72574\t248.099\n",
      "106\t30    \t48.3603\t74.2274\t2.72574\t797.645\n",
      "107\t25    \t41.4476\t58.8308\t2.72574\t446.022\n",
      "108\t32    \t33.388 \t28.6977\t2.72574\t198.11 \n",
      "109\t28    \t31.9296\t41.6744\t2.72574\t286.619\n",
      "110\t26    \t34.3382\t48.5733\t2.72574\t431.902\n",
      "111\t23    \t32.7652\t40.0116\t2.72574\t326.237\n",
      "112\t30    \t34.1365\t45.3266\t2.72574\t242.065\n",
      "113\t30    \t50.6816\t65.4702\t2.72574\t371.561\n",
      "114\t26    \t41.7857\t39.133 \t2.72574\t272.834\n",
      "115\t39    \t45.7941\t68.8414\t2.72574\t523.788\n",
      "116\t29    \t52.3703\t90.6796\t2.72574\t646.65 \n",
      "117\t22    \t56.3471\t102.772\t2.72574\t646.65 \n",
      "118\t30    \t45.1094\t132.569\t2.72574\t1450.13\n",
      "119\t26    \t43.6446\t63.0928\t2.72574\t582.333\n",
      "120\t23    \t35.2849\t30.8809\t2.72574\t147.96 \n",
      "121\t33    \t44.913 \t47.8867\t2.72574\t264.459\n",
      "122\t24    \t63.7395\t141.303\t2.72574\t1431.12\n",
      "123\t24    \t40.279 \t30.5594\t2.72574\t187.454\n",
      "124\t34    \t48.1618\t43.6327\t2.72574\t223.036\n",
      "125\t27    \t45.1038\t29.978 \t2.72574\t194.652\n",
      "126\t19    \t36.5826\t36.2415\t2.72574\t186.468\n",
      "127\t29    \t46.2974\t35.898 \t2.72574\t254.498\n",
      "128\t25    \t32.2774\t27.9331\t2.72574\t146.283\n",
      "129\t26    \t45.5613\t30.7411\t2.72574\t146.069\n",
      "130\t24    \t37.2296\t47.6293\t2.72574\t422.887\n",
      "131\t31    \t32.9179\t28.6613\t2.72574\t237.557\n",
      "132\t24    \t34.3015\t40.1955\t2.72574\t349.713\n",
      "133\t30    \t39.2884\t59.0792\t1.68386\t573.675\n",
      "134\t31    \t39.3147\t38.8297\t1.68386\t241.67 \n",
      "135\t27    \t31.3042\t28.9167\t1.68386\t190.552\n",
      "136\t19    \t37.4453\t78.5588\t1.68386\t853.913\n",
      "137\t24    \t32.3633\t36.1264\t1.68386\t285.314\n",
      "138\t19    \t33.8129\t34.928 \t1.68386\t350.536\n",
      "139\t30    \t49.8237\t88.0154\t1.68386\t501.63 \n",
      "140\t24    \t75.5399\t143.893\t1.68386\t1058.49\n",
      "141\t17    \t105.486\t146.159\t1.68386\t615.701\n",
      "142\t29    \t40.2086\t63.0161\t1.68386\t373.941\n",
      "143\t28    \t41.1842\t51.8798\t1.68386\t373.941\n",
      "144\t18    \t35.5046\t27.9964\t1.68386\t181.684\n",
      "145\t27    \t51.8025\t34.498 \t1.68386\t124.147\n",
      "146\t17    \t48.8433\t46.1632\t1.68386\t329.771\n",
      "147\t27    \t208.204\t1626.2 \t1.68386\t17924.4\n",
      "148\t29    \t22.7847\t25.3036\t1.68386\t137.069\n",
      "149\t20    \t34.16  \t44.1966\t1.68386\t393.251\n",
      "150\t30    \t34.837 \t35.1315\t1.68386\t328.332\n",
      "Run stopped because of stopping criteria: Max ngen\n"
     ]
    },
    {
     "name": "stdout",
     "output_type": "stream",
     "text": [
      "\n",
      "[611.4510046073277, -22.99234201955364, -47.08195978995961, -66.53770780675657, 29.984345993609146, 5.718633025601218, 0.911294680068971, 8.662640604691667, 147.59827831988534, -26.55150165631111, 38.14799354638813] the gene\n"
     ]
    }
   ],
   "source": [
    "efel_filter_iterable = {\n",
    "    \"ISI_log_slope\":None,\n",
    "    \"mean_frequency\":None,\n",
    "    \"adaptation_index2\":None,\n",
    "    \"first_isi\":None,\n",
    "    \"ISI_CV\":None,\n",
    "    \"median_isi\":None,\n",
    "    \"Spikecount\":None,\n",
    "    \"all_ISI_values\":None,\n",
    "    \"ISI_values\":None,\n",
    "    \"time_to_first_spike\":None,\n",
    "    \"time_to_last_spike\":None,\n",
    "    \"time_to_second_spike\":None,\n",
    "    \"peak_voltage\":None\n",
    "}\n",
    "( obs_preds,\n",
    "    opt,\n",
    "    target,\n",
    "    hall_of_fame,\n",
    "    cell_evaluator )  = test_opt_relative_diff(specimen_id = 325479788,\n",
    "                                                                          model_type=\"ADEXP\",\n",
    "                                                                          efel_filter_iterable=efel_filter_iterable)\n"
   ]
  },
  {
   "cell_type": "code",
   "execution_count": 5,
   "metadata": {},
   "outputs": [
    {
     "data": {
      "image/png": "[encoded data removed]",
      "text/plain": [
       "<Figure size 432x288 with 1 Axes>"
      ]
     },
     "metadata": {
      "needs_background": "light"
     },
     "output_type": "display_data"
    }
   ],
   "source": [
    "\n",
    "check_bin_vm_soma(target,opt)"
   ]
  },
  {
   "cell_type": "code",
   "execution_count": 6,
   "metadata": {},
   "outputs": [
    {
     "data": {
      "text/html": [
       "<div>\n",
       "<style scoped>\n",
       "    .dataframe tbody tr th:only-of-type {\n",
       "        vertical-align: middle;\n",
       "    }\n",
       "\n",
       "    .dataframe tbody tr th {\n",
       "        vertical-align: top;\n",
       "    }\n",
       "\n",
       "    .dataframe thead th {\n",
       "        text-align: right;\n",
       "    }\n",
       "</style>\n",
       "<table border=\"1\" class=\"dataframe\">\n",
       "  <thead>\n",
       "    <tr style=\"text-align: right;\">\n",
       "      <th></th>\n",
       "      <th>cm</th>\n",
       "      <th>v_spike</th>\n",
       "      <th>v_reset</th>\n",
       "      <th>v_rest</th>\n",
       "      <th>tau_m</th>\n",
       "      <th>a</th>\n",
       "      <th>b</th>\n",
       "      <th>delta_T</th>\n",
       "      <th>tau_w</th>\n",
       "      <th>v_thresh</th>\n",
       "      <th>spike_delta</th>\n",
       "    </tr>\n",
       "  </thead>\n",
       "  <tbody>\n",
       "    <tr>\n",
       "      <th>0</th>\n",
       "      <td>611.45</td>\n",
       "      <td>-22.99</td>\n",
       "      <td>-47.08</td>\n",
       "      <td>-66.54</td>\n",
       "      <td>29.98</td>\n",
       "      <td>5.72</td>\n",
       "      <td>0.91</td>\n",
       "      <td>8.66</td>\n",
       "      <td>147.6</td>\n",
       "      <td>-26.55</td>\n",
       "      <td>38.15</td>\n",
       "    </tr>\n",
       "  </tbody>\n",
       "</table>\n",
       "</div>"
      ],
      "text/plain": [
       "       cm  v_spike  v_reset  v_rest  tau_m     a     b  delta_T  tau_w  \\\n",
       "0  611.45   -22.99   -47.08  -66.54  29.98  5.72  0.91     8.66  147.6   \n",
       "\n",
       "   v_thresh  spike_delta  \n",
       "0    -26.55        38.15  "
      ]
     },
     "execution_count": 6,
     "metadata": {},
     "output_type": "execute_result"
    }
   ],
   "source": [
    "params = opt.attrs_to_params()\n",
    "params = pd.DataFrame([params])\n",
    "params"
   ]
  },
  {
   "cell_type": "code",
   "execution_count": 7,
   "metadata": {},
   "outputs": [
    {
     "data": {
      "text/html": [
       "<div>\n",
       "<style scoped>\n",
       "    .dataframe tbody tr th:only-of-type {\n",
       "        vertical-align: middle;\n",
       "    }\n",
       "\n",
       "    .dataframe tbody tr th {\n",
       "        vertical-align: top;\n",
       "    }\n",
       "\n",
       "    .dataframe thead th {\n",
       "        text-align: right;\n",
       "    }\n",
       "</style>\n",
       "<table border=\"1\" class=\"dataframe\">\n",
       "  <thead>\n",
       "    <tr style=\"text-align: right;\">\n",
       "      <th></th>\n",
       "      <th>EFEL_feature_NU_test_Name</th>\n",
       "      <th>prediction</th>\n",
       "      <th>observation</th>\n",
       "      <th>neuronunit_score</th>\n",
       "    </tr>\n",
       "  </thead>\n",
       "  <tbody>\n",
       "    <tr>\n",
       "      <th>0</th>\n",
       "      <td>ISI_log_slope</td>\n",
       "      <td>0.485704</td>\n",
       "      <td>0.506583</td>\n",
       "      <td>Relative Difference = 0.02</td>\n",
       "    </tr>\n",
       "    <tr>\n",
       "      <th>1</th>\n",
       "      <td>mean_frequency</td>\n",
       "      <td>10.086294</td>\n",
       "      <td>10.087424</td>\n",
       "      <td>Relative Difference = 0.00</td>\n",
       "    </tr>\n",
       "    <tr>\n",
       "      <th>2</th>\n",
       "      <td>adaptation_index2</td>\n",
       "      <td>0.091943</td>\n",
       "      <td>0.094132</td>\n",
       "      <td>Relative Difference = 0.00</td>\n",
       "    </tr>\n",
       "    <tr>\n",
       "      <th>3</th>\n",
       "      <td>ISI_CV</td>\n",
       "      <td>0.476055</td>\n",
       "      <td>0.444111</td>\n",
       "      <td>Relative Difference = 0.03</td>\n",
       "    </tr>\n",
       "    <tr>\n",
       "      <th>4</th>\n",
       "      <td>Spikecount</td>\n",
       "      <td>9.000000</td>\n",
       "      <td>9.000000</td>\n",
       "      <td>Relative Difference = 0.00</td>\n",
       "    </tr>\n",
       "    <tr>\n",
       "      <th>5</th>\n",
       "      <td>all_ISI_values</td>\n",
       "      <td>102.212500</td>\n",
       "      <td>102.212500</td>\n",
       "      <td>Relative Difference = 0.00</td>\n",
       "    </tr>\n",
       "    <tr>\n",
       "      <th>6</th>\n",
       "      <td>ISI_values</td>\n",
       "      <td>108.400000</td>\n",
       "      <td>108.314286</td>\n",
       "      <td>Relative Difference = 0.09</td>\n",
       "    </tr>\n",
       "    <tr>\n",
       "      <th>7</th>\n",
       "      <td>time_to_first_spike</td>\n",
       "      <td>74.600000</td>\n",
       "      <td>74.500000</td>\n",
       "      <td>Relative Difference = 0.10</td>\n",
       "    </tr>\n",
       "    <tr>\n",
       "      <th>8</th>\n",
       "      <td>time_to_last_spike</td>\n",
       "      <td>892.300000</td>\n",
       "      <td>892.200000</td>\n",
       "      <td>Relative Difference = 0.10</td>\n",
       "    </tr>\n",
       "    <tr>\n",
       "      <th>9</th>\n",
       "      <td>time_to_second_spike</td>\n",
       "      <td>133.500000</td>\n",
       "      <td>134.000000</td>\n",
       "      <td>Relative Difference = 0.50</td>\n",
       "    </tr>\n",
       "    <tr>\n",
       "      <th>10</th>\n",
       "      <td>peak_voltage</td>\n",
       "      <td>33.027779</td>\n",
       "      <td>33.834197</td>\n",
       "      <td>Relative Difference = 0.81</td>\n",
       "    </tr>\n",
       "    <tr>\n",
       "      <th>11</th>\n",
       "      <td>spike_0</td>\n",
       "      <td>1.074385</td>\n",
       "      <td>1.074500</td>\n",
       "      <td>Relative Difference = 0.00</td>\n",
       "    </tr>\n",
       "    <tr>\n",
       "      <th>12</th>\n",
       "      <td>spike_1</td>\n",
       "      <td>1.133280</td>\n",
       "      <td>1.134000</td>\n",
       "      <td>Relative Difference = 0.00</td>\n",
       "    </tr>\n",
       "    <tr>\n",
       "      <th>13</th>\n",
       "      <td>spike_2</td>\n",
       "      <td>1.203080</td>\n",
       "      <td>1.199250</td>\n",
       "      <td>Relative Difference = 0.00</td>\n",
       "    </tr>\n",
       "    <tr>\n",
       "      <th>14</th>\n",
       "      <td>spike_3</td>\n",
       "      <td>1.274420</td>\n",
       "      <td>1.271500</td>\n",
       "      <td>Relative Difference = 0.00</td>\n",
       "    </tr>\n",
       "    <tr>\n",
       "      <th>15</th>\n",
       "      <td>spike_4</td>\n",
       "      <td>1.350750</td>\n",
       "      <td>1.352500</td>\n",
       "      <td>Relative Difference = 0.00</td>\n",
       "    </tr>\n",
       "    <tr>\n",
       "      <th>16</th>\n",
       "      <td>spike_5</td>\n",
       "      <td>1.440345</td>\n",
       "      <td>1.445000</td>\n",
       "      <td>Relative Difference = 0.00</td>\n",
       "    </tr>\n",
       "    <tr>\n",
       "      <th>17</th>\n",
       "      <td>spike_6</td>\n",
       "      <td>1.541740</td>\n",
       "      <td>1.553750</td>\n",
       "      <td>Relative Difference = 0.01</td>\n",
       "    </tr>\n",
       "    <tr>\n",
       "      <th>18</th>\n",
       "      <td>spike_7</td>\n",
       "      <td>1.679645</td>\n",
       "      <td>1.689000</td>\n",
       "      <td>Relative Difference = 0.01</td>\n",
       "    </tr>\n",
       "    <tr>\n",
       "      <th>19</th>\n",
       "      <td>spike_8</td>\n",
       "      <td>1.891995</td>\n",
       "      <td>1.892250</td>\n",
       "      <td>Relative Difference = 0.00</td>\n",
       "    </tr>\n",
       "  </tbody>\n",
       "</table>\n",
       "</div>"
      ],
      "text/plain": [
       "   EFEL_feature_NU_test_Name  prediction  observation  \\\n",
       "0              ISI_log_slope    0.485704     0.506583   \n",
       "1             mean_frequency   10.086294    10.087424   \n",
       "2          adaptation_index2    0.091943     0.094132   \n",
       "3                     ISI_CV    0.476055     0.444111   \n",
       "4                 Spikecount    9.000000     9.000000   \n",
       "5             all_ISI_values  102.212500   102.212500   \n",
       "6                 ISI_values  108.400000   108.314286   \n",
       "7        time_to_first_spike   74.600000    74.500000   \n",
       "8         time_to_last_spike  892.300000   892.200000   \n",
       "9       time_to_second_spike  133.500000   134.000000   \n",
       "10              peak_voltage   33.027779    33.834197   \n",
       "11                   spike_0    1.074385     1.074500   \n",
       "12                   spike_1    1.133280     1.134000   \n",
       "13                   spike_2    1.203080     1.199250   \n",
       "14                   spike_3    1.274420     1.271500   \n",
       "15                   spike_4    1.350750     1.352500   \n",
       "16                   spike_5    1.440345     1.445000   \n",
       "17                   spike_6    1.541740     1.553750   \n",
       "18                   spike_7    1.679645     1.689000   \n",
       "19                   spike_8    1.891995     1.892250   \n",
       "\n",
       "              neuronunit_score  \n",
       "0   Relative Difference = 0.02  \n",
       "1   Relative Difference = 0.00  \n",
       "2   Relative Difference = 0.00  \n",
       "3   Relative Difference = 0.03  \n",
       "4   Relative Difference = 0.00  \n",
       "5   Relative Difference = 0.00  \n",
       "6   Relative Difference = 0.09  \n",
       "7   Relative Difference = 0.10  \n",
       "8   Relative Difference = 0.10  \n",
       "9   Relative Difference = 0.50  \n",
       "10  Relative Difference = 0.81  \n",
       "11  Relative Difference = 0.00  \n",
       "12  Relative Difference = 0.00  \n",
       "13  Relative Difference = 0.00  \n",
       "14  Relative Difference = 0.00  \n",
       "15  Relative Difference = 0.00  \n",
       "16  Relative Difference = 0.00  \n",
       "17  Relative Difference = 0.01  \n",
       "18  Relative Difference = 0.01  \n",
       "19  Relative Difference = 0.00  "
      ]
     },
     "execution_count": 7,
     "metadata": {},
     "output_type": "execute_result"
    }
   ],
   "source": [
    "df = pd.DataFrame(obs_preds)\n",
    "df.rename(columns={0:'EFEL_feature_NU_test_Name',1:'prediction',2:'observation',3:'neuronunit_score'},inplace=True)\n",
    "df"
   ]
  },
  {
   "cell_type": "markdown",
   "metadata": {},
   "source": [
    "# Example 2\n",
    "* Now fit Adaptive Exponential model to a single sweep from Allen specimen 325479788 sweep number 64"
   ]
  },
  {
   "cell_type": "code",
   "execution_count": 8,
   "metadata": {},
   "outputs": [
    {
     "data": {
      "image/png": "[encoded data removed]",
      "text/plain": [
       "<Figure size 432x288 with 1 Axes>"
      ]
     },
     "metadata": {
      "needs_background": "light"
     },
     "output_type": "display_data"
    }
   ],
   "source": [
    "check_bin_vm_soma(target,opt)"
   ]
  },
  {
   "cell_type": "code",
   "execution_count": 9,
   "metadata": {},
   "outputs": [
    {
     "data": {
      "text/html": [
       "<div>\n",
       "<style scoped>\n",
       "    .dataframe tbody tr th:only-of-type {\n",
       "        vertical-align: middle;\n",
       "    }\n",
       "\n",
       "    .dataframe tbody tr th {\n",
       "        vertical-align: top;\n",
       "    }\n",
       "\n",
       "    .dataframe thead th {\n",
       "        text-align: right;\n",
       "    }\n",
       "</style>\n",
       "<table border=\"1\" class=\"dataframe\">\n",
       "  <thead>\n",
       "    <tr style=\"text-align: right;\">\n",
       "      <th></th>\n",
       "      <th>cm</th>\n",
       "      <th>v_spike</th>\n",
       "      <th>v_reset</th>\n",
       "      <th>v_rest</th>\n",
       "      <th>tau_m</th>\n",
       "      <th>a</th>\n",
       "      <th>b</th>\n",
       "      <th>delta_T</th>\n",
       "      <th>tau_w</th>\n",
       "      <th>v_thresh</th>\n",
       "      <th>spike_delta</th>\n",
       "    </tr>\n",
       "  </thead>\n",
       "  <tbody>\n",
       "    <tr>\n",
       "      <th>0</th>\n",
       "      <td>611.45</td>\n",
       "      <td>-22.99</td>\n",
       "      <td>-47.08</td>\n",
       "      <td>-66.54</td>\n",
       "      <td>29.98</td>\n",
       "      <td>5.72</td>\n",
       "      <td>0.91</td>\n",
       "      <td>8.66</td>\n",
       "      <td>147.6</td>\n",
       "      <td>-26.55</td>\n",
       "      <td>38.15</td>\n",
       "    </tr>\n",
       "  </tbody>\n",
       "</table>\n",
       "</div>"
      ],
      "text/plain": [
       "       cm  v_spike  v_reset  v_rest  tau_m     a     b  delta_T  tau_w  \\\n",
       "0  611.45   -22.99   -47.08  -66.54  29.98  5.72  0.91     8.66  147.6   \n",
       "\n",
       "   v_thresh  spike_delta  \n",
       "0    -26.55        38.15  "
      ]
     },
     "execution_count": 9,
     "metadata": {},
     "output_type": "execute_result"
    }
   ],
   "source": [
    "params = opt.attrs_to_params()\n",
    "params = pd.DataFrame([params])\n",
    "params"
   ]
  }
 ],
 "metadata": {
  "kernelspec": {
   "display_name": "Python 3",
   "language": "python",
   "name": "python3"
  },
  "language_info": {
   "codemirror_mode": {
    "name": "ipython",
    "version": 3
   },
   "file_extension": ".py",
   "mimetype": "text/x-python",
   "name": "python",
   "nbconvert_exporter": "python",
   "pygments_lexer": "ipython3",
   "version": "3.7.4"
  }
 },
 "nbformat": 4,
 "nbformat_minor": 2
}

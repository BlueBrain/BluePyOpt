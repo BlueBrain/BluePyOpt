{
 "cells": [
  {
   "cell_type": "markdown",
   "metadata": {},
   "source": [
    "# An example of using BluePyOpt/NeuronUnit Optimization\n",
    "Using:\n",
    "* Allen Brain Experimental data (`specimen_id=325479788`, sweep number `64`) to derive features from.\n",
    "* EFEL feature extraction\n",
    "* BluePyOpt Optimization.\n",
    "* Numba JIT simple cell models (Adaptive Exponential).\n",
    "* Neuronunit model scoring"
   ]
  },
  {
   "cell_type": "code",
   "execution_count": 1,
   "metadata": {},
   "outputs": [],
   "source": [
    "import efel\n",
    "#efel.getFeatureNames()#.getfeaturelist()"
   ]
  },
  {
   "cell_type": "code",
   "execution_count": 2,
   "metadata": {},
   "outputs": [
    {
     "name": "stdout",
     "output_type": "stream",
     "text": [
      "/home/user/git/revitalize/neuronunit/neuronunit/__init__.py\n"
     ]
    }
   ],
   "source": [
    "import sys\n",
    "sys.path.insert(0,'/home/user/git/revitalize/neuronunit')\n",
    "del sys.path[-5]\n",
    "#print(sys.path)\n",
    "\n",
    "import matplotlib.pyplot as plt\n",
    "import seaborn as sns\n",
    "sns.set(context=\"paper\", font=\"monospace\")\n",
    "%matplotlib inline\n",
    "SILENT = True\n",
    "import warnings\n",
    "if SILENT:\n",
    "    warnings.filterwarnings(\"ignore\")\n",
    "import neuronunit\n",
    "print(neuronunit.__file__)\n",
    "from neuronunit.plotting.plot_utils import check_bin_vm_soma\n",
    "from neuronunit.allenapi.allen_data_driven import opt_setup\n",
    "from nb_utils import optimize_job\n",
    "from sciunit.scores import RelativeDifferenceScore\n",
    "import pandas as pd\n",
    "import pickle\n",
    "import quantities as pq\n",
    "specimen_id = 325479788\n"
   ]
  },
  {
   "cell_type": "code",
   "execution_count": 3,
   "metadata": {},
   "outputs": [],
   "source": [
    "\n"
   ]
  },
  {
   "cell_type": "markdown",
   "metadata": {},
   "source": [
    "# Below is a plot of vm trace for fitting the simple model to with neuron unit.\n",
    "* It is from Allen Specimen id `325479788`, sweep number `64`.\n",
    "* sweep number \n"
   ]
  },
  {
   "cell_type": "code",
   "execution_count": 4,
   "metadata": {},
   "outputs": [
    {
     "data": {
      "image/png": "[encoded data removed]",
      "text/plain": [
       "<Figure size 432x288 with 1 Axes>"
      ]
     },
     "metadata": {
      "needs_background": "light"
     },
     "output_type": "display_data"
    }
   ],
   "source": [
    "\n",
    "with open('325479788later_allen_NU_tests.p', \"rb\") as f:\n",
    "    suite = pickle.load(f)\n",
    "    \n",
    "plt.plot(suite.traces[\"vm_soma\"].times,suite.traces[\"vm_soma\"])\n",
    "plt.xlabel(pq.s)\n",
    "plt.ylabel(suite.traces[\"vm_soma\"].dimensionality)\n",
    "plt.title(\"$V_{M}$ Allen Specimen id 325479788, sweep number 64\")\n",
    "plt.show()\n"
   ]
  },
  {
   "cell_type": "markdown",
   "metadata": {},
   "source": [
    "# Example 2\n",
    "* AdExp model \n",
    "* Allen specimen 325479788\n",
    "You will notice that all the features are timinig related, and some would seem redudandant. This is because one must use brute force to get a good fit, for this particular problem."
   ]
  },
  {
   "cell_type": "markdown",
   "metadata": {},
   "source": [
    "Next can use sensativity analysis on the genes to find out which genes needed varying."
   ]
  },
  {
   "cell_type": "code",
   "execution_count": 5,
   "metadata": {
    "slideshow": {
     "slide_type": "slide"
    }
   },
   "outputs": [
    {
     "name": "stdout",
     "output_type": "stream",
     "text": [
      "<class 'jithub.models.model_classes.ADEXPModel'>\n"
     ]
    },
    {
     "name": "stderr",
     "output_type": "stream",
     "text": [
      "WARNING:root:\n",
      "  \u001b[33m\u001b[1mWarning:\u001b[0m to view this Streamlit app on a browser, run it with the following\n",
      "  command:\n",
      "\n",
      "    streamlit run /home/user/anaconda3/lib/python3.7/site-packages/ipykernel_launcher.py [ARGUMENTS]\n",
      "2021-03-15 11:04:43.132 WARNING root: \n",
      "  \u001b[33m\u001b[1mWarning:\u001b[0m to view this Streamlit app on a browser, run it with the following\n",
      "  command:\n",
      "\n",
      "    streamlit run /home/user/anaconda3/lib/python3.7/site-packages/ipykernel_launcher.py [ARGUMENTS]\n"
     ]
    },
    {
     "data": {
      "application/vnd.jupyter.widget-view+json": {
       "model_id": "4cbf4f9cdbd349118f73c0e4be3c5c04",
       "version_major": 2,
       "version_minor": 0
      },
      "text/plain": [
       "HBox(children=(FloatProgress(value=0.0, max=80.0), HTML(value='')))"
      ]
     },
     "metadata": {},
     "output_type": "display_data"
    },
    {
     "name": "stdout",
     "output_type": "stream",
     "text": [
      "2  \t10    \t14300.1\t13354.4\t35.0867\t28000\n",
      "3  \t5     \t36.0638\t1.70088\t35.0867\t39.7866\n",
      "4  \t5     \t38.7272\t1.66715\t35.0867\t39.7866\n",
      "5  \t4     \t39.473 \t5.08068\t34.3679\t46.7438\n",
      "6  \t4     \t38.3002\t4.88862\t31.4011\t45.9724\n",
      "7  \t4     \t41.2995\t6.01587\t31.4011\t45.9724\n",
      "8  \t4     \t39.8116\t7.89263\t31.4011\t51.141 \n",
      "9  \t4     \t38.5219\t6.82054\t26.9666\t43.9914\n",
      "10 \t4     \t4690.78\t10424.2\t25.9778\t28000  \n",
      "11 \t4     \t26.6927\t0.530552\t25.9704\t27.2276\n",
      "12 \t4     \t26.2448\t0.382868\t25.9704\t26.7862\n",
      "13 \t4     \t27.1561\t1.62613 \t25.9148\t30.6928\n",
      "14 \t4     \t27.928 \t2.19757 \t25.9148\t31.028 \n",
      "15 \t4     \t26.7111\t1.78068 \t25.9148\t30.6928\n",
      "16 \t4     \t28.4729\t2.51482 \t24.3965\t30.6928\n",
      "17 \t4     \t28.7785\t3.21082 \t24.3965\t32.3148\n",
      "18 \t4     \t29.6987\t2.93751 \t24.3965\t33.2247\n",
      "19 \t4     \t29.7087\t3.70762 \t24.3965\t33.3952\n",
      "20 \t4     \t27.0921\t2.89391 \t24.3965\t33.3952\n",
      "21 \t4     \t31.4138\t3.23563 \t24.3965\t33.7847\n",
      "22 \t5     \t30.3041\t2.8083  \t24.3965\t32.9183\n",
      "23 \t4     \t28.6285\t2.30246 \t24.3965\t31.5579\n",
      "24 \t4     \t26.4523\t2.29056 \t24.3965\t30.527 \n",
      "25 \t4     \t27.4553\t1.77025 \t24.3965\t30.527 \n",
      "26 \t4     \t28.526 \t2.40204 \t24.3965\t31.319 \n",
      "27 \t4     \t26.4464\t2.90464 \t24.3965\t30.8631\n",
      "28 \t4     \t25.4537\t1.51874 \t24.3965\t28.0307\n",
      "29 \t5     \t30.0156\t2.58374 \t24.3965\t31.8619\n",
      "30 \t4     \t30.0264\t2.54754 \t24.3965\t31.9307\n",
      "31 \t4     \t25.6522\t2.80781 \t24.3965\t31.9307\n",
      "32 \t4     \t29.8249\t2.5655  \t24.3965\t31.9307\n",
      "33 \t4     \t27.5875\t2.50651 \t24.3965\t30.4997\n",
      "34 \t4     \t28.5677\t2.83519 \t24.3965\t33.0115\n",
      "35 \t4     \t28.3058\t3.98849 \t24.3965\t33.7966\n",
      "36 \t4     \t31.48  \t3.32513 \t24.3965\t33.7966\n",
      "37 \t4     \t30.5894\t2.89001 \t24.3965\t33.637 \n",
      "38 \t4     \t26.0736\t2.8294  \t24.3965\t32.1   \n",
      "39 \t4     \t25.7309\t1.17268 \t24.3965\t27.1354\n",
      "40 \t5     \t26.8837\t2.70114 \t24.0146\t32.2919\n",
      "41 \t4     \t28.9185\t2.93869 \t24.0146\t32.2919\n",
      "42 \t4     \t27.2582\t1.83214 \t24.0146\t29.898 \n",
      "43 \t4     \t27.9368\t2.77346 \t24.0146\t29.898 \n",
      "44 \t4     \t24.0146\t0       \t24.0146\t24.0146\n",
      "45 \t4     \t24.0146\t0       \t24.0146\t24.0146\n",
      "46 \t4     \t24.0146\t0       \t24.0146\t24.0146\n",
      "47 \t4     \t25.9918\t2.97441 \t24.0146\t31.7025\n",
      "48 \t4     \t29.2504\t2.81955 \t24.0146\t31.7025\n",
      "49 \t4     \t27.5204\t2.81125 \t24.0146\t31.9244\n",
      "50 \t4     \t28.2478\t2.11766 \t24.0146\t31.0137\n",
      "51 \t4     \t27.5579\t1.8041  \t24.0146\t28.8419\n",
      "52 \t4     \t25.2123\t1.22762 \t24.0146\t26.8771\n",
      "53 \t4     \t27.0764\t1.64271 \t24.0146\t28.9129\n",
      "54 \t4     \t24.8185\t1.18411 \t24.0146\t26.9998\n",
      "55 \t4     \t26.5963\t2.58916 \t24.0146\t31.6966\n",
      "56 \t4     \t27.5916\t2.90903 \t24.0146\t32.4979\n",
      "57 \t4     \t29.8025\t2.7903  \t24.0146\t32.4979\n",
      "58 \t4     \t29.5428\t3.66286 \t24.0146\t35.5784\n",
      "59 \t4     \t29.8031\t3.60045 \t24.0146\t35.5784\n",
      "60 \t4     \t28.2948\t3.14608 \t24.0146\t31.8677\n",
      "61 \t5     \t29.0471\t2.36281 \t24.0146\t31.0186\n",
      "62 \t5     \t27.8823\t2.80431 \t24.0146\t31.1313\n",
      "63 \t4     \t27.1688\t3.48257 \t24.0146\t32.3864\n",
      "64 \t4     \t30.7359\t3.05742 \t24.0146\t32.3864\n",
      "65 \t4     \t30.4807\t2.97171 \t24.0146\t32.3864\n",
      "66 \t5     \t28.7987\t3.70261 \t24.0146\t32.6782\n",
      "67 \t4     \t30.1161\t3.09891 \t24.0146\t32.2467\n",
      "68 \t4     \t27.8886\t3.38234 \t23.8188\t32.2389\n",
      "69 \t4     \t28.9921\t2.87381 \t23.8188\t32.0035\n",
      "70 \t4     \t29.666 \t2.7114  \t23.8188\t32.0241\n",
      "71 \t5     \t28.8769\t3.71611 \t23.8188\t32.7455\n",
      "72 \t4     \t29.2348\t2.61119 \t23.8188\t31.864 \n",
      "73 \t4     \t29.3676\t4.01311 \t23.8188\t33.8776\n",
      "74 \t5     \t29.3413\t4.02053 \t23.8104\t33.8652\n",
      "75 \t4     \t30.2085\t3.60879 \t23.8104\t33.8652\n",
      "76 \t4     \t30.1206\t4.68518 \t23.2012\t33.8649\n",
      "77 \t4     \t31.6633\t3.83698 \t23.2012\t33.8649\n",
      "78 \t4     \t30.3572\t3.41776 \t23.2012\t33.8649\n",
      "79 \t4     \t24.2868\t2.4276  \t23.2012\t29.7151\n"
     ]
    },
    {
     "name": "stderr",
     "output_type": "stream",
     "text": [
      "INFO:__main__:Run stopped because of stopping criteria: Max ngen\n",
      "2021-03-15 11:14:50.081 INFO    __main__: Run stopped because of stopping criteria: Max ngen\n"
     ]
    },
    {
     "name": "stdout",
     "output_type": "stream",
     "text": [
      "80 \t4     \t25.3229\t3.00177 \t23.2012\t29.7151\n",
      "\n",
      "[660.3795821476443, -30.666039302947986, -60.920930704722736, -78.41846316810995, 31.21877517971365, 17.170583541969204, 2.4467818438403057, 6.292840619083147, 321.07639425891404, -33.47136426203058, 62.12165911123304] the gene\n"
     ]
    }
   ],
   "source": [
    "efel_filter_iterable = {\n",
    "    \"mean_frequency\":None,\n",
    "    \"ISI_log_slope\":None,\n",
    "    \"mean_frequency\":None,\n",
    "    \"adaptation_index2\":None,\n",
    "    \"first_isi\":None,\n",
    "    \"ISI_CV\":None,\n",
    "    \"median_isi\":None,\n",
    "    \"Spikecount\":None,\n",
    "    \"all_ISI_values\":None,\n",
    "    \"ISI_values\":None,\n",
    "    \"time_to_first_spike\":None,\n",
    "    \"time_to_last_spike\":None,\n",
    "    \"time_to_second_spike\":None,\n",
    "    \"AHP1_depth_from_peak\":None,\n",
    "    \"AHP2_depth_from_peak\":None,\n",
    "    \"AHP_depth\":None,\n",
    "    \"AHP_depth_abs\":None,\n",
    "    \"AHP_depth_abs_slow\":None,\n",
    "    \"AHP_depth_diff\":None,\n",
    "    \"AHP_depth_from_peak\":None,\n",
    "    \"AHP_slow_time\":None,\n",
    "    \"AHP_time_from_peak\":None}\n",
    "\n",
    "\n",
    "def test_opt_relative_diff(specimen_id,model_type = \"ADEXP\",efel_filter_iterable=None):\n",
    "    if model_type in str(\"IZHI\"):\n",
    "        fitnesses,scores,obs_preds,opt,target,hall_of_fame,cell_evaluator = optimize_job(specimen_id,\n",
    "                                                     model_type,\n",
    "                                                     score_type=RelativeDifferenceScore,\n",
    "                                                     efel_filter_iterable=efel_filter_iterable, MU =100,NGEN=200)\n",
    "    else:\n",
    "        fitnesses,scores,obs_preds,opt,target,hall_of_fame,cell_evaluator = optimize_job(specimen_id,\n",
    "                                                     model_type,\n",
    "                                                     score_type=RelativeDifferenceScore,\n",
    "                                                     efel_filter_iterable=efel_filter_iterable, MU =25,NGEN=40)\n",
    "        \n",
    "    return obs_preds,opt,target,hall_of_fame,cell_evaluator\n",
    "( obs_preds,\n",
    "    opt,\n",
    "    target,\n",
    "    hall_of_fame,\n",
    "    cell_evaluator )  = test_opt_relative_diff(specimen_id = 325479788,\n",
    "                                                                          model_type=\"ADEXP\",\n",
    "                                                                          efel_filter_iterable=efel_filter_iterable)\n"
   ]
  },
  {
   "cell_type": "code",
   "execution_count": 6,
   "metadata": {},
   "outputs": [
    {
     "data": {
      "image/png": "[encoded data removed]",
      "text/plain": [
       "<Figure size 432x288 with 1 Axes>"
      ]
     },
     "metadata": {
      "needs_background": "light"
     },
     "output_type": "display_data"
    }
   ],
   "source": [
    "\n",
    "check_bin_vm_soma(target,opt)"
   ]
  },
  {
   "cell_type": "code",
   "execution_count": 7,
   "metadata": {},
   "outputs": [
    {
     "data": {
      "text/html": [
       "<div>\n",
       "<style scoped>\n",
       "    .dataframe tbody tr th:only-of-type {\n",
       "        vertical-align: middle;\n",
       "    }\n",
       "\n",
       "    .dataframe tbody tr th {\n",
       "        vertical-align: top;\n",
       "    }\n",
       "\n",
       "    .dataframe thead th {\n",
       "        text-align: right;\n",
       "    }\n",
       "</style>\n",
       "<table border=\"1\" class=\"dataframe\">\n",
       "  <thead>\n",
       "    <tr style=\"text-align: right;\">\n",
       "      <th></th>\n",
       "      <th>cm</th>\n",
       "      <th>v_spike</th>\n",
       "      <th>v_reset</th>\n",
       "      <th>v_rest</th>\n",
       "      <th>tau_m</th>\n",
       "      <th>a</th>\n",
       "      <th>b</th>\n",
       "      <th>delta_T</th>\n",
       "      <th>tau_w</th>\n",
       "      <th>v_thresh</th>\n",
       "      <th>spike_delta</th>\n",
       "    </tr>\n",
       "  </thead>\n",
       "  <tbody>\n",
       "    <tr>\n",
       "      <th>0</th>\n",
       "      <td>660.38</td>\n",
       "      <td>-30.67</td>\n",
       "      <td>-60.92</td>\n",
       "      <td>-78.42</td>\n",
       "      <td>31.22</td>\n",
       "      <td>17.17</td>\n",
       "      <td>2.45</td>\n",
       "      <td>6.29</td>\n",
       "      <td>321.08</td>\n",
       "      <td>-33.47</td>\n",
       "      <td>62.12</td>\n",
       "    </tr>\n",
       "  </tbody>\n",
       "</table>\n",
       "</div>"
      ],
      "text/plain": [
       "       cm  v_spike  v_reset  v_rest  tau_m      a     b  delta_T   tau_w  \\\n",
       "0  660.38   -30.67   -60.92  -78.42  31.22  17.17  2.45     6.29  321.08   \n",
       "\n",
       "   v_thresh  spike_delta  \n",
       "0    -33.47        62.12  "
      ]
     },
     "execution_count": 7,
     "metadata": {},
     "output_type": "execute_result"
    }
   ],
   "source": [
    "params = opt.attrs_to_params()\n",
    "params = pd.DataFrame([params])\n",
    "params"
   ]
  },
  {
   "cell_type": "code",
   "execution_count": 8,
   "metadata": {},
   "outputs": [
    {
     "data": {
      "text/html": [
       "<div>\n",
       "<style scoped>\n",
       "    .dataframe tbody tr th:only-of-type {\n",
       "        vertical-align: middle;\n",
       "    }\n",
       "\n",
       "    .dataframe tbody tr th {\n",
       "        vertical-align: top;\n",
       "    }\n",
       "\n",
       "    .dataframe thead th {\n",
       "        text-align: right;\n",
       "    }\n",
       "</style>\n",
       "<table border=\"1\" class=\"dataframe\">\n",
       "  <thead>\n",
       "    <tr style=\"text-align: right;\">\n",
       "      <th></th>\n",
       "      <th>EFEL_feature_NU_test_Name</th>\n",
       "      <th>prediction</th>\n",
       "      <th>observation</th>\n",
       "      <th>neuronunit_score</th>\n",
       "    </tr>\n",
       "  </thead>\n",
       "  <tbody>\n",
       "    <tr>\n",
       "      <th>0</th>\n",
       "      <td>mean_frequency</td>\n",
       "      <td>10.086294</td>\n",
       "      <td>10.129432</td>\n",
       "      <td>Relative Difference = 0.04</td>\n",
       "    </tr>\n",
       "    <tr>\n",
       "      <th>1</th>\n",
       "      <td>ISI_log_slope</td>\n",
       "      <td>0.485704</td>\n",
       "      <td>0.463778</td>\n",
       "      <td>Relative Difference = 0.02</td>\n",
       "    </tr>\n",
       "    <tr>\n",
       "      <th>2</th>\n",
       "      <td>adaptation_index2</td>\n",
       "      <td>0.091943</td>\n",
       "      <td>0.093395</td>\n",
       "      <td>Relative Difference = 0.00</td>\n",
       "    </tr>\n",
       "    <tr>\n",
       "      <th>3</th>\n",
       "      <td>ISI_CV</td>\n",
       "      <td>0.476055</td>\n",
       "      <td>0.470615</td>\n",
       "      <td>Relative Difference = 0.01</td>\n",
       "    </tr>\n",
       "    <tr>\n",
       "      <th>4</th>\n",
       "      <td>Spikecount</td>\n",
       "      <td>9.000000</td>\n",
       "      <td>9.000000</td>\n",
       "      <td>Relative Difference = 0.00</td>\n",
       "    </tr>\n",
       "    <tr>\n",
       "      <th>5</th>\n",
       "      <td>all_ISI_values</td>\n",
       "      <td>102.212500</td>\n",
       "      <td>101.650000</td>\n",
       "      <td>Relative Difference = 0.56</td>\n",
       "    </tr>\n",
       "    <tr>\n",
       "      <th>6</th>\n",
       "      <td>ISI_values</td>\n",
       "      <td>108.400000</td>\n",
       "      <td>106.985714</td>\n",
       "      <td>Relative Difference = 1.41</td>\n",
       "    </tr>\n",
       "    <tr>\n",
       "      <th>7</th>\n",
       "      <td>time_to_first_spike</td>\n",
       "      <td>74.600000</td>\n",
       "      <td>75.300000</td>\n",
       "      <td>Relative Difference = 0.70</td>\n",
       "    </tr>\n",
       "    <tr>\n",
       "      <th>8</th>\n",
       "      <td>time_to_last_spike</td>\n",
       "      <td>892.300000</td>\n",
       "      <td>888.500000</td>\n",
       "      <td>Relative Difference = 3.80</td>\n",
       "    </tr>\n",
       "    <tr>\n",
       "      <th>9</th>\n",
       "      <td>time_to_second_spike</td>\n",
       "      <td>133.500000</td>\n",
       "      <td>139.600000</td>\n",
       "      <td>Relative Difference = 6.10</td>\n",
       "    </tr>\n",
       "    <tr>\n",
       "      <th>10</th>\n",
       "      <td>AHP1_depth_from_peak</td>\n",
       "      <td>88.656250</td>\n",
       "      <td>122.950624</td>\n",
       "      <td>Relative Difference = 34.29</td>\n",
       "    </tr>\n",
       "    <tr>\n",
       "      <th>11</th>\n",
       "      <td>AHP2_depth_from_peak</td>\n",
       "      <td>89.250002</td>\n",
       "      <td>122.952742</td>\n",
       "      <td>Relative Difference = 33.70</td>\n",
       "    </tr>\n",
       "    <tr>\n",
       "      <th>12</th>\n",
       "      <td>AHP_depth</td>\n",
       "      <td>24.579199</td>\n",
       "      <td>17.603728</td>\n",
       "      <td>Relative Difference = 6.98</td>\n",
       "    </tr>\n",
       "    <tr>\n",
       "      <th>13</th>\n",
       "      <td>AHP_depth_abs</td>\n",
       "      <td>-55.208334</td>\n",
       "      <td>-60.838927</td>\n",
       "      <td>Relative Difference = 5.63</td>\n",
       "    </tr>\n",
       "    <tr>\n",
       "      <th>14</th>\n",
       "      <td>AHP_depth_abs_slow</td>\n",
       "      <td>-56.625001</td>\n",
       "      <td>-57.028899</td>\n",
       "      <td>Relative Difference = 0.40</td>\n",
       "    </tr>\n",
       "    <tr>\n",
       "      <th>15</th>\n",
       "      <td>AHP_depth_diff</td>\n",
       "      <td>-0.101563</td>\n",
       "      <td>-0.002945</td>\n",
       "      <td>Relative Difference = 0.10</td>\n",
       "    </tr>\n",
       "    <tr>\n",
       "      <th>16</th>\n",
       "      <td>AHP_depth_from_peak</td>\n",
       "      <td>88.236113</td>\n",
       "      <td>122.960586</td>\n",
       "      <td>Relative Difference = 34.72</td>\n",
       "    </tr>\n",
       "    <tr>\n",
       "      <th>17</th>\n",
       "      <td>AHP_slow_time</td>\n",
       "      <td>0.186597</td>\n",
       "      <td>0.054344</td>\n",
       "      <td>Relative Difference = 0.13</td>\n",
       "    </tr>\n",
       "    <tr>\n",
       "      <th>18</th>\n",
       "      <td>AHP_time_from_peak</td>\n",
       "      <td>10.955556</td>\n",
       "      <td>0.100000</td>\n",
       "      <td>Relative Difference = 10.86</td>\n",
       "    </tr>\n",
       "    <tr>\n",
       "      <th>19</th>\n",
       "      <td>spike_0</td>\n",
       "      <td>1.074385</td>\n",
       "      <td>1.075300</td>\n",
       "      <td>Relative Difference = 0.00</td>\n",
       "    </tr>\n",
       "    <tr>\n",
       "      <th>20</th>\n",
       "      <td>spike_1</td>\n",
       "      <td>1.133280</td>\n",
       "      <td>1.139600</td>\n",
       "      <td>Relative Difference = 0.01</td>\n",
       "    </tr>\n",
       "    <tr>\n",
       "      <th>21</th>\n",
       "      <td>spike_2</td>\n",
       "      <td>1.203080</td>\n",
       "      <td>1.208100</td>\n",
       "      <td>Relative Difference = 0.01</td>\n",
       "    </tr>\n",
       "    <tr>\n",
       "      <th>22</th>\n",
       "      <td>spike_3</td>\n",
       "      <td>1.274420</td>\n",
       "      <td>1.281700</td>\n",
       "      <td>Relative Difference = 0.01</td>\n",
       "    </tr>\n",
       "    <tr>\n",
       "      <th>23</th>\n",
       "      <td>spike_4</td>\n",
       "      <td>1.350750</td>\n",
       "      <td>1.361800</td>\n",
       "      <td>Relative Difference = 0.01</td>\n",
       "    </tr>\n",
       "    <tr>\n",
       "      <th>24</th>\n",
       "      <td>spike_5</td>\n",
       "      <td>1.440345</td>\n",
       "      <td>1.450600</td>\n",
       "      <td>Relative Difference = 0.01</td>\n",
       "    </tr>\n",
       "    <tr>\n",
       "      <th>25</th>\n",
       "      <td>spike_6</td>\n",
       "      <td>1.541740</td>\n",
       "      <td>1.552000</td>\n",
       "      <td>Relative Difference = 0.01</td>\n",
       "    </tr>\n",
       "    <tr>\n",
       "      <th>26</th>\n",
       "      <td>spike_7</td>\n",
       "      <td>1.679645</td>\n",
       "      <td>1.675400</td>\n",
       "      <td>Relative Difference = 0.00</td>\n",
       "    </tr>\n",
       "    <tr>\n",
       "      <th>27</th>\n",
       "      <td>spike_8</td>\n",
       "      <td>1.891995</td>\n",
       "      <td>1.888500</td>\n",
       "      <td>Relative Difference = 0.00</td>\n",
       "    </tr>\n",
       "  </tbody>\n",
       "</table>\n",
       "</div>"
      ],
      "text/plain": [
       "   EFEL_feature_NU_test_Name  prediction  observation  \\\n",
       "0             mean_frequency   10.086294    10.129432   \n",
       "1              ISI_log_slope    0.485704     0.463778   \n",
       "2          adaptation_index2    0.091943     0.093395   \n",
       "3                     ISI_CV    0.476055     0.470615   \n",
       "4                 Spikecount    9.000000     9.000000   \n",
       "5             all_ISI_values  102.212500   101.650000   \n",
       "6                 ISI_values  108.400000   106.985714   \n",
       "7        time_to_first_spike   74.600000    75.300000   \n",
       "8         time_to_last_spike  892.300000   888.500000   \n",
       "9       time_to_second_spike  133.500000   139.600000   \n",
       "10      AHP1_depth_from_peak   88.656250   122.950624   \n",
       "11      AHP2_depth_from_peak   89.250002   122.952742   \n",
       "12                 AHP_depth   24.579199    17.603728   \n",
       "13             AHP_depth_abs  -55.208334   -60.838927   \n",
       "14        AHP_depth_abs_slow  -56.625001   -57.028899   \n",
       "15            AHP_depth_diff   -0.101563    -0.002945   \n",
       "16       AHP_depth_from_peak   88.236113   122.960586   \n",
       "17             AHP_slow_time    0.186597     0.054344   \n",
       "18        AHP_time_from_peak   10.955556     0.100000   \n",
       "19                   spike_0    1.074385     1.075300   \n",
       "20                   spike_1    1.133280     1.139600   \n",
       "21                   spike_2    1.203080     1.208100   \n",
       "22                   spike_3    1.274420     1.281700   \n",
       "23                   spike_4    1.350750     1.361800   \n",
       "24                   spike_5    1.440345     1.450600   \n",
       "25                   spike_6    1.541740     1.552000   \n",
       "26                   spike_7    1.679645     1.675400   \n",
       "27                   spike_8    1.891995     1.888500   \n",
       "\n",
       "               neuronunit_score  \n",
       "0    Relative Difference = 0.04  \n",
       "1    Relative Difference = 0.02  \n",
       "2    Relative Difference = 0.00  \n",
       "3    Relative Difference = 0.01  \n",
       "4    Relative Difference = 0.00  \n",
       "5    Relative Difference = 0.56  \n",
       "6    Relative Difference = 1.41  \n",
       "7    Relative Difference = 0.70  \n",
       "8    Relative Difference = 3.80  \n",
       "9    Relative Difference = 6.10  \n",
       "10  Relative Difference = 34.29  \n",
       "11  Relative Difference = 33.70  \n",
       "12   Relative Difference = 6.98  \n",
       "13   Relative Difference = 5.63  \n",
       "14   Relative Difference = 0.40  \n",
       "15   Relative Difference = 0.10  \n",
       "16  Relative Difference = 34.72  \n",
       "17   Relative Difference = 0.13  \n",
       "18  Relative Difference = 10.86  \n",
       "19   Relative Difference = 0.00  \n",
       "20   Relative Difference = 0.01  \n",
       "21   Relative Difference = 0.01  \n",
       "22   Relative Difference = 0.01  \n",
       "23   Relative Difference = 0.01  \n",
       "24   Relative Difference = 0.01  \n",
       "25   Relative Difference = 0.01  \n",
       "26   Relative Difference = 0.00  \n",
       "27   Relative Difference = 0.00  "
      ]
     },
     "execution_count": 8,
     "metadata": {},
     "output_type": "execute_result"
    }
   ],
   "source": [
    "df = pd.DataFrame(obs_preds)\n",
    "df.rename(columns={0:'EFEL_feature_NU_test_Name',1:'prediction',2:'observation',3:'neuronunit_score'},inplace=True)\n",
    "df"
   ]
  },
  {
   "cell_type": "markdown",
   "metadata": {},
   "source": [
    "# Example 2\n",
    "* Now fit Adaptive Exponential model to a single sweep from Allen specimen 325479788 sweep number 64"
   ]
  },
  {
   "cell_type": "code",
   "execution_count": 9,
   "metadata": {},
   "outputs": [
    {
     "data": {
      "image/png": "[encoded data removed]",
      "text/plain": [
       "<Figure size 432x288 with 1 Axes>"
      ]
     },
     "metadata": {
      "needs_background": "light"
     },
     "output_type": "display_data"
    }
   ],
   "source": [
    "check_bin_vm_soma(target,opt)"
   ]
  },
  {
   "cell_type": "code",
   "execution_count": 10,
   "metadata": {},
   "outputs": [
    {
     "data": {
      "text/html": [
       "<div>\n",
       "<style scoped>\n",
       "    .dataframe tbody tr th:only-of-type {\n",
       "        vertical-align: middle;\n",
       "    }\n",
       "\n",
       "    .dataframe tbody tr th {\n",
       "        vertical-align: top;\n",
       "    }\n",
       "\n",
       "    .dataframe thead th {\n",
       "        text-align: right;\n",
       "    }\n",
       "</style>\n",
       "<table border=\"1\" class=\"dataframe\">\n",
       "  <thead>\n",
       "    <tr style=\"text-align: right;\">\n",
       "      <th></th>\n",
       "      <th>cm</th>\n",
       "      <th>v_spike</th>\n",
       "      <th>v_reset</th>\n",
       "      <th>v_rest</th>\n",
       "      <th>tau_m</th>\n",
       "      <th>a</th>\n",
       "      <th>b</th>\n",
       "      <th>delta_T</th>\n",
       "      <th>tau_w</th>\n",
       "      <th>v_thresh</th>\n",
       "      <th>spike_delta</th>\n",
       "    </tr>\n",
       "  </thead>\n",
       "  <tbody>\n",
       "    <tr>\n",
       "      <th>0</th>\n",
       "      <td>660.38</td>\n",
       "      <td>-30.67</td>\n",
       "      <td>-60.92</td>\n",
       "      <td>-78.42</td>\n",
       "      <td>31.22</td>\n",
       "      <td>17.17</td>\n",
       "      <td>2.45</td>\n",
       "      <td>6.29</td>\n",
       "      <td>321.08</td>\n",
       "      <td>-33.47</td>\n",
       "      <td>62.12</td>\n",
       "    </tr>\n",
       "  </tbody>\n",
       "</table>\n",
       "</div>"
      ],
      "text/plain": [
       "       cm  v_spike  v_reset  v_rest  tau_m      a     b  delta_T   tau_w  \\\n",
       "0  660.38   -30.67   -60.92  -78.42  31.22  17.17  2.45     6.29  321.08   \n",
       "\n",
       "   v_thresh  spike_delta  \n",
       "0    -33.47        62.12  "
      ]
     },
     "execution_count": 10,
     "metadata": {},
     "output_type": "execute_result"
    }
   ],
   "source": [
    "params = opt.attrs_to_params()\n",
    "params = pd.DataFrame([params])\n",
    "params"
   ]
  },
  {
   "cell_type": "code",
   "execution_count": null,
   "metadata": {},
   "outputs": [],
   "source": []
  },
  {
   "cell_type": "markdown",
   "metadata": {},
   "source": [
    "## "
   ]
  }
 ],
 "metadata": {
  "kernelspec": {
   "display_name": "Python 3",
   "language": "python",
   "name": "python3"
  },
  "language_info": {
   "codemirror_mode": {
    "name": "ipython",
    "version": 3
   },
   "file_extension": ".py",
   "mimetype": "text/x-python",
   "name": "python",
   "nbconvert_exporter": "python",
   "pygments_lexer": "ipython3",
   "version": "3.7.4"
  }
 },
 "nbformat": 4,
 "nbformat_minor": 2
}

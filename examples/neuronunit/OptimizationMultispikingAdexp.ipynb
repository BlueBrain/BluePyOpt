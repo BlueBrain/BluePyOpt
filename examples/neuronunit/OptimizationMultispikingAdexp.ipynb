{
 "cells": [
  {
   "cell_type": "markdown",
   "metadata": {},
   "source": [
    "# An example of using BluePyOpt/NeuronUnit Optimization\n",
    "Using:\n",
    "* Allen Brain Experimental data (`specimen_id=325479788`, sweep number `64`) to derive features from.\n",
    "* EFEL feature extraction\n",
    "* BluePyOpt Optimization.\n",
    "* Numba JIT simple cell models (Adaptive Exponential).\n",
    "* Neuronunit model scoring"
   ]
  },
  {
   "cell_type": "code",
   "execution_count": 1,
   "metadata": {},
   "outputs": [
    {
     "name": "stdout",
     "output_type": "stream",
     "text": [
      "/home/user/git/revitalize/neuronunit/neuronunit/__init__.py\n"
     ]
    }
   ],
   "source": [
    "import sys\n",
    "sys.path.insert(0,'/home/user/git/revitalize/neuronunit')\n",
    "del sys.path[-5]\n",
    "#print(sys.path)\n",
    "\n",
    "import matplotlib.pyplot as plt\n",
    "import seaborn as sns\n",
    "sns.set(context=\"paper\", font=\"monospace\")\n",
    "%matplotlib inline\n",
    "SILENT = True\n",
    "import warnings\n",
    "if SILENT:\n",
    "    warnings.filterwarnings(\"ignore\")\n",
    "import neuronunit\n",
    "print(neuronunit.__file__)\n",
    "from neuronunit.plotting.plot_utils import check_bin_vm_soma\n",
    "from neuronunit.allenapi.allen_data_driven import opt_setup\n",
    "from nb_utils import optimize_job\n",
    "from sciunit.scores import RelativeDifferenceScore\n",
    "import pandas as pd\n",
    "import pickle\n",
    "import quantities as pq\n",
    "specimen_id = 325479788\n"
   ]
  },
  {
   "cell_type": "code",
   "execution_count": 2,
   "metadata": {},
   "outputs": [],
   "source": [
    "def test_opt_relative_diff(specimen_id,model_type = \"ADEXP\",efel_filter_iterable=None):\n",
    "    if model_type in str(\"IZHI\"):\n",
    "        fitnesses,scores,obs_preds,opt,target,hall_of_fame,cell_evaluator = optimize_job(specimen_id,\n",
    "                                                     model_type,\n",
    "                                                     score_type=RelativeDifferenceScore,\n",
    "                                                     efel_filter_iterable=efel_filter_iterable, MU =25,NGEN=190)\n",
    "    else:\n",
    "        fitnesses,scores,obs_preds,opt,target,hall_of_fame,cell_evaluator = optimize_job(specimen_id,\n",
    "                                                     model_type,\n",
    "                                                     score_type=RelativeDifferenceScore,\n",
    "                                                     efel_filter_iterable=efel_filter_iterable, MU =20,NGEN=90)\n",
    "        \n",
    "    return obs_preds,opt,target,hall_of_fame,cell_evaluator\n"
   ]
  },
  {
   "cell_type": "markdown",
   "metadata": {},
   "source": [
    "# Below is a plot of vm trace for fitting the simple model to with neuron unit.\n",
    "* It is from Allen Specimen id `325479788`, sweep number `64`.\n",
    "* sweep number \n"
   ]
  },
  {
   "cell_type": "code",
   "execution_count": 3,
   "metadata": {},
   "outputs": [
    {
     "data": {
      "image/png": "[encoded data removed]",
      "text/plain": [
       "<Figure size 432x288 with 1 Axes>"
      ]
     },
     "metadata": {
      "needs_background": "light"
     },
     "output_type": "display_data"
    }
   ],
   "source": [
    "\n",
    "with open('325479788later_allen_NU_tests.p', \"rb\") as f:\n",
    "    suite = pickle.load(f)\n",
    "    \n",
    "plt.plot(suite.traces[\"vm_soma\"].times,suite.traces[\"vm_soma\"])\n",
    "plt.xlabel(pq.s)\n",
    "plt.ylabel(suite.traces[\"vm_soma\"].dimensionality)\n",
    "plt.title(\"$V_{M}$ Allen Specimen id 325479788, sweep number 64\")\n",
    "plt.show()\n"
   ]
  },
  {
   "cell_type": "markdown",
   "metadata": {},
   "source": [
    "# Example 2\n",
    "* AdExp model \n",
    "* Allen specimen 325479788\n",
    "You will notice that all the features are timinig related, and some would seem redudandant. This is because one must use brute force to get a good fit, for this particular problem."
   ]
  },
  {
   "cell_type": "markdown",
   "metadata": {},
   "source": [
    "Next can use sensativity analysis on the genes to find out which genes needed varying."
   ]
  },
  {
   "cell_type": "code",
   "execution_count": null,
   "metadata": {
    "slideshow": {
     "slide_type": "slide"
    }
   },
   "outputs": [
    {
     "name": "stdout",
     "output_type": "stream",
     "text": [
      "<class 'jithub.models.model_classes.IzhiModel'>\n"
     ]
    },
    {
     "name": "stderr",
     "output_type": "stream",
     "text": [
      "WARNING:root:\n",
      "  \u001b[33m\u001b[1mWarning:\u001b[0m to view this Streamlit app on a browser, run it with the following\n",
      "  command:\n",
      "\n",
      "    streamlit run /home/user/anaconda3/lib/python3.7/site-packages/ipykernel_launcher.py [ARGUMENTS]\n",
      "2021-03-14 15:22:51.846 WARNING root: \n",
      "  \u001b[33m\u001b[1mWarning:\u001b[0m to view this Streamlit app on a browser, run it with the following\n",
      "  command:\n",
      "\n",
      "    streamlit run /home/user/anaconda3/lib/python3.7/site-packages/ipykernel_launcher.py [ARGUMENTS]\n"
     ]
    },
    {
     "data": {
      "application/vnd.jupyter.widget-view+json": {
       "model_id": "65fc988793684bd8ab37f415b1d41615",
       "version_major": 2,
       "version_minor": 0
      },
      "text/plain": [
       "HBox(children=(FloatProgress(value=0.0, max=190.0), HTML(value='')))"
      ]
     },
     "metadata": {},
     "output_type": "display_data"
    },
    {
     "name": "stdout",
     "output_type": "stream",
     "text": [
      "2  \t24    \t2777.6 \t6290.85\t32.9866\t20000\n",
      "3  \t6     \t369.629\t352.22 \t32.9866\t1108.77\n",
      "4  \t6     \t792.528\t480.619\t32.9866\t1108.77\n",
      "5  \t6     \t1066.22\t2069.31\t20.4921\t6028.93\n",
      "6  \t6     \t85.3995\t132.563\t20.4921\t409.616\n",
      "7  \t6     \t134.996\t173.721\t20.4921\t409.608\n",
      "8  \t6     \t82.3783\t133.687\t20.3137\t409.614\n",
      "9  \t6     \t80.8911\t134.284\t18.4724\t409.609\n",
      "10 \t6     \t133.574\t174.648\t18.4724\t409.622\n",
      "11 \t6     \t188.281\t186.993\t18.4724\t409.616\n",
      "12 \t6     \t132.629\t175.252\t18.4724\t409.627\n",
      "13 \t6     \t72.1063\t124.305\t18.4724\t376.403\n",
      "14 \t6     \t86.5393\t139.504\t18.4724\t428.065\n",
      "15 \t6     \t143.301\t180.2  \t18.4724\t428.181\n",
      "16 \t6     \t22.3813\t6.18571\t18.4724\t32.6334\n",
      "17 \t6     \t78.5597\t119.247\t18.4724\t370.421\n",
      "18 \t6     \t81.9714\t141.446\t18.4724\t428.166\n",
      "19 \t6     \t84.6184\t140.32 \t18.4724\t428.167\n",
      "20 \t6     \t249.932\t200.542\t18.4724\t428.167\n",
      "21 \t6     \t18.4724\t3.55271e-15\t18.4724\t18.4724\n",
      "22 \t6     \t18.4724\t3.55271e-15\t18.4724\t18.4724\n",
      "23 \t6     \t76.9723\t143.295    \t18.4724\t427.971\n",
      "24 \t6     \t18.4724\t3.55271e-15\t18.4724\t18.4724\n",
      "25 \t6     \t71.8398\t130.723    \t18.4724\t392.044\n",
      "26 \t6     \t237.226\t189.551    \t18.4724\t409.638\n",
      "27 \t6     \t147.169\t205.94     \t18.4724\t528.186\n",
      "28 \t6     \t366.809\t221.386    \t18.4724\t528.343\n",
      "29 \t6     \t166.732\t228.636    \t18.4724\t528.186\n",
      "30 \t6     \t293.209\t236.309    \t18.4724\t528.194\n",
      "31 \t6     \t265.343\t214.15     \t18.4724\t474.201\n",
      "32 \t6     \t199.17 \t205.846    \t18.4724\t449.794\n",
      "33 \t6     \t186.764\t188.014    \t18.4724\t409.633\n"
     ]
    }
   ],
   "source": [
    "efel_filter_iterable = {\n",
    "    \"ISI_log_slope\":None,\n",
    "    \"mean_frequency\":None,\n",
    "    \"adaptation_index2\":None,\n",
    "    \"first_isi\":None,\n",
    "    \"ISI_CV\":None,\n",
    "    \"median_isi\":None,\n",
    "    \"Spikecount\":None,\n",
    "    \"all_ISI_values\":None,\n",
    "    \"ISI_values\":None,\n",
    "    \"time_to_first_spike\":None,\n",
    "    \"time_to_last_spike\":None,\n",
    "    \"time_to_second_spike\":None,\n",
    "    \"peak_voltage\":None,\n",
    "    \"base_voltage\":None\n",
    "\n",
    "}\n",
    "( obs_preds,\n",
    "    opt,\n",
    "    target,\n",
    "    hall_of_fame,\n",
    "    cell_evaluator )  = test_opt_relative_diff(specimen_id = 325479788,\n",
    "                                                                          model_type=\"IZHI\",\n",
    "                                                                          efel_filter_iterable=efel_filter_iterable)\n"
   ]
  },
  {
   "cell_type": "code",
   "execution_count": null,
   "metadata": {},
   "outputs": [],
   "source": [
    "\n",
    "check_bin_vm_soma(target,opt)"
   ]
  },
  {
   "cell_type": "code",
   "execution_count": null,
   "metadata": {},
   "outputs": [],
   "source": [
    "params = opt.attrs_to_params()\n",
    "params = pd.DataFrame([params])\n",
    "params"
   ]
  },
  {
   "cell_type": "code",
   "execution_count": null,
   "metadata": {},
   "outputs": [],
   "source": [
    "df = pd.DataFrame(obs_preds)\n",
    "df.rename(columns={0:'EFEL_feature_NU_test_Name',1:'prediction',2:'observation',3:'neuronunit_score'},inplace=True)\n",
    "df"
   ]
  },
  {
   "cell_type": "markdown",
   "metadata": {},
   "source": [
    "# Example 2\n",
    "* Now fit Adaptive Exponential model to a single sweep from Allen specimen 325479788 sweep number 64"
   ]
  },
  {
   "cell_type": "code",
   "execution_count": null,
   "metadata": {},
   "outputs": [],
   "source": [
    "check_bin_vm_soma(target,opt)"
   ]
  },
  {
   "cell_type": "code",
   "execution_count": null,
   "metadata": {},
   "outputs": [],
   "source": [
    "params = opt.attrs_to_params()\n",
    "params = pd.DataFrame([params])\n",
    "params"
   ]
  },
  {
   "cell_type": "code",
   "execution_count": null,
   "metadata": {},
   "outputs": [],
   "source": []
  },
  {
   "cell_type": "markdown",
   "metadata": {},
   "source": [
    "## "
   ]
  }
 ],
 "metadata": {
  "kernelspec": {
   "display_name": "Python 3",
   "language": "python",
   "name": "python3"
  },
  "language_info": {
   "codemirror_mode": {
    "name": "ipython",
    "version": 3
   },
   "file_extension": ".py",
   "mimetype": "text/x-python",
   "name": "python",
   "nbconvert_exporter": "python",
   "pygments_lexer": "ipython3",
   "version": "3.7.4"
  }
 },
 "nbformat": 4,
 "nbformat_minor": 2
}

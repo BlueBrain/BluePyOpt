{
 "cells": [
  {
   "cell_type": "markdown",
   "metadata": {},
   "source": [
    "# An example of using BluePyOpt/NeuronUnit Optimization\n",
    "Using:\n",
    "* Allen Brain Experimental data (`specimen_id=325479788`, sweep number `64`) to derive features from.\n",
    "* EFEL feature extraction\n",
    "* BluePyOpt Optimization.\n",
    "* Numba JIT simple cell models (Izhikevich, Adaptive Exponential).\n",
    "* Neuronunit model scoring"
   ]
  },
  {
   "cell_type": "code",
   "execution_count": 1,
   "metadata": {},
   "outputs": [],
   "source": [
    "import matplotlib.pyplot as plt\n",
    "import seaborn as sns\n",
    "sns.set(context=\"paper\", font=\"monospace\")\n",
    "%matplotlib inline\n",
    "SILENT = True\n",
    "import warnings\n",
    "if SILENT:\n",
    "    warnings.filterwarnings(\"ignore\")\n",
    "\n",
    "from neuronunit.plotting.plot_utils import check_bin_vm_soma\n",
    "from neuronunit.allenapi.allen_data_driven import opt_setup\n",
    "from nb_utils import optimize_job\n",
    "from sciunit.scores import RelativeDifferenceScore\n",
    "import pandas as pd\n",
    "import pickle\n",
    "import quantities as pq\n",
    "specimen_id = 325479788\n",
    "import numpy as np\n",
    "from neuronunit.tests.target_spike_current import SpikeCountSearch\n",
    "from neuronunit.optimization.optimization_management import inject_model_soma\n",
    "\n"
   ]
  },
  {
   "cell_type": "code",
   "execution_count": 2,
   "metadata": {},
   "outputs": [],
   "source": [
    "def test_opt_relative_diff(specimen_id,model_type = \"ADEXP\",efel_filter_iterable=None):\n",
    "    fitnesses,scores,obs_preds,opt,target,hall_of_fame,cell_evaluator = optimize_job(specimen_id,\n",
    "                                                 model_type,\n",
    "                                                 score_type=RelativeDifferenceScore,\n",
    "                                                 efel_filter_iterable=efel_filter_iterable)\n",
    "    print(fitnesses)\n",
    "    return obs_preds,opt,target,hall_of_fame,cell_evaluator\n"
   ]
  },
  {
   "cell_type": "markdown",
   "metadata": {},
   "source": [
    "# Below is a plot of vm trace for fitting the simple model to with neuron unit.\n",
    "* It is from Allen Specimen id `325479788`, sweep number `64`.\n",
    "* sweep number \n"
   ]
  },
  {
   "cell_type": "code",
   "execution_count": 3,
   "metadata": {},
   "outputs": [
    {
     "data": {
      "image/png": "[encoded data removed]",
      "text/plain": [
       "<Figure size 432x288 with 1 Axes>"
      ]
     },
     "metadata": {
      "needs_background": "light"
     },
     "output_type": "display_data"
    }
   ],
   "source": [
    "with open('325479788later_allen_NU_tests.p', \"rb\") as f:\n",
    "    suite = pickle.load(f)\n",
    "    \n",
    "plt.plot(suite.traces[\"vm_soma\"].times,suite.traces[\"vm_soma\"])\n",
    "plt.xlabel(pq.s)\n",
    "plt.ylabel(suite.traces[\"vm_soma\"].dimensionality)\n",
    "plt.title(\"$V_{M}$ Allen Specimen id 325479788, sweep number 64\")\n",
    "plt.show()\n"
   ]
  },
  {
   "cell_type": "markdown",
   "metadata": {},
   "source": [
    "# Example 1\n",
    "* Izhikevich model \n",
    "* Allen specimen 325479788"
   ]
  },
  {
   "cell_type": "code",
   "execution_count": null,
   "metadata": {
    "slideshow": {
     "slide_type": "slide"
    }
   },
   "outputs": [
    {
     "name": "stdout",
     "output_type": "stream",
     "text": [
      "<class 'jithub.models.model_classes.IzhiModel'>\n"
     ]
    },
    {
     "name": "stderr",
     "output_type": "stream",
     "text": [
      "INFO:__main__:gen\tnevals\tavg   \tstd    \tmin    \tmax  \n",
      "1  \t150   \t7412.4\t7573.34\t1375.01\t19000\n",
      "gen\tnevals\tavg   \tstd    \tmin    \tmax  \n",
      "1  \t150   \t7412.4\t7573.34\t1375.01\t19000\n"
     ]
    },
    {
     "data": {
      "application/vnd.jupyter.widget-view+json": {
       "model_id": "ccdc77619f43493f9a01278bc3d7ebf8",
       "version_major": 2,
       "version_minor": 0
      },
      "text/plain": [
       "HBox(children=(FloatProgress(value=0.0, max=350.0), HTML(value='')))"
      ]
     },
     "metadata": {},
     "output_type": "display_data"
    },
    {
     "name": "stdout",
     "output_type": "stream",
     "text": [
      "29 1 0.1 : Best eta,cxpb,mutpb value?\n"
     ]
    },
    {
     "name": "stderr",
     "output_type": "stream",
     "text": [
      "INFO:__main__:2  \t141   \t7144.42\t7510.69\t1318.38\t19000\n",
      "2  \t141   \t7144.42\t7510.69\t1318.38\t19000\n"
     ]
    },
    {
     "name": "stdout",
     "output_type": "stream",
     "text": [
      "regular 1037235.912945 time diminishing\n",
      "29 1 0.1 : Best eta,cxpb,mutpb value?\n"
     ]
    },
    {
     "name": "stderr",
     "output_type": "stream",
     "text": [
      "INFO:__main__:3  \t39    \t2662.53\t3684.97\t1119.91\t19000\n",
      "3  \t39    \t2662.53\t3684.97\t1119.91\t19000\n"
     ]
    },
    {
     "name": "stdout",
     "output_type": "stream",
     "text": [
      "regular 151183.75638500002 time diminishing\n",
      "29 1 0.1 : Best eta,cxpb,mutpb value?\n"
     ]
    },
    {
     "name": "stderr",
     "output_type": "stream",
     "text": [
      "INFO:__main__:4  \t37    \t2321.84\t3712.43\t1119.91\t19000\n",
      "4  \t37    \t2321.84\t3712.43\t1119.91\t19000\n"
     ]
    },
    {
     "name": "stdout",
     "output_type": "stream",
     "text": [
      "regular 135030.274545 time diminishing\n",
      "29 1 0.1 : Best eta,cxpb,mutpb value?\n"
     ]
    },
    {
     "name": "stderr",
     "output_type": "stream",
     "text": [
      "INFO:__main__:5  \t41    \t2563.9 \t4220.48\t1119.91\t19000\n",
      "5  \t41    \t2563.9 \t4220.48\t1119.91\t19000\n"
     ]
    },
    {
     "name": "stdout",
     "output_type": "stream",
     "text": [
      "regular 159159.991975 time diminishing\n",
      "29 1 0.1 : Best eta,cxpb,mutpb value?\n"
     ]
    },
    {
     "name": "stderr",
     "output_type": "stream",
     "text": [
      "INFO:__main__:6  \t40    \t3043.37\t5003.59\t1119.91\t19000\n",
      "6  \t40    \t3043.37\t5003.59\t1119.91\t19000\n"
     ]
    },
    {
     "name": "stdout",
     "output_type": "stream",
     "text": [
      "regular 199100.161315 time diminishing\n",
      "29 1 0.1 : Best eta,cxpb,mutpb value?\n"
     ]
    },
    {
     "name": "stderr",
     "output_type": "stream",
     "text": [
      "INFO:__main__:7  \t40    \t3077.92\t4671.32\t1119.91\t19000\n",
      "7  \t40    \t3077.92\t4671.32\t1119.91\t19000\n"
     ]
    },
    {
     "name": "stdout",
     "output_type": "stream",
     "text": [
      "regular 196503.199565 time diminishing\n",
      "29 1 0.1 : Best eta,cxpb,mutpb value?\n"
     ]
    },
    {
     "name": "stderr",
     "output_type": "stream",
     "text": [
      "INFO:__main__:8  \t38    \t2824.55\t4698.35\t1119.91\t19000\n",
      "8  \t38    \t2824.55\t4698.35\t1119.91\t19000\n"
     ]
    },
    {
     "name": "stdout",
     "output_type": "stream",
     "text": [
      "regular 180684.85306999998 time diminishing\n",
      "29 1 0.1 : Best eta,cxpb,mutpb value?\n"
     ]
    },
    {
     "name": "stderr",
     "output_type": "stream",
     "text": [
      "INFO:__main__:9  \t41    \t3400.19\t5173.56\t1098.26\t19000\n",
      "9  \t41    \t3400.19\t5173.56\t1098.26\t19000\n"
     ]
    },
    {
     "name": "stdout",
     "output_type": "stream",
     "text": [
      "regular 224582.015731 time diminishing\n",
      "29 1 0.1 : Best eta,cxpb,mutpb value?\n"
     ]
    },
    {
     "name": "stderr",
     "output_type": "stream",
     "text": [
      "INFO:__main__:10 \t40    \t2918.92\t4542.15\t1098.26\t19000\n",
      "10 \t40    \t2918.92\t4542.15\t1098.26\t19000\n"
     ]
    },
    {
     "name": "stdout",
     "output_type": "stream",
     "text": [
      "regular 186200.906424 time diminishing\n",
      "29 1 0.1 : Best eta,cxpb,mutpb value?\n"
     ]
    },
    {
     "name": "stderr",
     "output_type": "stream",
     "text": [
      "INFO:__main__:11 \t40    \t3054.33\t4741.81\t1098.26\t19000\n",
      "11 \t40    \t3054.33\t4741.81\t1098.26\t19000\n"
     ]
    },
    {
     "name": "stdout",
     "output_type": "stream",
     "text": [
      "regular 198398.926545 time diminishing\n",
      "28 1 0.1 : Best eta,cxpb,mutpb value?\n"
     ]
    },
    {
     "name": "stderr",
     "output_type": "stream",
     "text": [
      "INFO:__main__:12 \t41    \t2359.1 \t3400.28\t1098.26\t19000\n",
      "12 \t41    \t2359.1 \t3400.28\t1098.26\t19000\n"
     ]
    },
    {
     "name": "stdout",
     "output_type": "stream",
     "text": [
      "regular 136941.71842499997 time diminishing\n",
      "28 1 0.1 : Best eta,cxpb,mutpb value?\n"
     ]
    },
    {
     "name": "stderr",
     "output_type": "stream",
     "text": [
      "INFO:__main__:13 \t39    \t1841.98\t2243.58\t1098.26\t19000\n",
      "13 \t39    \t1841.98\t2243.58\t1098.26\t19000\n"
     ]
    },
    {
     "name": "stdout",
     "output_type": "stream",
     "text": [
      "regular 94946.0790392 time diminishing\n",
      "28 1 0.1 : Best eta,cxpb,mutpb value?\n"
     ]
    },
    {
     "name": "stderr",
     "output_type": "stream",
     "text": [
      "INFO:__main__:14 \t40    \t2114.95\t3122.66\t446.349\t19000\n",
      "14 \t40    \t2114.95\t3122.66\t446.349\t19000\n"
     ]
    },
    {
     "name": "stdout",
     "output_type": "stream",
     "text": [
      "regular 115221.207506 time diminishing\n",
      "28 1 0.1 : Best eta,cxpb,mutpb value?\n"
     ]
    },
    {
     "name": "stderr",
     "output_type": "stream",
     "text": [
      "INFO:__main__:15 \t39    \t2320.47\t3717.79\t446.349\t19000\n",
      "15 \t39    \t2320.47\t3717.79\t446.349\t19000\n"
     ]
    },
    {
     "name": "stdout",
     "output_type": "stream",
     "text": [
      "regular 142606.337344 time diminishing\n",
      "28 1 0.1 : Best eta,cxpb,mutpb value?\n"
     ]
    },
    {
     "name": "stderr",
     "output_type": "stream",
     "text": [
      "INFO:__main__:16 \t39    \t1850.72\t3136.78\t441.079\t19000\n",
      "16 \t39    \t1850.72\t3136.78\t441.079\t19000\n"
     ]
    },
    {
     "name": "stdout",
     "output_type": "stream",
     "text": [
      "regular 111204.5122 time diminishing\n",
      "28 1 0.1 : Best eta,cxpb,mutpb value?\n"
     ]
    },
    {
     "name": "stderr",
     "output_type": "stream",
     "text": [
      "INFO:__main__:17 \t39    \t1612.53\t2866.03\t441.079\t19000\n",
      "17 \t39    \t1612.53\t2866.03\t441.079\t19000\n"
     ]
    },
    {
     "name": "stdout",
     "output_type": "stream",
     "text": [
      "regular 98175.316601 time diminishing\n",
      "28 1 0.1 : Best eta,cxpb,mutpb value?\n"
     ]
    },
    {
     "name": "stderr",
     "output_type": "stream",
     "text": [
      "INFO:__main__:18 \t39    \t1445.55\t2598.58\t441.079\t16924.4\n",
      "18 \t39    \t1445.55\t2598.58\t441.079\t16924.4\n"
     ]
    },
    {
     "name": "stdout",
     "output_type": "stream",
     "text": [
      "regular 92747.300195 time diminishing\n",
      "28 1 0.1 : Best eta,cxpb,mutpb value?\n"
     ]
    },
    {
     "name": "stderr",
     "output_type": "stream",
     "text": [
      "INFO:__main__:19 \t38    \t2819.02\t4748.45\t441.079\t19000  \n",
      "19 \t38    \t2819.02\t4748.45\t441.079\t19000  \n"
     ]
    },
    {
     "name": "stdout",
     "output_type": "stream",
     "text": [
      "regular 190412.361757 time diminishing\n",
      "28 1 0.1 : Best eta,cxpb,mutpb value?\n"
     ]
    },
    {
     "name": "stderr",
     "output_type": "stream",
     "text": [
      "INFO:__main__:20 \t39    \t2189.83\t3739.62\t343.427\t19000  \n",
      "20 \t39    \t2189.83\t3739.62\t343.427\t19000  \n"
     ]
    },
    {
     "name": "stdout",
     "output_type": "stream",
     "text": [
      "regular 141983.001935 time diminishing\n",
      "28 1 0.1 : Best eta,cxpb,mutpb value?\n"
     ]
    },
    {
     "name": "stderr",
     "output_type": "stream",
     "text": [
      "INFO:__main__:21 \t39    \t1507.63\t2608.76\t343.427\t19000  \n",
      "21 \t39    \t1507.63\t2608.76\t343.427\t19000  \n"
     ]
    },
    {
     "name": "stdout",
     "output_type": "stream",
     "text": [
      "regular 93486.59864499999 time diminishing\n",
      "28 1 0.1 : Best eta,cxpb,mutpb value?\n"
     ]
    },
    {
     "name": "stderr",
     "output_type": "stream",
     "text": [
      "INFO:__main__:22 \t37    \t1394.55\t2011.76\t343.427\t16924.4\n",
      "22 \t37    \t1394.55\t2011.76\t343.427\t16924.4\n"
     ]
    },
    {
     "name": "stdout",
     "output_type": "stream",
     "text": [
      "regular 80473.02195 time diminishing\n",
      "28 1 0.1 : Best eta,cxpb,mutpb value?\n"
     ]
    },
    {
     "name": "stderr",
     "output_type": "stream",
     "text": [
      "INFO:__main__:23 \t39    \t2209.8 \t3778.35\t343.427\t19000  \n",
      "23 \t39    \t2209.8 \t3778.35\t343.427\t19000  \n"
     ]
    },
    {
     "name": "stdout",
     "output_type": "stream",
     "text": [
      "regular 136395.671225 time diminishing\n",
      "27 1 0.1 : Best eta,cxpb,mutpb value?\n"
     ]
    },
    {
     "name": "stderr",
     "output_type": "stream",
     "text": [
      "INFO:__main__:24 \t38    \t1866   \t3348.63\t343.427\t19000  \n",
      "24 \t38    \t1866   \t3348.63\t343.427\t19000  \n"
     ]
    },
    {
     "name": "stdout",
     "output_type": "stream",
     "text": [
      "regular 115922.650795 time diminishing\n",
      "27 1 0.1 : Best eta,cxpb,mutpb value?\n"
     ]
    },
    {
     "name": "stderr",
     "output_type": "stream",
     "text": [
      "INFO:__main__:25 \t38    \t1358.38\t2513.91\t343.427\t16924.4\n",
      "25 \t38    \t1358.38\t2513.91\t343.427\t16924.4\n"
     ]
    },
    {
     "name": "stdout",
     "output_type": "stream",
     "text": [
      "regular 87120.04149500001 time diminishing\n",
      "27 1 0.1 : Best eta,cxpb,mutpb value?\n"
     ]
    },
    {
     "name": "stderr",
     "output_type": "stream",
     "text": [
      "INFO:__main__:26 \t37    \t1541.6 \t2043.68\t343.427\t19000  \n",
      "26 \t37    \t1541.6 \t2043.68\t343.427\t19000  \n"
     ]
    },
    {
     "name": "stdout",
     "output_type": "stream",
     "text": [
      "regular 82157.23504 time diminishing\n",
      "27 1 0.1 : Best eta,cxpb,mutpb value?\n"
     ]
    },
    {
     "name": "stderr",
     "output_type": "stream",
     "text": [
      "INFO:__main__:27 \t38    \t1354.76\t1673.93\t343.427\t15052.8\n",
      "27 \t38    \t1354.76\t1673.93\t343.427\t15052.8\n"
     ]
    },
    {
     "name": "stdout",
     "output_type": "stream",
     "text": [
      "regular 73000.642165 time diminishing\n",
      "27 1 0.1 : Best eta,cxpb,mutpb value?\n"
     ]
    },
    {
     "name": "stderr",
     "output_type": "stream",
     "text": [
      "INFO:__main__:28 \t37    \t1534.93\t1847.97\t343.427\t15011  \n",
      "28 \t37    \t1534.93\t1847.97\t343.427\t15011  \n"
     ]
    },
    {
     "name": "stdout",
     "output_type": "stream",
     "text": [
      "regular 88096.42216399999 time diminishing\n",
      "27 1 0.1 : Best eta,cxpb,mutpb value?\n"
     ]
    },
    {
     "name": "stderr",
     "output_type": "stream",
     "text": [
      "INFO:__main__:29 \t35    \t1641.37\t1725.87\t343.427\t15036  \n",
      "29 \t35    \t1641.37\t1725.87\t343.427\t15036  \n"
     ]
    },
    {
     "name": "stdout",
     "output_type": "stream",
     "text": [
      "regular 84743.976891 time diminishing\n",
      "27 1 0.1 : Best eta,cxpb,mutpb value?\n"
     ]
    },
    {
     "name": "stderr",
     "output_type": "stream",
     "text": [
      "INFO:__main__:30 \t36    \t1789.59\t2336.48\t343.427\t15043.9\n",
      "30 \t36    \t1789.59\t2336.48\t343.427\t15043.9\n"
     ]
    },
    {
     "name": "stdout",
     "output_type": "stream",
     "text": [
      "regular 103279.266086 time diminishing\n",
      "27 1 0.1 : Best eta,cxpb,mutpb value?\n"
     ]
    },
    {
     "name": "stderr",
     "output_type": "stream",
     "text": [
      "INFO:__main__:31 \t40    \t2023.41\t3591.89\t343.427\t19000  \n",
      "31 \t40    \t2023.41\t3591.89\t343.427\t19000  \n"
     ]
    },
    {
     "name": "stdout",
     "output_type": "stream",
     "text": [
      "regular 130332.88930800001 time diminishing\n",
      "27 1 0.1 : Best eta,cxpb,mutpb value?\n"
     ]
    },
    {
     "name": "stderr",
     "output_type": "stream",
     "text": [
      "INFO:__main__:32 \t40    \t1828.76\t3459.64\t343.427\t16924.4\n",
      "32 \t40    \t1828.76\t3459.64\t343.427\t16924.4\n"
     ]
    },
    {
     "name": "stdout",
     "output_type": "stream",
     "text": [
      "regular 128798.435011 time diminishing\n",
      "27 1 0.1 : Best eta,cxpb,mutpb value?\n"
     ]
    },
    {
     "name": "stderr",
     "output_type": "stream",
     "text": [
      "INFO:__main__:33 \t33    \t1409.41\t2128.08\t275.919\t19000  \n",
      "33 \t33    \t1409.41\t2128.08\t275.919\t19000  \n"
     ]
    },
    {
     "name": "stdout",
     "output_type": "stream",
     "text": [
      "regular 78797.058814 time diminishing\n",
      "27 1 0.1 : Best eta,cxpb,mutpb value?\n"
     ]
    },
    {
     "name": "stderr",
     "output_type": "stream",
     "text": [
      "INFO:__main__:34 \t38    \t1752.66\t3001.87\t275.919\t16924.4\n",
      "34 \t38    \t1752.66\t3001.87\t275.919\t16924.4\n"
     ]
    },
    {
     "name": "stdout",
     "output_type": "stream",
     "text": [
      "regular 123037.1076065 time diminishing\n",
      "27 1 0.1 : Best eta,cxpb,mutpb value?\n"
     ]
    },
    {
     "name": "stderr",
     "output_type": "stream",
     "text": [
      "INFO:__main__:35 \t40    \t1647.08\t2165.47\t275.919\t15039.8\n",
      "35 \t40    \t1647.08\t2165.47\t275.919\t15039.8\n"
     ]
    },
    {
     "name": "stdout",
     "output_type": "stream",
     "text": [
      "regular 108708.83017999999 time diminishing\n",
      "26 1 0.1 : Best eta,cxpb,mutpb value?\n"
     ]
    },
    {
     "name": "stderr",
     "output_type": "stream",
     "text": [
      "INFO:__main__:36 \t39    \t1629.03\t2586.15\t275.919\t16924.4\n",
      "36 \t39    \t1629.03\t2586.15\t275.919\t16924.4\n"
     ]
    },
    {
     "name": "stdout",
     "output_type": "stream",
     "text": [
      "regular 106317.62777699999 time diminishing\n",
      "26 1 0.1 : Best eta,cxpb,mutpb value?\n"
     ]
    },
    {
     "name": "stderr",
     "output_type": "stream",
     "text": [
      "INFO:__main__:37 \t37    \t1621.05\t2571.34\t275.919\t16924.4\n",
      "37 \t37    \t1621.05\t2571.34\t275.919\t16924.4\n"
     ]
    },
    {
     "name": "stdout",
     "output_type": "stream",
     "text": [
      "regular 103482.876289 time diminishing\n",
      "26 1 0.1 : Best eta,cxpb,mutpb value?\n"
     ]
    },
    {
     "name": "stderr",
     "output_type": "stream",
     "text": [
      "INFO:__main__:38 \t34    \t1482.07\t2135.27\t275.919\t15117.8\n",
      "38 \t34    \t1482.07\t2135.27\t275.919\t15117.8\n"
     ]
    },
    {
     "name": "stdout",
     "output_type": "stream",
     "text": [
      "regular 88415.63553 time diminishing\n",
      "26 1 0.1 : Best eta,cxpb,mutpb value?\n"
     ]
    },
    {
     "name": "stderr",
     "output_type": "stream",
     "text": [
      "INFO:__main__:39 \t34    \t2326.78\t3779.35\t275.919\t19000  \n",
      "39 \t34    \t2326.78\t3779.35\t275.919\t19000  \n"
     ]
    },
    {
     "name": "stdout",
     "output_type": "stream",
     "text": [
      "regular 152806.923849 time diminishing\n",
      "26 1 0.1 : Best eta,cxpb,mutpb value?\n"
     ]
    },
    {
     "name": "stderr",
     "output_type": "stream",
     "text": [
      "INFO:__main__:40 \t39    \t1179.65\t1633.15\t275.919\t15005.9\n",
      "40 \t39    \t1179.65\t1633.15\t275.919\t15005.9\n"
     ]
    },
    {
     "name": "stdout",
     "output_type": "stream",
     "text": [
      "regular 71324.85021599999 time diminishing\n",
      "26 1 0.1 : Best eta,cxpb,mutpb value?\n"
     ]
    },
    {
     "name": "stderr",
     "output_type": "stream",
     "text": [
      "INFO:__main__:41 \t40    \t1850.2 \t1797.72\t275.919\t8969.19\n",
      "41 \t40    \t1850.2 \t1797.72\t275.919\t8969.19\n"
     ]
    },
    {
     "name": "stdout",
     "output_type": "stream",
     "text": [
      "regular 106977.487786 time diminishing\n",
      "26 1 0.1 : Best eta,cxpb,mutpb value?\n"
     ]
    },
    {
     "name": "stderr",
     "output_type": "stream",
     "text": [
      "INFO:__main__:42 \t37    \t2065.47\t3091.29\t275.919\t19000  \n",
      "42 \t37    \t2065.47\t3091.29\t275.919\t19000  \n"
     ]
    },
    {
     "name": "stdout",
     "output_type": "stream",
     "text": [
      "regular 123343.75010199999 time diminishing\n",
      "26 1 0.1 : Best eta,cxpb,mutpb value?\n"
     ]
    },
    {
     "name": "stderr",
     "output_type": "stream",
     "text": [
      "INFO:__main__:43 \t40    \t1724.7 \t2367.81\t275.919\t15025.5\n",
      "43 \t40    \t1724.7 \t2367.81\t275.919\t15025.5\n"
     ]
    },
    {
     "name": "stdout",
     "output_type": "stream",
     "text": [
      "regular 107611.42393700001 time diminishing\n",
      "26 1 0.1 : Best eta,cxpb,mutpb value?\n"
     ]
    },
    {
     "name": "stderr",
     "output_type": "stream",
     "text": [
      "INFO:__main__:44 \t36    \t1678.01\t2436.31\t275.919\t16924.4\n",
      "44 \t36    \t1678.01\t2436.31\t275.919\t16924.4\n"
     ]
    },
    {
     "name": "stdout",
     "output_type": "stream",
     "text": [
      "regular 102543.34362500001 time diminishing\n",
      "26 1 0.1 : Best eta,cxpb,mutpb value?\n"
     ]
    },
    {
     "name": "stderr",
     "output_type": "stream",
     "text": [
      "INFO:__main__:45 \t36    \t1538.57\t1968.56\t275.919\t14994.5\n",
      "45 \t36    \t1538.57\t1968.56\t275.919\t14994.5\n"
     ]
    },
    {
     "name": "stdout",
     "output_type": "stream",
     "text": [
      "regular 89172.08545 time diminishing\n",
      "26 1 0.1 : Best eta,cxpb,mutpb value?\n"
     ]
    },
    {
     "name": "stderr",
     "output_type": "stream",
     "text": [
      "INFO:__main__:46 \t33    \t1416.67\t374.309\t275.919\t2219.79\n",
      "46 \t33    \t1416.67\t374.309\t275.919\t2219.79\n"
     ]
    },
    {
     "name": "stdout",
     "output_type": "stream",
     "text": [
      "regular 62712.513279000006 time diminishing\n",
      "25 1 0.1 : Best eta,cxpb,mutpb value?\n"
     ]
    },
    {
     "name": "stderr",
     "output_type": "stream",
     "text": [
      "INFO:__main__:47 \t39    \t1772.6 \t2425.82\t275.919\t16924.4\n",
      "47 \t39    \t1772.6 \t2425.82\t275.919\t16924.4\n"
     ]
    },
    {
     "name": "stdout",
     "output_type": "stream",
     "text": [
      "regular 103125.240865 time diminishing\n",
      "25 1 0.1 : Best eta,cxpb,mutpb value?\n"
     ]
    },
    {
     "name": "stderr",
     "output_type": "stream",
     "text": [
      "INFO:__main__:48 \t38    \t1638.39\t1947.63\t275.919\t15019.4\n",
      "48 \t38    \t1638.39\t1947.63\t275.919\t15019.4\n"
     ]
    },
    {
     "name": "stdout",
     "output_type": "stream",
     "text": [
      "regular 96506.39911299999 time diminishing\n",
      "25 1 0.1 : Best eta,cxpb,mutpb value?\n"
     ]
    },
    {
     "name": "stderr",
     "output_type": "stream",
     "text": [
      "INFO:__main__:49 \t33    \t1979.17\t2787.12\t275.919\t19000  \n",
      "49 \t33    \t1979.17\t2787.12\t275.919\t19000  \n"
     ]
    },
    {
     "name": "stdout",
     "output_type": "stream",
     "text": [
      "regular 117185.183616 time diminishing\n",
      "25 1 0.1 : Best eta,cxpb,mutpb value?\n"
     ]
    },
    {
     "name": "stderr",
     "output_type": "stream",
     "text": [
      "INFO:__main__:50 \t36    \t1598.9 \t2990.63\t275.919\t19000  \n",
      "50 \t36    \t1598.9 \t2990.63\t275.919\t19000  \n"
     ]
    },
    {
     "name": "stdout",
     "output_type": "stream",
     "text": [
      "regular 99018.914976 time diminishing\n",
      "25 1 0.1 : Best eta,cxpb,mutpb value?\n"
     ]
    },
    {
     "name": "stderr",
     "output_type": "stream",
     "text": [
      "INFO:__main__:51 \t32    \t1446.36\t2856.23\t275.919\t19000  \n",
      "51 \t32    \t1446.36\t2856.23\t275.919\t19000  \n"
     ]
    },
    {
     "name": "stdout",
     "output_type": "stream",
     "text": [
      "regular 89092.80984900001 time diminishing\n",
      "25 1 0.1 : Best eta,cxpb,mutpb value?\n"
     ]
    },
    {
     "name": "stderr",
     "output_type": "stream",
     "text": [
      "INFO:__main__:52 \t35    \t1667.15\t3094.82\t275.919\t16924.4\n",
      "52 \t35    \t1667.15\t3094.82\t275.919\t16924.4\n"
     ]
    },
    {
     "name": "stdout",
     "output_type": "stream",
     "text": [
      "regular 117610.11626500002 time diminishing\n",
      "25 1 0.1 : Best eta,cxpb,mutpb value?\n"
     ]
    },
    {
     "name": "stderr",
     "output_type": "stream",
     "text": [
      "INFO:__main__:53 \t38    \t1391.1 \t1726.34\t275.919\t15032.3\n",
      "53 \t38    \t1391.1 \t1726.34\t275.919\t15032.3\n"
     ]
    },
    {
     "name": "stdout",
     "output_type": "stream",
     "text": [
      "regular 77624.55885 time diminishing\n",
      "25 1 0.1 : Best eta,cxpb,mutpb value?\n"
     ]
    },
    {
     "name": "stderr",
     "output_type": "stream",
     "text": [
      "INFO:__main__:54 \t38    \t1524.58\t1139.64\t275.919\t7368.13\n",
      "54 \t38    \t1524.58\t1139.64\t275.919\t7368.13\n"
     ]
    },
    {
     "name": "stdout",
     "output_type": "stream",
     "text": [
      "regular 82411.297991 time diminishing\n",
      "25 1 0.1 : Best eta,cxpb,mutpb value?\n"
     ]
    },
    {
     "name": "stderr",
     "output_type": "stream",
     "text": [
      "INFO:__main__:55 \t38    \t1889.03\t2481.22\t275.919\t16924.3\n",
      "55 \t38    \t1889.03\t2481.22\t275.919\t16924.3\n"
     ]
    },
    {
     "name": "stdout",
     "output_type": "stream",
     "text": [
      "regular 106788.42897800001 time diminishing\n",
      "25 1 0.1 : Best eta,cxpb,mutpb value?\n"
     ]
    },
    {
     "name": "stderr",
     "output_type": "stream",
     "text": [
      "INFO:__main__:56 \t32    \t1553.46\t1819.21\t275.919\t16924.3\n",
      "56 \t32    \t1553.46\t1819.21\t275.919\t16924.3\n"
     ]
    },
    {
     "name": "stdout",
     "output_type": "stream",
     "text": [
      "regular 80890.59469700001 time diminishing\n",
      "25 1 0.1 : Best eta,cxpb,mutpb value?\n"
     ]
    },
    {
     "name": "stderr",
     "output_type": "stream",
     "text": [
      "INFO:__main__:57 \t38    \t1743.15\t1816.18\t275.919\t15016.5\n",
      "57 \t38    \t1743.15\t1816.18\t275.919\t15016.5\n"
     ]
    },
    {
     "name": "stdout",
     "output_type": "stream",
     "text": [
      "regular 89579.85446 time diminishing\n",
      "25 1 0.1 : Best eta,cxpb,mutpb value?\n"
     ]
    },
    {
     "name": "stderr",
     "output_type": "stream",
     "text": [
      "INFO:__main__:58 \t36    \t1831.4 \t2322.2 \t275.919\t16924.4\n",
      "58 \t36    \t1831.4 \t2322.2 \t275.919\t16924.4\n"
     ]
    },
    {
     "name": "stdout",
     "output_type": "stream",
     "text": [
      "regular 97176.80492 time diminishing\n",
      "24 1 0.1 : Best eta,cxpb,mutpb value?\n"
     ]
    },
    {
     "name": "stderr",
     "output_type": "stream",
     "text": [
      "INFO:__main__:59 \t34    \t1356.51\t612.795\t275.919\t4644.63\n",
      "59 \t34    \t1356.51\t612.795\t275.919\t4644.63\n"
     ]
    },
    {
     "name": "stdout",
     "output_type": "stream",
     "text": [
      "regular 63715.44025299999 time diminishing\n",
      "24 1 0.1 : Best eta,cxpb,mutpb value?\n"
     ]
    },
    {
     "name": "stderr",
     "output_type": "stream",
     "text": [
      "INFO:__main__:60 \t36    \t1885.58\t2247.56\t275.919\t15010  \n",
      "60 \t36    \t1885.58\t2247.56\t275.919\t15010  \n"
     ]
    },
    {
     "name": "stdout",
     "output_type": "stream",
     "text": [
      "regular 97606.58961 time diminishing\n",
      "24 1 0.1 : Best eta,cxpb,mutpb value?\n"
     ]
    },
    {
     "name": "stderr",
     "output_type": "stream",
     "text": [
      "INFO:__main__:61 \t34    \t1693.99\t1759.54\t275.919\t14986.3\n",
      "61 \t34    \t1693.99\t1759.54\t275.919\t14986.3\n"
     ]
    },
    {
     "name": "stdout",
     "output_type": "stream",
     "text": [
      "regular 88504.958464 time diminishing\n",
      "24 1 0.1 : Best eta,cxpb,mutpb value?\n"
     ]
    },
    {
     "name": "stderr",
     "output_type": "stream",
     "text": [
      "INFO:__main__:62 \t37    \t1814.12\t2574.12\t275.919\t14974.6\n",
      "62 \t37    \t1814.12\t2574.12\t275.919\t14974.6\n"
     ]
    },
    {
     "name": "stdout",
     "output_type": "stream",
     "text": [
      "regular 104944.781774 time diminishing\n",
      "24 1 0.1 : Best eta,cxpb,mutpb value?\n"
     ]
    },
    {
     "name": "stderr",
     "output_type": "stream",
     "text": [
      "INFO:__main__:63 \t36    \t1744.34\t2287.53\t275.919\t14984.4\n",
      "63 \t36    \t1744.34\t2287.53\t275.919\t14984.4\n"
     ]
    },
    {
     "name": "stdout",
     "output_type": "stream",
     "text": [
      "regular 94904.278592 time diminishing\n",
      "24 1 0.1 : Best eta,cxpb,mutpb value?\n"
     ]
    },
    {
     "name": "stderr",
     "output_type": "stream",
     "text": [
      "INFO:__main__:64 \t35    \t2095.72\t3336.29\t275.919\t19000  \n",
      "64 \t35    \t2095.72\t3336.29\t275.919\t19000  \n"
     ]
    },
    {
     "name": "stdout",
     "output_type": "stream",
     "text": [
      "regular 131860.219258 time diminishing\n",
      "24 1 0.1 : Best eta,cxpb,mutpb value?\n"
     ]
    },
    {
     "name": "stderr",
     "output_type": "stream",
     "text": [
      "INFO:__main__:65 \t33    \t1101.87\t1630.45\t275.919\t15032.3\n",
      "65 \t33    \t1101.87\t1630.45\t275.919\t15032.3\n"
     ]
    },
    {
     "name": "stdout",
     "output_type": "stream",
     "text": [
      "regular 62419.457752999995 time diminishing\n",
      "24 1 0.1 : Best eta,cxpb,mutpb value?\n"
     ]
    },
    {
     "name": "stderr",
     "output_type": "stream",
     "text": [
      "INFO:__main__:66 \t34    \t1394.22\t1627.52\t275.919\t14971.9\n",
      "66 \t34    \t1394.22\t1627.52\t275.919\t14971.9\n"
     ]
    },
    {
     "name": "stdout",
     "output_type": "stream",
     "text": [
      "regular 72091.081564 time diminishing\n",
      "24 1 0.1 : Best eta,cxpb,mutpb value?\n"
     ]
    },
    {
     "name": "stderr",
     "output_type": "stream",
     "text": [
      "INFO:__main__:67 \t37    \t1510.58\t1687.13\t275.919\t14978.9\n",
      "67 \t37    \t1510.58\t1687.13\t275.919\t14978.9\n"
     ]
    },
    {
     "name": "stdout",
     "output_type": "stream",
     "text": [
      "regular 77353.810598 time diminishing\n",
      "24 1 0.1 : Best eta,cxpb,mutpb value?\n"
     ]
    },
    {
     "name": "stderr",
     "output_type": "stream",
     "text": [
      "INFO:__main__:68 \t35    \t1659.51\t2441.75\t275.919\t14959.1\n",
      "68 \t35    \t1659.51\t2441.75\t275.919\t14959.1\n"
     ]
    },
    {
     "name": "stdout",
     "output_type": "stream",
     "text": [
      "regular 101740.07073899999 time diminishing\n",
      "24 1 0.1 : Best eta,cxpb,mutpb value?\n"
     ]
    },
    {
     "name": "stderr",
     "output_type": "stream",
     "text": [
      "INFO:__main__:69 \t38    \t1413.69\t1801.84\t275.919\t16924.3\n",
      "69 \t38    \t1413.69\t1801.84\t275.919\t16924.3\n"
     ]
    },
    {
     "name": "stdout",
     "output_type": "stream",
     "text": [
      "regular 74754.635232 time diminishing\n",
      "24 1 0.1 : Best eta,cxpb,mutpb value?\n"
     ]
    },
    {
     "name": "stderr",
     "output_type": "stream",
     "text": [
      "INFO:__main__:70 \t35    \t1298.9 \t1796.2 \t275.919\t14978.9\n",
      "70 \t35    \t1298.9 \t1796.2 \t275.919\t14978.9\n"
     ]
    },
    {
     "name": "stdout",
     "output_type": "stream",
     "text": [
      "regular 77166.431534 time diminishing\n",
      "23 1 0.1 : Best eta,cxpb,mutpb value?\n"
     ]
    },
    {
     "name": "stderr",
     "output_type": "stream",
     "text": [
      "INFO:__main__:71 \t39    \t1350.7 \t834.824\t275.919\t6798.48\n",
      "71 \t39    \t1350.7 \t834.824\t275.919\t6798.48\n"
     ]
    },
    {
     "name": "stdout",
     "output_type": "stream",
     "text": [
      "regular 68922.759115 time diminishing\n",
      "23 1 0.1 : Best eta,cxpb,mutpb value?\n"
     ]
    },
    {
     "name": "stderr",
     "output_type": "stream",
     "text": [
      "INFO:__main__:72 \t32    \t1361.55\t2143.44\t275.919\t14952.6\n",
      "72 \t32    \t1361.55\t2143.44\t275.919\t14952.6\n"
     ]
    },
    {
     "name": "stdout",
     "output_type": "stream",
     "text": [
      "regular 73743.862471 time diminishing\n",
      "23 1 0.1 : Best eta,cxpb,mutpb value?\n"
     ]
    },
    {
     "name": "stderr",
     "output_type": "stream",
     "text": [
      "INFO:__main__:73 \t36    \t1163.94\t595.844\t275.919\t4880.67\n",
      "73 \t36    \t1163.94\t595.844\t275.919\t4880.67\n"
     ]
    },
    {
     "name": "stdout",
     "output_type": "stream",
     "text": [
      "regular 57001.662786999994 time diminishing\n",
      "23 1 0.1 : Best eta,cxpb,mutpb value?\n"
     ]
    },
    {
     "name": "stderr",
     "output_type": "stream",
     "text": [
      "INFO:__main__:74 \t35    \t1810.39\t2705.55\t275.919\t14968.6\n",
      "74 \t35    \t1810.39\t2705.55\t275.919\t14968.6\n"
     ]
    },
    {
     "name": "stdout",
     "output_type": "stream",
     "text": [
      "regular 108592.19763700002 time diminishing\n",
      "23 1 0.1 : Best eta,cxpb,mutpb value?\n"
     ]
    },
    {
     "name": "stderr",
     "output_type": "stream",
     "text": [
      "INFO:__main__:75 \t33    \t1675.99\t2703.57\t275.919\t19000  \n",
      "75 \t33    \t1675.99\t2703.57\t275.919\t19000  \n"
     ]
    },
    {
     "name": "stdout",
     "output_type": "stream",
     "text": [
      "regular 100646.915885 time diminishing\n",
      "23 1 0.1 : Best eta,cxpb,mutpb value?\n"
     ]
    },
    {
     "name": "stderr",
     "output_type": "stream",
     "text": [
      "INFO:__main__:76 \t31    \t1330.96\t1941.97\t275.919\t14955.5\n",
      "76 \t31    \t1330.96\t1941.97\t275.919\t14955.5\n"
     ]
    },
    {
     "name": "stdout",
     "output_type": "stream",
     "text": [
      "regular 81122.281815 time diminishing\n",
      "23 1 0.1 : Best eta,cxpb,mutpb value?\n"
     ]
    },
    {
     "name": "stderr",
     "output_type": "stream",
     "text": [
      "INFO:__main__:77 \t39    \t1798.14\t2722.93\t275.919\t14979.9\n",
      "77 \t39    \t1798.14\t2722.93\t275.919\t14979.9\n"
     ]
    },
    {
     "name": "stdout",
     "output_type": "stream",
     "text": [
      "regular 114970.54484500001 time diminishing\n",
      "23 1 0.1 : Best eta,cxpb,mutpb value?\n"
     ]
    },
    {
     "name": "stderr",
     "output_type": "stream",
     "text": [
      "INFO:__main__:78 \t35    \t2096.79\t3342.59\t275.919\t14975.3\n",
      "78 \t35    \t2096.79\t3342.59\t275.919\t14975.3\n"
     ]
    },
    {
     "name": "stdout",
     "output_type": "stream",
     "text": [
      "regular 136699.65784 time diminishing\n",
      "23 1 0.1 : Best eta,cxpb,mutpb value?\n"
     ]
    },
    {
     "name": "stderr",
     "output_type": "stream",
     "text": [
      "INFO:__main__:79 \t37    \t2328.32\t3766.33\t275.919\t16924.4\n",
      "79 \t37    \t2328.32\t3766.33\t275.919\t16924.4\n"
     ]
    },
    {
     "name": "stdout",
     "output_type": "stream",
     "text": [
      "regular 157726.52795000002 time diminishing\n",
      "23 1 0.1 : Best eta,cxpb,mutpb value?\n"
     ]
    },
    {
     "name": "stderr",
     "output_type": "stream",
     "text": [
      "INFO:__main__:80 \t32    \t1828.91\t3416.29\t275.919\t19000  \n",
      "80 \t32    \t1828.91\t3416.29\t275.919\t19000  \n"
     ]
    },
    {
     "name": "stdout",
     "output_type": "stream",
     "text": [
      "regular 123650.057402 time diminishing\n",
      "23 1 0.1 : Best eta,cxpb,mutpb value?\n"
     ]
    },
    {
     "name": "stderr",
     "output_type": "stream",
     "text": [
      "INFO:__main__:81 \t36    \t1285.25\t2868.18\t275.919\t16924.3\n",
      "81 \t36    \t1285.25\t2868.18\t275.919\t16924.3\n"
     ]
    },
    {
     "name": "stdout",
     "output_type": "stream",
     "text": [
      "regular 92061.616128 time diminishing\n",
      "22 1 0.1 : Best eta,cxpb,mutpb value?\n"
     ]
    },
    {
     "name": "stderr",
     "output_type": "stream",
     "text": [
      "INFO:__main__:82 \t41    \t1120.74\t1225.61\t275.919\t10138.2\n",
      "82 \t41    \t1120.74\t1225.61\t275.919\t10138.2\n"
     ]
    },
    {
     "name": "stdout",
     "output_type": "stream",
     "text": [
      "regular 63245.333515 time diminishing\n",
      "22 1 0.1 : Best eta,cxpb,mutpb value?\n"
     ]
    },
    {
     "name": "stderr",
     "output_type": "stream",
     "text": [
      "INFO:__main__:83 \t36    \t1407.85\t1825.04\t275.919\t14940.5\n",
      "83 \t36    \t1407.85\t1825.04\t275.919\t14940.5\n"
     ]
    },
    {
     "name": "stdout",
     "output_type": "stream",
     "text": [
      "regular 81581.66041000001 time diminishing\n",
      "22 1 0.1 : Best eta,cxpb,mutpb value?\n"
     ]
    },
    {
     "name": "stderr",
     "output_type": "stream",
     "text": [
      "INFO:__main__:84 \t37    \t1502.4 \t2168.1 \t275.919\t19000  \n",
      "84 \t37    \t1502.4 \t2168.1 \t275.919\t19000  \n"
     ]
    },
    {
     "name": "stdout",
     "output_type": "stream",
     "text": [
      "regular 87844.31529000001 time diminishing\n",
      "22 1 0.1 : Best eta,cxpb,mutpb value?\n"
     ]
    },
    {
     "name": "stderr",
     "output_type": "stream",
     "text": [
      "INFO:__main__:85 \t38    \t1502.26\t2596.02\t275.919\t15025.5\n",
      "85 \t38    \t1502.26\t2596.02\t275.919\t15025.5\n"
     ]
    },
    {
     "name": "stdout",
     "output_type": "stream",
     "text": [
      "regular 104673.80321499999 time diminishing\n",
      "22 1 0.1 : Best eta,cxpb,mutpb value?\n"
     ]
    },
    {
     "name": "stderr",
     "output_type": "stream",
     "text": [
      "INFO:__main__:86 \t38    \t1993.65\t3166.49\t275.919\t16924.4\n",
      "86 \t38    \t1993.65\t3166.49\t275.919\t16924.4\n"
     ]
    },
    {
     "name": "stdout",
     "output_type": "stream",
     "text": [
      "regular 128169.781744 time diminishing\n",
      "22 1 0.1 : Best eta,cxpb,mutpb value?\n"
     ]
    },
    {
     "name": "stderr",
     "output_type": "stream",
     "text": [
      "INFO:__main__:87 \t35    \t1455.85\t1012.66\t275.919\t9900.94\n",
      "87 \t35    \t1455.85\t1012.66\t275.919\t9900.94\n"
     ]
    },
    {
     "name": "stdout",
     "output_type": "stream",
     "text": [
      "regular 69576.709955 time diminishing\n",
      "22 1 0.1 : Best eta,cxpb,mutpb value?\n"
     ]
    },
    {
     "name": "stderr",
     "output_type": "stream",
     "text": [
      "INFO:__main__:88 \t38    \t1582.41\t2212.95\t275.919\t15010  \n",
      "88 \t38    \t1582.41\t2212.95\t275.919\t15010  \n"
     ]
    },
    {
     "name": "stdout",
     "output_type": "stream",
     "text": [
      "regular 90944.30101999998 time diminishing\n",
      "22 1 0.1 : Best eta,cxpb,mutpb value?\n"
     ]
    },
    {
     "name": "stderr",
     "output_type": "stream",
     "text": [
      "INFO:__main__:89 \t31    \t1474.83\t2138.96\t275.919\t14941.9\n",
      "89 \t31    \t1474.83\t2138.96\t275.919\t14941.9\n"
     ]
    },
    {
     "name": "stdout",
     "output_type": "stream",
     "text": [
      "regular 79330.53792 time diminishing\n",
      "22 1 0.1 : Best eta,cxpb,mutpb value?\n"
     ]
    },
    {
     "name": "stderr",
     "output_type": "stream",
     "text": [
      "INFO:__main__:90 \t29    \t1465.72\t1801.81\t275.919\t14973.6\n",
      "90 \t29    \t1465.72\t1801.81\t275.919\t14973.6\n"
     ]
    },
    {
     "name": "stdout",
     "output_type": "stream",
     "text": [
      "regular 76960.989197 time diminishing\n",
      "22 1 0.1 : Best eta,cxpb,mutpb value?\n"
     ]
    },
    {
     "name": "stderr",
     "output_type": "stream",
     "text": [
      "INFO:__main__:91 \t33    \t1658.38\t2266.08\t275.919\t14978.1\n",
      "91 \t33    \t1658.38\t2266.08\t275.919\t14978.1\n"
     ]
    },
    {
     "name": "stdout",
     "output_type": "stream",
     "text": [
      "regular 91314.74996 time diminishing\n",
      "22 1 0.1 : Best eta,cxpb,mutpb value?\n"
     ]
    },
    {
     "name": "stderr",
     "output_type": "stream",
     "text": [
      "INFO:__main__:92 \t33    \t2049.53\t3147.34\t275.919\t14952.6\n",
      "92 \t33    \t2049.53\t3147.34\t275.919\t14952.6\n"
     ]
    },
    {
     "name": "stdout",
     "output_type": "stream",
     "text": [
      "regular 131616.809565 time diminishing\n",
      "22 1 0.1 : Best eta,cxpb,mutpb value?\n"
     ]
    },
    {
     "name": "stderr",
     "output_type": "stream",
     "text": [
      "INFO:__main__:93 \t37    \t2092.19\t3381.16\t275.919\t16924.3\n",
      "93 \t37    \t2092.19\t3381.16\t275.919\t16924.3\n"
     ]
    },
    {
     "name": "stdout",
     "output_type": "stream",
     "text": [
      "regular 136938.949725 time diminishing\n",
      "21 1 0.1 : Best eta,cxpb,mutpb value?\n"
     ]
    },
    {
     "name": "stderr",
     "output_type": "stream",
     "text": [
      "INFO:__main__:94 \t24    \t1563.03\t2800.98\t275.919\t15019.4\n",
      "94 \t24    \t1563.03\t2800.98\t275.919\t15019.4\n"
     ]
    },
    {
     "name": "stdout",
     "output_type": "stream",
     "text": [
      "regular 100931.39199199999 time diminishing\n",
      "21 1 0.1 : Best eta,cxpb,mutpb value?\n"
     ]
    },
    {
     "name": "stderr",
     "output_type": "stream",
     "text": [
      "INFO:__main__:95 \t34    \t1442.61\t1618.54\t275.919\t14939.2\n",
      "95 \t34    \t1442.61\t1618.54\t275.919\t14939.2\n"
     ]
    },
    {
     "name": "stdout",
     "output_type": "stream",
     "text": [
      "regular 74533.00359499999 time diminishing\n",
      "21 1 0.1 : Best eta,cxpb,mutpb value?\n"
     ]
    },
    {
     "name": "stderr",
     "output_type": "stream",
     "text": [
      "INFO:__main__:96 \t36    \t1451.77\t1714.77\t275.919\t14960.6\n",
      "96 \t36    \t1451.77\t1714.77\t275.919\t14960.6\n"
     ]
    },
    {
     "name": "stdout",
     "output_type": "stream",
     "text": [
      "regular 77639.64143799999 time diminishing\n",
      "21 1 0.1 : Best eta,cxpb,mutpb value?\n"
     ]
    },
    {
     "name": "stderr",
     "output_type": "stream",
     "text": [
      "INFO:__main__:97 \t40    \t1788.59\t2089.39\t275.919\t14968.6\n",
      "97 \t40    \t1788.59\t2089.39\t275.919\t14968.6\n"
     ]
    },
    {
     "name": "stdout",
     "output_type": "stream",
     "text": [
      "regular 107722.326292 time diminishing\n",
      "21 1 0.1 : Best eta,cxpb,mutpb value?\n"
     ]
    },
    {
     "name": "stderr",
     "output_type": "stream",
     "text": [
      "INFO:__main__:98 \t31    \t1519.3 \t2112.46\t275.919\t14952.6\n",
      "98 \t31    \t1519.3 \t2112.46\t275.919\t14952.6\n"
     ]
    },
    {
     "name": "stdout",
     "output_type": "stream",
     "text": [
      "regular 81472.227585 time diminishing\n",
      "21 1 0.1 : Best eta,cxpb,mutpb value?\n"
     ]
    },
    {
     "name": "stderr",
     "output_type": "stream",
     "text": [
      "INFO:__main__:99 \t26    \t1690.29\t2585.55\t275.919\t14940  \n",
      "99 \t26    \t1690.29\t2585.55\t275.919\t14940  \n"
     ]
    },
    {
     "name": "stdout",
     "output_type": "stream",
     "text": [
      "regular 97324.467928 time diminishing\n",
      "21 1 0.1 : Best eta,cxpb,mutpb value?\n"
     ]
    },
    {
     "name": "stderr",
     "output_type": "stream",
     "text": [
      "INFO:__main__:100\t24    \t1094.7 \t871.008\t275.919\t6604.98\n",
      "100\t24    \t1094.7 \t871.008\t275.919\t6604.98\n"
     ]
    },
    {
     "name": "stdout",
     "output_type": "stream",
     "text": [
      "regular 54448.735535 time diminishing\n",
      "21 1 0.1 : Best eta,cxpb,mutpb value?\n"
     ]
    },
    {
     "name": "stderr",
     "output_type": "stream",
     "text": [
      "INFO:__main__:101\t32    \t2162.21\t3468.79\t275.919\t19000  \n",
      "101\t32    \t2162.21\t3468.79\t275.919\t19000  \n"
     ]
    },
    {
     "name": "stdout",
     "output_type": "stream",
     "text": [
      "regular 135954.635108 time diminishing\n",
      "21 1 0.1 : Best eta,cxpb,mutpb value?\n"
     ]
    },
    {
     "name": "stderr",
     "output_type": "stream",
     "text": [
      "INFO:__main__:102\t27    \t1769.1 \t2722.74\t275.919\t19000  \n",
      "102\t27    \t1769.1 \t2722.74\t275.919\t19000  \n"
     ]
    },
    {
     "name": "stdout",
     "output_type": "stream",
     "text": [
      "regular 107927.307132 time diminishing\n",
      "21 1 0.1 : Best eta,cxpb,mutpb value?\n"
     ]
    },
    {
     "name": "stderr",
     "output_type": "stream",
     "text": [
      "INFO:__main__:103\t30    \t1756.38\t3310.37\t275.919\t19000  \n",
      "103\t30    \t1756.38\t3310.37\t275.919\t19000  \n"
     ]
    },
    {
     "name": "stdout",
     "output_type": "stream",
     "text": [
      "regular 118171.61040199999 time diminishing\n",
      "21 1 0.1 : Best eta,cxpb,mutpb value?\n"
     ]
    },
    {
     "name": "stderr",
     "output_type": "stream",
     "text": [
      "INFO:__main__:104\t35    \t1184.47\t1174.64\t275.919\t8900.25\n",
      "104\t35    \t1184.47\t1174.64\t275.919\t8900.25\n"
     ]
    },
    {
     "name": "stdout",
     "output_type": "stream",
     "text": [
      "regular 68846.60108 time diminishing\n",
      "21 1 0.1 : Best eta,cxpb,mutpb value?\n"
     ]
    },
    {
     "name": "stderr",
     "output_type": "stream",
     "text": [
      "INFO:__main__:105\t31    \t1494.32\t883.29 \t275.919\t6430.73\n",
      "105\t31    \t1494.32\t883.29 \t275.919\t6430.73\n"
     ]
    },
    {
     "name": "stdout",
     "output_type": "stream",
     "text": [
      "regular 72057.61907100001 time diminishing\n",
      "20 1 0.1 : Best eta,cxpb,mutpb value?\n"
     ]
    },
    {
     "name": "stderr",
     "output_type": "stream",
     "text": [
      "INFO:__main__:106\t31    \t1343.02\t1032.78\t275.919\t8641.76\n",
      "106\t31    \t1343.02\t1032.78\t275.919\t8641.76\n"
     ]
    },
    {
     "name": "stdout",
     "output_type": "stream",
     "text": [
      "regular 67737.520175 time diminishing\n",
      "20 1 0.1 : Best eta,cxpb,mutpb value?\n"
     ]
    },
    {
     "name": "stderr",
     "output_type": "stream",
     "text": [
      "INFO:__main__:107\t36    \t1794.76\t2261.99\t275.919\t14978.1\n",
      "107\t36    \t1794.76\t2261.99\t275.919\t14978.1\n"
     ]
    },
    {
     "name": "stdout",
     "output_type": "stream",
     "text": [
      "regular 102653.23641499999 time diminishing\n",
      "20 1 0.1 : Best eta,cxpb,mutpb value?\n"
     ]
    },
    {
     "name": "stderr",
     "output_type": "stream",
     "text": [
      "INFO:__main__:108\t35    \t2519.52\t3964.42\t275.919\t19000  \n",
      "108\t35    \t2519.52\t3964.42\t275.919\t19000  \n"
     ]
    },
    {
     "name": "stdout",
     "output_type": "stream",
     "text": [
      "regular 161824.008676 time diminishing\n",
      "20 1 0.1 : Best eta,cxpb,mutpb value?\n"
     ]
    },
    {
     "name": "stderr",
     "output_type": "stream",
     "text": [
      "INFO:__main__:109\t29    \t1481.28\t1703.05\t275.919\t14953.2\n",
      "109\t29    \t1481.28\t1703.05\t275.919\t14953.2\n"
     ]
    },
    {
     "name": "stdout",
     "output_type": "stream",
     "text": [
      "regular 80247.54454999999 time diminishing\n",
      "20 1 0.1 : Best eta,cxpb,mutpb value?\n"
     ]
    },
    {
     "name": "stderr",
     "output_type": "stream",
     "text": [
      "INFO:__main__:110\t35    \t1574.23\t2258.65\t275.919\t14968.6\n",
      "110\t35    \t1574.23\t2258.65\t275.919\t14968.6\n"
     ]
    },
    {
     "name": "stdout",
     "output_type": "stream",
     "text": [
      "regular 92248.741984 time diminishing\n",
      "20 1 0.1 : Best eta,cxpb,mutpb value?\n"
     ]
    },
    {
     "name": "stderr",
     "output_type": "stream",
     "text": [
      "INFO:__main__:111\t35    \t1557.22\t1730.12\t275.919\t14955.5\n",
      "111\t35    \t1557.22\t1730.12\t275.919\t14955.5\n"
     ]
    },
    {
     "name": "stdout",
     "output_type": "stream",
     "text": [
      "regular 84170.407875 time diminishing\n",
      "20 1 0.1 : Best eta,cxpb,mutpb value?\n"
     ]
    },
    {
     "name": "stderr",
     "output_type": "stream",
     "text": [
      "INFO:__main__:112\t35    \t1822.97\t2367.01\t275.919\t14946  \n",
      "112\t35    \t1822.97\t2367.01\t275.919\t14946  \n"
     ]
    },
    {
     "name": "stdout",
     "output_type": "stream",
     "text": [
      "regular 108519.8055 time diminishing\n",
      "20 1 0.1 : Best eta,cxpb,mutpb value?\n"
     ]
    },
    {
     "name": "stderr",
     "output_type": "stream",
     "text": [
      "INFO:__main__:113\t36    \t1983.41\t3203.68\t275.919\t19000  \n",
      "113\t36    \t1983.41\t3203.68\t275.919\t19000  \n"
     ]
    },
    {
     "name": "stdout",
     "output_type": "stream",
     "text": [
      "regular 116736.91141500001 time diminishing\n",
      "20 1 0.1 : Best eta,cxpb,mutpb value?\n"
     ]
    },
    {
     "name": "stderr",
     "output_type": "stream",
     "text": [
      "INFO:__main__:114\t29    \t1586.36\t2690.09\t275.919\t19000  \n",
      "114\t29    \t1586.36\t2690.09\t275.919\t19000  \n"
     ]
    },
    {
     "name": "stdout",
     "output_type": "stream",
     "text": [
      "regular 96731.419443 time diminishing\n",
      "20 1 0.1 : Best eta,cxpb,mutpb value?\n"
     ]
    },
    {
     "name": "stderr",
     "output_type": "stream",
     "text": [
      "INFO:__main__:115\t26    \t1164.55\t1997.31\t275.919\t16924.3\n",
      "115\t26    \t1164.55\t1997.31\t275.919\t16924.3\n"
     ]
    },
    {
     "name": "stdout",
     "output_type": "stream",
     "text": [
      "regular 70363.558259 time diminishing\n",
      "20 1 0.1 : Best eta,cxpb,mutpb value?\n"
     ]
    },
    {
     "name": "stderr",
     "output_type": "stream",
     "text": [
      "INFO:__main__:116\t27    \t1264.79\t1827.89\t275.919\t16924.4\n",
      "116\t27    \t1264.79\t1827.89\t275.919\t16924.4\n"
     ]
    },
    {
     "name": "stdout",
     "output_type": "stream",
     "text": [
      "regular 70603.29871199999 time diminishing\n",
      "19 1 0.1 : Best eta,cxpb,mutpb value?\n"
     ]
    },
    {
     "name": "stderr",
     "output_type": "stream",
     "text": [
      "INFO:__main__:117\t32    \t1250.65\t1554.65\t275.919\t14933.3\n",
      "117\t32    \t1250.65\t1554.65\t275.919\t14933.3\n"
     ]
    },
    {
     "name": "stdout",
     "output_type": "stream",
     "text": [
      "regular 65695.452769 time diminishing\n",
      "19 1 0.1 : Best eta,cxpb,mutpb value?\n"
     ]
    },
    {
     "name": "stderr",
     "output_type": "stream",
     "text": [
      "INFO:__main__:118\t31    \t2346.55\t3962.11\t275.919\t19000  \n",
      "118\t31    \t2346.55\t3962.11\t275.919\t19000  \n"
     ]
    },
    {
     "name": "stdout",
     "output_type": "stream",
     "text": [
      "regular 151707.90869 time diminishing\n",
      "19 1 0.1 : Best eta,cxpb,mutpb value?\n"
     ]
    },
    {
     "name": "stderr",
     "output_type": "stream",
     "text": [
      "INFO:__main__:119\t26    \t1750.1 \t3053.84\t275.919\t19000  \n",
      "119\t26    \t1750.1 \t3053.84\t275.919\t19000  \n"
     ]
    },
    {
     "name": "stdout",
     "output_type": "stream",
     "text": [
      "regular 109718.30519 time diminishing\n",
      "19 1 0.1 : Best eta,cxpb,mutpb value?\n"
     ]
    },
    {
     "name": "stderr",
     "output_type": "stream",
     "text": [
      "INFO:__main__:120\t28    \t1416.39\t2443.46\t275.919\t14940.5\n",
      "120\t28    \t1416.39\t2443.46\t275.919\t14940.5\n"
     ]
    },
    {
     "name": "stdout",
     "output_type": "stream",
     "text": [
      "regular 91086.32145799999 time diminishing\n",
      "19 1 0.1 : Best eta,cxpb,mutpb value?\n"
     ]
    },
    {
     "name": "stderr",
     "output_type": "stream",
     "text": [
      "INFO:__main__:121\t27    \t1501.91\t2168.84\t275.919\t14939.2\n",
      "121\t27    \t1501.91\t2168.84\t275.919\t14939.2\n"
     ]
    },
    {
     "name": "stdout",
     "output_type": "stream",
     "text": [
      "regular 84429.88674 time diminishing\n",
      "19 1 0.1 : Best eta,cxpb,mutpb value?\n"
     ]
    },
    {
     "name": "stderr",
     "output_type": "stream",
     "text": [
      "INFO:__main__:122\t33    \t1384.22\t1834.24\t275.919\t16924.3\n",
      "122\t33    \t1384.22\t1834.24\t275.919\t16924.3\n"
     ]
    },
    {
     "name": "stdout",
     "output_type": "stream",
     "text": [
      "regular 76617.36952899999 time diminishing\n",
      "19 1 0.1 : Best eta,cxpb,mutpb value?\n"
     ]
    },
    {
     "name": "stderr",
     "output_type": "stream",
     "text": [
      "INFO:__main__:123\t31    \t1407.54\t1988.6 \t275.919\t16924.3\n",
      "123\t31    \t1407.54\t1988.6 \t275.919\t16924.3\n"
     ]
    },
    {
     "name": "stdout",
     "output_type": "stream",
     "text": [
      "regular 82975.502881 time diminishing\n",
      "19 1 0.1 : Best eta,cxpb,mutpb value?\n"
     ]
    },
    {
     "name": "stderr",
     "output_type": "stream",
     "text": [
      "INFO:__main__:124\t30    \t2580.72\t4166.14\t275.919\t19000  \n",
      "124\t30    \t2580.72\t4166.14\t275.919\t19000  \n"
     ]
    },
    {
     "name": "stdout",
     "output_type": "stream",
     "text": [
      "regular 171737.01664500003 time diminishing\n",
      "19 1 0.1 : Best eta,cxpb,mutpb value?\n"
     ]
    },
    {
     "name": "stderr",
     "output_type": "stream",
     "text": [
      "INFO:__main__:125\t27    \t983.791\t865.902\t275.919\t6954.07\n",
      "125\t27    \t983.791\t865.902\t275.919\t6954.07\n"
     ]
    },
    {
     "name": "stdout",
     "output_type": "stream",
     "text": [
      "regular 51658.89166 time diminishing\n",
      "19 1 0.1 : Best eta,cxpb,mutpb value?\n"
     ]
    },
    {
     "name": "stderr",
     "output_type": "stream",
     "text": [
      "INFO:__main__:126\t31    \t1457.71\t1579.63\t275.919\t14943.2\n",
      "126\t31    \t1457.71\t1579.63\t275.919\t14943.2\n"
     ]
    },
    {
     "name": "stdout",
     "output_type": "stream",
     "text": [
      "regular 75227.71276000001 time diminishing\n",
      "19 1 0.1 : Best eta,cxpb,mutpb value?\n"
     ]
    },
    {
     "name": "stderr",
     "output_type": "stream",
     "text": [
      "INFO:__main__:127\t32    \t1452.34\t1152.2 \t275.919\t5938.03\n",
      "127\t32    \t1452.34\t1152.2 \t275.919\t5938.03\n"
     ]
    },
    {
     "name": "stdout",
     "output_type": "stream",
     "text": [
      "regular 81857.764113 time diminishing\n",
      "19 1 0.1 : Best eta,cxpb,mutpb value?\n"
     ]
    },
    {
     "name": "stderr",
     "output_type": "stream",
     "text": [
      "INFO:__main__:128\t30    \t1384.34\t640.984\t275.919\t4771.25\n",
      "128\t30    \t1384.34\t640.984\t275.919\t4771.25\n"
     ]
    },
    {
     "name": "stdout",
     "output_type": "stream",
     "text": [
      "regular 64922.065903 time diminishing\n",
      "18 1 0.1 : Best eta,cxpb,mutpb value?\n"
     ]
    },
    {
     "name": "stderr",
     "output_type": "stream",
     "text": [
      "INFO:__main__:129\t35    \t1810.73\t2361.1 \t275.919\t14937.8\n",
      "129\t35    \t1810.73\t2361.1 \t275.919\t14937.8\n"
     ]
    },
    {
     "name": "stdout",
     "output_type": "stream",
     "text": [
      "regular 110122.8756 time diminishing\n",
      "18 1 0.1 : Best eta,cxpb,mutpb value?\n"
     ]
    },
    {
     "name": "stderr",
     "output_type": "stream",
     "text": [
      "INFO:__main__:130\t32    \t1554.81\t1812.15\t275.919\t14913.7\n",
      "130\t32    \t1554.81\t1812.15\t275.919\t14913.7\n"
     ]
    },
    {
     "name": "stdout",
     "output_type": "stream",
     "text": [
      "regular 86302.156467 time diminishing\n",
      "18 1 0.1 : Best eta,cxpb,mutpb value?\n"
     ]
    },
    {
     "name": "stderr",
     "output_type": "stream",
     "text": [
      "INFO:__main__:131\t33    \t1420.58\t750.935\t275.919\t7203.77\n",
      "131\t33    \t1420.58\t750.935\t275.919\t7203.77\n"
     ]
    },
    {
     "name": "stdout",
     "output_type": "stream",
     "text": [
      "regular 66855.28586 time diminishing\n",
      "18 1 0.1 : Best eta,cxpb,mutpb value?\n"
     ]
    },
    {
     "name": "stderr",
     "output_type": "stream",
     "text": [
      "INFO:__main__:132\t35    \t1596.72\t2127.96\t275.919\t19000  \n",
      "132\t35    \t1596.72\t2127.96\t275.919\t19000  \n"
     ]
    },
    {
     "name": "stdout",
     "output_type": "stream",
     "text": [
      "regular 85679.66138599999 time diminishing\n",
      "18 1 0.1 : Best eta,cxpb,mutpb value?\n"
     ]
    },
    {
     "name": "stderr",
     "output_type": "stream",
     "text": [
      "INFO:__main__:133\t29    \t1059.93\t846.216\t275.919\t6844.06\n",
      "133\t29    \t1059.93\t846.216\t275.919\t6844.06\n"
     ]
    },
    {
     "name": "stdout",
     "output_type": "stream",
     "text": [
      "regular 53716.439392 time diminishing\n",
      "18 1 0.1 : Best eta,cxpb,mutpb value?\n"
     ]
    },
    {
     "name": "stderr",
     "output_type": "stream",
     "text": [
      "INFO:__main__:134\t31    \t1677.48\t2162.13\t275.919\t14944.6\n",
      "134\t31    \t1677.48\t2162.13\t275.919\t14944.6\n"
     ]
    },
    {
     "name": "stdout",
     "output_type": "stream",
     "text": [
      "regular 89005.92021400001 time diminishing\n",
      "18 1 0.1 : Best eta,cxpb,mutpb value?\n"
     ]
    },
    {
     "name": "stderr",
     "output_type": "stream",
     "text": [
      "INFO:__main__:135\t34    \t1589.79\t1736.09\t275.919\t14944.6\n",
      "135\t34    \t1589.79\t1736.09\t275.919\t14944.6\n"
     ]
    },
    {
     "name": "stdout",
     "output_type": "stream",
     "text": [
      "regular 84928.064376 time diminishing\n",
      "18 1 0.1 : Best eta,cxpb,mutpb value?\n"
     ]
    },
    {
     "name": "stderr",
     "output_type": "stream",
     "text": [
      "INFO:__main__:136\t23    \t1368.44\t886.109\t275.919\t6839.69\n",
      "136\t23    \t1368.44\t886.109\t275.919\t6839.69\n"
     ]
    },
    {
     "name": "stdout",
     "output_type": "stream",
     "text": [
      "regular 64020.855997 time diminishing\n",
      "18 1 0.1 : Best eta,cxpb,mutpb value?\n"
     ]
    },
    {
     "name": "stderr",
     "output_type": "stream",
     "text": [
      "INFO:__main__:137\t31    \t2094.64\t3234.97\t275.919\t19000  \n",
      "137\t31    \t2094.64\t3234.97\t275.919\t19000  \n"
     ]
    },
    {
     "name": "stdout",
     "output_type": "stream",
     "text": [
      "regular 122668.37945000001 time diminishing\n",
      "18 1 0.1 : Best eta,cxpb,mutpb value?\n"
     ]
    },
    {
     "name": "stderr",
     "output_type": "stream",
     "text": [
      "INFO:__main__:138\t24    \t1447.65\t1783.57\t275.919\t14964.7\n",
      "138\t24    \t1447.65\t1783.57\t275.919\t14964.7\n"
     ]
    },
    {
     "name": "stdout",
     "output_type": "stream",
     "text": [
      "regular 78731.913965 time diminishing\n",
      "18 1 0.1 : Best eta,cxpb,mutpb value?\n"
     ]
    },
    {
     "name": "stderr",
     "output_type": "stream",
     "text": [
      "INFO:__main__:139\t32    \t1315.76\t1816.75\t275.919\t14947.4\n",
      "139\t32    \t1315.76\t1816.75\t275.919\t14947.4\n"
     ]
    },
    {
     "name": "stdout",
     "output_type": "stream",
     "text": [
      "regular 76336.841056 time diminishing\n",
      "18 1 0.1 : Best eta,cxpb,mutpb value?\n"
     ]
    },
    {
     "name": "stderr",
     "output_type": "stream",
     "text": [
      "INFO:__main__:140\t32    \t1732.77\t2679   \t275.919\t16924.3\n",
      "140\t32    \t1732.77\t2679   \t275.919\t16924.3\n"
     ]
    },
    {
     "name": "stdout",
     "output_type": "stream",
     "text": [
      "regular 99054.910649 time diminishing\n",
      "17 1 0.1 : Best eta,cxpb,mutpb value?\n"
     ]
    },
    {
     "name": "stderr",
     "output_type": "stream",
     "text": [
      "INFO:__main__:141\t28    \t1655.46\t2562.51\t275.919\t14951.1\n",
      "141\t28    \t1655.46\t2562.51\t275.919\t14951.1\n"
     ]
    },
    {
     "name": "stdout",
     "output_type": "stream",
     "text": [
      "regular 93492.485301 time diminishing\n",
      "17 1 0.1 : Best eta,cxpb,mutpb value?\n"
     ]
    },
    {
     "name": "stderr",
     "output_type": "stream",
     "text": [
      "INFO:__main__:142\t31    \t2277.51\t3717.01\t275.919\t16924.3\n",
      "142\t31    \t2277.51\t3717.01\t275.919\t16924.3\n"
     ]
    },
    {
     "name": "stdout",
     "output_type": "stream",
     "text": [
      "regular 151834.39673 time diminishing\n",
      "17 1 0.1 : Best eta,cxpb,mutpb value?\n"
     ]
    },
    {
     "name": "stderr",
     "output_type": "stream",
     "text": [
      "INFO:__main__:143\t22    \t1933.85\t3322.47\t275.919\t14957.6\n",
      "143\t22    \t1933.85\t3322.47\t275.919\t14957.6\n"
     ]
    },
    {
     "name": "stdout",
     "output_type": "stream",
     "text": [
      "regular 122014.109115 time diminishing\n",
      "17 1 0.1 : Best eta,cxpb,mutpb value?\n"
     ]
    },
    {
     "name": "stderr",
     "output_type": "stream",
     "text": [
      "INFO:__main__:144\t24    \t1593.83\t2244.08\t275.919\t19000  \n",
      "144\t24    \t1593.83\t2244.08\t275.919\t19000  \n"
     ]
    },
    {
     "name": "stdout",
     "output_type": "stream",
     "text": [
      "regular 85274.86413 time diminishing\n",
      "17 1 0.1 : Best eta,cxpb,mutpb value?\n"
     ]
    },
    {
     "name": "stderr",
     "output_type": "stream",
     "text": [
      "INFO:__main__:145\t35    \t1572.46\t2585.57\t275.919\t19000  \n",
      "145\t35    \t1572.46\t2585.57\t275.919\t19000  \n"
     ]
    },
    {
     "name": "stdout",
     "output_type": "stream",
     "text": [
      "regular 90874.721974 time diminishing\n",
      "17 1 0.1 : Best eta,cxpb,mutpb value?\n"
     ]
    },
    {
     "name": "stderr",
     "output_type": "stream",
     "text": [
      "INFO:__main__:146\t25    \t1558.64\t3116.14\t275.919\t19000  \n",
      "146\t25    \t1558.64\t3116.14\t275.919\t19000  \n"
     ]
    },
    {
     "name": "stdout",
     "output_type": "stream",
     "text": [
      "regular 94821.53649 time diminishing\n",
      "17 1 0.1 : Best eta,cxpb,mutpb value?\n"
     ]
    },
    {
     "name": "stderr",
     "output_type": "stream",
     "text": [
      "INFO:__main__:147\t26    \t1200.91\t2192.89\t275.919\t15025.5\n",
      "147\t26    \t1200.91\t2192.89\t275.919\t15025.5\n"
     ]
    },
    {
     "name": "stdout",
     "output_type": "stream",
     "text": [
      "regular 71337.737275 time diminishing\n",
      "17 1 0.1 : Best eta,cxpb,mutpb value?\n"
     ]
    },
    {
     "name": "stderr",
     "output_type": "stream",
     "text": [
      "INFO:__main__:148\t28    \t1352.99\t1631.97\t275.919\t14951.1\n",
      "148\t28    \t1352.99\t1631.97\t275.919\t14951.1\n"
     ]
    },
    {
     "name": "stdout",
     "output_type": "stream",
     "text": [
      "regular 70994.31199 time diminishing\n",
      "17 1 0.1 : Best eta,cxpb,mutpb value?\n"
     ]
    },
    {
     "name": "stderr",
     "output_type": "stream",
     "text": [
      "INFO:__main__:149\t37    \t1598.61\t2185.06\t275.919\t14936.5\n",
      "149\t37    \t1598.61\t2185.06\t275.919\t14936.5\n"
     ]
    },
    {
     "name": "stdout",
     "output_type": "stream",
     "text": [
      "regular 94333.122063 time diminishing\n",
      "17 1 0.1 : Best eta,cxpb,mutpb value?\n"
     ]
    },
    {
     "name": "stderr",
     "output_type": "stream",
     "text": [
      "INFO:__main__:150\t31    \t1341.36\t1543.97\t275.919\t14940.5\n",
      "150\t31    \t1341.36\t1543.97\t275.919\t14940.5\n"
     ]
    },
    {
     "name": "stdout",
     "output_type": "stream",
     "text": [
      "regular 68183.49250200001 time diminishing\n",
      "17 1 0.1 : Best eta,cxpb,mutpb value?\n"
     ]
    },
    {
     "name": "stderr",
     "output_type": "stream",
     "text": [
      "INFO:__main__:151\t27    \t1943.42\t3311.23\t275.919\t19000  \n",
      "151\t27    \t1943.42\t3311.23\t275.919\t19000  \n"
     ]
    },
    {
     "name": "stdout",
     "output_type": "stream",
     "text": [
      "regular 120751.73119 time diminishing\n",
      "16 1 0.1 : Best eta,cxpb,mutpb value?\n"
     ]
    },
    {
     "name": "stderr",
     "output_type": "stream",
     "text": [
      "INFO:__main__:152\t28    \t897.103\t433.67 \t275.919\t2907.04\n",
      "152\t28    \t897.103\t433.67 \t275.919\t2907.04\n"
     ]
    },
    {
     "name": "stdout",
     "output_type": "stream",
     "text": [
      "regular 43888.862809 time diminishing\n",
      "16 1 0.1 : Best eta,cxpb,mutpb value?\n"
     ]
    },
    {
     "name": "stderr",
     "output_type": "stream",
     "text": [
      "INFO:__main__:153\t34    \t1554.85\t1662.93\t275.919\t14921.1\n",
      "153\t34    \t1554.85\t1662.93\t275.919\t14921.1\n"
     ]
    },
    {
     "name": "stdout",
     "output_type": "stream",
     "text": [
      "regular 80871.32460600001 time diminishing\n",
      "16 1 0.1 : Best eta,cxpb,mutpb value?\n"
     ]
    },
    {
     "name": "stderr",
     "output_type": "stream",
     "text": [
      "INFO:__main__:154\t27    \t1412.94\t1981.02\t275.919\t19000  \n",
      "154\t27    \t1412.94\t1981.02\t275.919\t19000  \n"
     ]
    },
    {
     "name": "stdout",
     "output_type": "stream",
     "text": [
      "regular 75411.44304299999 time diminishing\n",
      "16 1 0.1 : Best eta,cxpb,mutpb value?\n"
     ]
    },
    {
     "name": "stderr",
     "output_type": "stream",
     "text": [
      "INFO:__main__:155\t25    \t936.213\t470.153\t275.919\t2523.8 \n",
      "155\t25    \t936.213\t470.153\t275.919\t2523.8 \n"
     ]
    },
    {
     "name": "stdout",
     "output_type": "stream",
     "text": [
      "regular 45214.066662 time diminishing\n",
      "16 1 0.1 : Best eta,cxpb,mutpb value?\n"
     ]
    },
    {
     "name": "stderr",
     "output_type": "stream",
     "text": [
      "INFO:__main__:156\t32    \t1292.17\t459.563\t275.919\t3395.26\n",
      "156\t32    \t1292.17\t459.563\t275.919\t3395.26\n"
     ]
    },
    {
     "name": "stdout",
     "output_type": "stream",
     "text": [
      "regular 59258.127342 time diminishing\n",
      "16 1 0.1 : Best eta,cxpb,mutpb value?\n"
     ]
    },
    {
     "name": "stderr",
     "output_type": "stream",
     "text": [
      "INFO:__main__:157\t25    \t1596.7 \t1730.87\t275.919\t16924.4\n",
      "157\t25    \t1596.7 \t1730.87\t275.919\t16924.4\n"
     ]
    },
    {
     "name": "stdout",
     "output_type": "stream",
     "text": [
      "regular 74856.60187 time diminishing\n",
      "16 1 0.1 : Best eta,cxpb,mutpb value?\n"
     ]
    },
    {
     "name": "stderr",
     "output_type": "stream",
     "text": [
      "INFO:__main__:158\t26    \t1626.37\t2453.37\t275.919\t19000  \n",
      "158\t26    \t1626.37\t2453.37\t275.919\t19000  \n"
     ]
    },
    {
     "name": "stdout",
     "output_type": "stream",
     "text": [
      "regular 88793.084071 time diminishing\n",
      "16 1 0.1 : Best eta,cxpb,mutpb value?\n"
     ]
    },
    {
     "name": "stderr",
     "output_type": "stream",
     "text": [
      "INFO:__main__:159\t24    \t1517.96\t2614.63\t275.919\t19000  \n",
      "159\t24    \t1517.96\t2614.63\t275.919\t19000  \n"
     ]
    },
    {
     "name": "stdout",
     "output_type": "stream",
     "text": [
      "regular 84713.13019 time diminishing\n",
      "16 1 0.1 : Best eta,cxpb,mutpb value?\n"
     ]
    },
    {
     "name": "stderr",
     "output_type": "stream",
     "text": [
      "INFO:__main__:160\t24    \t1143.73\t1783.59\t275.919\t15013.7\n",
      "160\t24    \t1143.73\t1783.59\t275.919\t15013.7\n"
     ]
    },
    {
     "name": "stdout",
     "output_type": "stream",
     "text": [
      "regular 64992.890345 time diminishing\n",
      "16 1 0.1 : Best eta,cxpb,mutpb value?\n"
     ]
    },
    {
     "name": "stderr",
     "output_type": "stream",
     "text": [
      "INFO:__main__:161\t19    \t1342.99\t1597.13\t275.919\t14953.2\n",
      "161\t19    \t1342.99\t1597.13\t275.919\t14953.2\n"
     ]
    },
    {
     "name": "stdout",
     "output_type": "stream",
     "text": [
      "regular 69663.182019 time diminishing\n",
      "16 1 0.1 : Best eta,cxpb,mutpb value?\n"
     ]
    },
    {
     "name": "stderr",
     "output_type": "stream",
     "text": [
      "INFO:__main__:162\t33    \t1994.2 \t2960.77\t275.919\t14954.6\n",
      "162\t33    \t1994.2 \t2960.77\t275.919\t14954.6\n"
     ]
    },
    {
     "name": "stdout",
     "output_type": "stream",
     "text": [
      "regular 118703.115287 time diminishing\n",
      "16 1 0.1 : Best eta,cxpb,mutpb value?\n"
     ]
    },
    {
     "name": "stderr",
     "output_type": "stream",
     "text": [
      "INFO:__main__:163\t27    \t1259.76\t692.216\t275.919\t6931.43\n",
      "163\t27    \t1259.76\t692.216\t275.919\t6931.43\n"
     ]
    },
    {
     "name": "stdout",
     "output_type": "stream",
     "text": [
      "regular 59433.06486300001 time diminishing\n",
      "15 1 0.1 : Best eta,cxpb,mutpb value?\n"
     ]
    },
    {
     "name": "stderr",
     "output_type": "stream",
     "text": [
      "INFO:__main__:164\t30    \t1858.74\t3070.17\t275.919\t19000  \n",
      "164\t30    \t1858.74\t3070.17\t275.919\t19000  \n"
     ]
    },
    {
     "name": "stdout",
     "output_type": "stream",
     "text": [
      "regular 109474.10457499999 time diminishing\n",
      "15 1 0.1 : Best eta,cxpb,mutpb value?\n"
     ]
    },
    {
     "name": "stderr",
     "output_type": "stream",
     "text": [
      "INFO:__main__:165\t32    \t1275.68\t1191.59\t275.919\t8929.06\n",
      "165\t32    \t1275.68\t1191.59\t275.919\t8929.06\n"
     ]
    },
    {
     "name": "stdout",
     "output_type": "stream",
     "text": [
      "regular 71802.82286 time diminishing\n",
      "15 1 0.1 : Best eta,cxpb,mutpb value?\n"
     ]
    },
    {
     "name": "stderr",
     "output_type": "stream",
     "text": [
      "INFO:__main__:166\t24    \t1271.02\t700.844\t275.919\t5829.86\n",
      "166\t24    \t1271.02\t700.844\t275.919\t5829.86\n"
     ]
    },
    {
     "name": "stdout",
     "output_type": "stream",
     "text": [
      "regular 61248.182967 time diminishing\n",
      "15 1 0.1 : Best eta,cxpb,mutpb value?\n"
     ]
    },
    {
     "name": "stderr",
     "output_type": "stream",
     "text": [
      "INFO:__main__:167\t22    \t1460.53\t1932.81\t275.919\t19000  \n",
      "167\t22    \t1460.53\t1932.81\t275.919\t19000  \n"
     ]
    },
    {
     "name": "stdout",
     "output_type": "stream",
     "text": [
      "regular 74256.15169500001 time diminishing\n",
      "15 1 0.1 : Best eta,cxpb,mutpb value?\n"
     ]
    },
    {
     "name": "stderr",
     "output_type": "stream",
     "text": [
      "INFO:__main__:168\t23    \t1624.7 \t2659.36\t275.919\t19000  \n",
      "168\t23    \t1624.7 \t2659.36\t275.919\t19000  \n"
     ]
    },
    {
     "name": "stdout",
     "output_type": "stream",
     "text": [
      "regular 93613.07632200001 time diminishing\n",
      "15 1 0.1 : Best eta,cxpb,mutpb value?\n"
     ]
    },
    {
     "name": "stderr",
     "output_type": "stream",
     "text": [
      "INFO:__main__:169\t30    \t1298.37\t2126.72\t275.919\t19000  \n",
      "169\t30    \t1298.37\t2126.72\t275.919\t19000  \n"
     ]
    },
    {
     "name": "stdout",
     "output_type": "stream",
     "text": [
      "regular 74662.12671499999 time diminishing\n",
      "15 1 0.1 : Best eta,cxpb,mutpb value?\n"
     ]
    },
    {
     "name": "stderr",
     "output_type": "stream",
     "text": [
      "INFO:__main__:170\t25    \t1114.97\t1670.17\t275.919\t14937.8\n",
      "170\t25    \t1114.97\t1670.17\t275.919\t14937.8\n"
     ]
    },
    {
     "name": "stdout",
     "output_type": "stream",
     "text": [
      "regular 62694.394992999994 time diminishing\n",
      "15 1 0.1 : Best eta,cxpb,mutpb value?\n"
     ]
    },
    {
     "name": "stderr",
     "output_type": "stream",
     "text": [
      "INFO:__main__:171\t31    \t1260.47\t831.388\t275.919\t8151.98\n",
      "171\t31    \t1260.47\t831.388\t275.919\t8151.98\n"
     ]
    },
    {
     "name": "stdout",
     "output_type": "stream",
     "text": [
      "regular 61459.969182999994 time diminishing\n",
      "15 1 0.1 : Best eta,cxpb,mutpb value?\n"
     ]
    },
    {
     "name": "stderr",
     "output_type": "stream",
     "text": [
      "INFO:__main__:172\t21    \t1353.57\t970.439\t275.919\t8916.57\n",
      "172\t21    \t1353.57\t970.439\t275.919\t8916.57\n"
     ]
    },
    {
     "name": "stdout",
     "output_type": "stream",
     "text": [
      "regular 65455.217930000006 time diminishing\n",
      "15 1 0.1 : Best eta,cxpb,mutpb value?\n"
     ]
    },
    {
     "name": "stderr",
     "output_type": "stream",
     "text": [
      "INFO:__main__:173\t30    \t1765.63\t2848.81\t275.919\t19000  \n",
      "173\t30    \t1765.63\t2848.81\t275.919\t19000  \n"
     ]
    },
    {
     "name": "stdout",
     "output_type": "stream",
     "text": [
      "regular 102474.10285999998 time diminishing\n",
      "15 1 0.1 : Best eta,cxpb,mutpb value?\n"
     ]
    },
    {
     "name": "stderr",
     "output_type": "stream",
     "text": [
      "INFO:__main__:174\t31    \t1803.05\t2942.92\t275.919\t19000  \n",
      "174\t31    \t1803.05\t2942.92\t275.919\t19000  \n"
     ]
    },
    {
     "name": "stdout",
     "output_type": "stream",
     "text": [
      "regular 113685.57207 time diminishing\n",
      "15 1 0.1 : Best eta,cxpb,mutpb value?\n"
     ]
    },
    {
     "name": "stderr",
     "output_type": "stream",
     "text": [
      "INFO:__main__:175\t24    \t780.748\t1098.84\t275.919\t6161.33\n",
      "175\t24    \t780.748\t1098.84\t275.919\t6161.33\n"
     ]
    },
    {
     "name": "stdout",
     "output_type": "stream",
     "text": [
      "regular 46846.913749 time diminishing\n",
      "14 1 0.1 : Best eta,cxpb,mutpb value?\n"
     ]
    },
    {
     "name": "stderr",
     "output_type": "stream",
     "text": [
      "INFO:__main__:176\t25    \t1387.25\t970.821\t275.919\t8977.34\n",
      "176\t25    \t1387.25\t970.821\t275.919\t8977.34\n"
     ]
    },
    {
     "name": "stdout",
     "output_type": "stream",
     "text": [
      "regular 65428.388384000005 time diminishing\n",
      "14 1 0.1 : Best eta,cxpb,mutpb value?\n"
     ]
    },
    {
     "name": "stderr",
     "output_type": "stream",
     "text": [
      "INFO:__main__:177\t26    \t1677.9 \t1750.19\t275.919\t15048.2\n",
      "177\t26    \t1677.9 \t1750.19\t275.919\t15048.2\n"
     ]
    },
    {
     "name": "stdout",
     "output_type": "stream",
     "text": [
      "regular 85709.061495 time diminishing\n",
      "14 1 0.1 : Best eta,cxpb,mutpb value?\n"
     ]
    },
    {
     "name": "stderr",
     "output_type": "stream",
     "text": [
      "INFO:__main__:178\t19    \t1726.04\t2694.91\t275.919\t16924.4\n",
      "178\t19    \t1726.04\t2694.91\t275.919\t16924.4\n"
     ]
    },
    {
     "name": "stdout",
     "output_type": "stream",
     "text": [
      "regular 96844.31913300001 time diminishing\n",
      "14 1 0.1 : Best eta,cxpb,mutpb value?\n"
     ]
    },
    {
     "name": "stderr",
     "output_type": "stream",
     "text": [
      "INFO:__main__:179\t23    \t1352.18\t871.002\t275.919\t7062.55\n",
      "179\t23    \t1352.18\t871.002\t275.919\t7062.55\n"
     ]
    },
    {
     "name": "stdout",
     "output_type": "stream",
     "text": [
      "regular 66169.629731 time diminishing\n",
      "14 1 0.1 : Best eta,cxpb,mutpb value?\n"
     ]
    },
    {
     "name": "stderr",
     "output_type": "stream",
     "text": [
      "INFO:__main__:180\t24    \t1432.89\t651.802\t275.919\t6460.07\n",
      "180\t24    \t1432.89\t651.802\t275.919\t6460.07\n"
     ]
    },
    {
     "name": "stdout",
     "output_type": "stream",
     "text": [
      "regular 66276.38472999999 time diminishing\n",
      "14 1 0.1 : Best eta,cxpb,mutpb value?\n"
     ]
    },
    {
     "name": "stderr",
     "output_type": "stream",
     "text": [
      "INFO:__main__:181\t23    \t1733.5 \t2336.53\t275.919\t16924.4\n",
      "181\t23    \t1733.5 \t2336.53\t275.919\t16924.4\n"
     ]
    },
    {
     "name": "stdout",
     "output_type": "stream",
     "text": [
      "regular 92414.19336599999 time diminishing\n",
      "14 1 0.1 : Best eta,cxpb,mutpb value?\n"
     ]
    },
    {
     "name": "stderr",
     "output_type": "stream",
     "text": [
      "INFO:__main__:182\t24    \t1095.14\t579.738\t275.919\t2390.04\n",
      "182\t24    \t1095.14\t579.738\t275.919\t2390.04\n"
     ]
    },
    {
     "name": "stdout",
     "output_type": "stream",
     "text": [
      "regular 51894.750003 time diminishing\n",
      "14 1 0.1 : Best eta,cxpb,mutpb value?\n"
     ]
    },
    {
     "name": "stderr",
     "output_type": "stream",
     "text": [
      "INFO:__main__:183\t22    \t1528.32\t745.975\t275.919\t7040.88\n",
      "183\t22    \t1528.32\t745.975\t275.919\t7040.88\n"
     ]
    },
    {
     "name": "stdout",
     "output_type": "stream",
     "text": [
      "regular 66430.68005 time diminishing\n",
      "14 1 0.1 : Best eta,cxpb,mutpb value?\n"
     ]
    },
    {
     "name": "stderr",
     "output_type": "stream",
     "text": [
      "INFO:__main__:184\t25    \t2163   \t3485.6 \t275.919\t19000  \n",
      "184\t25    \t2163   \t3485.6 \t275.919\t19000  \n"
     ]
    },
    {
     "name": "stdout",
     "output_type": "stream",
     "text": [
      "regular 131864.636085 time diminishing\n",
      "14 1 0.1 : Best eta,cxpb,mutpb value?\n"
     ]
    },
    {
     "name": "stderr",
     "output_type": "stream",
     "text": [
      "INFO:__main__:185\t26    \t1395.11\t2467.15\t275.919\t16924.4\n",
      "185\t26    \t1395.11\t2467.15\t275.919\t16924.4\n"
     ]
    },
    {
     "name": "stdout",
     "output_type": "stream",
     "text": [
      "regular 80356.75554800002 time diminishing\n",
      "14 1 0.1 : Best eta,cxpb,mutpb value?\n"
     ]
    },
    {
     "name": "stderr",
     "output_type": "stream",
     "text": [
      "INFO:__main__:186\t22    \t1489.16\t2296.04\t275.919\t14998.9\n",
      "186\t22    \t1489.16\t2296.04\t275.919\t14998.9\n"
     ]
    },
    {
     "name": "stdout",
     "output_type": "stream",
     "text": [
      "regular 84813.255475 time diminishing\n",
      "13 1 0.1 : Best eta,cxpb,mutpb value?\n"
     ]
    },
    {
     "name": "stderr",
     "output_type": "stream",
     "text": [
      "INFO:__main__:187\t24    \t1738.73\t2832.55\t275.919\t16924.4\n",
      "187\t24    \t1738.73\t2832.55\t275.919\t16924.4\n"
     ]
    },
    {
     "name": "stdout",
     "output_type": "stream",
     "text": [
      "regular 100593.250994 time diminishing\n",
      "13 1 0.1 : Best eta,cxpb,mutpb value?\n"
     ]
    },
    {
     "name": "stderr",
     "output_type": "stream",
     "text": [
      "INFO:__main__:188\t23    \t1367.36\t2218.14\t275.919\t14940  \n",
      "188\t23    \t1367.36\t2218.14\t275.919\t14940  \n"
     ]
    },
    {
     "name": "stdout",
     "output_type": "stream",
     "text": [
      "regular 75665.435455 time diminishing\n",
      "13 1 0.1 : Best eta,cxpb,mutpb value?\n"
     ]
    },
    {
     "name": "stderr",
     "output_type": "stream",
     "text": [
      "INFO:__main__:189\t19    \t1491.46\t1521.19\t275.919\t14954  \n",
      "189\t19    \t1491.46\t1521.19\t275.919\t14954  \n"
     ]
    },
    {
     "name": "stdout",
     "output_type": "stream",
     "text": [
      "regular 72056.41208 time diminishing\n",
      "13 1 0.1 : Best eta,cxpb,mutpb value?\n"
     ]
    },
    {
     "name": "stderr",
     "output_type": "stream",
     "text": [
      "INFO:__main__:190\t19    \t1598.29\t2100.4 \t275.919\t14918.6\n",
      "190\t19    \t1598.29\t2100.4 \t275.919\t14918.6\n"
     ]
    },
    {
     "name": "stdout",
     "output_type": "stream",
     "text": [
      "regular 83325.516415 time diminishing\n",
      "13 1 0.1 : Best eta,cxpb,mutpb value?\n"
     ]
    },
    {
     "name": "stderr",
     "output_type": "stream",
     "text": [
      "INFO:__main__:191\t17    \t1118.02\t340.03 \t275.919\t2383.09\n",
      "191\t17    \t1118.02\t340.03 \t275.919\t2383.09\n"
     ]
    },
    {
     "name": "stdout",
     "output_type": "stream",
     "text": [
      "regular 50448.56741 time diminishing\n",
      "13 1 0.1 : Best eta,cxpb,mutpb value?\n"
     ]
    },
    {
     "name": "stderr",
     "output_type": "stream",
     "text": [
      "INFO:__main__:192\t24    \t2059.91\t3679.84\t275.919\t19000  \n",
      "192\t24    \t2059.91\t3679.84\t275.919\t19000  \n"
     ]
    },
    {
     "name": "stdout",
     "output_type": "stream",
     "text": [
      "regular 128040.592595 time diminishing\n",
      "13 1 0.1 : Best eta,cxpb,mutpb value?\n"
     ]
    },
    {
     "name": "stderr",
     "output_type": "stream",
     "text": [
      "INFO:__main__:193\t20    \t1024.98\t971.805\t275.919\t6537.58\n",
      "193\t20    \t1024.98\t971.805\t275.919\t6537.58\n"
     ]
    },
    {
     "name": "stdout",
     "output_type": "stream",
     "text": [
      "regular 53638.19965 time diminishing\n",
      "13 1 0.1 : Best eta,cxpb,mutpb value?\n"
     ]
    },
    {
     "name": "stderr",
     "output_type": "stream",
     "text": [
      "INFO:__main__:194\t14    \t1327.36\t355.837\t275.919\t2895.18\n",
      "194\t14    \t1327.36\t355.837\t275.919\t2895.18\n"
     ]
    },
    {
     "name": "stdout",
     "output_type": "stream",
     "text": [
      "regular 57635.88284 time diminishing\n",
      "13 1 0.1 : Best eta,cxpb,mutpb value?\n"
     ]
    },
    {
     "name": "stderr",
     "output_type": "stream",
     "text": [
      "INFO:__main__:195\t23    \t1586.19\t1509.42\t275.919\t15003.5\n",
      "195\t23    \t1586.19\t1509.42\t275.919\t15003.5\n"
     ]
    },
    {
     "name": "stdout",
     "output_type": "stream",
     "text": [
      "regular 74411.28351 time diminishing\n",
      "13 1 0.1 : Best eta,cxpb,mutpb value?\n"
     ]
    },
    {
     "name": "stderr",
     "output_type": "stream",
     "text": [
      "INFO:__main__:196\t23    \t1595.97\t1695.5 \t275.919\t14919.3\n",
      "196\t23    \t1595.97\t1695.5 \t275.919\t14919.3\n"
     ]
    },
    {
     "name": "stdout",
     "output_type": "stream",
     "text": [
      "regular 80507.36174 time diminishing\n",
      "13 1 0.1 : Best eta,cxpb,mutpb value?\n"
     ]
    },
    {
     "name": "stderr",
     "output_type": "stream",
     "text": [
      "INFO:__main__:197\t25    \t1345.05\t885.491\t275.919\t8742.34\n",
      "197\t25    \t1345.05\t885.491\t275.919\t8742.34\n"
     ]
    },
    {
     "name": "stdout",
     "output_type": "stream",
     "text": [
      "regular 63290.590805 time diminishing\n",
      "13 1 0.1 : Best eta,cxpb,mutpb value?\n"
     ]
    },
    {
     "name": "stderr",
     "output_type": "stream",
     "text": [
      "INFO:__main__:198\t26    \t1328.02\t1014.37\t275.919\t6962.76\n",
      "198\t26    \t1328.02\t1014.37\t275.919\t6962.76\n"
     ]
    },
    {
     "name": "stdout",
     "output_type": "stream",
     "text": [
      "regular 67331.77745 time diminishing\n",
      "12 1 0.1 : Best eta,cxpb,mutpb value?\n"
     ]
    },
    {
     "name": "stderr",
     "output_type": "stream",
     "text": [
      "INFO:__main__:199\t27    \t1764.1 \t2080.07\t275.919\t19000  \n",
      "199\t27    \t1764.1 \t2080.07\t275.919\t19000  \n"
     ]
    },
    {
     "name": "stdout",
     "output_type": "stream",
     "text": [
      "regular 91098.521355 time diminishing\n",
      "12 1 0.1 : Best eta,cxpb,mutpb value?\n"
     ]
    },
    {
     "name": "stderr",
     "output_type": "stream",
     "text": [
      "INFO:__main__:200\t26    \t1268.33\t611.848\t275.919\t5992.35\n",
      "200\t26    \t1268.33\t611.848\t275.919\t5992.35\n"
     ]
    },
    {
     "name": "stdout",
     "output_type": "stream",
     "text": [
      "regular 58037.049914999996 time diminishing\n",
      "12 1 0.1 : Best eta,cxpb,mutpb value?\n"
     ]
    },
    {
     "name": "stderr",
     "output_type": "stream",
     "text": [
      "INFO:__main__:201\t19    \t1381.84\t1015.98\t275.919\t8929.5 \n",
      "201\t19    \t1381.84\t1015.98\t275.919\t8929.5 \n"
     ]
    },
    {
     "name": "stdout",
     "output_type": "stream",
     "text": [
      "regular 64378.107693 time diminishing\n",
      "12 1 0.1 : Best eta,cxpb,mutpb value?\n"
     ]
    },
    {
     "name": "stderr",
     "output_type": "stream",
     "text": [
      "INFO:__main__:202\t21    \t1858.49\t3092.82\t275.919\t19000  \n",
      "202\t21    \t1858.49\t3092.82\t275.919\t19000  \n"
     ]
    },
    {
     "name": "stdout",
     "output_type": "stream",
     "text": [
      "regular 108114.014203 time diminishing\n",
      "12 1 0.1 : Best eta,cxpb,mutpb value?\n"
     ]
    },
    {
     "name": "stderr",
     "output_type": "stream",
     "text": [
      "INFO:__main__:203\t19    \t971.902\t740.498\t275.919\t6266.85\n",
      "203\t19    \t971.902\t740.498\t275.919\t6266.85\n"
     ]
    },
    {
     "name": "stdout",
     "output_type": "stream",
     "text": [
      "regular 47540.662664999996 time diminishing\n",
      "12 1 0.1 : Best eta,cxpb,mutpb value?\n"
     ]
    },
    {
     "name": "stderr",
     "output_type": "stream",
     "text": [
      "INFO:__main__:204\t20    \t1371.03\t1720.12\t275.919\t16924.3\n",
      "204\t20    \t1371.03\t1720.12\t275.919\t16924.3\n"
     ]
    },
    {
     "name": "stdout",
     "output_type": "stream",
     "text": [
      "regular 67366.52695599999 time diminishing\n",
      "12 1 0.1 : Best eta,cxpb,mutpb value?\n"
     ]
    },
    {
     "name": "stderr",
     "output_type": "stream",
     "text": [
      "INFO:__main__:205\t21    \t1335.35\t1988.84\t275.919\t19000  \n",
      "205\t21    \t1335.35\t1988.84\t275.919\t19000  \n"
     ]
    },
    {
     "name": "stdout",
     "output_type": "stream",
     "text": [
      "regular 68193.40528500002 time diminishing\n",
      "12 1 0.1 : Best eta,cxpb,mutpb value?\n"
     ]
    },
    {
     "name": "stderr",
     "output_type": "stream",
     "text": [
      "INFO:__main__:206\t20    \t840.973\t568.109\t275.919\t3410.16\n",
      "206\t20    \t840.973\t568.109\t275.919\t3410.16\n"
     ]
    },
    {
     "name": "stdout",
     "output_type": "stream",
     "text": [
      "regular 40422.237561 time diminishing\n",
      "12 1 0.1 : Best eta,cxpb,mutpb value?\n"
     ]
    },
    {
     "name": "stderr",
     "output_type": "stream",
     "text": [
      "INFO:__main__:207\t16    \t1219.24\t285.991\t275.919\t1874.29\n",
      "207\t16    \t1219.24\t285.991\t275.919\t1874.29\n"
     ]
    },
    {
     "name": "stdout",
     "output_type": "stream",
     "text": [
      "regular 52118.66735 time diminishing\n",
      "12 1 0.1 : Best eta,cxpb,mutpb value?\n"
     ]
    },
    {
     "name": "stderr",
     "output_type": "stream",
     "text": [
      "INFO:__main__:208\t29    \t1434.43\t1940.89\t275.919\t19000  \n",
      "208\t29    \t1434.43\t1940.89\t275.919\t19000  \n"
     ]
    },
    {
     "name": "stdout",
     "output_type": "stream",
     "text": [
      "regular 73698.46480799999 time diminishing\n",
      "12 1 0.1 : Best eta,cxpb,mutpb value?\n"
     ]
    },
    {
     "name": "stderr",
     "output_type": "stream",
     "text": [
      "INFO:__main__:209\t22    \t1294.78\t1769.15\t275.919\t16924.4\n",
      "209\t22    \t1294.78\t1769.15\t275.919\t16924.4\n"
     ]
    },
    {
     "name": "stdout",
     "output_type": "stream",
     "text": [
      "regular 68314.044535 time diminishing\n",
      "12 1 0.1 : Best eta,cxpb,mutpb value?\n"
     ]
    },
    {
     "name": "stderr",
     "output_type": "stream",
     "text": [
      "INFO:__main__:210\t20    \t1171.8 \t1755.02\t275.919\t16924.4\n",
      "210\t20    \t1171.8 \t1755.02\t275.919\t16924.4\n"
     ]
    },
    {
     "name": "stdout",
     "output_type": "stream",
     "text": [
      "regular 59658.36282 time diminishing\n",
      "11 1 0.1 : Best eta,cxpb,mutpb value?\n"
     ]
    },
    {
     "name": "stderr",
     "output_type": "stream",
     "text": [
      "INFO:__main__:211\t26    \t1023.57\t516.636\t275.919\t3095.59\n",
      "211\t26    \t1023.57\t516.636\t275.919\t3095.59\n"
     ]
    },
    {
     "name": "stdout",
     "output_type": "stream",
     "text": [
      "regular 49257.786623 time diminishing\n",
      "11 1 0.1 : Best eta,cxpb,mutpb value?\n"
     ]
    },
    {
     "name": "stderr",
     "output_type": "stream",
     "text": [
      "INFO:__main__:212\t19    \t1238.11\t305.151\t275.919\t2570.69\n",
      "212\t19    \t1238.11\t305.151\t275.919\t2570.69\n"
     ]
    },
    {
     "name": "stdout",
     "output_type": "stream",
     "text": [
      "regular 54576.928798 time diminishing\n",
      "11 1 0.1 : Best eta,cxpb,mutpb value?\n"
     ]
    },
    {
     "name": "stderr",
     "output_type": "stream",
     "text": [
      "INFO:__main__:213\t13    \t1447.85\t1946.32\t275.919\t19000  \n",
      "213\t13    \t1447.85\t1946.32\t275.919\t19000  \n"
     ]
    },
    {
     "name": "stdout",
     "output_type": "stream",
     "text": [
      "regular 71207.60557500001 time diminishing\n",
      "11 1 0.1 : Best eta,cxpb,mutpb value?\n"
     ]
    },
    {
     "name": "stderr",
     "output_type": "stream",
     "text": [
      "INFO:__main__:214\t24    \t1286.79\t826.506\t275.919\t5970.41\n",
      "214\t24    \t1286.79\t826.506\t275.919\t5970.41\n"
     ]
    },
    {
     "name": "stdout",
     "output_type": "stream",
     "text": [
      "regular 64775.156412 time diminishing\n",
      "11 1 0.1 : Best eta,cxpb,mutpb value?\n"
     ]
    },
    {
     "name": "stderr",
     "output_type": "stream",
     "text": [
      "INFO:__main__:215\t21    \t1154.03\t344.068\t275.919\t2107.59\n",
      "215\t21    \t1154.03\t344.068\t275.919\t2107.59\n"
     ]
    },
    {
     "name": "stdout",
     "output_type": "stream",
     "text": [
      "regular 51297.1843 time diminishing\n",
      "11 1 0.1 : Best eta,cxpb,mutpb value?\n"
     ]
    },
    {
     "name": "stderr",
     "output_type": "stream",
     "text": [
      "INFO:__main__:216\t17    \t1425.07\t1508.25\t275.919\t15039.8\n",
      "216\t17    \t1425.07\t1508.25\t275.919\t15039.8\n"
     ]
    },
    {
     "name": "stdout",
     "output_type": "stream",
     "text": [
      "regular 67060.19461 time diminishing\n",
      "11 1 0.1 : Best eta,cxpb,mutpb value?\n"
     ]
    },
    {
     "name": "stderr",
     "output_type": "stream",
     "text": [
      "INFO:__main__:217\t16    \t1206.43\t375.976\t275.919\t2432.24\n",
      "217\t16    \t1206.43\t375.976\t275.919\t2432.24\n"
     ]
    },
    {
     "name": "stdout",
     "output_type": "stream",
     "text": [
      "regular 53184.577414 time diminishing\n",
      "11 1 0.1 : Best eta,cxpb,mutpb value?\n"
     ]
    },
    {
     "name": "stderr",
     "output_type": "stream",
     "text": [
      "INFO:__main__:218\t21    \t1310.35\t678.482\t275.919\t6766.79\n",
      "218\t21    \t1310.35\t678.482\t275.919\t6766.79\n"
     ]
    },
    {
     "name": "stdout",
     "output_type": "stream",
     "text": [
      "regular 59895.561212 time diminishing\n",
      "11 1 0.1 : Best eta,cxpb,mutpb value?\n"
     ]
    },
    {
     "name": "stderr",
     "output_type": "stream",
     "text": [
      "INFO:__main__:219\t23    \t1490.06\t1748.08\t275.919\t15107.2\n",
      "219\t23    \t1490.06\t1748.08\t275.919\t15107.2\n"
     ]
    },
    {
     "name": "stdout",
     "output_type": "stream",
     "text": [
      "regular 77066.585629 time diminishing\n",
      "11 1 0.1 : Best eta,cxpb,mutpb value?\n"
     ]
    },
    {
     "name": "stderr",
     "output_type": "stream",
     "text": [
      "INFO:__main__:220\t23    \t1425.41\t1527.08\t275.919\t15057.8\n",
      "220\t23    \t1425.41\t1527.08\t275.919\t15057.8\n"
     ]
    },
    {
     "name": "stdout",
     "output_type": "stream",
     "text": [
      "regular 67820.446665 time diminishing\n",
      "11 1 0.1 : Best eta,cxpb,mutpb value?\n"
     ]
    },
    {
     "name": "stderr",
     "output_type": "stream",
     "text": [
      "INFO:__main__:221\t18    \t1374.99\t1747.85\t275.919\t16924.3\n",
      "221\t18    \t1374.99\t1747.85\t275.919\t16924.3\n"
     ]
    },
    {
     "name": "stdout",
     "output_type": "stream",
     "text": [
      "regular 68655.556486 time diminishing\n",
      "10 1 0.1 : Best eta,cxpb,mutpb value?\n"
     ]
    },
    {
     "name": "stderr",
     "output_type": "stream",
     "text": [
      "INFO:__main__:222\t21    \t1175.16\t289.672\t275.919\t1978.51\n",
      "222\t21    \t1175.16\t289.672\t275.919\t1978.51\n"
     ]
    },
    {
     "name": "stdout",
     "output_type": "stream",
     "text": [
      "regular 51841.507293 time diminishing\n",
      "10 1 0.1 : Best eta,cxpb,mutpb value?\n"
     ]
    },
    {
     "name": "stderr",
     "output_type": "stream",
     "text": [
      "INFO:__main__:223\t26    \t1324.77\t630.874\t275.919\t4235.98\n",
      "223\t26    \t1324.77\t630.874\t275.919\t4235.98\n"
     ]
    },
    {
     "name": "stdout",
     "output_type": "stream",
     "text": [
      "regular 62800.017949 time diminishing\n",
      "10 1 0.1 : Best eta,cxpb,mutpb value?\n"
     ]
    },
    {
     "name": "stderr",
     "output_type": "stream",
     "text": [
      "INFO:__main__:224\t23    \t1366.61\t346.7  \t275.919\t2937.3 \n",
      "224\t23    \t1366.61\t346.7  \t275.919\t2937.3 \n"
     ]
    },
    {
     "name": "stdout",
     "output_type": "stream",
     "text": [
      "regular 58837.568695 time diminishing\n",
      "10 1 0.1 : Best eta,cxpb,mutpb value?\n"
     ]
    },
    {
     "name": "stderr",
     "output_type": "stream",
     "text": [
      "INFO:__main__:225\t16    \t1422.58\t425.899\t275.919\t2469.01\n",
      "225\t16    \t1422.58\t425.899\t275.919\t2469.01\n"
     ]
    },
    {
     "name": "stdout",
     "output_type": "stream",
     "text": [
      "regular 61511.7685549 time diminishing\n",
      "10 1 0.1 : Best eta,cxpb,mutpb value?\n"
     ]
    },
    {
     "name": "stderr",
     "output_type": "stream",
     "text": [
      "INFO:__main__:226\t24    \t1542.61\t898.701\t275.919\t6685.27\n",
      "226\t24    \t1542.61\t898.701\t275.919\t6685.27\n"
     ]
    },
    {
     "name": "stdout",
     "output_type": "stream",
     "text": [
      "regular 72095.184996 time diminishing\n",
      "10 1 0.1 : Best eta,cxpb,mutpb value?\n"
     ]
    },
    {
     "name": "stderr",
     "output_type": "stream",
     "text": [
      "INFO:__main__:227\t28    \t1744.02\t1875.78\t275.919\t16924.4\n",
      "227\t28    \t1744.02\t1875.78\t275.919\t16924.4\n"
     ]
    },
    {
     "name": "stdout",
     "output_type": "stream",
     "text": [
      "regular 87071.972103 time diminishing\n",
      "10 1 0.1 : Best eta,cxpb,mutpb value?\n"
     ]
    },
    {
     "name": "stderr",
     "output_type": "stream",
     "text": [
      "INFO:__main__:228\t33    \t1512.97\t908.798\t275.919\t6977.36\n",
      "228\t33    \t1512.97\t908.798\t275.919\t6977.36\n"
     ]
    },
    {
     "name": "stdout",
     "output_type": "stream",
     "text": [
      "regular 71260.802851 time diminishing\n",
      "10 1 0.1 : Best eta,cxpb,mutpb value?\n"
     ]
    },
    {
     "name": "stderr",
     "output_type": "stream",
     "text": [
      "INFO:__main__:229\t15    \t1542.04\t1562.82\t275.919\t15043.9\n",
      "229\t15    \t1542.04\t1562.82\t275.919\t15043.9\n"
     ]
    },
    {
     "name": "stdout",
     "output_type": "stream",
     "text": [
      "regular 73850.742973 time diminishing\n",
      "10 1 0.1 : Best eta,cxpb,mutpb value?\n"
     ]
    },
    {
     "name": "stderr",
     "output_type": "stream",
     "text": [
      "INFO:__main__:230\t14    \t1296.2 \t427.864\t275.919\t2827.22\n",
      "230\t14    \t1296.2 \t427.864\t275.919\t2827.22\n"
     ]
    },
    {
     "name": "stdout",
     "output_type": "stream",
     "text": [
      "regular 57772.121404000005 time diminishing\n",
      "10 1 0.1 : Best eta,cxpb,mutpb value?\n"
     ]
    },
    {
     "name": "stderr",
     "output_type": "stream",
     "text": [
      "INFO:__main__:231\t22    \t1296.52\t531.136\t275.919\t5183.06\n",
      "231\t22    \t1296.52\t531.136\t275.919\t5183.06\n"
     ]
    },
    {
     "name": "stdout",
     "output_type": "stream",
     "text": [
      "regular 60320.88319 time diminishing\n",
      "10 1 0.1 : Best eta,cxpb,mutpb value?\n"
     ]
    },
    {
     "name": "stderr",
     "output_type": "stream",
     "text": [
      "INFO:__main__:232\t19    \t1568.92\t1660.83\t275.919\t13966.3\n",
      "232\t19    \t1568.92\t1660.83\t275.919\t13966.3\n"
     ]
    },
    {
     "name": "stdout",
     "output_type": "stream",
     "text": [
      "regular 79848.598135 time diminishing\n",
      "10 1 0.1 : Best eta,cxpb,mutpb value?\n"
     ]
    },
    {
     "name": "stderr",
     "output_type": "stream",
     "text": [
      "INFO:__main__:233\t25    \t1581.77\t1723.42\t275.919\t14962.2\n",
      "233\t25    \t1581.77\t1723.42\t275.919\t14962.2\n"
     ]
    },
    {
     "name": "stdout",
     "output_type": "stream",
     "text": [
      "regular 81892.039499 time diminishing\n",
      "9 1 0.1 : Best eta,cxpb,mutpb value?\n"
     ]
    },
    {
     "name": "stderr",
     "output_type": "stream",
     "text": [
      "INFO:__main__:234\t31    \t1374.98\t675.808\t275.919\t6372.19\n",
      "234\t31    \t1374.98\t675.808\t275.919\t6372.19\n"
     ]
    },
    {
     "name": "stdout",
     "output_type": "stream",
     "text": [
      "regular 65994.973317 time diminishing\n",
      "9 1 0.1 : Best eta,cxpb,mutpb value?\n"
     ]
    },
    {
     "name": "stderr",
     "output_type": "stream",
     "text": [
      "INFO:__main__:235\t27    \t1586.33\t1743.46\t275.919\t16924.4\n",
      "235\t27    \t1586.33\t1743.46\t275.919\t16924.4\n"
     ]
    },
    {
     "name": "stdout",
     "output_type": "stream",
     "text": [
      "regular 77969.794146 time diminishing\n",
      "9 1 0.1 : Best eta,cxpb,mutpb value?\n"
     ]
    },
    {
     "name": "stderr",
     "output_type": "stream",
     "text": [
      "INFO:__main__:236\t24    \t1618.09\t1914.11\t275.919\t14910.8\n",
      "236\t24    \t1618.09\t1914.11\t275.919\t14910.8\n"
     ]
    },
    {
     "name": "stdout",
     "output_type": "stream",
     "text": [
      "regular 85475.52907300001 time diminishing\n",
      "9 1 0.1 : Best eta,cxpb,mutpb value?\n"
     ]
    },
    {
     "name": "stderr",
     "output_type": "stream",
     "text": [
      "INFO:__main__:237\t25    \t1477.81\t1268.04\t275.919\t8973.02\n",
      "237\t25    \t1477.81\t1268.04\t275.919\t8973.02\n"
     ]
    },
    {
     "name": "stdout",
     "output_type": "stream",
     "text": [
      "regular 76690.53495589999 time diminishing\n",
      "9 1 0.1 : Best eta,cxpb,mutpb value?\n"
     ]
    },
    {
     "name": "stderr",
     "output_type": "stream",
     "text": [
      "INFO:__main__:238\t16    \t1188.1 \t339.46 \t275.919\t2655.04\n",
      "238\t16    \t1188.1 \t339.46 \t275.919\t2655.04\n"
     ]
    },
    {
     "name": "stdout",
     "output_type": "stream",
     "text": [
      "regular 52092.1401209 time diminishing\n",
      "9 1 0.1 : Best eta,cxpb,mutpb value?\n"
     ]
    }
   ],
   "source": [
    "import quantities as qt\n",
    "efel_filter_iterable = {\n",
    "    \"ISI_log_slope\":None,\n",
    "    \"mean_frequency\":None,\n",
    "    \"adaptation_index2\":None,\n",
    "    \"first_isi\":None,\n",
    "    \"ISI_CV\":None,\n",
    "    \"median_isi\":None,\n",
    "    \"Spikecount\":None,\n",
    "    \"all_ISI_values\":None,\n",
    "    \"ISI_values\":None,\n",
    "    \"time_to_first_spike\":None,\n",
    "    \"time_to_last_spike\":None,\n",
    "    \"time_to_second_spike\":None}\n",
    "#}\n",
    "\n",
    "#    \"extra_tests\":{\"var_expl\":suite.traces[\"vm_soma\"],\"vmr\":qt.mV}\n",
    "obs_preds,opt,target,hall_of_fame,cell_evaluator = test_opt_relative_diff(specimen_id = 325479788,\n",
    "                                                                          model_type=\"IZHI\",\n",
    "                                                                          efel_filter_iterable=efel_filter_iterable)\n"
   ]
  },
  {
   "cell_type": "code",
   "execution_count": null,
   "metadata": {},
   "outputs": [],
   "source": [
    "\n",
    "check_bin_vm_soma(target,opt)"
   ]
  },
  {
   "cell_type": "code",
   "execution_count": null,
   "metadata": {},
   "outputs": [],
   "source": [
    "df = pd.DataFrame(obs_preds)\n",
    "df.rename(columns={0:'EFEL_feature_NU_test_Name',1:'prediction',2:'observation',3:'neuronunit_score'},inplace=True)\n",
    "df"
   ]
  },
  {
   "cell_type": "code",
   "execution_count": null,
   "metadata": {},
   "outputs": [],
   "source": [
    "3:'neuronunit_score'},inplace=True)\n",
    "df"
   ]
  }
 ],
 "metadata": {
  "kernelspec": {
   "display_name": "Python 3",
   "language": "python",
   "name": "python3"
  },
  "language_info": {
   "codemirror_mode": {
    "name": "ipython",
    "version": 3
   },
   "file_extension": ".py",
   "mimetype": "text/x-python",
   "name": "python",
   "nbconvert_exporter": "python",
   "pygments_lexer": "ipython3",
   "version": "3.7.4"
  }
 },
 "nbformat": 4,
 "nbformat_minor": 2
}

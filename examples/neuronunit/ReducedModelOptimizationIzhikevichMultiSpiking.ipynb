{
 "cells": [
  {
   "cell_type": "markdown",
   "metadata": {},
   "source": [
    "# An example of using BluePyOpt/NeuronUnit Optimization\n",
    "Using:\n",
    "* Allen Brain Experimental data (`specimen_id=325479788`, sweep number `64`) to derive features from.\n",
    "* EFEL feature extraction\n",
    "* BluePyOpt Optimization.\n",
    "* Numba JIT simple cell models (Izhikevich, Adaptive Exponential).\n",
    "* Neuronunit model scoring"
   ]
  },
  {
   "cell_type": "code",
   "execution_count": 1,
   "metadata": {},
   "outputs": [],
   "source": [
    "import sys\n",
    "sys.path.insert(0,'/home/user/git/revitalize/neuronunit')\n",
    "del sys.path[-5]\n",
    "import matplotlib.pyplot as plt\n",
    "import seaborn as sns\n",
    "sns.set(context=\"paper\", font=\"monospace\")\n",
    "%matplotlib inline\n",
    "SILENT = True\n",
    "import warnings\n",
    "if SILENT:\n",
    "    warnings.filterwarnings(\"ignore\")\n",
    "\n",
    "from neuronunit.plotting.plot_utils import check_bin_vm_soma\n",
    "from neuronunit.allenapi.allen_data_driven import opt_setup\n",
    "from nb_utils import optimize_job\n",
    "from sciunit.scores import RelativeDifferenceScore\n",
    "import pandas as pd\n",
    "import pickle\n",
    "import quantities as pq\n",
    "specimen_id = 325479788\n",
    "import numpy as np\n",
    "from neuronunit.tests.target_spike_current import SpikeCountSearch\n",
    "from neuronunit.optimization.optimization_management import inject_model_soma\n",
    "\n"
   ]
  },
  {
   "cell_type": "code",
   "execution_count": 2,
   "metadata": {},
   "outputs": [],
   "source": [
    "def test_opt_relative_diff(specimen_id,model_type = \"ADEXP\",efel_filter_iterable=None):\n",
    "    fitnesses,scores,obs_preds,opt,target,hall_of_fame,cell_evaluator = optimize_job(specimen_id,\n",
    "                                                 model_type,\n",
    "                                                 score_type=RelativeDifferenceScore,\n",
    "                                                 efel_filter_iterable=efel_filter_iterable)\n",
    "    print(fitnesses)\n",
    "    return obs_preds,opt,target,hall_of_fame,cell_evaluator\n"
   ]
  },
  {
   "cell_type": "markdown",
   "metadata": {},
   "source": [
    "# Below is a plot of vm trace for fitting the simple model to with neuron unit.\n",
    "* It is from Allen Specimen id `325479788`, sweep number `64`.\n",
    "* sweep number \n"
   ]
  },
  {
   "cell_type": "code",
   "execution_count": 3,
   "metadata": {},
   "outputs": [
    {
     "data": {
      "image/png": "[encoded data removed]",
      "text/plain": [
       "<Figure size 432x288 with 1 Axes>"
      ]
     },
     "metadata": {
      "needs_background": "light"
     },
     "output_type": "display_data"
    }
   ],
   "source": [
    "with open('325479788later_allen_NU_tests.p', \"rb\") as f:\n",
    "    suite = pickle.load(f)\n",
    "    \n",
    "plt.plot(suite.traces[\"vm_soma\"].times,suite.traces[\"vm_soma\"])\n",
    "plt.xlabel(pq.s)\n",
    "plt.ylabel(suite.traces[\"vm_soma\"].dimensionality)\n",
    "plt.title(\"$V_{M}$ Allen Specimen id 325479788, sweep number 64\")\n",
    "plt.show()\n"
   ]
  },
  {
   "cell_type": "markdown",
   "metadata": {},
   "source": [
    "# Example 1\n",
    "* Izhikevich model \n",
    "* Allen specimen 325479788"
   ]
  },
  {
   "cell_type": "code",
   "execution_count": null,
   "metadata": {
    "slideshow": {
     "slide_type": "slide"
    }
   },
   "outputs": [
    {
     "name": "stdout",
     "output_type": "stream",
     "text": [
      "<class 'jithub.models.model_classes.IzhiModel'>\n"
     ]
    },
    {
     "name": "stderr",
     "output_type": "stream",
     "text": [
      "WARNING:root:\n",
      "  \u001b[33m\u001b[1mWarning:\u001b[0m to view this Streamlit app on a browser, run it with the following\n",
      "  command:\n",
      "\n",
      "    streamlit run /home/user/anaconda3/lib/python3.7/site-packages/ipykernel_launcher.py [ARGUMENTS]\n",
      "2021-02-15 17:45:08.299 WARNING root: \n",
      "  \u001b[33m\u001b[1mWarning:\u001b[0m to view this Streamlit app on a browser, run it with the following\n",
      "  command:\n",
      "\n",
      "    streamlit run /home/user/anaconda3/lib/python3.7/site-packages/ipykernel_launcher.py [ARGUMENTS]\n",
      "INFO:__main__:gen\tnevals\tavg    \tstd    \tmin    \tmax  \n",
      "1  \t100   \t5391.89\t7563.54\t153.034\t18000\n",
      "2021-02-15 17:46:56.902 INFO    __main__: gen\tnevals\tavg    \tstd    \tmin    \tmax  \n",
      "1  \t100   \t5391.89\t7563.54\t153.034\t18000\n"
     ]
    },
    {
     "data": {
      "application/vnd.jupyter.widget-view+json": {
       "model_id": "c12820ea89654cb6b09d2a3c82b91c4c",
       "version_major": 2,
       "version_minor": 0
      },
      "text/plain": [
       "HBox(children=(FloatProgress(value=0.0, max=500.0), HTML(value='')))"
      ]
     },
     "metadata": {},
     "output_type": "display_data"
    },
    {
     "name": "stderr",
     "output_type": "stream",
     "text": [
      "INFO:__main__:2  \t100   \t5180.17\t7446.7 \t141.184\t18000\n",
      "2021-02-15 17:48:40.335 INFO    __main__: 2  \t100   \t5180.17\t7446.7 \t141.184\t18000\n",
      "INFO:__main__:3  \t50    \t1492.21\t4214.83\t110.193\t18000\n",
      "2021-02-15 17:49:19.076 INFO    __main__: 3  \t50    \t1492.21\t4214.83\t110.193\t18000\n",
      "INFO:__main__:4  \t50    \t1624.99\t4808.92\t108.63 \t18000\n",
      "2021-02-15 17:49:58.665 INFO    __main__: 4  \t50    \t1624.99\t4808.92\t108.63 \t18000\n",
      "INFO:__main__:5  \t50    \t1426.04\t4527.41\t60.0746\t18000\n",
      "2021-02-15 17:50:37.726 INFO    __main__: 5  \t50    \t1426.04\t4527.41\t60.0746\t18000\n",
      "INFO:__main__:6  \t50    \t1377.76\t4536.27\t47.1518\t18000\n",
      "2021-02-15 17:51:18.032 INFO    __main__: 6  \t50    \t1377.76\t4536.27\t47.1518\t18000\n",
      "INFO:__main__:7  \t50    \t2259.42\t5639.89\t45.8588\t18000\n",
      "2021-02-15 17:52:06.415 INFO    __main__: 7  \t50    \t2259.42\t5639.89\t45.8588\t18000\n",
      "INFO:__main__:8  \t50    \t2388.88\t5898.68\t45.1384\t18000\n",
      "2021-02-15 17:52:57.611 INFO    __main__: 8  \t50    \t2388.88\t5898.68\t45.1384\t18000\n",
      "INFO:__main__:9  \t50    \t1994.79\t5371.59\t45.1384\t18000\n",
      "2021-02-15 17:53:44.316 INFO    __main__: 9  \t50    \t1994.79\t5371.59\t45.1384\t18000\n",
      "INFO:__main__:10 \t50    \t1900.04\t5295.74\t33.3619\t18000\n",
      "2021-02-15 17:54:33.080 INFO    __main__: 10 \t50    \t1900.04\t5295.74\t33.3619\t18000\n",
      "INFO:__main__:11 \t50    \t1318.6 \t4554.72\t33.3619\t18000\n",
      "2021-02-15 17:55:13.716 INFO    __main__: 11 \t50    \t1318.6 \t4554.72\t33.3619\t18000\n",
      "INFO:__main__:12 \t50    \t1925.4 \t5391.8 \t30.3038\t18000\n",
      "2021-02-15 17:55:58.269 INFO    __main__: 12 \t50    \t1925.4 \t5391.8 \t30.3038\t18000\n",
      "INFO:__main__:13 \t50    \t1684.84\t4898.12\t29.4101\t18000\n",
      "2021-02-15 17:56:35.234 INFO    __main__: 13 \t50    \t1684.84\t4898.12\t29.4101\t18000\n",
      "INFO:__main__:14 \t50    \t509.564\t2538.56\t29.4101\t18000\n",
      "2021-02-15 17:57:01.876 INFO    __main__: 14 \t50    \t509.564\t2538.56\t29.4101\t18000\n",
      "INFO:__main__:15 \t50    \t745.381\t3329.17\t29.4101\t18000\n",
      "2021-02-15 17:57:32.496 INFO    __main__: 15 \t50    \t745.381\t3329.17\t29.4101\t18000\n",
      "INFO:__main__:16 \t50    \t1125.79\t4243.04\t29.3968\t18000\n",
      "2021-02-15 17:58:09.694 INFO    __main__: 16 \t50    \t1125.79\t4243.04\t29.3968\t18000\n",
      "INFO:__main__:17 \t50    \t250.039\t1467.89\t29.3968\t14038.8\n",
      "2021-02-15 17:58:31.787 INFO    __main__: 17 \t50    \t250.039\t1467.89\t29.3968\t14038.8\n",
      "INFO:__main__:18 \t50    \t1743.18\t5151.88\t29.3193\t18000  \n",
      "2021-02-15 17:59:15.897 INFO    __main__: 18 \t50    \t1743.18\t5151.88\t29.3193\t18000  \n",
      "INFO:__main__:19 \t50    \t1504.88\t4849.04\t29.3193\t18000  \n",
      "2021-02-15 17:59:57.482 INFO    __main__: 19 \t50    \t1504.88\t4849.04\t29.3193\t18000  \n",
      "INFO:__main__:20 \t50    \t2009.5 \t5425.28\t29.308 \t18000  \n",
      "2021-02-15 18:00:39.093 INFO    __main__: 20 \t50    \t2009.5 \t5425.28\t29.308 \t18000  \n",
      "INFO:__main__:21 \t50    \t951.132\t3751.59\t29.308 \t18000  \n",
      "2021-02-15 18:01:10.231 INFO    __main__: 21 \t50    \t951.132\t3751.59\t29.308 \t18000  \n",
      "INFO:__main__:22 \t50    \t1535.33\t4651.5 \t29.1504\t18000  \n",
      "2021-02-15 18:01:49.034 INFO    __main__: 22 \t50    \t1535.33\t4651.5 \t29.1504\t18000  \n",
      "INFO:__main__:23 \t50    \t2059.26\t5384.66\t29.1504\t18000  \n",
      "2021-02-15 18:02:33.576 INFO    __main__: 23 \t50    \t2059.26\t5384.66\t29.1504\t18000  \n",
      "INFO:__main__:24 \t50    \t2059.6 \t5522.45\t29.0188\t18000  \n",
      "2021-02-15 18:03:19.451 INFO    __main__: 24 \t50    \t2059.6 \t5522.45\t29.0188\t18000  \n",
      "INFO:__main__:25 \t50    \t902.059\t3740.62\t29.0188\t18000  \n",
      "2021-02-15 18:03:50.880 INFO    __main__: 25 \t50    \t902.059\t3740.62\t29.0188\t18000  \n",
      "INFO:__main__:26 \t50    \t584.798\t3050.24\t29.0188\t18000  \n",
      "2021-02-15 18:04:20.905 INFO    __main__: 26 \t50    \t584.798\t3050.24\t29.0188\t18000  \n",
      "INFO:__main__:27 \t50    \t1123.02\t4100.8 \t29.0129\t18000  \n",
      "2021-02-15 18:04:55.252 INFO    __main__: 27 \t50    \t1123.02\t4100.8 \t29.0129\t18000  \n",
      "INFO:__main__:28 \t50    \t593.782\t3053.5 \t29.0129\t18000  \n",
      "2021-02-15 18:05:26.291 INFO    __main__: 28 \t50    \t593.782\t3053.5 \t29.0129\t18000  \n",
      "INFO:__main__:29 \t50    \t981.381\t3901.4 \t29.0129\t18000  \n",
      "2021-02-15 18:06:00.108 INFO    __main__: 29 \t50    \t981.381\t3901.4 \t29.0129\t18000  \n",
      "INFO:__main__:30 \t50    \t1812.49\t4959   \t29.0127\t18000  \n",
      "2021-02-15 18:06:36.053 INFO    __main__: 30 \t50    \t1812.49\t4959   \t29.0127\t18000  \n",
      "INFO:__main__:31 \t50    \t1464.81\t4850.69\t29.0037\t18000  \n",
      "2021-02-15 18:07:18.321 INFO    __main__: 31 \t50    \t1464.81\t4850.69\t29.0037\t18000  \n",
      "INFO:__main__:32 \t50    \t1592.57\t5008.07\t26.1811\t18000  \n",
      "2021-02-15 18:08:00.685 INFO    __main__: 32 \t50    \t1592.57\t5008.07\t26.1811\t18000  \n",
      "INFO:__main__:33 \t50    \t1487.31\t4666.37\t26.1682\t18000  \n",
      "2021-02-15 18:08:40.219 INFO    __main__: 33 \t50    \t1487.31\t4666.37\t26.1682\t18000  \n",
      "INFO:__main__:34 \t50    \t1919.51\t5394.71\t26.1682\t18000  \n",
      "2021-02-15 18:09:25.766 INFO    __main__: 34 \t50    \t1919.51\t5394.71\t26.1682\t18000  \n",
      "INFO:__main__:35 \t50    \t1317   \t4350.62\t26.1682\t18000  \n",
      "2021-02-15 18:09:56.898 INFO    __main__: 35 \t50    \t1317   \t4350.62\t26.1682\t18000  \n",
      "INFO:__main__:36 \t50    \t1195.17\t4303.1 \t26.1642\t18000  \n",
      "2021-02-15 18:10:29.711 INFO    __main__: 36 \t50    \t1195.17\t4303.1 \t26.1642\t18000  \n",
      "INFO:__main__:37 \t50    \t1051.05\t3957.78\t26.1642\t18000  \n",
      "2021-02-15 18:11:02.253 INFO    __main__: 37 \t50    \t1051.05\t3957.78\t26.1642\t18000  \n",
      "INFO:__main__:38 \t50    \t314.372\t1953.63\t26.1629\t14041.2\n",
      "2021-02-15 18:11:24.793 INFO    __main__: 38 \t50    \t314.372\t1953.63\t26.1629\t14041.2\n",
      "INFO:__main__:39 \t50    \t344.012\t2245.37\t26.1629\t18000  \n",
      "2021-02-15 18:11:52.645 INFO    __main__: 39 \t50    \t344.012\t2245.37\t26.1629\t18000  \n",
      "INFO:__main__:40 \t50    \t1177.64\t4162.09\t26.1626\t18000  \n",
      "2021-02-15 18:12:26.096 INFO    __main__: 40 \t50    \t1177.64\t4162.09\t26.1626\t18000  \n",
      "INFO:__main__:41 \t50    \t443.075\t2379.06\t26.1626\t14041.3\n",
      "2021-02-15 18:12:49.707 INFO    __main__: 41 \t50    \t443.075\t2379.06\t26.1626\t14041.3\n",
      "INFO:__main__:42 \t50    \t304.953\t1952.29\t26.1623\t14040.5\n",
      "2021-02-15 18:13:11.805 INFO    __main__: 42 \t50    \t304.953\t1952.29\t26.1623\t14040.5\n",
      "INFO:__main__:43 \t50    \t1278.13\t3991.72\t26.1623\t14040.6\n",
      "2021-02-15 18:13:34.445 INFO    __main__: 43 \t50    \t1278.13\t3991.72\t26.1623\t14040.6\n",
      "INFO:__main__:44 \t50    \t725.655\t3038.66\t26.1623\t14041.8\n",
      "2021-02-15 18:13:56.691 INFO    __main__: 44 \t50    \t725.655\t3038.66\t26.1623\t14041.8\n",
      "INFO:__main__:45 \t50    \t722.582\t3039.36\t26.1623\t14040.9\n",
      "2021-02-15 18:14:19.657 INFO    __main__: 45 \t50    \t722.582\t3039.36\t26.1623\t14040.9\n",
      "INFO:__main__:46 \t50    \t447.741\t2378.24\t26.1623\t14040.5\n",
      "2021-02-15 18:14:42.533 INFO    __main__: 46 \t50    \t447.741\t2378.24\t26.1623\t14040.5\n",
      "INFO:__main__:47 \t50    \t761.068\t3230.71\t26.1618\t18000  \n",
      "2021-02-15 18:15:07.080 INFO    __main__: 47 \t50    \t761.068\t3230.71\t26.1618\t18000  \n",
      "INFO:__main__:48 \t50    \t304.384\t1952.23\t26.1618\t14039.8\n",
      "2021-02-15 18:15:29.403 INFO    __main__: 48 \t50    \t304.384\t1952.23\t26.1618\t14039.8\n",
      "INFO:__main__:49 \t50    \t304.181\t1952.5 \t26.1618\t14041.5\n",
      "2021-02-15 18:15:54.429 INFO    __main__: 49 \t50    \t304.181\t1952.5 \t26.1618\t14041.5\n",
      "INFO:__main__:50 \t50    \t720.731\t3039.89\t26.1618\t14041.7\n",
      "2021-02-15 18:16:19.661 INFO    __main__: 50 \t50    \t720.731\t3039.89\t26.1618\t14041.7\n",
      "INFO:__main__:51 \t50    \t165.301\t1387.57\t26.1455\t14041  \n",
      "2021-02-15 18:16:43.819 INFO    __main__: 51 \t50    \t165.301\t1387.57\t26.1455\t14041  \n",
      "INFO:__main__:52 \t50    \t998.083\t3559.17\t26.1455\t14041.1\n",
      "2021-02-15 18:17:07.359 INFO    __main__: 52 \t50    \t998.083\t3559.17\t26.1455\t14041.1\n",
      "INFO:__main__:53 \t50    \t998.753\t3559.12\t26.1455\t14042.6\n",
      "2021-02-15 18:17:31.327 INFO    __main__: 53 \t50    \t998.753\t3559.12\t26.1455\t14042.6\n",
      "INFO:__main__:54 \t50    \t999.657\t3558.84\t26.1455\t14041.2\n",
      "2021-02-15 18:17:58.353 INFO    __main__: 54 \t50    \t999.657\t3558.84\t26.1455\t14041.2\n",
      "INFO:__main__:55 \t50    \t861.978\t3312.07\t26.1455\t14041.2\n",
      "2021-02-15 18:18:26.707 INFO    __main__: 55 \t50    \t861.978\t3312.07\t26.1455\t14041.2\n",
      "INFO:__main__:56 \t50    \t1555.72\t4364.9 \t26.142 \t14041.2\n",
      "2021-02-15 18:18:56.040 INFO    __main__: 56 \t50    \t1555.72\t4364.9 \t26.142 \t14041.2\n",
      "INFO:__main__:57 \t50    \t861.55 \t3312.22\t26.142 \t14042.4\n",
      "2021-02-15 18:19:19.990 INFO    __main__: 57 \t50    \t861.55 \t3312.22\t26.142 \t14042.4\n",
      "INFO:__main__:58 \t50    \t167.155\t1387.4 \t26.142 \t14041.2\n",
      "2021-02-15 18:19:44.350 INFO    __main__: 58 \t50    \t167.155\t1387.4 \t26.142 \t14041.2\n",
      "INFO:__main__:59 \t50    \t722.846\t3039.41\t26.142 \t14041.2\n",
      "2021-02-15 18:20:08.947 INFO    __main__: 59 \t50    \t722.846\t3039.41\t26.142 \t14041.2\n",
      "INFO:__main__:60 \t50    \t1000.38\t3558.61\t26.142 \t14041.2\n"
     ]
    },
    {
     "name": "stderr",
     "output_type": "stream",
     "text": [
      "2021-02-15 18:20:32.594 INFO    __main__: 60 \t50    \t1000.38\t3558.61\t26.142 \t14041.2\n",
      "INFO:__main__:61 \t50    \t1694.77\t4533.47\t26.142 \t14041.4\n",
      "2021-02-15 18:21:01.145 INFO    __main__: 61 \t50    \t1694.77\t4533.47\t26.142 \t14041.4\n",
      "INFO:__main__:62 \t50    \t901.465\t3486.46\t26.142 \t18000  \n",
      "2021-02-15 18:21:36.898 INFO    __main__: 62 \t50    \t901.465\t3486.46\t26.142 \t18000  \n",
      "INFO:__main__:63 \t50    \t1593.31\t4493.23\t26.142 \t18000  \n",
      "2021-02-15 18:22:14.666 INFO    __main__: 63 \t50    \t1593.31\t4493.23\t26.142 \t18000  \n",
      "INFO:__main__:64 \t50    \t303.971\t1952.46\t26.142 \t14041.5\n",
      "2021-02-15 18:22:36.532 INFO    __main__: 64 \t50    \t303.971\t1952.46\t26.142 \t14041.5\n",
      "INFO:__main__:65 \t50    \t1354.09\t4271.59\t26.142 \t18000  \n",
      "2021-02-15 18:23:10.308 INFO    __main__: 65 \t50    \t1354.09\t4271.59\t26.142 \t18000  \n",
      "INFO:__main__:66 \t50    \t303.812\t1952.41\t26.142 \t14040.9\n",
      "2021-02-15 18:23:34.863 INFO    __main__: 66 \t50    \t303.812\t1952.41\t26.142 \t14040.9\n",
      "INFO:__main__:67 \t50    \t442.417\t2379   \t26.142 \t14040  \n",
      "2021-02-15 18:24:07.431 INFO    __main__: 67 \t50    \t442.417\t2379   \t26.142 \t14040  \n",
      "INFO:__main__:68 \t50    \t581.218\t2733.24\t26.142 \t14042.1\n",
      "2021-02-15 18:24:33.535 INFO    __main__: 68 \t50    \t581.218\t2733.24\t26.142 \t14042.1\n",
      "INFO:__main__:69 \t50    \t720.059\t3039.93\t26.142 \t14041.9\n",
      "2021-02-15 18:25:06.939 INFO    __main__: 69 \t50    \t720.059\t3039.93\t26.142 \t14041.9\n",
      "INFO:__main__:70 \t50    \t581.189\t2733.08\t26.142 \t14040.7\n",
      "2021-02-15 18:25:30.933 INFO    __main__: 70 \t50    \t581.189\t2733.08\t26.142 \t14040.7\n",
      "INFO:__main__:71 \t50    \t858.89 \t3312.78\t26.142 \t14042.4\n",
      "2021-02-15 18:25:52.903 INFO    __main__: 71 \t50    \t858.89 \t3312.78\t26.142 \t14042.4\n",
      "INFO:__main__:72 \t50    \t205.128\t1779.49\t26.142 \t18000  \n",
      "2021-02-15 18:26:21.605 INFO    __main__: 72 \t50    \t205.128\t1779.49\t26.142 \t18000  \n",
      "INFO:__main__:73 \t50    \t165.134\t1387.39\t26.142 \t14039  \n",
      "2021-02-15 18:26:45.897 INFO    __main__: 73 \t50    \t165.134\t1387.39\t26.142 \t14039  \n",
      "INFO:__main__:74 \t50    \t164.985\t1387.57\t26.142 \t14040.7\n",
      "2021-02-15 18:27:10.023 INFO    __main__: 74 \t50    \t164.985\t1387.57\t26.142 \t14040.7\n",
      "INFO:__main__:75 \t50    \t165.098\t1387.5 \t26.142 \t14040.1\n",
      "2021-02-15 18:27:32.645 INFO    __main__: 75 \t50    \t165.098\t1387.5 \t26.142 \t14040.1\n",
      "INFO:__main__:76 \t50    \t304.738\t1952.47\t26.142 \t14042.2\n",
      "2021-02-15 18:27:56.717 INFO    __main__: 76 \t50    \t304.738\t1952.47\t26.142 \t14042.2\n",
      "INFO:__main__:77 \t50    \t303.908\t1952.29\t26.142 \t14040.2\n",
      "2021-02-15 18:28:20.352 INFO    __main__: 77 \t50    \t303.908\t1952.29\t26.142 \t14040.2\n",
      "INFO:__main__:78 \t50    \t481.634\t2622.94\t26.142 \t18000  \n",
      "2021-02-15 18:28:47.301 INFO    __main__: 78 \t50    \t481.634\t2622.94\t26.142 \t18000  \n"
     ]
    }
   ],
   "source": [
    "import quantities as qt\n",
    "efel_filter_iterable = {\n",
    "    \"ISI_log_slope\":None,\n",
    "    \"adaptation_index2\":None,\n",
    "    \"first_isi\":None,\n",
    "    \"ISI_CV\":None,\n",
    "    \"median_isi\":None,\n",
    "    \"Spikecount\":None,\n",
    "    \"all_ISI_values\":None,\n",
    "    \"ISI_values\":None,\n",
    "    \"time_to_first_spike\":None,\n",
    "    \"time_to_last_spike\":None,\n",
    "    \"time_to_second_spike\":None}\n",
    "#}\n",
    "efel_filter_iterable = list(efel_filter_iterable.keys())\n",
    "#    \"extra_tests\":{\"var_expl\":suite.traces[\"vm_soma\"],\"vmr\":qt.mV}\n",
    "obs_preds,opt,target,hall_of_fame,cell_evaluator = test_opt_relative_diff(specimen_id = 325479788,\n",
    "                                                                          model_type=\"IZHI\",\n",
    "                                                                          efel_filter_iterable=efel_filter_iterable)\n"
   ]
  },
  {
   "cell_type": "code",
   "execution_count": null,
   "metadata": {},
   "outputs": [],
   "source": [
    "\n",
    "check_bin_vm_soma(target,opt)"
   ]
  },
  {
   "cell_type": "code",
   "execution_count": null,
   "metadata": {},
   "outputs": [],
   "source": [
    "from jithub.models.model_classes import IzhiModel"
   ]
  },
  {
   "cell_type": "code",
   "execution_count": null,
   "metadata": {},
   "outputs": [],
   "source": [
    "df = pd.DataFrame(obs_preds)\n",
    "df.rename(columns={0:'EFEL_feature_NU_test_Name',1:'prediction',2:'observation',3:'neuronunit_score'},inplace=True)\n",
    "df"
   ]
  },
  {
   "cell_type": "code",
   "execution_count": null,
   "metadata": {},
   "outputs": [],
   "source": [
    "3:'neuronunit_score'},inplace=True)\n",
    "df"
   ]
  }
 ],
 "metadata": {
  "kernelspec": {
   "display_name": "Python 3",
   "language": "python",
   "name": "python3"
  },
  "language_info": {
   "codemirror_mode": {
    "name": "ipython",
    "version": 3
   },
   "file_extension": ".py",
   "mimetype": "text/x-python",
   "name": "python",
   "nbconvert_exporter": "python",
   "pygments_lexer": "ipython3",
   "version": "3.7.4"
  }
 },
 "nbformat": 4,
 "nbformat_minor": 2
}

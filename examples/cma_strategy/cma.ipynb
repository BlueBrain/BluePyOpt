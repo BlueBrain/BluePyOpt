{
 "cells": [
  {
   "cell_type": "markdown",
   "metadata": {},
   "source": [
    "# Optimisation using the CMA evolutionary strategy\n",
    "\n",
    "This notebook will explain how to optimise a model using the covariance matrix adaptation (CMA) optimisation strategy. \n",
    "BluePyOpt includes two flavors of CMA: a single objective one and a hybrid single/multi objective one.\n",
    "\n",
    "For a tutorial on the theory and algorithm behind CMA, please refer to https://arxiv.org/abs/1604.00772.\n",
    "\n",
    "This notebook uses the simple cell model defined in examples/simplecell. Please refer to this notebook for a first introduction to model fitting."
   ]
  },
  {
   "cell_type": "code",
   "execution_count": 1,
   "metadata": {},
   "outputs": [
    {
     "name": "stdout",
     "output_type": "stream",
     "text": [
      "Requirement already satisfied: matplotlib in /gpfs/bbp.cscs.ch/ssd/apps/tools/jupyter/venvs/python37/lib/python3.7/site-packages (3.4.3)\n",
      "Requirement already satisfied: python-dateutil>=2.7 in /gpfs/bbp.cscs.ch/ssd/apps/tools/jupyter/venvs/python37/lib/python3.7/site-packages (from matplotlib) (2.8.2)\n",
      "Requirement already satisfied: cycler>=0.10 in /gpfs/bbp.cscs.ch/ssd/apps/tools/jupyter/venvs/python37/lib/python3.7/site-packages (from matplotlib) (0.11.0)\n",
      "Requirement already satisfied: numpy>=1.16 in /gpfs/bbp.cscs.ch/ssd/apps/tools/jupyter/venvs/python37/lib/python3.7/site-packages (from matplotlib) (1.21.4)\n",
      "Requirement already satisfied: pillow>=6.2.0 in /gpfs/bbp.cscs.ch/ssd/apps/tools/jupyter/venvs/python37/lib/python3.7/site-packages (from matplotlib) (8.4.0)\n",
      "Requirement already satisfied: pyparsing>=2.2.1 in /gpfs/bbp.cscs.ch/ssd/apps/tools/jupyter/venvs/python37/lib/python3.7/site-packages (from matplotlib) (2.4.7)\n",
      "Requirement already satisfied: kiwisolver>=1.0.1 in /gpfs/bbp.cscs.ch/ssd/apps/tools/jupyter/venvs/python37/lib/python3.7/site-packages (from matplotlib) (1.3.2)\n",
      "Requirement already satisfied: six>=1.5 in /gpfs/bbp.cscs.ch/ssd/apps/tools/jupyter/venvs/python37/lib/python3.7/site-packages (from python-dateutil>=2.7->matplotlib) (1.16.0)\n",
      "\u001b[33mWARNING: You are using pip version 20.1.1; however, version 22.0.3 is available.\n",
      "You should consider upgrading via the '/gpfs/bbp.cscs.ch/ssd/apps/tools/jupyter/venvs/python37/bin/python3 -m pip install --upgrade pip' command.\u001b[0m\n"
     ]
    }
   ],
   "source": [
    "# Install matplotlib if needed\n",
    "!pip install matplotlib"
   ]
  },
  {
   "cell_type": "code",
   "execution_count": 2,
   "metadata": {},
   "outputs": [],
   "source": [
    "%matplotlib inline\n",
    "\n",
    "import matplotlib.pyplot as plt\n",
    "import numpy\n",
    "\n",
    "%load_ext autoreload\n",
    "%autoreload"
   ]
  },
  {
   "cell_type": "code",
   "execution_count": 3,
   "metadata": {},
   "outputs": [],
   "source": [
    "def plot_fitness(logbook):\n",
    "    gen_numbers = logbook.select('gen')\n",
    "    min_fitness = logbook.select('min')\n",
    "    max_fitness = logbook.select('max')\n",
    "    plt.plot(gen_numbers, min_fitness, label='min fitness')\n",
    "    plt.xlabel('generation #')\n",
    "    plt.ylabel('score (# std)')\n",
    "    plt.legend()\n",
    "    plt.xlim(min(gen_numbers) - 1, max(gen_numbers) + 1) \n",
    "    plt.ylim(0.9*min(min_fitness), 1.1 * max(min_fitness)) "
   ]
  },
  {
   "cell_type": "code",
   "execution_count": 4,
   "metadata": {},
   "outputs": [],
   "source": [
    "def plot_responses(responses):\n",
    "    plt.subplot(2,1,1)\n",
    "    plt.plot(responses['step1.soma.v']['time'], responses['step1.soma.v']['voltage'], label='step1')\n",
    "    plt.legend()\n",
    "    plt.subplot(2,1,2)\n",
    "    plt.plot(responses['step2.soma.v']['time'], responses['step2.soma.v']['voltage'], label='step2')\n",
    "    plt.legend()\n",
    "    plt.tight_layout()"
   ]
  },
  {
   "cell_type": "markdown",
   "metadata": {},
   "source": [
    "Setting up the cell template and evaluator\n",
    "-------------------------"
   ]
  },
  {
   "cell_type": "markdown",
   "metadata": {},
   "source": [
    "First, we instantiate the cell template and evaluator as defined in the simplecell example:"
   ]
  },
  {
   "cell_type": "code",
   "execution_count": 6,
   "metadata": {},
   "outputs": [],
   "source": [
    "import bluepyopt.ephys.examples.simplecell\n",
    "\n",
    "simple_cell = bluepyopt.ephys.examples.simplecell.SimpleCell()\n",
    "evaluator = simple_cell.cell_evaluator"
   ]
  },
  {
   "cell_type": "markdown",
   "metadata": {},
   "source": [
    "Optimisation using single objective CMA (SO-CMA)\n",
    "-------------------------"
   ]
  },
  {
   "cell_type": "markdown",
   "metadata": {},
   "source": [
    "First we will present the single objective version of the CMA strategy.\n",
    "\n",
    "In this version of CMA, the optimizer aims at minimizing a single fitness value computed as the sum of the scores of the objectives.\n",
    "\n",
    "Note that in CMA, informing the offspring_size is optional as by default, it is automatically set to\n",
    "int(4 + 3 * log(dimension_parameter_space))."
   ]
  },
  {
   "cell_type": "code",
   "execution_count": 53,
   "metadata": {},
   "outputs": [],
   "source": [
    "optimiser = bluepyopt.deapext.optimisationsCMA.DEAPOptimisationCMA\n",
    "optimisation = optimiser(evaluator=evaluator, seed=1)\n",
    "pop, hof, log, hist = optimisation.run(max_ngen=10)"
   ]
  },
  {
   "cell_type": "code",
   "execution_count": 54,
   "metadata": {},
   "outputs": [
    {
     "name": "stdout",
     "output_type": "stream",
     "text": [
      "Best individual:  [0.11513442416272959, 0.038816802452611765]\n",
      "Fitness values:  (0.0,)\n"
     ]
    }
   ],
   "source": [
    "best_ind = hof[0]\n",
    "print('Best individual: ', best_ind)\n",
    "print('Fitness values: ', best_ind.fitness.values)"
   ]
  },
  {
   "cell_type": "code",
   "execution_count": 55,
   "metadata": {},
   "outputs": [
    {
     "data": {
      "image/png": "[encoded data removed]",
      "text/plain": [
       "<Figure size 432x288 with 1 Axes>"
      ]
     },
     "metadata": {
      "needs_background": "light"
     },
     "output_type": "display_data"
    }
   ],
   "source": [
    "plot_fitness(log)"
   ]
  },
  {
   "cell_type": "markdown",
   "metadata": {},
   "source": [
    "If one wishes to optimize starting form a known solution, or fine-tune a past mdodel, the argument `centroid` can be used to initialise the center of the CMA search. In this case, it might be useful to also specify `sigma`, which is the initial standard deviation of the distribution from which the models are drawn.\n",
    "\n",
    "For example here,we can restart from the final results of the previous optimisation:"
   ]
  },
  {
   "cell_type": "code",
   "execution_count": 56,
   "metadata": {},
   "outputs": [],
   "source": [
    "optimisation = optimiser(centroids=[list(hof[0])], sigma=0.01, evaluator=evaluator, seed=2)\n",
    "pop, hof, log, hist = optimisation.run(max_ngen=10)"
   ]
  },
  {
   "cell_type": "code",
   "execution_count": 57,
   "metadata": {},
   "outputs": [
    {
     "name": "stdout",
     "output_type": "stream",
     "text": [
      "Best individual:  [0.11485248564327624, 0.039145905479049836]\n",
      "Fitness values:  (0.0,)\n"
     ]
    }
   ],
   "source": [
    "best_ind = hof[0]\n",
    "print('Best individual: ', best_ind)\n",
    "print('Fitness values: ', best_ind.fitness.values)"
   ]
  },
  {
   "cell_type": "markdown",
   "metadata": {},
   "source": [
    "Optimisation using multi objective CMA (MO-CMA)\n",
    "-------------------------"
   ]
  },
  {
   "cell_type": "markdown",
   "metadata": {},
   "source": [
    "Second is the hybrid single/multi objective CMA strategy. It is tasked with both:\n",
    "- minimizing the fitness computed as the sum of the scores \n",
    "- maximizing the hyper-volume of the Pareto front formed by the current population of models.\n",
    "\n",
    "At each generation, all models in the population are ranked for both criteria, and a mixed rank is obtained following the formula:\n",
    "\n",
    "rank_mixed = w_hv * rank_hv. + ((1 - w_hv) * rank_fitness).\n",
    "\n",
    "Following this ranking, the best models are selected to update the CMA kernel for the next generation.\n",
    "\n",
    "By default, the weight assigned to the hyper-volume ranking (w_hv) is set to 0.5. The case w_hv=1  would lead to a pure multi-objective optimisation aiming at maximizing the hypervolume while w_hv would aim at minimizing the raw fitness (note that in the latter, the result would differ from using the SO-CMA as the MO-CMA uses a slightly different evolutionary logic)."
   ]
  },
  {
   "cell_type": "code",
   "execution_count": 58,
   "metadata": {},
   "outputs": [],
   "source": [
    "optimisation = optimiser(weight_hv=0.5, offspring_size=3, selector_name=\"multi_objective\", evaluator=evaluator, seed=2)\n",
    "pop, hof, log, hist = optimisation.run(max_ngen=10)"
   ]
  },
  {
   "cell_type": "code",
   "execution_count": 59,
   "metadata": {},
   "outputs": [
    {
     "name": "stdout",
     "output_type": "stream",
     "text": [
      "Best individual:  [0.11309639259118459, 0.034266363909519156]\n",
      "Fitness values:  (0.0,)\n"
     ]
    }
   ],
   "source": [
    "best_ind = hof[0]\n",
    "print('Best individual: ', best_ind)\n",
    "print('Fitness values: ', best_ind.fitness.values)"
   ]
  },
  {
   "cell_type": "code",
   "execution_count": 60,
   "metadata": {},
   "outputs": [
    {
     "data": {
      "image/png": "[encoded data removed]",
      "text/plain": [
       "<Figure size 432x288 with 1 Axes>"
      ]
     },
     "metadata": {
      "needs_background": "light"
     },
     "output_type": "display_data"
    }
   ],
   "source": [
    "plot_fitness(log)"
   ]
  },
  {
   "cell_type": "markdown",
   "metadata": {},
   "source": [
    "CMA versus IBEA \n",
    "-------------------------"
   ]
  },
  {
   "cell_type": "markdown",
   "metadata": {},
   "source": [
    "As the present package proposes both the IBEA and CMA evolutionary strategies, one might ask: Which one is the best?\n",
    "\n",
    "Unfortunately, there is no definitive answer to this question.\n",
    "\n",
    "From a theoretical point of view, the advantages of the CMA strategy seem strong:\n",
    "- In IBEA, the creation of a new generation is performed through random mating and mutation. However, due to the lack of a learning rate, this leads to a lack of convergence in the latter stage of the optimisation as the models will jump around an optimal solution without being able to reach it. In CMA, the `sigma` parameter, which is the width of the distribution from which the models should be drawn, decreases once the optimisation finds a bassin in the fitness landscape, leading to smoother convergence.\n",
    "- In IBEA, as the new generation only depends on the latest one, the knowledge contained in the previous generations is almost completely lost. In CMA, the covariance matrix continuously evolves, taking into account the results of each generation, leading to an accumulation of past knowledge about the shape of the local fitness landscape.\n",
    "- The ideal CMA population size, computed as int(4 + 3 * log(dimension_parameter_space)) is often one or two order of magnitude smaller than the population size needed by IBEA to reach the same results. This results in less compute per generation for the CMA strategy.\n",
    "\n",
    "However, CMA is not without drawbacks:\n",
    "- It is frequent for the CMA strategy (especially the SO-CMA) to converge too quickly and thus get stuck in sub-optimal minima. Therefore, to achieve the exploration level displayed by the IBEA strategy, it might be needed to run several CMA optimisations in parallel and pool the results.\n",
    "- Although the population size is much smaller when using the CMA strategy, a proper convergence might require many more generations than for the IBEA strategy, thus nullifying the advantage of the small generation in term of compute.\n",
    "\n",
    "Overall, CMA makes a more clever use of the information available, but IBEA is not to be neglected, especially if more compute power is available."
   ]
  },
  {
   "cell_type": "code",
   "execution_count": null,
   "metadata": {},
   "outputs": [],
   "source": []
  }
 ],
 "metadata": {
  "kernelspec": {
   "display_name": "lfpyenv_new",
   "language": "python",
   "name": "lfpyenv_new"
  },
  "language_info": {
   "codemirror_mode": {
    "name": "ipython",
    "version": 3
   },
   "file_extension": ".py",
   "mimetype": "text/x-python",
   "name": "python",
   "nbconvert_exporter": "python",
   "pygments_lexer": "ipython3",
   "version": "3.8.3"
  }
 },
 "nbformat": 4,
 "nbformat_minor": 4
}

{
 "cells": [
  {
   "cell_type": "markdown",
   "metadata": {},
   "source": [
    "# Optimization of burst and tonic firing in thalamo-cortical neurons"
   ]
  },
  {
   "cell_type": "markdown",
   "metadata": {},
   "source": [
    "____\n",
    "\n",
    "This notebook illustrates how to **setup** and **configure optimisations** presented in the following paper:\n",
    "\n",
    "Iavarone, Elisabetta, Jane Yi, Ying Shi, Bas-Jan Zandt, Christian O'Reilly, Werner Van Geit, Christian Rössert, Henry Markram, and Sean L. Hill. [\"Experimentally-constrained biophysical models of tonic and burst firing modes in thalamocortical neurons.\"](https://journals.plos.org/ploscompbiol/article?id=10.1371/journal.pcbi.1006753).\n",
    "\n",
    "Author of this script: Elisabetta Iavarone @ Blue Brain Project\n",
    "___\n",
    "\n",
    "The models were constrained by using the **experimental data** from Jane Yi, Ying Shi and Henry Markram at the [LNMC, EPFL](https://www.epfl.ch/labs/markram-lab/).\n",
    "\n",
    "The morphologies will be available on NeuroMorpho.org under the\n",
    "ODC Public Domain Dedication and Licence (PDDL) https://opendatacommons.org/licenses/pddl/1.0/\n",
    "_____\n",
    "\n",
    "This notebook makes use of scripts to automatically setup the optimisation, stored in the *config* and *setup* subfolders. To learn more about concepts such as *mechanisms*, *cell template*, *cell evaluator*, we suggest to go through the [L5PC example](https://github.com/BlueBrain/BluePyOpt/blob/master/examples/l5pc/L5PC.ipynb).\n",
    "_____\n",
    "\n",
    "**If you use methods or data presented in this notebook we ask to cite the following publications:**\n",
    "\n",
    "Iavarone, Elisabetta, Jane Yi, Ying Shi, Bas-Jan Zandt, Christian O'reilly, Werner Van Geit, Christian Rössert, Henry Markram, and Sean L. Hill. \"Experimentally-constrained biophysical models of tonic and burst firing modes in thalamocortical neurons.\" [BioRxiv (2019): 512269](https://www.biorxiv.org/content/10.1101/512269v3).\n",
    "\n",
    "Van Geit, W., Gevaert, M., Chindemi, G., Rössert, C., Courcol, J. D., Muller, E. B., ... & Markram, H. (2016). BluePyOpt: leveraging open source software and cloud infrastructure to optimise model parameters in neuroscience. [Frontiers in neuroinformatics, 10, 17](https://www.frontiersin.org/articles/10.3389/fninf.2016.00017/full).\n",
    "\n",
    "___\n",
    "\n",
    "\n",
    "**If you re-use any file from the *mechanisms* folder you should also cite the associated publication.**\n",
    "\n",
    "See license file for details.\n",
    "\n",
    "___"
   ]
  },
  {
   "cell_type": "code",
   "execution_count": 1,
   "metadata": {},
   "outputs": [],
   "source": [
    "%matplotlib inline\n",
    "import matplotlib.pyplot as plt\n",
    "\n",
    "import bluepyopt\n",
    "import os\n",
    "\n",
    "import pprint\n",
    "pp = pprint.PrettyPrinter(indent=2)"
   ]
  },
  {
   "cell_type": "markdown",
   "metadata": {},
   "source": [
    "## Set up the cell model and the cell evaluator"
   ]
  },
  {
   "cell_type": "markdown",
   "metadata": {},
   "source": [
    "A cell evaluator can be easily created by specifing the desired electrical type (e-type).\n",
    "\n",
    "A cell model is part of the cell evaluator and it is built by specifying a **morphology**, **mechanisms**, i.e. the ion channel models and the **bounds for the parameter values** (i.e. the densities of the ion channels)"
   ]
  },
  {
   "cell_type": "code",
   "execution_count": 2,
   "metadata": {},
   "outputs": [
    {
     "ename": "ModuleNotFoundError",
     "evalue": "No module named 'evaluator'",
     "output_type": "error",
     "traceback": [
      "\u001b[0;31m---------------------------------------------------------------------------\u001b[0m",
      "\u001b[0;31mModuleNotFoundError\u001b[0m                       Traceback (most recent call last)",
      "\u001b[0;32m<ipython-input-2-e20e13392eaa>\u001b[0m in \u001b[0;36m<module>\u001b[0;34m\u001b[0m\n\u001b[1;32m      1\u001b[0m \u001b[0;31m# Import scripts for setting up the cell model and cell evaluator\u001b[0m\u001b[0;34m\u001b[0m\u001b[0;34m\u001b[0m\u001b[0m\n\u001b[0;32m----> 2\u001b[0;31m \u001b[0;32mimport\u001b[0m \u001b[0mCellEvalSetup\u001b[0m\u001b[0;34m\u001b[0m\u001b[0m\n\u001b[0m\u001b[1;32m      3\u001b[0m \u001b[0;34m\u001b[0m\u001b[0m\n\u001b[1;32m      4\u001b[0m \u001b[0;31m# Library to visualize and analyse morphologies\u001b[0m\u001b[0;34m\u001b[0m\u001b[0;34m\u001b[0m\u001b[0m\n\u001b[1;32m      5\u001b[0m \u001b[0;32mimport\u001b[0m \u001b[0mneurom\u001b[0m \u001b[0;31m# https://github.com/BlueBrain/NeuroM\u001b[0m\u001b[0;34m\u001b[0m\u001b[0m\n",
      "\u001b[0;32m~/BluePyOpt/examples/thalamocortical-cell/CellEvalSetup/__init__.py\u001b[0m in \u001b[0;36m<module>\u001b[0;34m\u001b[0m\n\u001b[1;32m     17\u001b[0m  \u001b[0;36m51\u001b[0m \u001b[0mFranklin\u001b[0m \u001b[0mStreet\u001b[0m\u001b[0;34m,\u001b[0m \u001b[0mFifth\u001b[0m \u001b[0mFloor\u001b[0m\u001b[0;34m,\u001b[0m \u001b[0mBoston\u001b[0m\u001b[0;34m,\u001b[0m \u001b[0mMA\u001b[0m \u001b[0;36m0\u001b[0m\u001b[0;36m2110\u001b[0m\u001b[0;34m-\u001b[0m\u001b[0;36m1301\u001b[0m \u001b[0mUSA\u001b[0m\u001b[0;34m.\u001b[0m\u001b[0;34m\u001b[0m\u001b[0m\n\u001b[1;32m     18\u001b[0m \"\"\"\n\u001b[0;32m---> 19\u001b[0;31m \u001b[0;32mimport\u001b[0m \u001b[0mevaluator\u001b[0m\u001b[0;34m\u001b[0m\u001b[0m\n\u001b[0m\u001b[1;32m     20\u001b[0m \u001b[0;32mimport\u001b[0m \u001b[0mtemplate\u001b[0m\u001b[0;34m\u001b[0m\u001b[0m\n\u001b[1;32m     21\u001b[0m \u001b[0;32mimport\u001b[0m \u001b[0mtools\u001b[0m\u001b[0;34m\u001b[0m\u001b[0m\n",
      "\u001b[0;31mModuleNotFoundError\u001b[0m: No module named 'evaluator'"
     ]
    }
   ],
   "source": [
    "# Import scripts for setting up the cell model and cell evaluator\n",
    "import CellEvalSetup \n",
    "\n",
    "# Library to visualize and analyse morphologies \n",
    "import neurom # https://github.com/BlueBrain/NeuroM\n",
    "import neurom.viewer\n",
    "\n",
    "etype = \"cAD_ltb\" # or cNAD_ltb \n",
    "\n",
    "evaluator = CellEvalSetup.evaluator.create(etype)\n",
    "\n",
    "neurom.viewer.draw(neurom.load_neuron(evaluator.cell_model.morphology.morphology_path))\n",
    "print(evaluator.cell_model)"
   ]
  },
  {
   "cell_type": "markdown",
   "metadata": {},
   "source": [
    "## Run an optimisation\n",
    "\n",
    "Once we have created the cell evaluator, we can run an optimisation. During the optimisation different parameter values will be evaluated, by running different **stimulation protocols** and recording the **voltage responses** of the models. \n",
    "\n",
    "The algorithm will try minimise the difference between the **electrical features** measured from the voltage responses in the model and the features extracted from the experimental data."
   ]
  },
  {
   "cell_type": "code",
   "execution_count": 3,
   "metadata": {},
   "outputs": [
    {
     "ename": "NameError",
     "evalue": "name 'evaluator' is not defined",
     "output_type": "error",
     "traceback": [
      "\u001b[0;31m---------------------------------------------------------------------------\u001b[0m",
      "\u001b[0;31mNameError\u001b[0m                                 Traceback (most recent call last)",
      "\u001b[0;32m<ipython-input-3-d9189f58715c>\u001b[0m in \u001b[0;36m<module>\u001b[0;34m\u001b[0m\n\u001b[1;32m      2\u001b[0m \u001b[0;34m\u001b[0m\u001b[0m\n\u001b[1;32m      3\u001b[0m opt = bluepyopt.optimisations.DEAPOptimisation(\n\u001b[0;32m----> 4\u001b[0;31m     \u001b[0mevaluator\u001b[0m\u001b[0;34m=\u001b[0m\u001b[0mevaluator\u001b[0m\u001b[0;34m,\u001b[0m\u001b[0;34m\u001b[0m\u001b[0m\n\u001b[0m\u001b[1;32m      5\u001b[0m     \u001b[0mmap_function\u001b[0m\u001b[0;34m=\u001b[0m\u001b[0mmap\u001b[0m\u001b[0;34m,\u001b[0m \u001b[0;31m# The map function can be used to parallelize the optimisation\u001b[0m\u001b[0;34m\u001b[0m\u001b[0m\n\u001b[1;32m      6\u001b[0m     \u001b[0mseed\u001b[0m\u001b[0;34m=\u001b[0m\u001b[0mseed\u001b[0m\u001b[0;34m,\u001b[0m\u001b[0;34m\u001b[0m\u001b[0m\n",
      "\u001b[0;31mNameError\u001b[0m: name 'evaluator' is not defined"
     ]
    }
   ],
   "source": [
    "seed = 0 # Number to initialize the pseudorandom number generator\n",
    "\n",
    "opt = bluepyopt.optimisations.DEAPOptimisation(\n",
    "    evaluator=evaluator,\n",
    "    map_function=map, # The map function can be used to parallelize the optimisation\n",
    "    seed=seed,\n",
    "    eta=10., mutpb=1.0, cxpb=1.0)\n"
   ]
  },
  {
   "cell_type": "markdown",
   "metadata": {},
   "source": [
    "As a proof of concept, we run an optimisation with a small number of individuals (n = 2) and generations (n = 2); this step will require some minutes. Typically this optimisation was run with 100 individual for 100 generations. At the end we obtain the \"Hall of Fame\", where the first individual is the best model.\n",
    "\n",
    "Before we create a folder to save the results."
   ]
  },
  {
   "cell_type": "code",
   "execution_count": 4,
   "metadata": {},
   "outputs": [
    {
     "name": "stdout",
     "output_type": "stream",
     "text": [
      "Creating x86_64 directory for .o files.\n",
      "\n",
      "/gpfs/bbp.cscs.ch/home/damart/BluePyOpt/examples/thalamocortical-cell\n",
      "ls: cannot access mechanisms/*.inc: No such file or directory\n",
      "mechanisms/SK_E2.mod mechanisms/TC_cadecay.mod mechanisms/TC_HH.mod mechanisms/TC_iA.mod mechanisms/TC_Ih_Bud97.mod mechanisms/TC_iL.mod mechanisms/TC_ITGHK_Des98.mod mechanisms/TC_Nap_Et2.mod\n",
      "SK_E2.mod TC_cadecay.mod TC_HH.mod TC_iA.mod TC_Ih_Bud97.mod TC_iL.mod TC_ITGHK_Des98.mod TC_Nap_Et2.mod\n",
      "\"/gpfs/bbp.cscs.ch/project/proj37/software/bb5/local-20190722151139/nrnpython/x86_64/bin/nocmodl\" SK_E2\n",
      "\"/gpfs/bbp.cscs.ch/project/proj37/software/bb5/local-20190722151139/nrnpython/x86_64/bin/nocmodl\" TC_cadecay\n",
      "\"/gpfs/bbp.cscs.ch/project/proj37/software/bb5/local-20190722151139/nrnpython/x86_64/bin/nocmodl\" TC_HH\n",
      "\"/gpfs/bbp.cscs.ch/project/proj37/software/bb5/local-20190722151139/nrnpython/x86_64/bin/nocmodl\" TC_iA\n",
      "Translating TC_iA.mod into TC_iA.c\n",
      "Translating SK_E2.mod into SK_E2.c\n",
      "Translating TC_cadecay.mod into TC_cadecay.c\n",
      "Translating TC_HH.mod into TC_HH.c\n",
      "Thread Safe\n",
      "Thread Safe\n",
      "\"/gpfs/bbp.cscs.ch/project/proj37/software/bb5/local-20190722151139/nrnpython/share/nrn/libtool\"  --mode=compile gcc -DHAVE_CONFIG_H  -I. -I.. -I\"/gpfs/bbp.cscs.ch/project/proj37/software/bb5/local-20190722151139/nrnpython/include/nrn\" -I\"/gpfs/bbp.cscs.ch/project/proj37/software/bb5/local-20190722151139/nrnpython/x86_64/lib\"      -g -O2 -c -o TC_cadecay.lo TC_cadecay.c\n",
      "\"/gpfs/bbp.cscs.ch/project/proj37/software/bb5/local-20190722151139/nrnpython/share/nrn/libtool\"  --mode=compile gcc -DHAVE_CONFIG_H  -I. -I.. -I\"/gpfs/bbp.cscs.ch/project/proj37/software/bb5/local-20190722151139/nrnpython/include/nrn\" -I\"/gpfs/bbp.cscs.ch/project/proj37/software/bb5/local-20190722151139/nrnpython/x86_64/lib\"      -g -O2 -c -o SK_E2.lo SK_E2.c\n",
      "Thread Safe\n",
      "\"/gpfs/bbp.cscs.ch/project/proj37/software/bb5/local-20190722151139/nrnpython/share/nrn/libtool\"  --mode=compile gcc -DHAVE_CONFIG_H  -I. -I.. -I\"/gpfs/bbp.cscs.ch/project/proj37/software/bb5/local-20190722151139/nrnpython/include/nrn\" -I\"/gpfs/bbp.cscs.ch/project/proj37/software/bb5/local-20190722151139/nrnpython/x86_64/lib\"      -g -O2 -c -o TC_HH.lo TC_HH.c\n",
      "Thread Safe\n",
      "\"/gpfs/bbp.cscs.ch/project/proj37/software/bb5/local-20190722151139/nrnpython/share/nrn/libtool\"  --mode=compile gcc -DHAVE_CONFIG_H  -I. -I.. -I\"/gpfs/bbp.cscs.ch/project/proj37/software/bb5/local-20190722151139/nrnpython/include/nrn\" -I\"/gpfs/bbp.cscs.ch/project/proj37/software/bb5/local-20190722151139/nrnpython/x86_64/lib\"      -g -O2 -c -o TC_iA.lo TC_iA.c\n",
      "libtool: compile:  gcc -DHAVE_CONFIG_H -I. -I.. -I/gpfs/bbp.cscs.ch/project/proj37/software/bb5/local-20190722151139/nrnpython/include/nrn -I/gpfs/bbp.cscs.ch/project/proj37/software/bb5/local-20190722151139/nrnpython/x86_64/lib -g -O2 -c SK_E2.c  -fPIC -DPIC -o .libs/SK_E2.o\n",
      "libtool: compile:  gcc -DHAVE_CONFIG_H -I. -I.. -I/gpfs/bbp.cscs.ch/project/proj37/software/bb5/local-20190722151139/nrnpython/include/nrn -I/gpfs/bbp.cscs.ch/project/proj37/software/bb5/local-20190722151139/nrnpython/x86_64/lib -g -O2 -c TC_iA.c  -fPIC -DPIC -o .libs/TC_iA.o\n",
      "libtool: compile:  gcc -DHAVE_CONFIG_H -I. -I.. -I/gpfs/bbp.cscs.ch/project/proj37/software/bb5/local-20190722151139/nrnpython/include/nrn -I/gpfs/bbp.cscs.ch/project/proj37/software/bb5/local-20190722151139/nrnpython/x86_64/lib -g -O2 -c TC_cadecay.c  -fPIC -DPIC -o .libs/TC_cadecay.o\n",
      "libtool: compile:  gcc -DHAVE_CONFIG_H -I. -I.. -I/gpfs/bbp.cscs.ch/project/proj37/software/bb5/local-20190722151139/nrnpython/include/nrn -I/gpfs/bbp.cscs.ch/project/proj37/software/bb5/local-20190722151139/nrnpython/x86_64/lib -g -O2 -c TC_HH.c  -fPIC -DPIC -o .libs/TC_HH.o\n",
      "\"/gpfs/bbp.cscs.ch/project/proj37/software/bb5/local-20190722151139/nrnpython/x86_64/bin/nocmodl\" TC_Ih_Bud97\n",
      "\"/gpfs/bbp.cscs.ch/project/proj37/software/bb5/local-20190722151139/nrnpython/x86_64/bin/nocmodl\" TC_iL\n",
      "\"/gpfs/bbp.cscs.ch/project/proj37/software/bb5/local-20190722151139/nrnpython/x86_64/bin/nocmodl\" TC_ITGHK_Des98\n",
      "Translating TC_iL.mod into TC_iL.c\n",
      "Warning: Default 2 of PARAMETER cao will be ignored and set by NEURON.\n",
      "Warning: Default 5e-05 of PARAMETER cai will be ignored and set by NEURON.\n",
      "Translating TC_ITGHK_Des98.mod into TC_ITGHK_Des98.c\n",
      "Translating TC_Ih_Bud97.mod into TC_Ih_Bud97.c\n",
      "Thread Safe\n",
      "\"/gpfs/bbp.cscs.ch/project/proj37/software/bb5/local-20190722151139/nrnpython/share/nrn/libtool\"  --mode=compile gcc -DHAVE_CONFIG_H  -I. -I.. -I\"/gpfs/bbp.cscs.ch/project/proj37/software/bb5/local-20190722151139/nrnpython/include/nrn\" -I\"/gpfs/bbp.cscs.ch/project/proj37/software/bb5/local-20190722151139/nrnpython/x86_64/lib\"      -g -O2 -c -o TC_iL.lo TC_iL.c\n",
      "Warning: Default 2 of PARAMETER cao will be ignored and set by NEURON.\n",
      "Warning: Default 0.00024 of PARAMETER cai will be ignored and set by NEURON.\n",
      "Thread Safe\n",
      "\"/gpfs/bbp.cscs.ch/project/proj37/software/bb5/local-20190722151139/nrnpython/share/nrn/libtool\"  --mode=compile gcc -DHAVE_CONFIG_H  -I. -I.. -I\"/gpfs/bbp.cscs.ch/project/proj37/software/bb5/local-20190722151139/nrnpython/include/nrn\" -I\"/gpfs/bbp.cscs.ch/project/proj37/software/bb5/local-20190722151139/nrnpython/x86_64/lib\"      -g -O2 -c -o TC_Ih_Bud97.lo TC_Ih_Bud97.c\n",
      "Thread Safe\n",
      "\"/gpfs/bbp.cscs.ch/project/proj37/software/bb5/local-20190722151139/nrnpython/share/nrn/libtool\"  --mode=compile gcc -DHAVE_CONFIG_H  -I. -I.. -I\"/gpfs/bbp.cscs.ch/project/proj37/software/bb5/local-20190722151139/nrnpython/include/nrn\" -I\"/gpfs/bbp.cscs.ch/project/proj37/software/bb5/local-20190722151139/nrnpython/x86_64/lib\"      -g -O2 -c -o TC_ITGHK_Des98.lo TC_ITGHK_Des98.c\n",
      "\"/gpfs/bbp.cscs.ch/project/proj37/software/bb5/local-20190722151139/nrnpython/x86_64/bin/nocmodl\" TC_Nap_Et2\n",
      "Translating TC_Nap_Et2.mod into TC_Nap_Et2.c\n",
      "Thread Safe\n",
      "\"/gpfs/bbp.cscs.ch/project/proj37/software/bb5/local-20190722151139/nrnpython/share/nrn/libtool\"  --mode=compile gcc -DHAVE_CONFIG_H  -I. -I.. -I\"/gpfs/bbp.cscs.ch/project/proj37/software/bb5/local-20190722151139/nrnpython/include/nrn\" -I\"/gpfs/bbp.cscs.ch/project/proj37/software/bb5/local-20190722151139/nrnpython/x86_64/lib\"      -g -O2 -c -o TC_Nap_Et2.lo TC_Nap_Et2.c\n",
      "libtool: compile:  gcc -DHAVE_CONFIG_H -I. -I.. -I/gpfs/bbp.cscs.ch/project/proj37/software/bb5/local-20190722151139/nrnpython/include/nrn -I/gpfs/bbp.cscs.ch/project/proj37/software/bb5/local-20190722151139/nrnpython/x86_64/lib -g -O2 -c TC_iL.c  -fPIC -DPIC -o .libs/TC_iL.o\n",
      "libtool: compile:  gcc -DHAVE_CONFIG_H -I. -I.. -I/gpfs/bbp.cscs.ch/project/proj37/software/bb5/local-20190722151139/nrnpython/include/nrn -I/gpfs/bbp.cscs.ch/project/proj37/software/bb5/local-20190722151139/nrnpython/x86_64/lib -g -O2 -c TC_Ih_Bud97.c  -fPIC -DPIC -o .libs/TC_Ih_Bud97.o\n",
      "libtool: compile:  gcc -DHAVE_CONFIG_H -I. -I.. -I/gpfs/bbp.cscs.ch/project/proj37/software/bb5/local-20190722151139/nrnpython/include/nrn -I/gpfs/bbp.cscs.ch/project/proj37/software/bb5/local-20190722151139/nrnpython/x86_64/lib -g -O2 -c TC_ITGHK_Des98.c  -fPIC -DPIC -o .libs/TC_ITGHK_Des98.o\n",
      "libtool: compile:  gcc -DHAVE_CONFIG_H -I. -I.. -I/gpfs/bbp.cscs.ch/project/proj37/software/bb5/local-20190722151139/nrnpython/include/nrn -I/gpfs/bbp.cscs.ch/project/proj37/software/bb5/local-20190722151139/nrnpython/x86_64/lib -g -O2 -c TC_Nap_Et2.c  -fPIC -DPIC -o .libs/TC_Nap_Et2.o\n",
      "\"/gpfs/bbp.cscs.ch/project/proj37/software/bb5/local-20190722151139/nrnpython/share/nrn/libtool\"  --mode=compile gcc -DHAVE_CONFIG_H  -I. -I.. -I\"/gpfs/bbp.cscs.ch/project/proj37/software/bb5/local-20190722151139/nrnpython/include/nrn\" -I\"/gpfs/bbp.cscs.ch/project/proj37/software/bb5/local-20190722151139/nrnpython/x86_64/lib\"      -g -O2 -c -o mod_func.lo mod_func.c\n",
      "libtool: compile:  gcc -DHAVE_CONFIG_H -I. -I.. -I/gpfs/bbp.cscs.ch/project/proj37/software/bb5/local-20190722151139/nrnpython/include/nrn -I/gpfs/bbp.cscs.ch/project/proj37/software/bb5/local-20190722151139/nrnpython/x86_64/lib -g -O2 -c mod_func.c  -fPIC -DPIC -o .libs/mod_func.o\n",
      "\"/gpfs/bbp.cscs.ch/project/proj37/software/bb5/local-20190722151139/nrnpython/share/nrn/libtool\"  --mode=link gcc -module  -g -O2    -o libnrnmech.la -rpath \"/gpfs/bbp.cscs.ch/project/proj37/software/bb5/local-20190722151139/nrnpython/x86_64/lib\"  SK_E2.lo TC_cadecay.lo TC_HH.lo TC_iA.lo TC_Ih_Bud97.lo TC_iL.lo TC_ITGHK_Des98.lo TC_Nap_Et2.lo mod_func.lo  -L\"/gpfs/bbp.cscs.ch/project/proj37/software/bb5/local-20190722151139/nrnpython/x86_64/lib\" -lnrnoc -loc -lmemacs -lnrnmpi -lscopmath -lsparse13 -lreadline -lncurses   -L\"/gpfs/bbp.cscs.ch/project/proj37/software/bb5/local-20190722151139/nrnpython/x86_64/lib\" -lnrniv -livoc -lneuron_gnu -lmeschach -lsundials -livos      -lm -ldl\n"
     ]
    },
    {
     "name": "stdout",
     "output_type": "stream",
     "text": [
      "libtool: link: gcc -shared  -fPIC -DPIC  .libs/SK_E2.o .libs/TC_cadecay.o .libs/TC_HH.o .libs/TC_iA.o .libs/TC_Ih_Bud97.o .libs/TC_iL.o .libs/TC_ITGHK_Des98.o .libs/TC_Nap_Et2.o .libs/mod_func.o   -Wl,-rpath -Wl,/gpfs/bbp.cscs.ch/project/proj37/software/bb5/local-20190722151139/nrnpython/x86_64/lib -Wl,-rpath -Wl,/gpfs/bbp.cscs.ch/project/proj37/software/bb5/local-20190722151139/nrnpython/x86_64/lib -L/gpfs/bbp.cscs.ch/project/proj37/software/bb5/local-20190722151139/nrnpython/x86_64/lib /gpfs/bbp.cscs.ch/project/proj37/software/bb5/local-20190722151139/nrnpython/x86_64/lib/libnrnoc.so /gpfs/bbp.cscs.ch/project/proj37/software/bb5/local-20190722151139/nrnpython/x86_64/lib/liboc.so /gpfs/bbp.cscs.ch/project/proj37/software/bb5/local-20190722151139/nrnpython/x86_64/lib/libmemacs.so /gpfs/bbp.cscs.ch/project/proj37/software/bb5/local-20190722151139/nrnpython/x86_64/lib/libnrnmpi.so /gpfs/bbp.cscs.ch/project/proj37/software/bb5/local-20190722151139/nrnpython/x86_64/lib/libscopmath.so /gpfs/bbp.cscs.ch/project/proj37/software/bb5/local-20190722151139/nrnpython/x86_64/lib/libsparse13.so -lreadline -lncurses /gpfs/bbp.cscs.ch/project/proj37/software/bb5/local-20190722151139/nrnpython/x86_64/lib/libnrniv.so /gpfs/bbp.cscs.ch/project/proj37/software/bb5/local-20190722151139/nrnpython/x86_64/lib/libivoc.so /gpfs/bbp.cscs.ch/project/proj37/software/bb5/local-20190722151139/nrnpython/x86_64/lib/libneuron_gnu.so /gpfs/bbp.cscs.ch/project/proj37/software/bb5/local-20190722151139/nrnpython/x86_64/lib/libmeschach.so /gpfs/bbp.cscs.ch/project/proj37/software/bb5/local-20190722151139/nrnpython/x86_64/lib/libsundials.so /gpfs/bbp.cscs.ch/project/proj37/software/bb5/local-20190722151139/nrnpython/x86_64/lib/libivos.so -lm -ldl  -O2   -pthread -Wl,-soname -Wl,libnrnmech.so.0 -o .libs/libnrnmech.so.0.0.0\n",
      "libtool: link: (cd \".libs\" && rm -f \"libnrnmech.so.0\" && ln -s \"libnrnmech.so.0.0.0\" \"libnrnmech.so.0\")\n",
      "libtool: link: (cd \".libs\" && rm -f \"libnrnmech.so\" && ln -s \"libnrnmech.so.0.0.0\" \"libnrnmech.so\")\n",
      "libtool: link: ( cd \".libs\" && rm -f \"libnrnmech.la\" && ln -s \"../libnrnmech.la\" \"libnrnmech.la\" )\n",
      "Successfully created x86_64/special\n"
     ]
    },
    {
     "ename": "NameError",
     "evalue": "name 'opt' is not defined",
     "output_type": "error",
     "traceback": [
      "\u001b[0;31m---------------------------------------------------------------------------\u001b[0m",
      "\u001b[0;31mNameError\u001b[0m                                 Traceback (most recent call last)",
      "\u001b[0;32m<ipython-input-4-39edad94fc35>\u001b[0m in \u001b[0;36m<module>\u001b[0;34m\u001b[0m\n\u001b[1;32m      4\u001b[0m     \u001b[0mos\u001b[0m\u001b[0;34m.\u001b[0m\u001b[0mmkdir\u001b[0m\u001b[0;34m(\u001b[0m\u001b[0;34m'checkpoints'\u001b[0m\u001b[0;34m)\u001b[0m\u001b[0;34m\u001b[0m\u001b[0m\n\u001b[1;32m      5\u001b[0m \u001b[0;34m\u001b[0m\u001b[0m\n\u001b[0;32m----> 6\u001b[0;31m final_pop, halloffame, log, hist, = opt.run(max_ngen=2,\n\u001b[0m\u001b[1;32m      7\u001b[0m         \u001b[0moffspring_size\u001b[0m\u001b[0;34m=\u001b[0m\u001b[0;36m2\u001b[0m\u001b[0;34m,\u001b[0m\u001b[0;34m\u001b[0m\u001b[0m\n\u001b[1;32m      8\u001b[0m         cp_filename='checkpoints/checkpoint.pkl');\n",
      "\u001b[0;31mNameError\u001b[0m: name 'opt' is not defined"
     ]
    }
   ],
   "source": [
    "!nrnivmodl mechanisms # Compile NEURON .mod files stored in the \"mechanisms\" folder\n",
    "\n",
    "if not os.path.exists('checkpoints'):\n",
    "    os.mkdir('checkpoints')\n",
    "\n",
    "final_pop, halloffame, log, hist, = opt.run(max_ngen=2,\n",
    "        offspring_size=2,\n",
    "        cp_filename='checkpoints/checkpoint.pkl');"
   ]
  },
  {
   "cell_type": "code",
   "execution_count": null,
   "metadata": {},
   "outputs": [],
   "source": [
    "print(\"\\nExample of one individual resulting from an optimisation run:\\n\")\n",
    "print(halloffame[0])"
   ]
  },
  {
   "cell_type": "markdown",
   "metadata": {},
   "source": [
    "## Analyse optimisation results\n",
    "\n",
    "In this section you will see how to run simulations with models obtained after running a full optimisation.\n"
   ]
  },
  {
   "cell_type": "code",
   "execution_count": null,
   "metadata": {},
   "outputs": [],
   "source": [
    "import csv\n",
    "\n",
    "with open('results/{}_params.csv'.format(etype)) as csvfile:\n",
    "    rows = csv.reader(csvfile, quoting=csv.QUOTE_NONNUMERIC)\n",
    "    params = list(rows)"
   ]
  },
  {
   "cell_type": "markdown",
   "metadata": {},
   "source": [
    "Select one of the models and create the dictionary of parameters."
   ]
  },
  {
   "cell_type": "code",
   "execution_count": null,
   "metadata": {},
   "outputs": [],
   "source": [
    "modid = 62 # Or e.g. 78 for cNAD_ltb model shown in the paper, Fig. 4\n",
    "param_dict = evaluator.param_dict(params[modid])\n",
    "pp.pprint(param_dict)"
   ]
  },
  {
   "cell_type": "markdown",
   "metadata": {},
   "source": [
    "We can run a simulation with the parameters above and the current protocols which are part of the evaluator."
   ]
  },
  {
   "cell_type": "code",
   "execution_count": 5,
   "metadata": {},
   "outputs": [
    {
     "ename": "NameError",
     "evalue": "name 'evaluator' is not defined",
     "output_type": "error",
     "traceback": [
      "\u001b[0;31m---------------------------------------------------------------------------\u001b[0m",
      "\u001b[0;31mNameError\u001b[0m                                 Traceback (most recent call last)",
      "\u001b[0;32m<ipython-input-5-ea8cb50cdc2b>\u001b[0m in \u001b[0;36m<module>\u001b[0;34m\u001b[0m\n\u001b[1;32m      2\u001b[0m \u001b[0;34m\u001b[0m\u001b[0m\n\u001b[1;32m      3\u001b[0m \u001b[0mt0\u001b[0m \u001b[0;34m=\u001b[0m \u001b[0mdatetime\u001b[0m\u001b[0;34m.\u001b[0m\u001b[0mnow\u001b[0m\u001b[0;34m(\u001b[0m\u001b[0;34m)\u001b[0m\u001b[0;34m\u001b[0m\u001b[0m\n\u001b[0;32m----> 4\u001b[0;31m \u001b[0mresponses\u001b[0m \u001b[0;34m=\u001b[0m \u001b[0mevaluator\u001b[0m\u001b[0;34m.\u001b[0m\u001b[0mrun_protocols\u001b[0m\u001b[0;34m(\u001b[0m\u001b[0mprotocols\u001b[0m \u001b[0;34m=\u001b[0m \u001b[0mevaluator\u001b[0m\u001b[0;34m.\u001b[0m\u001b[0mfitness_protocols\u001b[0m\u001b[0;34m.\u001b[0m\u001b[0mvalues\u001b[0m\u001b[0;34m(\u001b[0m\u001b[0;34m)\u001b[0m\u001b[0;34m,\u001b[0m \u001b[0mparam_values\u001b[0m\u001b[0;34m=\u001b[0m\u001b[0mparam_dict\u001b[0m\u001b[0;34m)\u001b[0m\u001b[0;34m\u001b[0m\u001b[0m\n\u001b[0m\u001b[1;32m      5\u001b[0m \u001b[0;34m\u001b[0m\u001b[0m\n\u001b[1;32m      6\u001b[0m \u001b[0mprint\u001b[0m\u001b[0;34m(\u001b[0m\u001b[0;34m\"Simulation took {}.\"\u001b[0m\u001b[0;34m.\u001b[0m\u001b[0mformat\u001b[0m\u001b[0;34m(\u001b[0m\u001b[0mdatetime\u001b[0m\u001b[0;34m.\u001b[0m\u001b[0mnow\u001b[0m\u001b[0;34m(\u001b[0m\u001b[0;34m)\u001b[0m\u001b[0;34m-\u001b[0m\u001b[0mt0\u001b[0m\u001b[0;34m)\u001b[0m\u001b[0;34m)\u001b[0m\u001b[0;34m\u001b[0m\u001b[0m\n",
      "\u001b[0;31mNameError\u001b[0m: name 'evaluator' is not defined"
     ]
    }
   ],
   "source": [
    "from datetime import datetime\n",
    "\n",
    "t0 = datetime.now()\n",
    "responses = evaluator.run_protocols(protocols = evaluator.fitness_protocols.values(), param_values=param_dict)\n",
    "\n",
    "print(\"Simulation took {}.\".format(datetime.now()-t0))"
   ]
  },
  {
   "cell_type": "markdown",
   "metadata": {},
   "source": [
    "We can plot the model responses."
   ]
  },
  {
   "cell_type": "code",
   "execution_count": 6,
   "metadata": {},
   "outputs": [
    {
     "ename": "NameError",
     "evalue": "name 'responses' is not defined",
     "output_type": "error",
     "traceback": [
      "\u001b[0;31m---------------------------------------------------------------------------\u001b[0m",
      "\u001b[0;31mNameError\u001b[0m                                 Traceback (most recent call last)",
      "\u001b[0;32m<ipython-input-6-8ba2965dec1a>\u001b[0m in \u001b[0;36m<module>\u001b[0;34m\u001b[0m\n\u001b[1;32m     22\u001b[0m     \u001b[0mfig\u001b[0m\u001b[0;34m.\u001b[0m\u001b[0mtight_layout\u001b[0m\u001b[0;34m(\u001b[0m\u001b[0;34m)\u001b[0m\u001b[0;34m\u001b[0m\u001b[0m\n\u001b[1;32m     23\u001b[0m     \u001b[0mfig\u001b[0m\u001b[0;34m.\u001b[0m\u001b[0mshow\u001b[0m\u001b[0;34m(\u001b[0m\u001b[0;34m)\u001b[0m\u001b[0;34m\u001b[0m\u001b[0m\n\u001b[0;32m---> 24\u001b[0;31m \u001b[0mplot_responses\u001b[0m\u001b[0;34m(\u001b[0m\u001b[0mresponses\u001b[0m\u001b[0;34m)\u001b[0m\u001b[0;34m\u001b[0m\u001b[0m\n\u001b[0m",
      "\u001b[0;31mNameError\u001b[0m: name 'responses' is not defined"
     ]
    }
   ],
   "source": [
    "import collections\n",
    "\n",
    "def plot_responses(responses):\n",
    "    # Select and sort reponses\n",
    "    stim_names = [name for name in sorted(evaluator.fitness_protocols.keys()) \n",
    "                      if \"hold\" not in name and \"RMP\" not in name]\n",
    "    sel_resp = collections.OrderedDict()\n",
    "    for name in stim_names:\n",
    "        sel_resp[name] =  responses[\".\"+name+\".soma.v\"]\n",
    "        \n",
    "    fig, axes = plt.subplots(len(sel_resp), figsize=(5, 8), sharey = True)\n",
    "    for index, (resp_name, response) in enumerate(sorted(sel_resp.items())):\n",
    "        \n",
    "        startid = 550 if \"Step\" in resp_name or \"IV\" or \"Rin\" in resp_name else 0 # Remove initial transient\n",
    "        indices = response['time'] >= startid\n",
    "        \n",
    "        axes[index].plot(response['time'][indices]-startid, response['voltage'][indices],\n",
    "                        color = \"blue\", lw = 0.75, alpha = 0.8)\n",
    "        \n",
    "        axes[index].set_ylabel('V$_m$ (mV)', fontsize = 'small')\n",
    "        axes[-1].set_xlabel('Time (ms)', fontsize = 'small')\n",
    "    fig.tight_layout()\n",
    "    fig.show()\n",
    "plot_responses(responses)\n"
   ]
  },
  {
   "cell_type": "markdown",
   "metadata": {},
   "source": [
    "We can evaluate the fitness of the model by computing its errors. Each error quantify how much the model deviates from the experimental features."
   ]
  },
  {
   "cell_type": "code",
   "execution_count": 7,
   "metadata": {},
   "outputs": [
    {
     "ename": "NameError",
     "evalue": "name 'evaluator' is not defined",
     "output_type": "error",
     "traceback": [
      "\u001b[0;31m---------------------------------------------------------------------------\u001b[0m",
      "\u001b[0;31mNameError\u001b[0m                                 Traceback (most recent call last)",
      "\u001b[0;32m<ipython-input-7-c1a426a66210>\u001b[0m in \u001b[0;36m<module>\u001b[0;34m\u001b[0m\n\u001b[0;32m----> 1\u001b[0;31m \u001b[0mobjectives\u001b[0m \u001b[0;34m=\u001b[0m \u001b[0mevaluator\u001b[0m\u001b[0;34m.\u001b[0m\u001b[0mfitness_calculator\u001b[0m\u001b[0;34m.\u001b[0m\u001b[0mcalculate_scores\u001b[0m\u001b[0;34m(\u001b[0m\u001b[0mresponses\u001b[0m\u001b[0;34m)\u001b[0m\u001b[0;34m\u001b[0m\u001b[0m\n\u001b[0m\u001b[1;32m      2\u001b[0m \u001b[0;34m\u001b[0m\u001b[0m\n\u001b[1;32m      3\u001b[0m \u001b[0;32mdef\u001b[0m \u001b[0mplot_objectives\u001b[0m\u001b[0;34m(\u001b[0m\u001b[0mobjectives\u001b[0m\u001b[0;34m)\u001b[0m\u001b[0;34m:\u001b[0m\u001b[0;34m\u001b[0m\u001b[0m\n\u001b[1;32m      4\u001b[0m \u001b[0;34m\u001b[0m\u001b[0m\n\u001b[1;32m      5\u001b[0m     \u001b[0;31m# Names for all the stimuli\u001b[0m\u001b[0;34m\u001b[0m\u001b[0;34m\u001b[0m\u001b[0m\n",
      "\u001b[0;31mNameError\u001b[0m: name 'evaluator' is not defined"
     ]
    }
   ],
   "source": [
    "objectives = evaluator.fitness_calculator.calculate_scores(responses)\n",
    "\n",
    "def plot_objectives(objectives): \n",
    "    \n",
    "    # Names for all the stimuli   \n",
    "    stim_name = ['RMP', u'IV_-140', u'Rin_dep',  'hold_hyp', u'Step_200_hyp',  u'Step_150', \n",
    "             u'Step_200', u'Step_250', 'hold_dep']\n",
    "    \n",
    "    # Sort objectives\n",
    "    obj_keys = [[key for key in objectives.keys() if key.split(\".\")[1] == stim] for stim in stim_name]\n",
    "    obj_keys = [item for sublist in obj_keys for item in sublist][::-1] \n",
    "    obj_val = []\n",
    "    for key in obj_keys:\n",
    "        obj_val.append(objectives[key])\n",
    " \n",
    "    ytick_pos = [x + 0.5 for x in range(len(obj_keys))]\n",
    "    fig, ax = plt.subplots(figsize = (5.4,9), facecolor = 'white')\n",
    "  \n",
    "    ax.barh(ytick_pos,\n",
    "              obj_val,\n",
    "              height=0.5,\n",
    "              align='center',\n",
    "              color='blue',\n",
    "              alpha=0.5)\n",
    "    \n",
    "    obj_keys = [CellEvalSetup.tools.rename_feat(name) for name in obj_keys]     \n",
    "        \n",
    "    ax.set_yticks(ytick_pos)\n",
    "    ax.set_yticklabels(obj_keys, size='medium')\n",
    "    ax.set_ylim(-0.5, len(obj_keys) + 0.5)\n",
    "    ax.set_xlim([0,3])\n",
    "      \n",
    "    ax.set_xlabel(\"Distance from exp. mean (# STD)\")\n",
    "    ax.set_ylabel(\"Feature name\")\n",
    "    ax.xaxis.grid(True)\n",
    "    fig.tight_layout()\n",
    "\n",
    "plot_objectives(objectives)"
   ]
  },
  {
   "cell_type": "code",
   "execution_count": null,
   "metadata": {},
   "outputs": [],
   "source": []
  },
  {
   "cell_type": "code",
   "execution_count": null,
   "metadata": {},
   "outputs": [],
   "source": []
  },
  {
   "cell_type": "code",
   "execution_count": null,
   "metadata": {},
   "outputs": [],
   "source": []
  },
  {
   "cell_type": "code",
   "execution_count": null,
   "metadata": {},
   "outputs": [],
   "source": []
  }
 ],
 "metadata": {
  "kernelspec": {
   "display_name": "Python 3",
   "language": "python",
   "name": "python3"
  },
  "language_info": {
   "codemirror_mode": {
    "name": "ipython",
    "version": 3
   },
   "file_extension": ".py",
   "mimetype": "text/x-python",
   "name": "python",
   "nbconvert_exporter": "python",
   "pygments_lexer": "ipython3",
   "version": "3.6.3"
  }
 },
 "nbformat": 4,
 "nbformat_minor": 2
}

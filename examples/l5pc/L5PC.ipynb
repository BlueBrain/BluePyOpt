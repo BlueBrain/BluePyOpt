{
 "cells": [
  {
   "cell_type": "markdown",
   "metadata": {},
   "source": [
    "# Optimisation of a Neocortical Layer 5 Pyramidal Cell"
   ]
  },
  {
   "cell_type": "markdown",
   "metadata": {},
   "source": [
    "This notebook shows you how to optimise the maximal conductance of Neocortical Layer 5 Pyramidal Cell as used in Markram et al. 2015.\n",
    "\n",
    "Author of this script: Werner Van Geit @ Blue Brain Project\n",
    "\n",
    "Choice of parameters, protocols and other settings was done by Etay Hay @ HUJI\n",
    "\n",
    "What's described here is a more advanced use of BluePyOpt. We suggest to first go through the introductary example here: https://github.com/BlueBrain/BluePyOpt/blob/master/examples/simplecell/simplecell.ipynb\n",
    "\n",
    "**If you use the methods in this notebook, we ask you to cite the following publications when publishing your research:**\n",
    "\n",
    "Van Geit, W., M. Gevaert, G. Chindemi, C. Rössert, J.-D. Courcol, E. Muller, F. Schürmann, I. Segev, and H. Markram (2016, March). BluePyOpt: Leveraging open source software and cloud infrastructure to optimise model parameters in neuroscience. ArXiv e-prints.\n",
    "http://arxiv.org/abs/1603.00500\n",
    "\n",
    "Markram, H., E. Muller, S. Ramaswamy, M. W. Reimann, M. Abdellah, C. A. Sanchez, A. Ailamaki, L. Alonso-Nanclares, N. Antille, S. Arsever, et al. (2015). Reconstruction and simulation of neocortical microcircuitry. Cell 163(2), 456–492.\n",
    "http://www.cell.com/abstract/S0092-8674%2815%2901191-5\n",
    "\n",
    "Some of the modules loaded in this script are located in the L5PC example folder: https://github.com/BlueBrain/BluePyOpt/tree/master/examples/l5pc "
   ]
  },
  {
   "cell_type": "markdown",
   "metadata": {},
   "source": [
    "We first load the bluepyopt python module, the ephys submodule and some helper functionality"
   ]
  },
  {
   "cell_type": "code",
   "execution_count": 1,
   "metadata": {},
   "outputs": [
    {
     "name": "stdout",
     "output_type": "stream",
     "text": [
      "/Users/damart/BluePyOpt/examples/l5pc\n",
      "mechanisms/CaDynamics_E2.mod mechanisms/Ca_HVA.mod mechanisms/Ca_LVAst.mod mechanisms/Ih.mod mechanisms/Im.mod mechanisms/K_Pst.mod mechanisms/K_Tst.mod mechanisms/NaTa_t.mod mechanisms/NaTs2_t.mod mechanisms/Nap_Et2.mod mechanisms/ProbAMPANMDA_EMS.mod mechanisms/ProbGABAAB_EMS.mod mechanisms/SK_E2.mod mechanisms/SKv3_1.mod\n",
      "CaDynamics_E2.mod Ca_HVA.mod Ca_LVAst.mod Ih.mod Im.mod K_Pst.mod K_Tst.mod NaTa_t.mod NaTs2_t.mod Nap_Et2.mod ProbAMPANMDA_EMS.mod ProbGABAAB_EMS.mod SK_E2.mod SKv3_1.mod\n",
      "\"/Applications/NEURON-7.7/nrn/share/nrn/libtool\" --tag=CC --mode=compile gcc -DHAVE_CONFIG_H  -I. -I.. -I\"/Applications/NEURON-7.7/nrn/include/nrn\" -I\"/Applications/NEURON-7.7/nrn/x86_64/lib\"      -g -O2 -c -o mod_func.lo mod_func.c\n",
      "libtool: compile:  gcc -DHAVE_CONFIG_H -I. -I.. -I/Applications/NEURON-7.7/nrn/include/nrn -I/Applications/NEURON-7.7/nrn/x86_64/lib -g -O2 -c mod_func.c  -fno-common -DPIC -o .libs/mod_func.o\n",
      "\"/Applications/NEURON-7.7/nrn/share/nrn/libtool\" --tag=CC --mode=link gcc -module  -g -O2    -headerpad_max_install_names -o libnrnmech.la -rpath \"/Applications/NEURON-7.7/nrn/x86_64/lib\"  CaDynamics_E2.lo Ca_HVA.lo Ca_LVAst.lo Ih.lo Im.lo K_Pst.lo K_Tst.lo NaTa_t.lo NaTs2_t.lo Nap_Et2.lo ProbAMPANMDA_EMS.lo ProbGABAAB_EMS.lo SK_E2.lo SKv3_1.lo mod_func.lo  -L\"/Applications/NEURON-7.7/nrn/x86_64/lib\" -lnrnoc -loc -lmemacs  -lscopmath -lsparse13 -lreadline -lncurses -L\"/Applications/NEURON-7.7/nrn/x86_64/lib\" -lnrniv -livoc -lneuron_gnu -lmeschach -lsundials       \n",
      "libtool: link: rm -fr  .libs/libnrnmech.0.so .libs/libnrnmech.la .libs/libnrnmech.lai .libs/libnrnmech.so\n",
      "libtool: link: gcc -Wl,-undefined -Wl,dynamic_lookup -o .libs/libnrnmech.0.so -bundle  .libs/CaDynamics_E2.o .libs/Ca_HVA.o .libs/Ca_LVAst.o .libs/Ih.o .libs/Im.o .libs/K_Pst.o .libs/K_Tst.o .libs/NaTa_t.o .libs/NaTs2_t.o .libs/Nap_Et2.o .libs/ProbAMPANMDA_EMS.o .libs/ProbGABAAB_EMS.o .libs/SK_E2.o .libs/SKv3_1.o .libs/mod_func.o   -L/Applications/NEURON-7.7/nrn/x86_64/lib /Applications/NEURON-7.7/nrn/x86_64/lib/libnrnoc.dylib /Applications/NEURON-7.7/nrn/x86_64/lib/liboc.dylib -L/usr/X11/lib -lX11 /Applications/NEURON-7.7/nrn/x86_64/lib/libmemacs.dylib /Applications/NEURON-7.7/nrn/x86_64/lib/libscopmath.dylib /Applications/NEURON-7.7/nrn/x86_64/lib/libsparse13.dylib /Applications/NEURON-7.7/nrn/x86_64/lib/libreadline.dylib -lncurses /Applications/NEURON-7.7/nrn/x86_64/lib/libnrniv.dylib /Applications/NEURON-7.7/nrn/x86_64/lib/libivoc.dylib /Applications/NEURON-7.7/nrn/x86_64/lib/libneuron_gnu.dylib /Applications/NEURON-7.7/nrn/x86_64/lib/libmeschach.dylib /Applications/NEURON-7.7/nrn/x86_64/lib/libsundials.dylib  -g -O2  \n",
      "libtool: link: (cd \".libs\" && rm -f \"libnrnmech.so\" && ln -s \"libnrnmech.0.so\" \"libnrnmech.so\")\n",
      "libtool: link: ( cd \".libs\" && rm -f \"libnrnmech.la\" && ln -s \"../libnrnmech.la\" \"libnrnmech.la\" )\n",
      "Successfully created x86_64/special\n"
     ]
    }
   ],
   "source": [
    "%load_ext autoreload\n",
    "%autoreload\n",
    "\n",
    "!nrnivmodl mechanisms\n",
    "import bluepyopt as bpopt\n",
    "import bluepyopt.ephys as ephys\n",
    "\n",
    "import pprint\n",
    "pp = pprint.PrettyPrinter(indent=2)\n",
    "import matplotlib.pyplot as plt"
   ]
  },
  {
   "cell_type": "markdown",
   "metadata": {},
   "source": [
    "Enable the code below to enable debug level logging"
   ]
  },
  {
   "cell_type": "code",
   "execution_count": 2,
   "metadata": {},
   "outputs": [],
   "source": [
    "# import logging                                                                      \n",
    "# logging.basicConfig()                                                               \n",
    "# logger = logging.getLogger()                                                        \n",
    "# logger.setLevel(logging.DEBUG)   "
   ]
  },
  {
   "cell_type": "markdown",
   "metadata": {},
   "source": [
    "## Model description"
   ]
  },
  {
   "cell_type": "markdown",
   "metadata": {},
   "source": [
    "### Morphology"
   ]
  },
  {
   "cell_type": "markdown",
   "metadata": {},
   "source": [
    "We're using a complex reconstructed morphology of an L5PC cell. Let's visualise this with the BlueBrain NeuroM software:"
   ]
  },
  {
   "cell_type": "code",
   "execution_count": 3,
   "metadata": {},
   "outputs": [
    {
     "name": "stderr",
     "output_type": "stream",
     "text": [
      "/opt/anaconda3/lib/python3.7/site-packages/neurom/io/neurolucida.py:269: UserWarning: This is an experimental reader. There are no guarantees regarding ability to parse Neurolucida .asc files or correctness of output.\n",
      "  warnings.warn(msg)\n"
     ]
    },
    {
     "data": {
      "image/png": "[encoded data removed]",
      "text/plain": [
       "<Figure size 432x288 with 1 Axes>"
      ]
     },
     "metadata": {
      "needs_background": "light"
     },
     "output_type": "display_data"
    }
   ],
   "source": [
    "\n",
    "import neurom.viewer\n",
    "neurom.viewer.draw(neurom.load_neuron('morphology/C060114A7.asc'));"
   ]
  },
  {
   "cell_type": "markdown",
   "metadata": {},
   "source": [
    "To load the morphology we create a NrnFileMorphology object. We set 'do_replace_axon' to True to replace the axon with a AIS."
   ]
  },
  {
   "cell_type": "code",
   "execution_count": 4,
   "metadata": {},
   "outputs": [
    {
     "name": "stdout",
     "output_type": "stream",
     "text": [
      "morphology/C060114A7.asc\n"
     ]
    }
   ],
   "source": [
    "morphology = ephys.morphologies.NrnFileMorphology('morphology/C060114A7.asc', do_replace_axon=True)\n",
    "print(str(morphology))"
   ]
  },
  {
   "cell_type": "markdown",
   "metadata": {},
   "source": [
    "### Parameters"
   ]
  },
  {
   "cell_type": "markdown",
   "metadata": {},
   "source": [
    "Since we have many parameters in this model, they are stored in a json file: https://github.com/BlueBrain/BluePyOpt/blob/master/examples/l5pc/config/parameters.json"
   ]
  },
  {
   "cell_type": "code",
   "execution_count": 5,
   "metadata": {},
   "outputs": [
    {
     "name": "stdout",
     "output_type": "stream",
     "text": [
      "['g_pas', 'e_pas', 'cm', 'Ra', 'v_init', 'celsius', 'ena', 'ek', 'cm', 'ena', 'ek', 'cm', 'ena', 'ek', 'gIhbar_Ih', 'gNaTs2_tbar_NaTs2_t', 'gSKv3_1bar_SKv3_1', 'gImbar_Im', 'gIhbar_Ih', 'gNaTa_tbar_NaTa_t', 'gNap_Et2bar_Nap_Et2', 'gK_Pstbar_K_Pst', 'gK_Tstbar_K_Tst', 'gSK_E2bar_SK_E2', 'gSKv3_1bar_SKv3_1', 'gCa_HVAbar_Ca_HVA', 'gCa_LVAstbar_Ca_LVAst', 'gamma_CaDynamics_E2', 'decay_CaDynamics_E2', 'gNaTs2_tbar_NaTs2_t', 'gSKv3_1bar_SKv3_1', 'gSK_E2bar_SK_E2', 'gCa_HVAbar_Ca_HVA', 'gCa_LVAstbar_Ca_LVAst', 'gamma_CaDynamics_E2', 'decay_CaDynamics_E2', 'gIhbar_Ih']\n"
     ]
    }
   ],
   "source": [
    "import json\n",
    "param_configs = json.load(open('config/parameters.json'))\n",
    "print([param_config['param_name'] for param_config in param_configs])"
   ]
  },
  {
   "cell_type": "markdown",
   "metadata": {},
   "source": [
    "The directory that contains this notebook has a module that will load all the parameters in BluePyOpt Parameter objects"
   ]
  },
  {
   "cell_type": "code",
   "execution_count": 6,
   "metadata": {},
   "outputs": [
    {
     "name": "stdout",
     "output_type": "stream",
     "text": [
      "g_pas.all: ['all'] g_pas = 3e-05\n",
      "e_pas.all: ['all'] e_pas = -75\n",
      "cm.all: ['all'] cm = 1\n",
      "Ra.all: ['all'] Ra = 100\n",
      "v_init: v_init = -65\n",
      "celsius: celsius = 34\n",
      "ena.apical: ['apical'] ena = 50\n",
      "ek.apical: ['apical'] ek = -85\n",
      "cm.apical: ['apical'] cm = 2\n",
      "ena.somatic: ['somatic'] ena = 50\n",
      "ek.somatic: ['somatic'] ek = -85\n",
      "cm.basal: ['basal'] cm = 2\n",
      "ena.axonal: ['axonal'] ena = 50\n",
      "ek.axonal: ['axonal'] ek = -85\n",
      "gIhbar_Ih.basal: ['basal'] gIhbar_Ih = 8e-05\n",
      "gNaTs2_tbar_NaTs2_t.apical: ['apical'] gNaTs2_tbar_NaTs2_t = [0, 0.04]\n",
      "gSKv3_1bar_SKv3_1.apical: ['apical'] gSKv3_1bar_SKv3_1 = [0, 0.04]\n",
      "gImbar_Im.apical: ['apical'] gImbar_Im = [0, 0.001]\n",
      "gIhbar_Ih.apical: ['apical'] gIhbar_Ih = 8e-05\n",
      "gNaTa_tbar_NaTa_t.axonal: ['axonal'] gNaTa_tbar_NaTa_t = [0, 4]\n",
      "gNap_Et2bar_Nap_Et2.axonal: ['axonal'] gNap_Et2bar_Nap_Et2 = [0, 4]\n",
      "gK_Pstbar_K_Pst.axonal: ['axonal'] gK_Pstbar_K_Pst = [0, 1]\n",
      "gK_Tstbar_K_Tst.axonal: ['axonal'] gK_Tstbar_K_Tst = [0, 0.1]\n",
      "gSK_E2bar_SK_E2.axonal: ['axonal'] gSK_E2bar_SK_E2 = [0, 0.1]\n",
      "gSKv3_1bar_SKv3_1.axonal: ['axonal'] gSKv3_1bar_SKv3_1 = [0, 2]\n",
      "gCa_HVAbar_Ca_HVA.axonal: ['axonal'] gCa_HVAbar_Ca_HVA = [0, 0.001]\n",
      "gCa_LVAstbar_Ca_LVAst.axonal: ['axonal'] gCa_LVAstbar_Ca_LVAst = [0, 0.01]\n",
      "gamma_CaDynamics_E2.axonal: ['axonal'] gamma_CaDynamics_E2 = [0.0005, 0.05]\n",
      "decay_CaDynamics_E2.axonal: ['axonal'] decay_CaDynamics_E2 = [20, 1000]\n",
      "gNaTs2_tbar_NaTs2_t.somatic: ['somatic'] gNaTs2_tbar_NaTs2_t = [0, 1]\n",
      "gSKv3_1bar_SKv3_1.somatic: ['somatic'] gSKv3_1bar_SKv3_1 = [0, 1]\n",
      "gSK_E2bar_SK_E2.somatic: ['somatic'] gSK_E2bar_SK_E2 = [0, 0.1]\n",
      "gCa_HVAbar_Ca_HVA.somatic: ['somatic'] gCa_HVAbar_Ca_HVA = [0, 0.001]\n",
      "gCa_LVAstbar_Ca_LVAst.somatic: ['somatic'] gCa_LVAstbar_Ca_LVAst = [0, 0.01]\n",
      "gamma_CaDynamics_E2.somatic: ['somatic'] gamma_CaDynamics_E2 = [0.0005, 0.05]\n",
      "decay_CaDynamics_E2.somatic: ['somatic'] decay_CaDynamics_E2 = [20, 1000]\n",
      "gIhbar_Ih.somatic: ['somatic'] gIhbar_Ih = 8e-05\n"
     ]
    }
   ],
   "source": [
    "import l5pc_model\n",
    "parameters = l5pc_model.define_parameters()\n",
    "print('\\n'.join('%s' % param for param in parameters))"
   ]
  },
  {
   "cell_type": "markdown",
   "metadata": {},
   "source": [
    "As you can see there are two types of parameters, parameters with a fixed value and parameters with bounds. The latter will be optimised by the algorithm."
   ]
  },
  {
   "cell_type": "markdown",
   "metadata": {},
   "source": [
    "### Mechanism"
   ]
  },
  {
   "cell_type": "markdown",
   "metadata": {},
   "source": [
    "We also need to add all the necessary mechanisms, like ion channels to the model. \n",
    "The configuration of the mechanisms is also stored in a json file, and can be loaded in a similar way."
   ]
  },
  {
   "cell_type": "code",
   "execution_count": 7,
   "metadata": {},
   "outputs": [
    {
     "name": "stdout",
     "output_type": "stream",
     "text": [
      "Ih.basal: Ih at ['basal']\n",
      "pas.all: pas at ['all']\n",
      "Ih.apical: Ih at ['apical']\n",
      "Im.apical: Im at ['apical']\n",
      "SKv3_1.apical: SKv3_1 at ['apical']\n",
      "NaTs2_t.apical: NaTs2_t at ['apical']\n",
      "Ca_LVAst.axonal: Ca_LVAst at ['axonal']\n",
      "Ca_HVA.axonal: Ca_HVA at ['axonal']\n",
      "CaDynamics_E2.axonal: CaDynamics_E2 at ['axonal']\n",
      "SKv3_1.axonal: SKv3_1 at ['axonal']\n",
      "SK_E2.axonal: SK_E2 at ['axonal']\n",
      "K_Tst.axonal: K_Tst at ['axonal']\n",
      "K_Pst.axonal: K_Pst at ['axonal']\n",
      "Nap_Et2.axonal: Nap_Et2 at ['axonal']\n",
      "NaTa_t.axonal: NaTa_t at ['axonal']\n",
      "NaTs2_t.somatic: NaTs2_t at ['somatic']\n",
      "SKv3_1.somatic: SKv3_1 at ['somatic']\n",
      "SK_E2.somatic: SK_E2 at ['somatic']\n",
      "CaDynamics_E2.somatic: CaDynamics_E2 at ['somatic']\n",
      "Ca_HVA.somatic: Ca_HVA at ['somatic']\n",
      "Ca_LVAst.somatic: Ca_LVAst at ['somatic']\n",
      "Ih.somatic: Ih at ['somatic']\n"
     ]
    }
   ],
   "source": [
    "mechanisms = l5pc_model.define_mechanisms()\n",
    "print('\\n'.join('%s' % mech for mech in mechanisms))"
   ]
  },
  {
   "cell_type": "markdown",
   "metadata": {},
   "source": [
    "# Cell model"
   ]
  },
  {
   "cell_type": "markdown",
   "metadata": {},
   "source": [
    "With the morphology, mechanisms and parameters we can build the cell model"
   ]
  },
  {
   "cell_type": "code",
   "execution_count": 8,
   "metadata": {},
   "outputs": [
    {
     "name": "stdout",
     "output_type": "stream",
     "text": [
      "l5pc:\n",
      "  morphology:\n",
      "    morphology/C060114A7.asc\n",
      "  mechanisms:\n",
      "    Ih.basal: Ih at ['basal']\n",
      "    pas.all: pas at ['all']\n",
      "    Ih.apical: Ih at ['apical']\n",
      "    Im.apical: Im at ['apical']\n",
      "    SKv3_1.apical: SKv3_1 at ['apical']\n",
      "    NaTs2_t.apical: NaTs2_t at ['apical']\n",
      "    Ca_LVAst.axonal: Ca_LVAst at ['axonal']\n",
      "    Ca_HVA.axonal: Ca_HVA at ['axonal']\n",
      "    CaDynamics_E2.axonal: CaDynamics_E2 at ['axonal']\n",
      "    SKv3_1.axonal: SKv3_1 at ['axonal']\n",
      "    SK_E2.axonal: SK_E2 at ['axonal']\n",
      "    K_Tst.axonal: K_Tst at ['axonal']\n",
      "    K_Pst.axonal: K_Pst at ['axonal']\n",
      "    Nap_Et2.axonal: Nap_Et2 at ['axonal']\n",
      "    NaTa_t.axonal: NaTa_t at ['axonal']\n",
      "    NaTs2_t.somatic: NaTs2_t at ['somatic']\n",
      "    SKv3_1.somatic: SKv3_1 at ['somatic']\n",
      "    SK_E2.somatic: SK_E2 at ['somatic']\n",
      "    CaDynamics_E2.somatic: CaDynamics_E2 at ['somatic']\n",
      "    Ca_HVA.somatic: Ca_HVA at ['somatic']\n",
      "    Ca_LVAst.somatic: Ca_LVAst at ['somatic']\n",
      "    Ih.somatic: Ih at ['somatic']\n",
      "  params:\n",
      "    g_pas.all: ['all'] g_pas = 3e-05\n",
      "    e_pas.all: ['all'] e_pas = -75\n",
      "    cm.all: ['all'] cm = 1\n",
      "    Ra.all: ['all'] Ra = 100\n",
      "    v_init: v_init = -65\n",
      "    celsius: celsius = 34\n",
      "    ena.apical: ['apical'] ena = 50\n",
      "    ek.apical: ['apical'] ek = -85\n",
      "    cm.apical: ['apical'] cm = 2\n",
      "    ena.somatic: ['somatic'] ena = 50\n",
      "    ek.somatic: ['somatic'] ek = -85\n",
      "    cm.basal: ['basal'] cm = 2\n",
      "    ena.axonal: ['axonal'] ena = 50\n",
      "    ek.axonal: ['axonal'] ek = -85\n",
      "    gIhbar_Ih.basal: ['basal'] gIhbar_Ih = 8e-05\n",
      "    gNaTs2_tbar_NaTs2_t.apical: ['apical'] gNaTs2_tbar_NaTs2_t = [0, 0.04]\n",
      "    gSKv3_1bar_SKv3_1.apical: ['apical'] gSKv3_1bar_SKv3_1 = [0, 0.04]\n",
      "    gImbar_Im.apical: ['apical'] gImbar_Im = [0, 0.001]\n",
      "    gIhbar_Ih.apical: ['apical'] gIhbar_Ih = 8e-05\n",
      "    gNaTa_tbar_NaTa_t.axonal: ['axonal'] gNaTa_tbar_NaTa_t = [0, 4]\n",
      "    gNap_Et2bar_Nap_Et2.axonal: ['axonal'] gNap_Et2bar_Nap_Et2 = [0, 4]\n",
      "    gK_Pstbar_K_Pst.axonal: ['axonal'] gK_Pstbar_K_Pst = [0, 1]\n",
      "    gK_Tstbar_K_Tst.axonal: ['axonal'] gK_Tstbar_K_Tst = [0, 0.1]\n",
      "    gSK_E2bar_SK_E2.axonal: ['axonal'] gSK_E2bar_SK_E2 = [0, 0.1]\n",
      "    gSKv3_1bar_SKv3_1.axonal: ['axonal'] gSKv3_1bar_SKv3_1 = [0, 2]\n",
      "    gCa_HVAbar_Ca_HVA.axonal: ['axonal'] gCa_HVAbar_Ca_HVA = [0, 0.001]\n",
      "    gCa_LVAstbar_Ca_LVAst.axonal: ['axonal'] gCa_LVAstbar_Ca_LVAst = [0, 0.01]\n",
      "    gamma_CaDynamics_E2.axonal: ['axonal'] gamma_CaDynamics_E2 = [0.0005, 0.05]\n",
      "    decay_CaDynamics_E2.axonal: ['axonal'] decay_CaDynamics_E2 = [20, 1000]\n",
      "    gNaTs2_tbar_NaTs2_t.somatic: ['somatic'] gNaTs2_tbar_NaTs2_t = [0, 1]\n",
      "    gSKv3_1bar_SKv3_1.somatic: ['somatic'] gSKv3_1bar_SKv3_1 = [0, 1]\n",
      "    gSK_E2bar_SK_E2.somatic: ['somatic'] gSK_E2bar_SK_E2 = [0, 0.1]\n",
      "    gCa_HVAbar_Ca_HVA.somatic: ['somatic'] gCa_HVAbar_Ca_HVA = [0, 0.001]\n",
      "    gCa_LVAstbar_Ca_LVAst.somatic: ['somatic'] gCa_LVAstbar_Ca_LVAst = [0, 0.01]\n",
      "    gamma_CaDynamics_E2.somatic: ['somatic'] gamma_CaDynamics_E2 = [0.0005, 0.05]\n",
      "    decay_CaDynamics_E2.somatic: ['somatic'] decay_CaDynamics_E2 = [20, 1000]\n",
      "    gIhbar_Ih.somatic: ['somatic'] gIhbar_Ih = 8e-05\n",
      "\n"
     ]
    }
   ],
   "source": [
    "l5pc_cell = ephys.models.CellModel('l5pc', morph=morphology, mechs=mechanisms, params=parameters)\n",
    "print(l5pc_cell)"
   ]
  },
  {
   "cell_type": "markdown",
   "metadata": {},
   "source": [
    "For use in the cell evaluator later, we need to make a list of the name of the parameters we are going to optimise.\n",
    "These are the parameters that are not frozen."
   ]
  },
  {
   "cell_type": "code",
   "execution_count": 9,
   "metadata": {},
   "outputs": [],
   "source": [
    "param_names = [param.name for param in l5pc_cell.params.values() if not param.frozen]      "
   ]
  },
  {
   "cell_type": "markdown",
   "metadata": {},
   "source": [
    "## Protocols"
   ]
  },
  {
   "cell_type": "markdown",
   "metadata": {},
   "source": [
    "Now that we have a cell model, we can apply protocols to it. The protocols are also stored in a json file."
   ]
  },
  {
   "cell_type": "code",
   "execution_count": 10,
   "metadata": {},
   "outputs": [
    {
     "name": "stdout",
     "output_type": "stream",
     "text": [
      "{'bAP': {'stimuli': [{'delay': 295, 'amp': 1.9, 'duration': 5, 'totduration': 600}], 'extra_recordings': [{'var': 'v', 'somadistance': 660, 'type': 'somadistance', 'name': 'dend1', 'seclist_name': 'apical'}, {'var': 'v', 'somadistance': 800, 'type': 'somadistance', 'name': 'dend2', 'seclist_name': 'apical'}]}, 'Step3': {'stimuli': [{'delay': 700, 'amp': 0.95, 'duration': 2000, 'totduration': 3000}, {'delay': 0, 'amp': -0.126, 'duration': 3000, 'totduration': 3000}]}, 'Step2': {'stimuli': [{'delay': 700, 'amp': 0.562, 'duration': 2000, 'totduration': 3000}, {'delay': 0, 'amp': -0.126, 'duration': 3000, 'totduration': 3000}]}, 'Step1': {'stimuli': [{'delay': 700, 'amp': 0.458, 'duration': 2000, 'totduration': 3000}, {'delay': 0, 'amp': -0.126, 'duration': 3000, 'totduration': 3000}]}}\n"
     ]
    }
   ],
   "source": [
    "proto_configs = json.load(open('config/protocols.json'))\n",
    "print(proto_configs)"
   ]
  },
  {
   "cell_type": "markdown",
   "metadata": {},
   "source": [
    "And they can be automatically loaded"
   ]
  },
  {
   "cell_type": "code",
   "execution_count": 11,
   "metadata": {},
   "outputs": [
    {
     "name": "stdout",
     "output_type": "stream",
     "text": [
      "bAP:\n",
      "  stimuli:\n",
      "    Square pulse amp 1.900000 delay 295.000000 duration 5.000000 totdur 600.000000 at somatic[0](0.5)\n",
      "  recordings:\n",
      "    bAP.soma.v: v at somatic[0](0.5)\n",
      "    bAP.dend1.v: v at 660.000000 micron from soma in apical\n",
      "    bAP.dend2.v: v at 800.000000 micron from soma in apical\n",
      "\n",
      "Step3:\n",
      "  stimuli:\n",
      "    Square pulse amp 0.950000 delay 700.000000 duration 2000.000000 totdur 3000.000000 at somatic[0](0.5)\n",
      "    Square pulse amp -0.126000 delay 0.000000 duration 3000.000000 totdur 3000.000000 at somatic[0](0.5)\n",
      "  recordings:\n",
      "    Step3.soma.v: v at somatic[0](0.5)\n",
      "\n",
      "Step2:\n",
      "  stimuli:\n",
      "    Square pulse amp 0.562000 delay 700.000000 duration 2000.000000 totdur 3000.000000 at somatic[0](0.5)\n",
      "    Square pulse amp -0.126000 delay 0.000000 duration 3000.000000 totdur 3000.000000 at somatic[0](0.5)\n",
      "  recordings:\n",
      "    Step2.soma.v: v at somatic[0](0.5)\n",
      "\n",
      "Step1:\n",
      "  stimuli:\n",
      "    Square pulse amp 0.458000 delay 700.000000 duration 2000.000000 totdur 3000.000000 at somatic[0](0.5)\n",
      "    Square pulse amp -0.126000 delay 0.000000 duration 3000.000000 totdur 3000.000000 at somatic[0](0.5)\n",
      "  recordings:\n",
      "    Step1.soma.v: v at somatic[0](0.5)\n",
      "\n"
     ]
    }
   ],
   "source": [
    "import l5pc_evaluator\n",
    "fitness_protocols = l5pc_evaluator.define_protocols()\n",
    "print('\\n'.join('%s' % protocol for protocol in fitness_protocols.values()))"
   ]
  },
  {
   "cell_type": "markdown",
   "metadata": {},
   "source": [
    "## eFeatures"
   ]
  },
  {
   "cell_type": "markdown",
   "metadata": {},
   "source": [
    "For every protocol we need to define which eFeatures will be used as objectives of the optimisation algorithm."
   ]
  },
  {
   "cell_type": "code",
   "execution_count": 12,
   "metadata": {},
   "outputs": [
    {
     "name": "stdout",
     "output_type": "stream",
     "text": [
      "{ 'Step1': { 'soma': { 'AHP_depth_abs': [-60.3636, 2.3018],\n",
      "                       'AHP_depth_abs_slow': [-61.1513, 2.3385],\n",
      "                       'AHP_slow_time': [0.1599, 0.0483],\n",
      "                       'AP_height': [25.0141, 3.1463],\n",
      "                       'AP_width': [3.5312, 0.8592],\n",
      "                       'ISI_CV': [0.109, 0.1217],\n",
      "                       'adaptation_index2': [0.0047, 0.0514],\n",
      "                       'doublet_ISI': [62.75, 9.6667],\n",
      "                       'mean_frequency': [6, 1.2222],\n",
      "                       'time_to_first_spike': [27.25, 5.7222]}},\n",
      "  'Step2': { 'soma': { 'AHP_depth_abs': [-59.9055, 1.8329],\n",
      "                       'AHP_depth_abs_slow': [-60.2471, 1.8972],\n",
      "                       'AHP_slow_time': [0.1676, 0.0339],\n",
      "                       'AP_height': [27.1003, 3.1463],\n",
      "                       'AP_width': [2.7917, 0.7499],\n",
      "                       'ISI_CV': [0.0674, 0.075],\n",
      "                       'adaptation_index2': [0.005, 0.0067],\n",
      "                       'doublet_ISI': [44.0, 7.1327],\n",
      "                       'mean_frequency': [8.5, 0.9796],\n",
      "                       'time_to_first_spike': [19.75, 2.8776]}},\n",
      "  'Step3': { 'soma': { 'AHP_depth_abs': [-57.0905, 2.3427],\n",
      "                       'AHP_depth_abs_slow': [-61.1513, 2.3385],\n",
      "                       'AHP_slow_time': [0.1968, 0.0112],\n",
      "                       'AP_height': [19.7207, 3.7204],\n",
      "                       'AP_width': [3.5347, 0.8788],\n",
      "                       'ISI_CV': [0.0737, 0.0292],\n",
      "                       'adaptation_index2': [0.0055, 0.0015],\n",
      "                       'doublet_ISI': [22.75, 4.14],\n",
      "                       'mean_frequency': [17.5, 0.8],\n",
      "                       'time_to_first_spike': [10.5, 1.36]}},\n",
      "  'bAP': { 'dend1': {'AP_amplitude_from_voltagebase': [45, 10]},\n",
      "           'dend2': {'AP_amplitude_from_voltagebase': [36, 9.33]},\n",
      "           'soma': { 'AP_height': [25.0, 5.0],\n",
      "                     'AP_width': [2.0, 0.5],\n",
      "                     'Spikecount': [1.0, 0.01]}}}\n"
     ]
    }
   ],
   "source": [
    "feature_configs = json.load(open('config/features.json'))\n",
    "pp.pprint(feature_configs)"
   ]
  },
  {
   "cell_type": "code",
   "execution_count": 13,
   "metadata": {},
   "outputs": [
    {
     "name": "stdout",
     "output_type": "stream",
     "text": [
      "objectives:\n",
      "  ( AP_width for {'': 'bAP.soma.v'} with stim start 295 and end 600, exp mean 2.0 and std 0.5 and AP threshold override -20 )\n",
      "  ( AP_height for {'': 'bAP.soma.v'} with stim start 295 and end 600, exp mean 25.0 and std 5.0 and AP threshold override -20 )\n",
      "  ( Spikecount for {'': 'bAP.soma.v'} with stim start 295 and end 600, exp mean 1.0 and std 0.01 and AP threshold override -20 )\n",
      "  ( AP_amplitude_from_voltagebase for {'': 'bAP.dend1.v'} with stim start 295 and end 600, exp mean 45 and std 10 and AP threshold override -55 )\n",
      "  ( AP_amplitude_from_voltagebase for {'': 'bAP.dend2.v'} with stim start 295 and end 600, exp mean 36 and std 9.33 and AP threshold override -55 )\n",
      "  ( AP_height for {'': 'Step3.soma.v'} with stim start 700 and end 2700, exp mean 19.7207 and std 3.7204 and AP threshold override -20 )\n",
      "  ( AHP_slow_time for {'': 'Step3.soma.v'} with stim start 700 and end 2700, exp mean 0.1968 and std 0.0112 and AP threshold override -20 )\n",
      "  ( ISI_CV for {'': 'Step3.soma.v'} with stim start 700 and end 2700, exp mean 0.0737 and std 0.0292 and AP threshold override -20 )\n",
      "  ( doublet_ISI for {'': 'Step3.soma.v'} with stim start 700 and end 2700, exp mean 22.75 and std 4.14 and AP threshold override -20 )\n",
      "  ( adaptation_index2 for {'': 'Step3.soma.v'} with stim start 700 and end 2700, exp mean 0.0055 and std 0.0015 and AP threshold override -20 )\n",
      "  ( mean_frequency for {'': 'Step3.soma.v'} with stim start 700 and end 2700, exp mean 17.5 and std 0.8 and AP threshold override -20 )\n",
      "  ( AHP_depth_abs_slow for {'': 'Step3.soma.v'} with stim start 700 and end 2700, exp mean -61.1513 and std 2.3385 and AP threshold override -20 )\n",
      "  ( AP_width for {'': 'Step3.soma.v'} with stim start 700 and end 2700, exp mean 3.5347 and std 0.8788 and AP threshold override -20 )\n",
      "  ( time_to_first_spike for {'': 'Step3.soma.v'} with stim start 700 and end 2700, exp mean 10.5 and std 1.36 and AP threshold override -20 )\n",
      "  ( AHP_depth_abs for {'': 'Step3.soma.v'} with stim start 700 and end 2700, exp mean -57.0905 and std 2.3427 and AP threshold override -20 )\n",
      "  ( AP_height for {'': 'Step2.soma.v'} with stim start 700 and end 2700, exp mean 27.1003 and std 3.1463 and AP threshold override -20 )\n",
      "  ( AHP_slow_time for {'': 'Step2.soma.v'} with stim start 700 and end 2700, exp mean 0.1676 and std 0.0339 and AP threshold override -20 )\n",
      "  ( ISI_CV for {'': 'Step2.soma.v'} with stim start 700 and end 2700, exp mean 0.0674 and std 0.075 and AP threshold override -20 )\n",
      "  ( doublet_ISI for {'': 'Step2.soma.v'} with stim start 700 and end 2700, exp mean 44.0 and std 7.1327 and AP threshold override -20 )\n",
      "  ( adaptation_index2 for {'': 'Step2.soma.v'} with stim start 700 and end 2700, exp mean 0.005 and std 0.0067 and AP threshold override -20 )\n",
      "  ( mean_frequency for {'': 'Step2.soma.v'} with stim start 700 and end 2700, exp mean 8.5 and std 0.9796 and AP threshold override -20 )\n",
      "  ( AHP_depth_abs_slow for {'': 'Step2.soma.v'} with stim start 700 and end 2700, exp mean -60.2471 and std 1.8972 and AP threshold override -20 )\n",
      "  ( AP_width for {'': 'Step2.soma.v'} with stim start 700 and end 2700, exp mean 2.7917 and std 0.7499 and AP threshold override -20 )\n",
      "  ( time_to_first_spike for {'': 'Step2.soma.v'} with stim start 700 and end 2700, exp mean 19.75 and std 2.8776 and AP threshold override -20 )\n",
      "  ( AHP_depth_abs for {'': 'Step2.soma.v'} with stim start 700 and end 2700, exp mean -59.9055 and std 1.8329 and AP threshold override -20 )\n",
      "  ( AP_height for {'': 'Step1.soma.v'} with stim start 700 and end 2700, exp mean 25.0141 and std 3.1463 and AP threshold override -20 )\n",
      "  ( AHP_slow_time for {'': 'Step1.soma.v'} with stim start 700 and end 2700, exp mean 0.1599 and std 0.0483 and AP threshold override -20 )\n",
      "  ( ISI_CV for {'': 'Step1.soma.v'} with stim start 700 and end 2700, exp mean 0.109 and std 0.1217 and AP threshold override -20 )\n",
      "  ( doublet_ISI for {'': 'Step1.soma.v'} with stim start 700 and end 2700, exp mean 62.75 and std 9.6667 and AP threshold override -20 )\n",
      "  ( adaptation_index2 for {'': 'Step1.soma.v'} with stim start 700 and end 2700, exp mean 0.0047 and std 0.0514 and AP threshold override -20 )\n",
      "  ( mean_frequency for {'': 'Step1.soma.v'} with stim start 700 and end 2700, exp mean 6 and std 1.2222 and AP threshold override -20 )\n",
      "  ( AHP_depth_abs_slow for {'': 'Step1.soma.v'} with stim start 700 and end 2700, exp mean -61.1513 and std 2.3385 and AP threshold override -20 )\n",
      "  ( AP_width for {'': 'Step1.soma.v'} with stim start 700 and end 2700, exp mean 3.5312 and std 0.8592 and AP threshold override -20 )\n",
      "  ( time_to_first_spike for {'': 'Step1.soma.v'} with stim start 700 and end 2700, exp mean 27.25 and std 5.7222 and AP threshold override -20 )\n",
      "  ( AHP_depth_abs for {'': 'Step1.soma.v'} with stim start 700 and end 2700, exp mean -60.3636 and std 2.3018 and AP threshold override -20 )\n"
     ]
    }
   ],
   "source": [
    "fitness_calculator = l5pc_evaluator.define_fitness_calculator(fitness_protocols)\n",
    "print(fitness_calculator)"
   ]
  },
  {
   "cell_type": "markdown",
   "metadata": {
    "collapsed": true
   },
   "source": [
    "## Simulator"
   ]
  },
  {
   "cell_type": "markdown",
   "metadata": {},
   "source": [
    "We need to define which simulator we will use. In this case it will be Neuron, i.e. the NrnSimulator class"
   ]
  },
  {
   "cell_type": "code",
   "execution_count": 14,
   "metadata": {},
   "outputs": [
    {
     "name": "stderr",
     "output_type": "stream",
     "text": [
      "/Users/damart/BluePyOpt/bluepyopt/ephys/simulators.py:75: UserWarning: Unable to find Neuron hoc shared library in /Applications/NEURON-7.7/nrn/lib/python/neuron, not disabling banner\n",
      "  'not disabling banner' % nrnpy_path)\n"
     ]
    }
   ],
   "source": [
    "sim = ephys.simulators.NrnSimulator()"
   ]
  },
  {
   "cell_type": "markdown",
   "metadata": {},
   "source": [
    "## Evaluator"
   ]
  },
  {
   "cell_type": "markdown",
   "metadata": {},
   "source": [
    "With all the components defined above we can build a cell evaluator"
   ]
  },
  {
   "cell_type": "code",
   "execution_count": 15,
   "metadata": {},
   "outputs": [],
   "source": [
    "evaluator = ephys.evaluators.CellEvaluator(                                          \n",
    "        cell_model=l5pc_cell,                                                       \n",
    "        param_names=param_names,                                                    \n",
    "        fitness_protocols=fitness_protocols,                                        \n",
    "        fitness_calculator=fitness_calculator,                                      \n",
    "        sim=sim)  "
   ]
  },
  {
   "cell_type": "markdown",
   "metadata": {},
   "source": [
    "This evaluator can be used to run the protocols. The original parameter values for the Markram et al. 2015 L5PC model are:"
   ]
  },
  {
   "cell_type": "code",
   "execution_count": 16,
   "metadata": {},
   "outputs": [],
   "source": [
    "release_params = {\n",
    "    'gNaTs2_tbar_NaTs2_t.apical': 0.026145,\n",
    "    'gSKv3_1bar_SKv3_1.apical': 0.004226,\n",
    "    'gImbar_Im.apical': 0.000143,\n",
    "    'gNaTa_tbar_NaTa_t.axonal': 3.137968,\n",
    "    'gK_Tstbar_K_Tst.axonal': 0.089259,\n",
    "    'gamma_CaDynamics_E2.axonal': 0.002910,\n",
    "    'gNap_Et2bar_Nap_Et2.axonal': 0.006827,\n",
    "    'gSK_E2bar_SK_E2.axonal': 0.007104,\n",
    "    'gCa_HVAbar_Ca_HVA.axonal': 0.000990,\n",
    "    'gK_Pstbar_K_Pst.axonal': 0.973538,\n",
    "    'gSKv3_1bar_SKv3_1.axonal': 1.021945,\n",
    "    'decay_CaDynamics_E2.axonal': 287.198731,\n",
    "    'gCa_LVAstbar_Ca_LVAst.axonal': 0.008752,\n",
    "    'gamma_CaDynamics_E2.somatic': 0.000609,\n",
    "    'gSKv3_1bar_SKv3_1.somatic': 0.303472,\n",
    "    'gSK_E2bar_SK_E2.somatic': 0.008407,\n",
    "    'gCa_HVAbar_Ca_HVA.somatic': 0.000994,\n",
    "    'gNaTs2_tbar_NaTs2_t.somatic': 0.983955,\n",
    "    'decay_CaDynamics_E2.somatic': 210.485284,\n",
    "    'gCa_LVAstbar_Ca_LVAst.somatic': 0.000333\n",
    "}\n"
   ]
  },
  {
   "cell_type": "markdown",
   "metadata": {},
   "source": [
    "Running the responses is as easy as passing the protocols and parameters to the evaluator. (The line below will take some time to execute)"
   ]
  },
  {
   "cell_type": "code",
   "execution_count": 17,
   "metadata": {},
   "outputs": [],
   "source": [
    "release_responses = evaluator.run_protocols(protocols=fitness_protocols.values(), param_values=release_params)"
   ]
  },
  {
   "cell_type": "markdown",
   "metadata": {},
   "source": [
    "We can now plot all the responses"
   ]
  },
  {
   "cell_type": "code",
   "execution_count": 18,
   "metadata": {},
   "outputs": [
    {
     "name": "stderr",
     "output_type": "stream",
     "text": [
      "/opt/anaconda3/lib/python3.7/site-packages/ipykernel_launcher.py:7: UserWarning: Matplotlib is currently using module://ipykernel.pylab.backend_inline, which is a non-GUI backend, so cannot show the figure.\n",
      "  import sys\n"
     ]
    },
    {
     "data": {
      "image/png": "[encoded data removed]",
      "text/plain": [
       "<Figure size 720x720 with 6 Axes>"
      ]
     },
     "metadata": {
      "needs_background": "light"
     },
     "output_type": "display_data"
    }
   ],
   "source": [
    "def plot_responses(responses):\n",
    "    fig, axes = plt.subplots(len(responses), figsize=(10,10))\n",
    "    for index, (resp_name, response) in enumerate(sorted(responses.items())):\n",
    "        axes[index].plot(response['time'], response['voltage'], label=resp_name)\n",
    "        axes[index].set_title(resp_name)\n",
    "    fig.tight_layout()\n",
    "    fig.show()\n",
    "plot_responses(release_responses)"
   ]
  },
  {
   "cell_type": "markdown",
   "metadata": {},
   "source": [
    "Running an optimisation of the parameters now has become very easy. \n",
    "Of course running the L5PC optimisation will require quite some computing resources. \n",
    "\n",
    "To show a proof-of-concept, we will only run 2 generations, with 2 offspring individuals per generations.\n",
    "If you want to run all full optimisation, you should run for 100 generations with an offspring size of 100 individuals. "
   ]
  },
  {
   "cell_type": "code",
   "execution_count": null,
   "metadata": {},
   "outputs": [],
   "source": [
    "opt = bpopt.optimisations.DEAPOptimisation(                                     \n",
    "    evaluator=evaluator,                                                            \n",
    "    offspring_size=10) \n",
    "final_pop, halloffame, log, hist = opt.run(max_ngen=20, cp_filename='checkpoints/checkpoint.pkl')"
   ]
  },
  {
   "cell_type": "markdown",
   "metadata": {},
   "source": [
    "The first individual in the hall of fame will contain the best solution found."
   ]
  },
  {
   "cell_type": "code",
   "execution_count": null,
   "metadata": {},
   "outputs": [],
   "source": [
    "print(halloffame[0])"
   ]
  },
  {
   "cell_type": "markdown",
   "metadata": {},
   "source": [
    "These are the raw parameter values. \n",
    "The evaluator object can convert this in a dictionary, so that we can see the parameter names corresponding to these values."
   ]
  },
  {
   "cell_type": "code",
   "execution_count": null,
   "metadata": {},
   "outputs": [],
   "source": [
    "best_params = evaluator.param_dict(halloffame[0])\n",
    "print(pp.pprint(best_params))"
   ]
  },
  {
   "cell_type": "markdown",
   "metadata": {},
   "source": [
    "Then we can run the fitness protocols on the model with these parameter values"
   ]
  },
  {
   "cell_type": "code",
   "execution_count": null,
   "metadata": {},
   "outputs": [],
   "source": [
    "best_responses = evaluator.run_protocols(protocols=fitness_protocols.values(), param_values=best_params)"
   ]
  },
  {
   "cell_type": "markdown",
   "metadata": {},
   "source": [
    "And then we can also plot these responses. \n",
    "\n",
    "When you ran the above optimisation with only 2 individuals and 2 generations, this 'best' model will of course be very low quality."
   ]
  },
  {
   "cell_type": "code",
   "execution_count": null,
   "metadata": {},
   "outputs": [],
   "source": [
    "plot_responses(best_responses)"
   ]
  },
  {
   "cell_type": "code",
   "execution_count": null,
   "metadata": {},
   "outputs": [],
   "source": []
  }
 ],
 "metadata": {
  "kernelspec": {
   "display_name": "Python 3",
   "language": "python",
   "name": "python3"
  },
  "language_info": {
   "codemirror_mode": {
    "name": "ipython",
    "version": 3
   },
   "file_extension": ".py",
   "mimetype": "text/x-python",
   "name": "python",
   "nbconvert_exporter": "python",
   "pygments_lexer": "ipython3",
   "version": "3.7.4"
  }
 },
 "nbformat": 4,
 "nbformat_minor": 1
}

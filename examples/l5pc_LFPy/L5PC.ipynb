{
 "cells": [
  {
   "cell_type": "code",
   "execution_count": 1,
   "metadata": {},
   "outputs": [
    {
     "name": "stdout",
     "output_type": "stream",
     "text": [
      "/gpfs/bbp.cscs.ch/home/damart/BPO_LFPy/BluePyOpt/examples/l5pc_LFPy\n",
      "mechanisms/CaDynamics_E2.mod mechanisms/Ca_HVA.mod mechanisms/Ca_LVAst.mod mechanisms/Ih.mod mechanisms/Im.mod mechanisms/K_Pst.mod mechanisms/K_Tst.mod mechanisms/Nap_Et2.mod mechanisms/NaTa_t.mod mechanisms/NaTs2_t.mod mechanisms/ProbAMPANMDA_EMS.mod mechanisms/ProbGABAAB_EMS.mod mechanisms/SK_E2.mod mechanisms/SKv3_1.mod\n",
      "CaDynamics_E2.mod Ca_HVA.mod Ca_LVAst.mod Ih.mod Im.mod K_Pst.mod K_Tst.mod Nap_Et2.mod NaTa_t.mod NaTs2_t.mod ProbAMPANMDA_EMS.mod ProbGABAAB_EMS.mod SK_E2.mod SKv3_1.mod\n",
      "\"/gpfs/bbp.cscs.ch/ssd/apps/hpc/jenkins/deploy/libraries/2020-02-01/linux-rhel7-x86_64/intel-19.0.4/neuron-7.8.0b-3lvust5k7q/share/nrn/libtool\" --tag=CC --mode=compile /gpfs/bbp.cscs.ch/ssd/apps/hpc/jenkins/deploy/tools/2020-02-01/linux-rhel7-x86_64/gcc-8.3.0/hpe-mpi-2.21-7pbszh6v5u/bin/mpicc -DHAVE_CONFIG_H  -I. -I.. -I\"/gpfs/bbp.cscs.ch/ssd/apps/hpc/jenkins/deploy/libraries/2020-02-01/linux-rhel7-x86_64/intel-19.0.4/neuron-7.8.0b-3lvust5k7q/include/nrn\" -I\"/gpfs/bbp.cscs.ch/ssd/apps/hpc/jenkins/deploy/libraries/2020-02-01/linux-rhel7-x86_64/intel-19.0.4/neuron-7.8.0b-3lvust5k7q/x86_64/lib\"      -O2 -g -c -o mod_func.lo mod_func.c\n",
      "libtool: compile:  /gpfs/bbp.cscs.ch/ssd/apps/hpc/jenkins/deploy/tools/2020-02-01/linux-rhel7-x86_64/gcc-8.3.0/hpe-mpi-2.21-7pbszh6v5u/bin/mpicc -DHAVE_CONFIG_H -I. -I.. -I/gpfs/bbp.cscs.ch/ssd/apps/hpc/jenkins/deploy/libraries/2020-02-01/linux-rhel7-x86_64/intel-19.0.4/neuron-7.8.0b-3lvust5k7q/include/nrn -I/gpfs/bbp.cscs.ch/ssd/apps/hpc/jenkins/deploy/libraries/2020-02-01/linux-rhel7-x86_64/intel-19.0.4/neuron-7.8.0b-3lvust5k7q/x86_64/lib -O2 -g -c mod_func.c  -fPIC -DPIC -o .libs/mod_func.o\n",
      "\"/gpfs/bbp.cscs.ch/ssd/apps/hpc/jenkins/deploy/libraries/2020-02-01/linux-rhel7-x86_64/intel-19.0.4/neuron-7.8.0b-3lvust5k7q/share/nrn/libtool\" --tag=CC --mode=link /gpfs/bbp.cscs.ch/ssd/apps/hpc/jenkins/deploy/tools/2020-02-01/linux-rhel7-x86_64/gcc-8.3.0/hpe-mpi-2.21-7pbszh6v5u/bin/mpicc -module  -O2 -g    -L/gpfs/bbp.cscs.ch/ssd/apps/hpc/jenkins/deploy/external-libraries/2020-02-01/linux-rhel7-x86_64/gcc-8.3.0/readline-8.0-uuhvgs2hgl/lib -Wl,-rpath,/gpfs/bbp.cscs.ch/ssd/apps/hpc/jenkins/deploy/external-libraries/2020-02-01/linux-rhel7-x86_64/gcc-8.3.0/readline-8.0-uuhvgs2hgl/lib -L/gpfs/bbp.cscs.ch/ssd/apps/hpc/jenkins/deploy/external-libraries/2020-02-01/linux-rhel7-x86_64/gcc-8.3.0/ncurses-6.1-esk7yfugjx/lib -Wl,-rpath,/gpfs/bbp.cscs.ch/ssd/apps/hpc/jenkins/deploy/external-libraries/2020-02-01/linux-rhel7-x86_64/gcc-8.3.0/ncurses-6.1-esk7yfugjx/lib -Wl,-rpath,/gpfs/bbp.cscs.ch/ssd/apps/hpc/jenkins/deploy/tools/2020-02-01/linux-rhel7-x86_64/gcc-8.3.0/hpe-mpi-2.21-7pbszh6v5u/lib -o libnrnmech.la -rpath \"/gpfs/bbp.cscs.ch/ssd/apps/hpc/jenkins/deploy/libraries/2020-02-01/linux-rhel7-x86_64/intel-19.0.4/neuron-7.8.0b-3lvust5k7q/x86_64/lib\"  CaDynamics_E2.lo Ca_HVA.lo Ca_LVAst.lo Ih.lo Im.lo K_Pst.lo K_Tst.lo Nap_Et2.lo NaTa_t.lo NaTs2_t.lo ProbAMPANMDA_EMS.lo ProbGABAAB_EMS.lo SK_E2.lo SKv3_1.lo mod_func.lo  -L\"/gpfs/bbp.cscs.ch/ssd/apps/hpc/jenkins/deploy/libraries/2020-02-01/linux-rhel7-x86_64/intel-19.0.4/neuron-7.8.0b-3lvust5k7q/x86_64/lib\" -lnrnoc -loc -lmemacs  -lscopmath -lsparse13 -L/gpfs/bbp.cscs.ch/ssd/apps/hpc/jenkins/deploy/external-libraries/2020-02-01/linux-rhel7-x86_64/gcc-8.3.0/readline-8.0-uuhvgs2hgl/lib -lreadline -L/gpfs/bbp.cscs.ch/ssd/apps/hpc/jenkins/deploy/external-libraries/2020-02-01/linux-rhel7-x86_64/gcc-8.3.0/ncurses-6.1-esk7yfugjx/lib -lncurses -L\"/gpfs/bbp.cscs.ch/ssd/apps/hpc/jenkins/deploy/libraries/2020-02-01/linux-rhel7-x86_64/intel-19.0.4/neuron-7.8.0b-3lvust5k7q/x86_64/lib\" -lnrniv -livoc -lneuron_gnu -lmeschach -lsundials -livos      -lm -ldl\n",
      "libtool: link: rm -fr  .libs/libnrnmech.la .libs/libnrnmech.lai .libs/libnrnmech.so .libs/libnrnmech.so.0 .libs/libnrnmech.so.0.0.0\n",
      "libtool: link: /gpfs/bbp.cscs.ch/ssd/apps/hpc/jenkins/deploy/tools/2020-02-01/linux-rhel7-x86_64/gcc-8.3.0/hpe-mpi-2.21-7pbszh6v5u/bin/mpicxx -shared  -fPIC -DPIC  .libs/CaDynamics_E2.o .libs/Ca_HVA.o .libs/Ca_LVAst.o .libs/Ih.o .libs/Im.o .libs/K_Pst.o .libs/K_Tst.o .libs/Nap_Et2.o .libs/NaTa_t.o .libs/NaTs2_t.o .libs/ProbAMPANMDA_EMS.o .libs/ProbGABAAB_EMS.o .libs/SK_E2.o .libs/SKv3_1.o .libs/mod_func.o   -Wl,-rpath -Wl,/gpfs/bbp.cscs.ch/ssd/apps/hpc/jenkins/deploy/libraries/2020-02-01/linux-rhel7-x86_64/intel-19.0.4/neuron-7.8.0b-3lvust5k7q/x86_64/lib -Wl,-rpath -Wl,/gpfs/bbp.cscs.ch/ssd/apps/hpc/jenkins/deploy/compilers/2020-02-01/linux-rhel7-x86_64/gcc-4.8.5/gcc-8.3.0-r24zbv3waz/lib/../lib64 -Wl,-rpath -Wl,/gpfs/bbp.cscs.ch/ssd/apps/hpc/jenkins/deploy/libraries/2020-02-01/linux-rhel7-x86_64/intel-19.0.4/neuron-7.8.0b-3lvust5k7q/x86_64/lib -Wl,-rpath -Wl,/gpfs/bbp.cscs.ch/ssd/apps/hpc/jenkins/deploy/compilers/2020-02-01/linux-rhel7-x86_64/gcc-4.8.5/gcc-8.3.0-r24zbv3waz/lib/../lib64 -L/gpfs/bbp.cscs.ch/ssd/apps/hpc/jenkins/deploy/external-libraries/2020-02-01/linux-rhel7-x86_64/gcc-8.3.0/readline-8.0-uuhvgs2hgl/lib -L/gpfs/bbp.cscs.ch/ssd/apps/hpc/jenkins/deploy/external-libraries/2020-02-01/linux-rhel7-x86_64/gcc-8.3.0/ncurses-6.1-esk7yfugjx/lib -L/gpfs/bbp.cscs.ch/ssd/apps/hpc/jenkins/deploy/libraries/2020-02-01/linux-rhel7-x86_64/intel-19.0.4/neuron-7.8.0b-3lvust5k7q/x86_64/lib /gpfs/bbp.cscs.ch/ssd/apps/hpc/jenkins/deploy/libraries/2020-02-01/linux-rhel7-x86_64/intel-19.0.4/neuron-7.8.0b-3lvust5k7q/x86_64/lib/libnrnoc.so /gpfs/bbp.cscs.ch/ssd/apps/hpc/jenkins/deploy/libraries/2020-02-01/linux-rhel7-x86_64/intel-19.0.4/neuron-7.8.0b-3lvust5k7q/x86_64/lib/liboc.so /gpfs/bbp.cscs.ch/ssd/apps/hpc/jenkins/deploy/libraries/2020-02-01/linux-rhel7-x86_64/intel-19.0.4/neuron-7.8.0b-3lvust5k7q/x86_64/lib/libmemacs.so /gpfs/bbp.cscs.ch/ssd/apps/hpc/jenkins/deploy/libraries/2020-02-01/linux-rhel7-x86_64/intel-19.0.4/neuron-7.8.0b-3lvust5k7q/x86_64/lib/libscopmath.so /gpfs/bbp.cscs.ch/ssd/apps/hpc/jenkins/deploy/libraries/2020-02-01/linux-rhel7-x86_64/intel-19.0.4/neuron-7.8.0b-3lvust5k7q/x86_64/lib/libsparse13.so -lreadline -lncurses /gpfs/bbp.cscs.ch/ssd/apps/hpc/jenkins/deploy/libraries/2020-02-01/linux-rhel7-x86_64/intel-19.0.4/neuron-7.8.0b-3lvust5k7q/x86_64/lib/libnrniv.so -L/gpfs/bbp.cscs.ch/ssd/apps/hpc/jenkins/deploy/compilers/2020-02-01/linux-rhel7-x86_64/gcc-4.8.5/gcc-8.3.0-r24zbv3waz/lib/../lib64 /gpfs/bbp.cscs.ch/ssd/apps/hpc/jenkins/deploy/libraries/2020-02-01/linux-rhel7-x86_64/intel-19.0.4/neuron-7.8.0b-3lvust5k7q/x86_64/lib/libivoc.so /gpfs/bbp.cscs.ch/ssd/apps/hpc/jenkins/deploy/libraries/2020-02-01/linux-rhel7-x86_64/intel-19.0.4/neuron-7.8.0b-3lvust5k7q/x86_64/lib/libneuron_gnu.so /gpfs/bbp.cscs.ch/ssd/apps/hpc/jenkins/deploy/libraries/2020-02-01/linux-rhel7-x86_64/intel-19.0.4/neuron-7.8.0b-3lvust5k7q/x86_64/lib/libmeschach.so /gpfs/bbp.cscs.ch/ssd/apps/hpc/jenkins/deploy/libraries/2020-02-01/linux-rhel7-x86_64/intel-19.0.4/neuron-7.8.0b-3lvust5k7q/x86_64/lib/libsundials.so /gpfs/bbp.cscs.ch/ssd/apps/hpc/jenkins/deploy/libraries/2020-02-01/linux-rhel7-x86_64/intel-19.0.4/neuron-7.8.0b-3lvust5k7q/x86_64/lib/libivos.so /gpfs/bbp.cscs.ch/ssd/apps/hpc/jenkins/deploy/compilers/2020-02-01/linux-rhel7-x86_64/gcc-4.8.5/gcc-8.3.0-r24zbv3waz/lib/../lib64/libstdc++.so -lm -ldl  -O2 -Wl,-rpath -Wl,/gpfs/bbp.cscs.ch/ssd/apps/hpc/jenkins/deploy/external-libraries/2020-02-01/linux-rhel7-x86_64/gcc-8.3.0/readline-8.0-uuhvgs2hgl/lib -Wl,-rpath -Wl,/gpfs/bbp.cscs.ch/ssd/apps/hpc/jenkins/deploy/external-libraries/2020-02-01/linux-rhel7-x86_64/gcc-8.3.0/ncurses-6.1-esk7yfugjx/lib -Wl,-rpath -Wl,/gpfs/bbp.cscs.ch/ssd/apps/hpc/jenkins/deploy/tools/2020-02-01/linux-rhel7-x86_64/gcc-8.3.0/hpe-mpi-2.21-7pbszh6v5u/lib   -pthread -Wl,-soname -Wl,libnrnmech.so.0 -o .libs/libnrnmech.so.0.0.0\n",
      "libtool: link: (cd \".libs\" && rm -f \"libnrnmech.so.0\" && ln -s \"libnrnmech.so.0.0.0\" \"libnrnmech.so.0\")\n",
      "libtool: link: (cd \".libs\" && rm -f \"libnrnmech.so\" && ln -s \"libnrnmech.so.0.0.0\" \"libnrnmech.so\")\n",
      "libtool: link: ( cd \".libs\" && rm -f \"libnrnmech.la\" && ln -s \"../libnrnmech.la\" \"libnrnmech.la\" )\n",
      "Successfully created x86_64/special\n"
     ]
    }
   ],
   "source": [
    "%load_ext autoreload\n",
    "%autoreload\n",
    "\n",
    "!nrnivmodl mechanisms\n",
    "import bluepyopt as bpopt\n",
    "import bluepyopt.ephys as ephys\n",
    "\n",
    "import pprint\n",
    "pp = pprint.PrettyPrinter(indent=2)\n",
    "\n",
    "%matplotlib notebook\n",
    "import matplotlib.pyplot as plt\n",
    "\n",
    "import json"
   ]
  },
  {
   "cell_type": "code",
   "execution_count": 2,
   "metadata": {},
   "outputs": [],
   "source": [
    "import l5pc_model\n",
    "import l5pc_evaluator\n",
    "\n",
    "morphology = ephys.morphologies.NrnFileMorphology('morphology/C060114A7.asc', do_replace_axon=True)\n",
    "param_configs = json.load(open('config/parameters.json'))\n",
    "parameters = l5pc_model.define_parameters()\n",
    "mechanisms = l5pc_model.define_mechanisms()\n",
    "l5pc_cell = ephys.models.LFPyCellModel('l5pc', morph=morphology, mechs=mechanisms, params=parameters)\n",
    "param_names = [param.name for param in l5pc_cell.params.values() if not param.frozen]      \n",
    "fitness_protocols = l5pc_evaluator.define_protocols()\n",
    "feature_configs = json.load(open('config/features.json'))\n",
    "fitness_calculator = l5pc_evaluator.define_fitness_calculator(fitness_protocols)\n",
    "sim = ephys.simulators.LFPySimulator(l5pc_cell)\n",
    "evaluator = ephys.evaluators.CellEvaluator(                                          \n",
    "                cell_model=l5pc_cell,                                                       \n",
    "                param_names=param_names,                                                    \n",
    "                fitness_protocols=fitness_protocols,                                        \n",
    "                fitness_calculator=fitness_calculator,                                      \n",
    "                sim=sim) "
   ]
  },
  {
   "cell_type": "code",
   "execution_count": 3,
   "metadata": {},
   "outputs": [],
   "source": [
    "release_params = {\n",
    "    'gNaTs2_tbar_NaTs2_t.apical': 0.026145,\n",
    "    'gSKv3_1bar_SKv3_1.apical': 0.004226,\n",
    "    'gImbar_Im.apical': 0.000143,\n",
    "    'gNaTa_tbar_NaTa_t.axonal': 3.137968,\n",
    "    'gK_Tstbar_K_Tst.axonal': 0.089259,\n",
    "    'gamma_CaDynamics_E2.axonal': 0.002910,\n",
    "    'gNap_Et2bar_Nap_Et2.axonal': 0.006827,\n",
    "    'gSK_E2bar_SK_E2.axonal': 0.007104,\n",
    "    'gCa_HVAbar_Ca_HVA.axonal': 0.000990,\n",
    "    'gK_Pstbar_K_Pst.axonal': 0.973538,\n",
    "    'gSKv3_1bar_SKv3_1.axonal': 1.021945,\n",
    "    'decay_CaDynamics_E2.axonal': 287.198731,\n",
    "    'gCa_LVAstbar_Ca_LVAst.axonal': 0.008752,\n",
    "    'gamma_CaDynamics_E2.somatic': 0.000609,\n",
    "    'gSKv3_1bar_SKv3_1.somatic': 0.303472,\n",
    "    'gSK_E2bar_SK_E2.somatic': 0.008407,\n",
    "    'gCa_HVAbar_Ca_HVA.somatic': 0.000994,\n",
    "    'gNaTs2_tbar_NaTs2_t.somatic': 0.983955,\n",
    "    'decay_CaDynamics_E2.somatic': 210.485284,\n",
    "    'gCa_LVAstbar_Ca_LVAst.somatic': 0.000333\n",
    "}"
   ]
  },
  {
   "cell_type": "code",
   "execution_count": 4,
   "metadata": {},
   "outputs": [
    {
     "name": "stdout",
     "output_type": "stream",
     "text": [
      "l5pc[0].soma[0] {'L': None, 'Ra': None, 'nseg': None, 'rallbranch': None}\n",
      "l5pc[0].dend[0] {'L': None, 'Ra': None, 'nseg': None, 'rallbranch': None}\n",
      "l5pc[0].dend[1] {'L': None, 'Ra': None, 'nseg': None, 'rallbranch': None}\n",
      "l5pc[0].dend[2] {'L': None, 'Ra': None, 'nseg': None, 'rallbranch': None}\n",
      "l5pc[0].dend[3] {'L': None, 'Ra': None, 'nseg': None, 'rallbranch': None}\n",
      "l5pc[0].dend[4] {'L': None, 'Ra': None, 'nseg': None, 'rallbranch': None}\n",
      "l5pc[0].dend[5] {'L': None, 'Ra': None, 'nseg': None, 'rallbranch': None}\n",
      "l5pc[0].dend[6] {'L': None, 'Ra': None, 'nseg': None, 'rallbranch': None}\n",
      "l5pc[0].dend[7] {'L': None, 'Ra': None, 'nseg': None, 'rallbranch': None}\n",
      "l5pc[0].dend[8] {'L': None, 'Ra': None, 'nseg': None, 'rallbranch': None}\n",
      "l5pc[0].dend[9] {'L': None, 'Ra': None, 'nseg': None, 'rallbranch': None}\n",
      "l5pc[0].dend[10] {'L': None, 'Ra': None, 'nseg': None, 'rallbranch': None}\n",
      "l5pc[0].dend[11] {'L': None, 'Ra': None, 'nseg': None, 'rallbranch': None}\n",
      "l5pc[0].dend[12] {'L': None, 'Ra': None, 'nseg': None, 'rallbranch': None}\n",
      "l5pc[0].dend[13] {'L': None, 'Ra': None, 'nseg': None, 'rallbranch': None}\n",
      "l5pc[0].dend[14] {'L': None, 'Ra': None, 'nseg': None, 'rallbranch': None}\n",
      "l5pc[0].dend[15] {'L': None, 'Ra': None, 'nseg': None, 'rallbranch': None}\n",
      "l5pc[0].dend[16] {'L': None, 'Ra': None, 'nseg': None, 'rallbranch': None}\n",
      "l5pc[0].dend[17] {'L': None, 'Ra': None, 'nseg': None, 'rallbranch': None}\n",
      "l5pc[0].dend[18] {'L': None, 'Ra': None, 'nseg': None, 'rallbranch': None}\n",
      "l5pc[0].dend[19] {'L': None, 'Ra': None, 'nseg': None, 'rallbranch': None}\n",
      "l5pc[0].dend[20] {'L': None, 'Ra': None, 'nseg': None, 'rallbranch': None}\n",
      "l5pc[0].dend[21] {'L': None, 'Ra': None, 'nseg': None, 'rallbranch': None}\n",
      "l5pc[0].dend[22] {'L': None, 'Ra': None, 'nseg': None, 'rallbranch': None}\n",
      "l5pc[0].dend[23] {'L': None, 'Ra': None, 'nseg': None, 'rallbranch': None}\n",
      "l5pc[0].dend[24] {'L': None, 'Ra': None, 'nseg': None, 'rallbranch': None}\n",
      "l5pc[0].dend[25] {'L': None, 'Ra': None, 'nseg': None, 'rallbranch': None}\n",
      "l5pc[0].dend[26] {'L': None, 'Ra': None, 'nseg': None, 'rallbranch': None}\n",
      "l5pc[0].dend[27] {'L': None, 'Ra': None, 'nseg': None, 'rallbranch': None}\n",
      "l5pc[0].dend[28] {'L': None, 'Ra': None, 'nseg': None, 'rallbranch': None}\n",
      "l5pc[0].dend[29] {'L': None, 'Ra': None, 'nseg': None, 'rallbranch': None}\n",
      "l5pc[0].dend[30] {'L': None, 'Ra': None, 'nseg': None, 'rallbranch': None}\n",
      "l5pc[0].dend[31] {'L': None, 'Ra': None, 'nseg': None, 'rallbranch': None}\n",
      "l5pc[0].dend[32] {'L': None, 'Ra': None, 'nseg': None, 'rallbranch': None}\n",
      "l5pc[0].dend[33] {'L': None, 'Ra': None, 'nseg': None, 'rallbranch': None}\n",
      "l5pc[0].dend[34] {'L': None, 'Ra': None, 'nseg': None, 'rallbranch': None}\n",
      "l5pc[0].dend[35] {'L': None, 'Ra': None, 'nseg': None, 'rallbranch': None}\n",
      "l5pc[0].dend[36] {'L': None, 'Ra': None, 'nseg': None, 'rallbranch': None}\n",
      "l5pc[0].dend[37] {'L': None, 'Ra': None, 'nseg': None, 'rallbranch': None}\n",
      "l5pc[0].dend[38] {'L': None, 'Ra': None, 'nseg': None, 'rallbranch': None}\n",
      "l5pc[0].dend[39] {'L': None, 'Ra': None, 'nseg': None, 'rallbranch': None}\n",
      "l5pc[0].dend[40] {'L': None, 'Ra': None, 'nseg': None, 'rallbranch': None}\n",
      "l5pc[0].dend[41] {'L': None, 'Ra': None, 'nseg': None, 'rallbranch': None}\n",
      "l5pc[0].dend[42] {'L': None, 'Ra': None, 'nseg': None, 'rallbranch': None}\n",
      "l5pc[0].dend[43] {'L': None, 'Ra': None, 'nseg': None, 'rallbranch': None}\n",
      "l5pc[0].dend[44] {'L': None, 'Ra': None, 'nseg': None, 'rallbranch': None}\n",
      "l5pc[0].dend[45] {'L': None, 'Ra': None, 'nseg': None, 'rallbranch': None}\n",
      "l5pc[0].dend[46] {'L': None, 'Ra': None, 'nseg': None, 'rallbranch': None}\n",
      "l5pc[0].dend[47] {'L': None, 'Ra': None, 'nseg': None, 'rallbranch': None}\n",
      "l5pc[0].dend[48] {'L': None, 'Ra': None, 'nseg': None, 'rallbranch': None}\n",
      "l5pc[0].dend[49] {'L': None, 'Ra': None, 'nseg': None, 'rallbranch': None}\n",
      "l5pc[0].dend[50] {'L': None, 'Ra': None, 'nseg': None, 'rallbranch': None}\n",
      "l5pc[0].dend[51] {'L': None, 'Ra': None, 'nseg': None, 'rallbranch': None}\n",
      "l5pc[0].dend[52] {'L': None, 'Ra': None, 'nseg': None, 'rallbranch': None}\n",
      "l5pc[0].dend[53] {'L': None, 'Ra': None, 'nseg': None, 'rallbranch': None}\n",
      "l5pc[0].dend[54] {'L': None, 'Ra': None, 'nseg': None, 'rallbranch': None}\n",
      "l5pc[0].dend[55] {'L': None, 'Ra': None, 'nseg': None, 'rallbranch': None}\n",
      "l5pc[0].dend[56] {'L': None, 'Ra': None, 'nseg': None, 'rallbranch': None}\n",
      "l5pc[0].dend[57] {'L': None, 'Ra': None, 'nseg': None, 'rallbranch': None}\n",
      "l5pc[0].dend[58] {'L': None, 'Ra': None, 'nseg': None, 'rallbranch': None}\n",
      "l5pc[0].dend[59] {'L': None, 'Ra': None, 'nseg': None, 'rallbranch': None}\n",
      "l5pc[0].dend[60] {'L': None, 'Ra': None, 'nseg': None, 'rallbranch': None}\n",
      "l5pc[0].dend[61] {'L': None, 'Ra': None, 'nseg': None, 'rallbranch': None}\n",
      "l5pc[0].dend[62] {'L': None, 'Ra': None, 'nseg': None, 'rallbranch': None}\n",
      "l5pc[0].dend[63] {'L': None, 'Ra': None, 'nseg': None, 'rallbranch': None}\n",
      "l5pc[0].dend[64] {'L': None, 'Ra': None, 'nseg': None, 'rallbranch': None}\n",
      "l5pc[0].dend[65] {'L': None, 'Ra': None, 'nseg': None, 'rallbranch': None}\n",
      "l5pc[0].apic[0] {'L': None, 'Ra': None, 'nseg': None, 'rallbranch': None}\n",
      "l5pc[0].apic[1] {'L': None, 'Ra': None, 'nseg': None, 'rallbranch': None}\n",
      "l5pc[0].apic[2] {'L': None, 'Ra': None, 'nseg': None, 'rallbranch': None}\n",
      "l5pc[0].apic[3] {'L': None, 'Ra': None, 'nseg': None, 'rallbranch': None}\n",
      "l5pc[0].apic[4] {'L': None, 'Ra': None, 'nseg': None, 'rallbranch': None}\n",
      "l5pc[0].apic[5] {'L': None, 'Ra': None, 'nseg': None, 'rallbranch': None}\n",
      "l5pc[0].apic[6] {'L': None, 'Ra': None, 'nseg': None, 'rallbranch': None}\n",
      "l5pc[0].apic[7] {'L': None, 'Ra': None, 'nseg': None, 'rallbranch': None}\n",
      "l5pc[0].apic[8] {'L': None, 'Ra': None, 'nseg': None, 'rallbranch': None}\n",
      "l5pc[0].apic[9] {'L': None, 'Ra': None, 'nseg': None, 'rallbranch': None}\n",
      "l5pc[0].apic[10] {'L': None, 'Ra': None, 'nseg': None, 'rallbranch': None}\n",
      "l5pc[0].apic[11] {'L': None, 'Ra': None, 'nseg': None, 'rallbranch': None}\n",
      "l5pc[0].apic[12] {'L': None, 'Ra': None, 'nseg': None, 'rallbranch': None}\n",
      "l5pc[0].apic[13] {'L': None, 'Ra': None, 'nseg': None, 'rallbranch': None}\n",
      "l5pc[0].apic[14] {'L': None, 'Ra': None, 'nseg': None, 'rallbranch': None}\n",
      "l5pc[0].apic[15] {'L': None, 'Ra': None, 'nseg': None, 'rallbranch': None}\n",
      "l5pc[0].apic[16] {'L': None, 'Ra': None, 'nseg': None, 'rallbranch': None}\n",
      "l5pc[0].apic[17] {'L': None, 'Ra': None, 'nseg': None, 'rallbranch': None}\n",
      "l5pc[0].apic[18] {'L': None, 'Ra': None, 'nseg': None, 'rallbranch': None}\n",
      "l5pc[0].apic[19] {'L': None, 'Ra': None, 'nseg': None, 'rallbranch': None}\n",
      "l5pc[0].apic[20] {'L': None, 'Ra': None, 'nseg': None, 'rallbranch': None}\n",
      "l5pc[0].apic[21] {'L': None, 'Ra': None, 'nseg': None, 'rallbranch': None}\n",
      "l5pc[0].apic[22] {'L': None, 'Ra': None, 'nseg': None, 'rallbranch': None}\n",
      "l5pc[0].apic[23] {'L': None, 'Ra': None, 'nseg': None, 'rallbranch': None}\n",
      "l5pc[0].apic[24] {'L': None, 'Ra': None, 'nseg': None, 'rallbranch': None}\n",
      "l5pc[0].apic[25] {'L': None, 'Ra': None, 'nseg': None, 'rallbranch': None}\n",
      "l5pc[0].apic[26] {'L': None, 'Ra': None, 'nseg': None, 'rallbranch': None}\n",
      "l5pc[0].apic[27] {'L': None, 'Ra': None, 'nseg': None, 'rallbranch': None}\n",
      "l5pc[0].apic[28] {'L': None, 'Ra': None, 'nseg': None, 'rallbranch': None}\n",
      "l5pc[0].apic[29] {'L': None, 'Ra': None, 'nseg': None, 'rallbranch': None}\n",
      "l5pc[0].apic[30] {'L': None, 'Ra': None, 'nseg': None, 'rallbranch': None}\n",
      "l5pc[0].apic[31] {'L': None, 'Ra': None, 'nseg': None, 'rallbranch': None}\n",
      "l5pc[0].apic[32] {'L': None, 'Ra': None, 'nseg': None, 'rallbranch': None}\n",
      "l5pc[0].apic[33] {'L': None, 'Ra': None, 'nseg': None, 'rallbranch': None}\n",
      "l5pc[0].apic[34] {'L': None, 'Ra': None, 'nseg': None, 'rallbranch': None}\n",
      "l5pc[0].apic[35] {'L': None, 'Ra': None, 'nseg': None, 'rallbranch': None}\n",
      "l5pc[0].apic[36] {'L': None, 'Ra': None, 'nseg': None, 'rallbranch': None}\n",
      "l5pc[0].apic[37] {'L': None, 'Ra': None, 'nseg': None, 'rallbranch': None}\n",
      "l5pc[0].apic[38] {'L': None, 'Ra': None, 'nseg': None, 'rallbranch': None}\n",
      "l5pc[0].apic[39] {'L': None, 'Ra': None, 'nseg': None, 'rallbranch': None}\n",
      "l5pc[0].apic[40] {'L': None, 'Ra': None, 'nseg': None, 'rallbranch': None}\n",
      "l5pc[0].apic[41] {'L': None, 'Ra': None, 'nseg': None, 'rallbranch': None}\n",
      "l5pc[0].apic[42] {'L': None, 'Ra': None, 'nseg': None, 'rallbranch': None}\n"
     ]
    },
    {
     "name": "stdout",
     "output_type": "stream",
     "text": [
      "l5pc[0].apic[43] {'L': None, 'Ra': None, 'nseg': None, 'rallbranch': None}\n",
      "l5pc[0].apic[44] {'L': None, 'Ra': None, 'nseg': None, 'rallbranch': None}\n",
      "l5pc[0].apic[45] {'L': None, 'Ra': None, 'nseg': None, 'rallbranch': None}\n",
      "l5pc[0].apic[46] {'L': None, 'Ra': None, 'nseg': None, 'rallbranch': None}\n",
      "l5pc[0].apic[47] {'L': None, 'Ra': None, 'nseg': None, 'rallbranch': None}\n",
      "l5pc[0].apic[48] {'L': None, 'Ra': None, 'nseg': None, 'rallbranch': None}\n",
      "l5pc[0].apic[49] {'L': None, 'Ra': None, 'nseg': None, 'rallbranch': None}\n",
      "l5pc[0].apic[50] {'L': None, 'Ra': None, 'nseg': None, 'rallbranch': None}\n",
      "l5pc[0].apic[51] {'L': None, 'Ra': None, 'nseg': None, 'rallbranch': None}\n",
      "l5pc[0].apic[52] {'L': None, 'Ra': None, 'nseg': None, 'rallbranch': None}\n",
      "l5pc[0].apic[53] {'L': None, 'Ra': None, 'nseg': None, 'rallbranch': None}\n",
      "l5pc[0].apic[54] {'L': None, 'Ra': None, 'nseg': None, 'rallbranch': None}\n",
      "l5pc[0].apic[55] {'L': None, 'Ra': None, 'nseg': None, 'rallbranch': None}\n",
      "l5pc[0].apic[56] {'L': None, 'Ra': None, 'nseg': None, 'rallbranch': None}\n",
      "l5pc[0].apic[57] {'L': None, 'Ra': None, 'nseg': None, 'rallbranch': None}\n",
      "l5pc[0].apic[58] {'L': None, 'Ra': None, 'nseg': None, 'rallbranch': None}\n",
      "l5pc[0].apic[59] {'L': None, 'Ra': None, 'nseg': None, 'rallbranch': None}\n",
      "l5pc[0].apic[60] {'L': None, 'Ra': None, 'nseg': None, 'rallbranch': None}\n",
      "l5pc[0].apic[61] {'L': None, 'Ra': None, 'nseg': None, 'rallbranch': None}\n",
      "l5pc[0].apic[62] {'L': None, 'Ra': None, 'nseg': None, 'rallbranch': None}\n",
      "l5pc[0].apic[63] {'L': None, 'Ra': None, 'nseg': None, 'rallbranch': None}\n",
      "l5pc[0].apic[64] {'L': None, 'Ra': None, 'nseg': None, 'rallbranch': None}\n",
      "l5pc[0].apic[65] {'L': None, 'Ra': None, 'nseg': None, 'rallbranch': None}\n",
      "l5pc[0].apic[66] {'L': None, 'Ra': None, 'nseg': None, 'rallbranch': None}\n",
      "l5pc[0].apic[67] {'L': None, 'Ra': None, 'nseg': None, 'rallbranch': None}\n",
      "l5pc[0].apic[68] {'L': None, 'Ra': None, 'nseg': None, 'rallbranch': None}\n",
      "l5pc[0].apic[69] {'L': None, 'Ra': None, 'nseg': None, 'rallbranch': None}\n",
      "l5pc[0].apic[70] {'L': None, 'Ra': None, 'nseg': None, 'rallbranch': None}\n",
      "l5pc[0].apic[71] {'L': None, 'Ra': None, 'nseg': None, 'rallbranch': None}\n",
      "l5pc[0].apic[72] {'L': None, 'Ra': None, 'nseg': None, 'rallbranch': None}\n",
      "l5pc[0].apic[73] {'L': None, 'Ra': None, 'nseg': None, 'rallbranch': None}\n",
      "l5pc[0].apic[74] {'L': None, 'Ra': None, 'nseg': None, 'rallbranch': None}\n",
      "l5pc[0].apic[75] {'L': None, 'Ra': None, 'nseg': None, 'rallbranch': None}\n",
      "l5pc[0].apic[76] {'L': None, 'Ra': None, 'nseg': None, 'rallbranch': None}\n",
      "l5pc[0].apic[77] {'L': None, 'Ra': None, 'nseg': None, 'rallbranch': None}\n",
      "l5pc[0].apic[78] {'L': None, 'Ra': None, 'nseg': None, 'rallbranch': None}\n",
      "l5pc[0].apic[79] {'L': None, 'Ra': None, 'nseg': None, 'rallbranch': None}\n",
      "l5pc[0].apic[80] {'L': None, 'Ra': None, 'nseg': None, 'rallbranch': None}\n",
      "l5pc[0].apic[81] {'L': None, 'Ra': None, 'nseg': None, 'rallbranch': None}\n",
      "l5pc[0].apic[82] {'L': None, 'Ra': None, 'nseg': None, 'rallbranch': None}\n",
      "l5pc[0].apic[83] {'L': None, 'Ra': None, 'nseg': None, 'rallbranch': None}\n",
      "l5pc[0].apic[84] {'L': None, 'Ra': None, 'nseg': None, 'rallbranch': None}\n",
      "l5pc[0].apic[85] {'L': None, 'Ra': None, 'nseg': None, 'rallbranch': None}\n",
      "l5pc[0].apic[86] {'L': None, 'Ra': None, 'nseg': None, 'rallbranch': None}\n",
      "l5pc[0].apic[87] {'L': None, 'Ra': None, 'nseg': None, 'rallbranch': None}\n",
      "l5pc[0].apic[88] {'L': None, 'Ra': None, 'nseg': None, 'rallbranch': None}\n",
      "l5pc[0].apic[89] {'L': None, 'Ra': None, 'nseg': None, 'rallbranch': None}\n",
      "l5pc[0].apic[90] {'L': None, 'Ra': None, 'nseg': None, 'rallbranch': None}\n",
      "l5pc[0].apic[91] {'L': None, 'Ra': None, 'nseg': None, 'rallbranch': None}\n",
      "l5pc[0].apic[92] {'L': None, 'Ra': None, 'nseg': None, 'rallbranch': None}\n",
      "l5pc[0].apic[93] {'L': None, 'Ra': None, 'nseg': None, 'rallbranch': None}\n",
      "l5pc[0].apic[94] {'L': None, 'Ra': None, 'nseg': None, 'rallbranch': None}\n",
      "l5pc[0].apic[95] {'L': None, 'Ra': None, 'nseg': None, 'rallbranch': None}\n",
      "l5pc[0].apic[96] {'L': None, 'Ra': None, 'nseg': None, 'rallbranch': None}\n",
      "l5pc[0].apic[97] {'L': None, 'Ra': None, 'nseg': None, 'rallbranch': None}\n",
      "l5pc[0].apic[98] {'L': None, 'Ra': None, 'nseg': None, 'rallbranch': None}\n",
      "l5pc[0].apic[99] {'L': None, 'Ra': None, 'nseg': None, 'rallbranch': None}\n",
      "l5pc[0].apic[100] {'L': None, 'Ra': None, 'nseg': None, 'rallbranch': None}\n",
      "l5pc[0].apic[101] {'L': None, 'Ra': None, 'nseg': None, 'rallbranch': None}\n",
      "l5pc[0].apic[102] {'L': None, 'Ra': None, 'nseg': None, 'rallbranch': None}\n",
      "l5pc[0].apic[103] {'L': None, 'Ra': None, 'nseg': None, 'rallbranch': None}\n",
      "l5pc[0].apic[104] {'L': None, 'Ra': None, 'nseg': None, 'rallbranch': None}\n",
      "l5pc[0].apic[105] {'L': None, 'Ra': None, 'nseg': None, 'rallbranch': None}\n",
      "l5pc[0].apic[106] {'L': None, 'Ra': None, 'nseg': None, 'rallbranch': None}\n",
      "l5pc[0].apic[107] {'L': None, 'Ra': None, 'nseg': None, 'rallbranch': None}\n",
      "l5pc[0].apic[108] {'L': None, 'Ra': None, 'nseg': None, 'rallbranch': None}\n",
      "l5pc[0].apic[109] {'L': None, 'Ra': None, 'nseg': None, 'rallbranch': None}\n",
      "l5pc[0].apic[110] {'L': None, 'Ra': None, 'nseg': None, 'rallbranch': None}\n",
      "l5pc[0].apic[111] {'L': None, 'Ra': None, 'nseg': None, 'rallbranch': None}\n",
      "l5pc[0].apic[112] {'L': None, 'Ra': None, 'nseg': None, 'rallbranch': None}\n",
      "l5pc[0].apic[113] {'L': None, 'Ra': None, 'nseg': None, 'rallbranch': None}\n",
      "l5pc[0].apic[114] {'L': None, 'Ra': None, 'nseg': None, 'rallbranch': None}\n",
      "l5pc[0].apic[115] {'L': None, 'Ra': None, 'nseg': None, 'rallbranch': None}\n",
      "l5pc[0].apic[116] {'L': None, 'Ra': None, 'nseg': None, 'rallbranch': None}\n",
      "l5pc[0].apic[117] {'L': None, 'Ra': None, 'nseg': None, 'rallbranch': None}\n",
      "l5pc[0].apic[118] {'L': None, 'Ra': None, 'nseg': None, 'rallbranch': None}\n",
      "l5pc[0].apic[119] {'L': None, 'Ra': None, 'nseg': None, 'rallbranch': None}\n",
      "l5pc[0].apic[120] {'L': None, 'Ra': None, 'nseg': None, 'rallbranch': None}\n",
      "l5pc[0].apic[121] {'L': None, 'Ra': None, 'nseg': None, 'rallbranch': None}\n",
      "l5pc[0].apic[122] {'L': None, 'Ra': None, 'nseg': None, 'rallbranch': None}\n",
      "l5pc[0].apic[123] {'L': None, 'Ra': None, 'nseg': None, 'rallbranch': None}\n",
      "l5pc[0].apic[124] {'L': None, 'Ra': None, 'nseg': None, 'rallbranch': None}\n",
      "l5pc[0].apic[125] {'L': None, 'Ra': None, 'nseg': None, 'rallbranch': None}\n",
      "l5pc[0].apic[126] {'L': None, 'Ra': None, 'nseg': None, 'rallbranch': None}\n",
      "l5pc[0].apic[127] {'L': None, 'Ra': None, 'nseg': None, 'rallbranch': None}\n",
      "l5pc[0].apic[128] {'L': None, 'Ra': None, 'nseg': None, 'rallbranch': None}\n",
      "l5pc[0].apic[129] {'L': None, 'Ra': None, 'nseg': None, 'rallbranch': None}\n",
      "l5pc[0].axon[0] {'L': None, 'Ra': None, 'nseg': None, 'rallbranch': None}\n",
      "l5pc[0].axon[1] {'L': None, 'Ra': None, 'nseg': None, 'rallbranch': None}\n"
     ]
    },
    {
     "ename": "Exception",
     "evalue": "Traceback (most recent call last):\n  File \"/gpfs/bbp.cscs.ch/home/damart/BPO_LFPy/BluePyOpt/bluepyopt/ephys/protocols.py\", line 169, in _run_func\n    cell_model.instantiate(sim=sim)\n  File \"/gpfs/bbp.cscs.ch/home/damart/BPO_LFPy/BluePyOpt/bluepyopt/ephys/models.py\", line 622, in instantiate\n    self.LFPycell = LFPy.Cell(morphology=sim.neuron.h.allsec(), dt=self.dt)\n  File \"/gpfs/bbp.cscs.ch/home/damart/myenv/lib/python3.7/site-packages/LFPy/cell.py\", line 295, in __init__\n    self._collect_geometry()\n  File \"/gpfs/bbp.cscs.ch/home/damart/myenv/lib/python3.7/site-packages/LFPy/cell.py\", line 748, in _collect_geometry\n    self.somapos[0] = self.xmid[self.somaidx]\nIndexError: index 0 is out of bounds for axis 0 with size 0\n",
     "output_type": "error",
     "traceback": [
      "\u001b[0;31m---------------------------------------------------------------------------\u001b[0m",
      "\u001b[0;31mRemoteTraceback\u001b[0m                           Traceback (most recent call last)",
      "\u001b[0;31mRemoteTraceback\u001b[0m: Traceback (most recent call last):\n  File \"/gpfs/bbp.cscs.ch/home/damart/BPO_LFPy/BluePyOpt/bluepyopt/ephys/protocols.py\", line 169, in _run_func\n    cell_model.instantiate(sim=sim)\n  File \"/gpfs/bbp.cscs.ch/home/damart/BPO_LFPy/BluePyOpt/bluepyopt/ephys/models.py\", line 622, in instantiate\n    self.LFPycell = LFPy.Cell(morphology=sim.neuron.h.allsec(), dt=self.dt)\n  File \"/gpfs/bbp.cscs.ch/home/damart/myenv/lib/python3.7/site-packages/LFPy/cell.py\", line 295, in __init__\n    self._collect_geometry()\n  File \"/gpfs/bbp.cscs.ch/home/damart/myenv/lib/python3.7/site-packages/LFPy/cell.py\", line 748, in _collect_geometry\n    self.somapos[0] = self.xmid[self.somaidx]\nIndexError: index 0 is out of bounds for axis 0 with size 0\n\nDuring handling of the above exception, another exception occurred:\n\nTraceback (most recent call last):\n  File \"/gpfs/bbp.cscs.ch/home/damart/myenv/lib/python3.7/site-packages/pebble/common.py\", line 174, in process_execute\n    return function(*args, **kwargs)\n  File \"/gpfs/bbp.cscs.ch/home/damart/BPO_LFPy/BluePyOpt/bluepyopt/ephys/protocols.py\", line 199, in _run_func\n    traceback.format_exception(*sys.exc_info())))\nException: Traceback (most recent call last):\n  File \"/gpfs/bbp.cscs.ch/home/damart/BPO_LFPy/BluePyOpt/bluepyopt/ephys/protocols.py\", line 169, in _run_func\n    cell_model.instantiate(sim=sim)\n  File \"/gpfs/bbp.cscs.ch/home/damart/BPO_LFPy/BluePyOpt/bluepyopt/ephys/models.py\", line 622, in instantiate\n    self.LFPycell = LFPy.Cell(morphology=sim.neuron.h.allsec(), dt=self.dt)\n  File \"/gpfs/bbp.cscs.ch/home/damart/myenv/lib/python3.7/site-packages/LFPy/cell.py\", line 295, in __init__\n    self._collect_geometry()\n  File \"/gpfs/bbp.cscs.ch/home/damart/myenv/lib/python3.7/site-packages/LFPy/cell.py\", line 748, in _collect_geometry\n    self.somapos[0] = self.xmid[self.somaidx]\nIndexError: index 0 is out of bounds for axis 0 with size 0\n\n",
      "\nThe above exception was the direct cause of the following exception:\n",
      "\u001b[0;31mException\u001b[0m                                 Traceback (most recent call last)",
      "\u001b[0;32m<ipython-input-4-c24d10634681>\u001b[0m in \u001b[0;36m<module>\u001b[0;34m\u001b[0m\n\u001b[0;32m----> 1\u001b[0;31m \u001b[0mrelease_responses\u001b[0m \u001b[0;34m=\u001b[0m \u001b[0mevaluator\u001b[0m\u001b[0;34m.\u001b[0m\u001b[0mrun_protocols\u001b[0m\u001b[0;34m(\u001b[0m\u001b[0mprotocols\u001b[0m\u001b[0;34m=\u001b[0m\u001b[0mfitness_protocols\u001b[0m\u001b[0;34m.\u001b[0m\u001b[0mvalues\u001b[0m\u001b[0;34m(\u001b[0m\u001b[0;34m)\u001b[0m\u001b[0;34m,\u001b[0m \u001b[0mparam_values\u001b[0m\u001b[0;34m=\u001b[0m\u001b[0mrelease_params\u001b[0m\u001b[0;34m)\u001b[0m\u001b[0;34m\u001b[0m\u001b[0;34m\u001b[0m\u001b[0m\n\u001b[0m",
      "\u001b[0;32m~/BPO_LFPy/BluePyOpt/bluepyopt/ephys/evaluators.py\u001b[0m in \u001b[0;36mrun_protocols\u001b[0;34m(self, protocols, param_values)\u001b[0m\n\u001b[1;32m    179\u001b[0m                 \u001b[0mparam_values\u001b[0m\u001b[0;34m=\u001b[0m\u001b[0mparam_values\u001b[0m\u001b[0;34m,\u001b[0m\u001b[0;34m\u001b[0m\u001b[0;34m\u001b[0m\u001b[0m\n\u001b[1;32m    180\u001b[0m                 \u001b[0misolate\u001b[0m\u001b[0;34m=\u001b[0m\u001b[0mself\u001b[0m\u001b[0;34m.\u001b[0m\u001b[0misolate_protocols\u001b[0m\u001b[0;34m,\u001b[0m\u001b[0;34m\u001b[0m\u001b[0;34m\u001b[0m\u001b[0m\n\u001b[0;32m--> 181\u001b[0;31m                 timeout=self.timeout))\n\u001b[0m\u001b[1;32m    182\u001b[0m \u001b[0;34m\u001b[0m\u001b[0m\n\u001b[1;32m    183\u001b[0m         \u001b[0;32mreturn\u001b[0m \u001b[0mresponses\u001b[0m\u001b[0;34m\u001b[0m\u001b[0;34m\u001b[0m\u001b[0m\n",
      "\u001b[0;32m~/BPO_LFPy/BluePyOpt/bluepyopt/ephys/evaluators.py\u001b[0m in \u001b[0;36mrun_protocol\u001b[0;34m(self, protocol, param_values, isolate, cell_model, sim, timeout)\u001b[0m\n\u001b[1;32m    158\u001b[0m                 \u001b[0msim\u001b[0m\u001b[0;34m=\u001b[0m\u001b[0msim\u001b[0m\u001b[0;34m,\u001b[0m\u001b[0;34m\u001b[0m\u001b[0;34m\u001b[0m\u001b[0m\n\u001b[1;32m    159\u001b[0m                 \u001b[0misolate\u001b[0m\u001b[0;34m=\u001b[0m\u001b[0misolate\u001b[0m\u001b[0;34m,\u001b[0m\u001b[0;34m\u001b[0m\u001b[0;34m\u001b[0m\u001b[0m\n\u001b[0;32m--> 160\u001b[0;31m                 timeout=timeout)\n\u001b[0m\u001b[1;32m    161\u001b[0m         \u001b[0;32mexcept\u001b[0m \u001b[0mTypeError\u001b[0m \u001b[0;32mas\u001b[0m \u001b[0me\u001b[0m\u001b[0;34m:\u001b[0m\u001b[0;34m\u001b[0m\u001b[0;34m\u001b[0m\u001b[0m\n\u001b[1;32m    162\u001b[0m             \u001b[0;32mif\u001b[0m \u001b[0;34m\"unexpected keyword\"\u001b[0m \u001b[0;32min\u001b[0m \u001b[0mstr\u001b[0m\u001b[0;34m(\u001b[0m\u001b[0me\u001b[0m\u001b[0;34m)\u001b[0m\u001b[0;34m:\u001b[0m\u001b[0;34m\u001b[0m\u001b[0;34m\u001b[0m\u001b[0m\n",
      "\u001b[0;32m~/BPO_LFPy/BluePyOpt/bluepyopt/ephys/protocols.py\u001b[0m in \u001b[0;36mrun\u001b[0;34m(self, cell_model, param_values, sim, isolate, timeout)\u001b[0m\n\u001b[1;32m    233\u001b[0m                     timeout=timeout)\n\u001b[1;32m    234\u001b[0m                 \u001b[0;32mtry\u001b[0m\u001b[0;34m:\u001b[0m\u001b[0;34m\u001b[0m\u001b[0;34m\u001b[0m\u001b[0m\n\u001b[0;32m--> 235\u001b[0;31m                     \u001b[0mresponses\u001b[0m \u001b[0;34m=\u001b[0m \u001b[0mtasks\u001b[0m\u001b[0;34m.\u001b[0m\u001b[0mresult\u001b[0m\u001b[0;34m(\u001b[0m\u001b[0;34m)\u001b[0m\u001b[0;34m\u001b[0m\u001b[0;34m\u001b[0m\u001b[0m\n\u001b[0m\u001b[1;32m    236\u001b[0m                 \u001b[0;32mexcept\u001b[0m \u001b[0mTimeoutError\u001b[0m\u001b[0;34m:\u001b[0m\u001b[0;34m\u001b[0m\u001b[0;34m\u001b[0m\u001b[0m\n\u001b[1;32m    237\u001b[0m                     logger.debug('SweepProtocol: task took longer than '\n",
      "\u001b[0;32m/gpfs/bbp.cscs.ch/ssd/apps/hpc/jenkins/deploy/external-libraries/2020-02-01/linux-rhel7-x86_64/gcc-8.3.0/python-3.7.4-tfxecymrkn/lib/python3.7/concurrent/futures/_base.py\u001b[0m in \u001b[0;36mresult\u001b[0;34m(self, timeout)\u001b[0m\n\u001b[1;32m    433\u001b[0m                 \u001b[0;32mraise\u001b[0m \u001b[0mCancelledError\u001b[0m\u001b[0;34m(\u001b[0m\u001b[0;34m)\u001b[0m\u001b[0;34m\u001b[0m\u001b[0;34m\u001b[0m\u001b[0m\n\u001b[1;32m    434\u001b[0m             \u001b[0;32melif\u001b[0m \u001b[0mself\u001b[0m\u001b[0;34m.\u001b[0m\u001b[0m_state\u001b[0m \u001b[0;34m==\u001b[0m \u001b[0mFINISHED\u001b[0m\u001b[0;34m:\u001b[0m\u001b[0;34m\u001b[0m\u001b[0;34m\u001b[0m\u001b[0m\n\u001b[0;32m--> 435\u001b[0;31m                 \u001b[0;32mreturn\u001b[0m \u001b[0mself\u001b[0m\u001b[0;34m.\u001b[0m\u001b[0m__get_result\u001b[0m\u001b[0;34m(\u001b[0m\u001b[0;34m)\u001b[0m\u001b[0;34m\u001b[0m\u001b[0;34m\u001b[0m\u001b[0m\n\u001b[0m\u001b[1;32m    436\u001b[0m             \u001b[0;32melse\u001b[0m\u001b[0;34m:\u001b[0m\u001b[0;34m\u001b[0m\u001b[0;34m\u001b[0m\u001b[0m\n\u001b[1;32m    437\u001b[0m                 \u001b[0;32mraise\u001b[0m \u001b[0mTimeoutError\u001b[0m\u001b[0;34m(\u001b[0m\u001b[0;34m)\u001b[0m\u001b[0;34m\u001b[0m\u001b[0;34m\u001b[0m\u001b[0m\n",
      "\u001b[0;32m/gpfs/bbp.cscs.ch/ssd/apps/hpc/jenkins/deploy/external-libraries/2020-02-01/linux-rhel7-x86_64/gcc-8.3.0/python-3.7.4-tfxecymrkn/lib/python3.7/concurrent/futures/_base.py\u001b[0m in \u001b[0;36m__get_result\u001b[0;34m(self)\u001b[0m\n\u001b[1;32m    382\u001b[0m     \u001b[0;32mdef\u001b[0m \u001b[0m__get_result\u001b[0m\u001b[0;34m(\u001b[0m\u001b[0mself\u001b[0m\u001b[0;34m)\u001b[0m\u001b[0;34m:\u001b[0m\u001b[0;34m\u001b[0m\u001b[0;34m\u001b[0m\u001b[0m\n\u001b[1;32m    383\u001b[0m         \u001b[0;32mif\u001b[0m \u001b[0mself\u001b[0m\u001b[0;34m.\u001b[0m\u001b[0m_exception\u001b[0m\u001b[0;34m:\u001b[0m\u001b[0;34m\u001b[0m\u001b[0;34m\u001b[0m\u001b[0m\n\u001b[0;32m--> 384\u001b[0;31m             \u001b[0;32mraise\u001b[0m \u001b[0mself\u001b[0m\u001b[0;34m.\u001b[0m\u001b[0m_exception\u001b[0m\u001b[0;34m\u001b[0m\u001b[0;34m\u001b[0m\u001b[0m\n\u001b[0m\u001b[1;32m    385\u001b[0m         \u001b[0;32melse\u001b[0m\u001b[0;34m:\u001b[0m\u001b[0;34m\u001b[0m\u001b[0;34m\u001b[0m\u001b[0m\n\u001b[1;32m    386\u001b[0m             \u001b[0;32mreturn\u001b[0m \u001b[0mself\u001b[0m\u001b[0;34m.\u001b[0m\u001b[0m_result\u001b[0m\u001b[0;34m\u001b[0m\u001b[0;34m\u001b[0m\u001b[0m\n",
      "\u001b[0;31mException\u001b[0m: Traceback (most recent call last):\n  File \"/gpfs/bbp.cscs.ch/home/damart/BPO_LFPy/BluePyOpt/bluepyopt/ephys/protocols.py\", line 169, in _run_func\n    cell_model.instantiate(sim=sim)\n  File \"/gpfs/bbp.cscs.ch/home/damart/BPO_LFPy/BluePyOpt/bluepyopt/ephys/models.py\", line 622, in instantiate\n    self.LFPycell = LFPy.Cell(morphology=sim.neuron.h.allsec(), dt=self.dt)\n  File \"/gpfs/bbp.cscs.ch/home/damart/myenv/lib/python3.7/site-packages/LFPy/cell.py\", line 295, in __init__\n    self._collect_geometry()\n  File \"/gpfs/bbp.cscs.ch/home/damart/myenv/lib/python3.7/site-packages/LFPy/cell.py\", line 748, in _collect_geometry\n    self.somapos[0] = self.xmid[self.somaidx]\nIndexError: index 0 is out of bounds for axis 0 with size 0\n"
     ]
    }
   ],
   "source": [
    "release_responses = evaluator.run_protocols(protocols=fitness_protocols.values(), param_values=release_params)"
   ]
  },
  {
   "cell_type": "markdown",
   "metadata": {},
   "source": [
    "We can now plot all the responses"
   ]
  },
  {
   "cell_type": "code",
   "execution_count": null,
   "metadata": {},
   "outputs": [],
   "source": [
    "def plot_responses(responses):\n",
    "    fig, axes = plt.subplots(len(responses), figsize=(10,10))\n",
    "    for index, (resp_name, response) in enumerate(sorted(responses.items())):\n",
    "        axes[index].plot(response['time'], response['voltage'], label=resp_name)\n",
    "        axes[index].set_title(resp_name)\n",
    "    fig.tight_layout()\n",
    "    fig.show()\n",
    "plot_responses(release_responses)"
   ]
  },
  {
   "cell_type": "markdown",
   "metadata": {},
   "source": [
    "Running an optimisation of the parameters now has become very easy. \n",
    "Of course running the L5PC optimisation will require quite some computing resources. \n",
    "\n",
    "To show a proof-of-concept, we will only run 2 generations, with 2 offspring individuals per generations.\n",
    "If you want to run all full optimisation, you should run for 100 generations with an offspring size of 100 individuals. "
   ]
  },
  {
   "cell_type": "code",
   "execution_count": null,
   "metadata": {},
   "outputs": [],
   "source": [
    "opt = bpopt.optimisations.DEAPOptimisation(                                     \n",
    "    evaluator=evaluator,                                                            \n",
    "    offspring_size=2) \n",
    "final_pop, halloffame, log, hist = opt.run(max_ngen=2, cp_filename='checkpoints/checkpoint.pkl')"
   ]
  },
  {
   "cell_type": "markdown",
   "metadata": {},
   "source": [
    "The first individual in the hall of fame will contain the best solution found."
   ]
  },
  {
   "cell_type": "code",
   "execution_count": null,
   "metadata": {},
   "outputs": [],
   "source": [
    "print(halloffame[0])"
   ]
  },
  {
   "cell_type": "markdown",
   "metadata": {},
   "source": [
    "These are the raw parameter values. \n",
    "The evaluator object can convert this in a dictionary, so that we can see the parameter names corresponding to these values."
   ]
  },
  {
   "cell_type": "code",
   "execution_count": null,
   "metadata": {},
   "outputs": [],
   "source": [
    "best_params = evaluator.param_dict(halloffame[0])\n",
    "print(pp.pprint(best_params))"
   ]
  },
  {
   "cell_type": "markdown",
   "metadata": {},
   "source": [
    "Then we can run the fitness protocols on the model with these parameter values"
   ]
  },
  {
   "cell_type": "code",
   "execution_count": null,
   "metadata": {},
   "outputs": [],
   "source": [
    "best_responses = evaluator.run_protocols(protocols=fitness_protocols.values(), param_values=best_params)"
   ]
  },
  {
   "cell_type": "markdown",
   "metadata": {},
   "source": [
    "And then we can also plot these responses. \n",
    "\n",
    "When you ran the above optimisation with only 2 individuals and 2 generations, this 'best' model will of course be very low quality."
   ]
  },
  {
   "cell_type": "code",
   "execution_count": null,
   "metadata": {},
   "outputs": [],
   "source": [
    "plot_responses(best_responses)"
   ]
  },
  {
   "cell_type": "code",
   "execution_count": null,
   "metadata": {},
   "outputs": [],
   "source": []
  }
 ],
 "metadata": {
  "kernelspec": {
   "display_name": "myenv",
   "language": "python",
   "name": "myenv"
  },
  "language_info": {
   "codemirror_mode": {
    "name": "ipython",
    "version": 3
   },
   "file_extension": ".py",
   "mimetype": "text/x-python",
   "name": "python",
   "nbconvert_exporter": "python",
   "pygments_lexer": "ipython3",
   "version": "3.7.4"
  }
 },
 "nbformat": 4,
 "nbformat_minor": 1
}

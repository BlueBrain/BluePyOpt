{
 "cells": [
  {
   "cell_type": "code",
   "execution_count": 1,
   "metadata": {},
   "outputs": [],
   "source": [
    "%load_ext autoreload\n",
    "%autoreload\n",
    "\n",
    "#!nrnivmodl mechanisms\n",
    "import bluepyopt as bpopt\n",
    "import bluepyopt.ephys as ephys\n",
    "\n",
    "import pprint\n",
    "pp = pprint.PrettyPrinter(indent=2)\n",
    "\n",
    "import matplotlib.pyplot as plt\n",
    "\n",
    "import json\n",
    "import numpy"
   ]
  },
  {
   "cell_type": "code",
   "execution_count": 2,
   "metadata": {},
   "outputs": [
    {
     "name": "stdout",
     "output_type": "stream",
     "text": [
      "/gpfs/bbp.cscs.ch/home/damart/myenv/lib/python3.7/site-packages/LFPy/__init__.py\n"
     ]
    }
   ],
   "source": [
    "import LFPy\n",
    "print(LFPy.__file__)"
   ]
  },
  {
   "cell_type": "code",
   "execution_count": 3,
   "metadata": {},
   "outputs": [],
   "source": [
    "# Define electrode parameters\n",
    "X, Y = numpy.mgrid[-80:81:50, -80:81:50]\n",
    "Z = numpy.zeros(X.shape)\n",
    "\n",
    "electrode_params = {\n",
    "    'sigma' : 0.3,      # extracellular conductivity\n",
    "    'x' : X.flatten(),  # electrode requires 1d vector of positions\n",
    "    'y' : Y.flatten(),\n",
    "    'z' : Z.flatten()\n",
    "}\n",
    "\n",
    "electrode = LFPy.RecExtElectrode(**electrode_params)"
   ]
  },
  {
   "cell_type": "code",
   "execution_count": 4,
   "metadata": {},
   "outputs": [],
   "source": [
    "import l5pc_model\n",
    "import l5pc_evaluator\n",
    "\n",
    "morphology = ephys.morphologies.NrnFileMorphology('morphology/C060114A7.asc', do_replace_axon=True)\n",
    "param_configs = json.load(open('config/parameters.json'))\n",
    "parameters = l5pc_model.define_parameters()\n",
    "mechanisms = l5pc_model.define_mechanisms()\n",
    "\n",
    "l5pc_cell = ephys.models.LFPyCellModel('l5pc', \n",
    "                                       v_init=-65., \n",
    "                                       morph=morphology, \n",
    "                                       mechs=mechanisms, \n",
    "                                       params=parameters)\n",
    "\n",
    "param_names = [param.name for param in l5pc_cell.params.values() if not param.frozen]      \n",
    "\n",
    "fitness_protocols = l5pc_evaluator.define_protocols()\n",
    "feature_configs = json.load(open('config/features.json'))\n",
    "fitness_calculator = l5pc_evaluator.define_fitness_calculator(fitness_protocols)\n",
    "\n",
    "sim = ephys.simulators.LFPySimulator(LFPyCellModel=l5pc_cell, electrode=electrode)\n",
    "#sim = ephys.simulators.LFPySimulator(LFPyCellModel=l5pc_cell, electrode=None)\n",
    "evaluator = ephys.evaluators.CellEvaluator(                                          \n",
    "                cell_model=l5pc_cell,                                                       \n",
    "                param_names=param_names,                                                    \n",
    "                fitness_protocols=fitness_protocols,                                        \n",
    "                fitness_calculator=fitness_calculator,                                      \n",
    "                sim=sim) "
   ]
  },
  {
   "cell_type": "code",
   "execution_count": 5,
   "metadata": {},
   "outputs": [],
   "source": [
    "release_params = {\n",
    "    'gNaTs2_tbar_NaTs2_t.apical': 0.026145,\n",
    "    'gSKv3_1bar_SKv3_1.apical': 0.004226,\n",
    "    'gImbar_Im.apical': 0.000143,\n",
    "    'gNaTa_tbar_NaTa_t.axonal': 3.137968,\n",
    "    'gK_Tstbar_K_Tst.axonal': 0.089259,\n",
    "    'gamma_CaDynamics_E2.axonal': 0.002910,\n",
    "    'gNap_Et2bar_Nap_Et2.axonal': 0.006827,\n",
    "    'gSK_E2bar_SK_E2.axonal': 0.007104,\n",
    "    'gCa_HVAbar_Ca_HVA.axonal': 0.000990,\n",
    "    'gK_Pstbar_K_Pst.axonal': 0.973538,\n",
    "    'gSKv3_1bar_SKv3_1.axonal': 1.021945,\n",
    "    'decay_CaDynamics_E2.axonal': 287.198731,\n",
    "    'gCa_LVAstbar_Ca_LVAst.axonal': 0.008752,\n",
    "    'gamma_CaDynamics_E2.somatic': 0.000609,\n",
    "    'gSKv3_1bar_SKv3_1.somatic': 0.303472,\n",
    "    'gSK_E2bar_SK_E2.somatic': 0.008407,\n",
    "    'gCa_HVAbar_Ca_HVA.somatic': 0.000994,\n",
    "    'gNaTs2_tbar_NaTs2_t.somatic': 0.983955,\n",
    "    'decay_CaDynamics_E2.somatic': 210.485284,\n",
    "    'gCa_LVAstbar_Ca_LVAst.somatic': 0.000333\n",
    "}"
   ]
  },
  {
   "cell_type": "code",
   "execution_count": 6,
   "metadata": {
    "scrolled": true
   },
   "outputs": [
    {
     "name": "stdout",
     "output_type": "stream",
     "text": [
      "Bla\n",
      "72.74035358428955\n",
      "(16, 24001)\n",
      "Bla\n",
      "350.0868377685547\n",
      "(16, 120001)\n",
      "Bla\n",
      "349.62518525123596\n",
      "(16, 120001)\n",
      "Bla\n",
      "354.47782015800476\n",
      "(16, 120001)\n"
     ]
    }
   ],
   "source": [
    "release_responses = evaluator.run_protocols(protocols=fitness_protocols.values(), \n",
    "                                            param_values=release_params)"
   ]
  },
  {
   "cell_type": "code",
   "execution_count": 13,
   "metadata": {},
   "outputs": [
    {
     "name": "stdout",
     "output_type": "stream",
     "text": [
      "(16, 24001)\n"
     ]
    },
    {
     "data": {
      "text/plain": [
       "<matplotlib.image.AxesImage at 0x7fff23a25bd0>"
      ]
     },
     "execution_count": 13,
     "metadata": {},
     "output_type": "execute_result"
    },
    {
     "data": {
      "image/png": "[encoded data removed]",
      "text/plain": [
       "<Figure size 432x288 with 1 Axes>"
      ]
     },
     "metadata": {
      "needs_background": "light"
     },
     "output_type": "display_data"
    }
   ],
   "source": [
    "print(release_responses['bAP.MEA']['LFP'].shape)\n",
    "lfp = release_responses['bAP.MEA']['LFP'].reshape(4, 4, 24001)\n",
    "plt.imshow(numpy.max(numpy.abs(lfp), axis=-1))"
   ]
  },
  {
   "cell_type": "code",
   "execution_count": null,
   "metadata": {},
   "outputs": [],
   "source": [
    "import pickle\n",
    "original_responses = pickle.load(open(\"responses.pkl\", \"rb\"))\n",
    "\n",
    "fig, axes = plt.subplots(len(release_responses), figsize=(10,10))\n",
    "for index, (resp_name, response) in enumerate(sorted(release_responses.items())):\n",
    "    axes[index].plot(response['time'], response['voltage'], label=resp_name, lw=1.0, alpha=0.5)\n",
    "    axes[index].plot(original_responses[resp_name]['time'], original_responses[resp_name]['voltage'], label=resp_name, lw=1.0, alpha=0.5)\n",
    "    axes[index].set_title(resp_name)\n",
    "fig.tight_layout()\n",
    "\n",
    "for resp_name in release_responses:\n",
    "    end = numpy.min([len(original_responses[resp_name]['time']), len(release_responses[resp_name]['time'])])\n",
    "    _ = numpy.sum(numpy.abs(original_responses[resp_name]['time'][:end]-release_responses[resp_name]['time'][:end]))\n",
    "    print(resp_name, _/end)\n",
    "    print(release_responses[resp_name]['time'].iloc[-1], original_responses[resp_name]['time'].iloc[-1])\n",
    "fig.show()"
   ]
  },
  {
   "cell_type": "code",
   "execution_count": null,
   "metadata": {},
   "outputs": [],
   "source": [
    "#opt = bpopt.optimisations.DEAPOptimisation(                                     \n",
    "#    evaluator=evaluator,                                                            \n",
    "#    offspring_size=4) \n",
    "#final_pop, halloffame, log, hist = opt.run(max_ngen=4, cp_filename='checkpoints/checkpoint.pkl')"
   ]
  },
  {
   "cell_type": "code",
   "execution_count": null,
   "metadata": {},
   "outputs": [],
   "source": [
    "#best_params = evaluator.param_dict(halloffame[0])\n",
    "#print(pp.pprint(best_params))"
   ]
  },
  {
   "cell_type": "code",
   "execution_count": null,
   "metadata": {},
   "outputs": [],
   "source": [
    "#best_responses = evaluator.run_protocols(protocols=fitness_protocols.values(), param_values=best_params)\n",
    "#plot_responses(best_responses)"
   ]
  },
  {
   "cell_type": "code",
   "execution_count": null,
   "metadata": {},
   "outputs": [],
   "source": [
    "# Check if the cell is loaded properly\n",
    "#l5pc_cell.unfreeze(release_params)\n",
    "#l5pc_cell.freeze(release_params)\n",
    "#l5pc_cell.instantiate(sim=evaluator.sim)\n",
    "#print(evaluator.sim.neuron.h.celsius)"
   ]
  },
  {
   "cell_type": "code",
   "execution_count": null,
   "metadata": {},
   "outputs": [],
   "source": [
    "fig, axes = plt.subplots(len(release_responses), figsize=(10,10))\n",
    "for index, (resp_name, response) in enumerate(sorted(release_responses.items())): \n",
    "    if index < 3:\n",
    "        _ = numpy.abs(numpy.diff(release_responses[resp_name]['time'])[:1000]-numpy.diff(original_responses[resp_name]['time'])[:1000])\n",
    "        axes[index].plot(release_responses[resp_name]['time'][1:1001], _, lw=1.0, alpha=0.7)\n",
    "        axes[index].set_xlabel(\"Time (ms)\")\n",
    "        axes[index].set_ylabel(\"dt (ms)\")\n",
    "        axes[index].set_yscale('log')"
   ]
  },
  {
   "cell_type": "code",
   "execution_count": null,
   "metadata": {},
   "outputs": [],
   "source": [
    "fig, axes = plt.subplots(len(release_responses), figsize=(10,10))\n",
    "for index, (resp_name, response) in enumerate(sorted(release_responses.items())):    \n",
    "    axes[index].plot(release_responses[resp_name]['time'][1:], numpy.diff(release_responses[resp_name]['time']), lw=1.0, alpha=0.7)\n",
    "    axes[index].plot(original_responses[resp_name]['time'][1:], numpy.diff(original_responses[resp_name]['time']), lw=1.0, alpha=0.7)\n",
    "    axes[index].set_xlabel(\"Time (ms)\")\n",
    "    axes[index].set_ylabel(\"dt (ms)\")"
   ]
  }
 ],
 "metadata": {
  "kernelspec": {
   "display_name": "myenv",
   "language": "python",
   "name": "myenv"
  },
  "language_info": {
   "codemirror_mode": {
    "name": "ipython",
    "version": 3
   },
   "file_extension": ".py",
   "mimetype": "text/x-python",
   "name": "python",
   "nbconvert_exporter": "python",
   "pygments_lexer": "ipython3",
   "version": "3.7.4"
  }
 },
 "nbformat": 4,
 "nbformat_minor": 1
}
